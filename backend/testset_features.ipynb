{
 "cells": [
  {
   "cell_type": "code",
   "execution_count": 1,
   "metadata": {
    "collapsed": true
   },
   "outputs": [],
   "source": [
    "import pandas as pd"
   ]
  },
  {
   "cell_type": "code",
   "execution_count": 2,
   "outputs": [],
   "source": [
    "df = pd.read_csv('../feature-engineering/final_features.csv')\n",
    "df[\"tx_datetime\"] = pd.to_datetime(df[\"tx_datetime\"])"
   ],
   "metadata": {
    "collapsed": false
   }
  },
  {
   "cell_type": "code",
   "execution_count": 3,
   "outputs": [
    {
     "name": "stdout",
     "output_type": "stream",
     "text": [
      "<class 'pandas.core.frame.DataFrame'>\n",
      "RangeIndex: 138701 entries, 0 to 138700\n",
      "Data columns (total 68 columns):\n",
      " #   Column                            Non-Null Count   Dtype         \n",
      "---  ------                            --------------   -----         \n",
      " 0   psp_reference                     138701 non-null  int64         \n",
      " 1   tx_datetime                       138701 non-null  datetime64[ns]\n",
      " 2   has_fraudulent_dispute            138701 non-null  int64         \n",
      " 3   is_refused_by_adyen               138701 non-null  int64         \n",
      " 4   is_credit                         138701 non-null  int64         \n",
      " 5   no_ip                             138701 non-null  int64         \n",
      " 6   no_email                          138701 non-null  int64         \n",
      " 7   same_country                      138701 non-null  int64         \n",
      " 8   issuing_country                   138701 non-null  object        \n",
      " 9   merchant_Merchant B               138701 non-null  int64         \n",
      " 10  merchant_Merchant C               138701 non-null  int64         \n",
      " 11  merchant_Merchant D               138701 non-null  int64         \n",
      " 12  merchant_Merchant E               138701 non-null  int64         \n",
      " 13  card_scheme_MasterCard            138701 non-null  int64         \n",
      " 14  card_scheme_Other                 138701 non-null  int64         \n",
      " 15  card_scheme_Visa                  138701 non-null  int64         \n",
      " 16  ip_country_GR                     138701 non-null  int64         \n",
      " 17  ip_country_IT                     138701 non-null  int64         \n",
      " 18  ip_country_NL                     138701 non-null  int64         \n",
      " 19  ip_country_ZW                     138701 non-null  int64         \n",
      " 20  issuing_country_GR                138701 non-null  int64         \n",
      " 21  issuing_country_IT                138701 non-null  int64         \n",
      " 22  issuing_country_NL                138701 non-null  int64         \n",
      " 23  issuing_country_ZW                138701 non-null  int64         \n",
      " 24  device_type_Linux                 138701 non-null  int64         \n",
      " 25  device_type_MacOS                 138701 non-null  int64         \n",
      " 26  device_type_Other                 138701 non-null  int64         \n",
      " 27  device_type_Windows               138701 non-null  int64         \n",
      " 28  device_type_iOS                   138701 non-null  int64         \n",
      " 29  shopper_interaction_POS           138701 non-null  int64         \n",
      " 30  zip_code_1104                     138701 non-null  int64         \n",
      " 31  zip_code_2039                     138701 non-null  int64         \n",
      " 32  zip_code_3941                     138701 non-null  int64         \n",
      " 33  zip_code_AAD                      138701 non-null  int64         \n",
      " 34  zip_code_BB                       138701 non-null  int64         \n",
      " 35  zip_code_BZD                      138701 non-null  int64         \n",
      " 36  zip_code_DB                       138701 non-null  int64         \n",
      " 37  zip_code_DFFF                     138701 non-null  int64         \n",
      " 38  zip_code_EB                       138701 non-null  int64         \n",
      " 39  zip_code_EGHA                     138701 non-null  int64         \n",
      " 40  zip_code_FFR                      138701 non-null  int64         \n",
      " 41  zip_code_FGDD                     138701 non-null  int64         \n",
      " 42  zip_code_XDED                     138701 non-null  int64         \n",
      " 43  zip_code_XOL                      138701 non-null  int64         \n",
      " 44  zip_code_ZB                       138701 non-null  int64         \n",
      " 45  is_night                          138701 non-null  int64         \n",
      " 46  is_weekend                        138701 non-null  int64         \n",
      " 47  diff_tx_time_in_hours             138701 non-null  float64       \n",
      " 48  is_diff_previous_ip_country       138701 non-null  int64         \n",
      " 49  card_nb_tx_1day_window            138701 non-null  float64       \n",
      " 50  card_avg_amount_1day_window       138701 non-null  float64       \n",
      " 51  card_nb_tx_7day_window            138701 non-null  float64       \n",
      " 52  card_avg_amount_7day_window       138701 non-null  float64       \n",
      " 53  card_nb_tx_30day_window           138701 non-null  float64       \n",
      " 54  card_avg_amount_30day_window      138701 non-null  float64       \n",
      " 55  email_address_nb_tx_1day_window   138701 non-null  float64       \n",
      " 56  email_address_risk_1day_window    138701 non-null  float64       \n",
      " 57  email_address_nb_tx_7day_window   138701 non-null  float64       \n",
      " 58  email_address_risk_7day_window    138701 non-null  float64       \n",
      " 59  email_address_nb_tx_30day_window  138701 non-null  float64       \n",
      " 60  email_address_risk_30day_window   138701 non-null  float64       \n",
      " 61  ip_address_nb_tx_1day_window      138701 non-null  float64       \n",
      " 62  ip_address_risk_1day_window       138701 non-null  float64       \n",
      " 63  ip_address_nb_tx_7day_window      138701 non-null  float64       \n",
      " 64  ip_address_risk_7day_window       138701 non-null  float64       \n",
      " 65  ip_address_nb_tx_30day_window     138701 non-null  float64       \n",
      " 66  ip_address_risk_30day_window      138701 non-null  float64       \n",
      " 67  eur_amount                        138701 non-null  float64       \n",
      "dtypes: datetime64[ns](1), float64(20), int64(46), object(1)\n",
      "memory usage: 72.0+ MB\n"
     ]
    }
   ],
   "source": [
    "df.info()"
   ],
   "metadata": {
    "collapsed": false
   }
  },
  {
   "cell_type": "code",
   "execution_count": 4,
   "outputs": [
    {
     "data": {
      "text/plain": "        psp_reference         tx_datetime  has_fraudulent_dispute  \\\n127050    87310508799 2021-12-01 00:01:00                       0   \n127051    20473447128 2021-12-01 00:27:00                       0   \n127052    24782199590 2021-12-01 00:28:00                       0   \n127053    88081952939 2021-12-01 00:30:00                       0   \n127054    46244208106 2021-12-01 00:33:00                       0   \n...               ...                 ...                     ...   \n138696    19327282133 2021-12-31 23:35:00                       0   \n138697    79652690861 2021-12-31 23:43:00                       0   \n138698    68928267563 2021-12-31 23:46:00                       0   \n138699    21678354521 2021-12-31 23:48:00                       1   \n138700    23221916367 2021-12-31 23:57:00                       0   \n\n        is_refused_by_adyen  is_credit  no_ip  no_email  same_country  \\\n127050                    1          1      1         0             1   \n127051                    0          0      1         0             1   \n127052                    0          1      0         0             1   \n127053                    0          1      1         0             1   \n127054                    1          1      1         0             1   \n...                     ...        ...    ...       ...           ...   \n138696                    0          1      0         0             1   \n138697                    0          1      0         0             1   \n138698                    0          1      0         1             0   \n138699                    0          1      0         0             1   \n138700                    0          1      0         0             1   \n\n       issuing_country  merchant_Merchant B  ...  \\\n127050              IT                    0  ...   \n127051              BR                    0  ...   \n127052              BR                    0  ...   \n127053              NL                    1  ...   \n127054              ZW                    0  ...   \n...                ...                  ...  ...   \n138696              BR                    0  ...   \n138697              ZW                    1  ...   \n138698              ZW                    1  ...   \n138699              BR                    0  ...   \n138700              NL                    0  ...   \n\n        email_address_risk_7day_window  email_address_nb_tx_30day_window  \\\n127050                        0.000000                               0.0   \n127051                        0.000000                               1.0   \n127052                        0.000000                               0.0   \n127053                        0.000000                               0.0   \n127054                        0.800000                               6.0   \n...                                ...                               ...   \n138696                        0.000000                               1.0   \n138697                        0.000000                               0.0   \n138698                        0.000000                               0.0   \n138699                        0.333333                              13.0   \n138700                        0.000000                               5.0   \n\n        email_address_risk_30day_window  ip_address_nb_tx_1day_window  \\\n127050                         0.000000                           0.0   \n127051                         0.000000                           0.0   \n127052                         0.000000                           0.0   \n127053                         0.000000                           0.0   \n127054                         0.666667                           0.0   \n...                                 ...                           ...   \n138696                         0.000000                           0.0   \n138697                         0.000000                           0.0   \n138698                         0.000000                           0.0   \n138699                         0.461538                           0.0   \n138700                         0.000000                           0.0   \n\n        ip_address_risk_1day_window  ip_address_nb_tx_7day_window  \\\n127050                          0.0                           0.0   \n127051                          0.0                           0.0   \n127052                          0.0                           0.0   \n127053                          0.0                           0.0   \n127054                          0.0                           0.0   \n...                             ...                           ...   \n138696                          0.0                           0.0   \n138697                          0.0                           0.0   \n138698                          0.0                           0.0   \n138699                          0.0                           2.0   \n138700                          0.0                           0.0   \n\n        ip_address_risk_7day_window  ip_address_nb_tx_30day_window  \\\n127050                          0.0                            0.0   \n127051                          0.0                            0.0   \n127052                          0.0                            0.0   \n127053                          0.0                            0.0   \n127054                          0.0                            0.0   \n...                             ...                            ...   \n138696                          0.0                            0.0   \n138697                          0.0                            0.0   \n138698                          0.0                            2.0   \n138699                          0.0                           11.0   \n138700                          0.0                            1.0   \n\n        ip_address_risk_30day_window  eur_amount  \n127050                      0.000000       63.47  \n127051                      0.000000       49.72  \n127052                      0.000000       37.96  \n127053                      0.000000      197.77  \n127054                      0.000000       19.40  \n...                              ...         ...  \n138696                      0.000000       70.49  \n138697                      0.000000        9.20  \n138698                      0.000000       60.09  \n138699                      0.454545      184.19  \n138700                      0.000000       11.94  \n\n[11651 rows x 68 columns]",
      "text/html": "<div>\n<style scoped>\n    .dataframe tbody tr th:only-of-type {\n        vertical-align: middle;\n    }\n\n    .dataframe tbody tr th {\n        vertical-align: top;\n    }\n\n    .dataframe thead th {\n        text-align: right;\n    }\n</style>\n<table border=\"1\" class=\"dataframe\">\n  <thead>\n    <tr style=\"text-align: right;\">\n      <th></th>\n      <th>psp_reference</th>\n      <th>tx_datetime</th>\n      <th>has_fraudulent_dispute</th>\n      <th>is_refused_by_adyen</th>\n      <th>is_credit</th>\n      <th>no_ip</th>\n      <th>no_email</th>\n      <th>same_country</th>\n      <th>issuing_country</th>\n      <th>merchant_Merchant B</th>\n      <th>...</th>\n      <th>email_address_risk_7day_window</th>\n      <th>email_address_nb_tx_30day_window</th>\n      <th>email_address_risk_30day_window</th>\n      <th>ip_address_nb_tx_1day_window</th>\n      <th>ip_address_risk_1day_window</th>\n      <th>ip_address_nb_tx_7day_window</th>\n      <th>ip_address_risk_7day_window</th>\n      <th>ip_address_nb_tx_30day_window</th>\n      <th>ip_address_risk_30day_window</th>\n      <th>eur_amount</th>\n    </tr>\n  </thead>\n  <tbody>\n    <tr>\n      <th>127050</th>\n      <td>87310508799</td>\n      <td>2021-12-01 00:01:00</td>\n      <td>0</td>\n      <td>1</td>\n      <td>1</td>\n      <td>1</td>\n      <td>0</td>\n      <td>1</td>\n      <td>IT</td>\n      <td>0</td>\n      <td>...</td>\n      <td>0.000000</td>\n      <td>0.0</td>\n      <td>0.000000</td>\n      <td>0.0</td>\n      <td>0.0</td>\n      <td>0.0</td>\n      <td>0.0</td>\n      <td>0.0</td>\n      <td>0.000000</td>\n      <td>63.47</td>\n    </tr>\n    <tr>\n      <th>127051</th>\n      <td>20473447128</td>\n      <td>2021-12-01 00:27:00</td>\n      <td>0</td>\n      <td>0</td>\n      <td>0</td>\n      <td>1</td>\n      <td>0</td>\n      <td>1</td>\n      <td>BR</td>\n      <td>0</td>\n      <td>...</td>\n      <td>0.000000</td>\n      <td>1.0</td>\n      <td>0.000000</td>\n      <td>0.0</td>\n      <td>0.0</td>\n      <td>0.0</td>\n      <td>0.0</td>\n      <td>0.0</td>\n      <td>0.000000</td>\n      <td>49.72</td>\n    </tr>\n    <tr>\n      <th>127052</th>\n      <td>24782199590</td>\n      <td>2021-12-01 00:28:00</td>\n      <td>0</td>\n      <td>0</td>\n      <td>1</td>\n      <td>0</td>\n      <td>0</td>\n      <td>1</td>\n      <td>BR</td>\n      <td>0</td>\n      <td>...</td>\n      <td>0.000000</td>\n      <td>0.0</td>\n      <td>0.000000</td>\n      <td>0.0</td>\n      <td>0.0</td>\n      <td>0.0</td>\n      <td>0.0</td>\n      <td>0.0</td>\n      <td>0.000000</td>\n      <td>37.96</td>\n    </tr>\n    <tr>\n      <th>127053</th>\n      <td>88081952939</td>\n      <td>2021-12-01 00:30:00</td>\n      <td>0</td>\n      <td>0</td>\n      <td>1</td>\n      <td>1</td>\n      <td>0</td>\n      <td>1</td>\n      <td>NL</td>\n      <td>1</td>\n      <td>...</td>\n      <td>0.000000</td>\n      <td>0.0</td>\n      <td>0.000000</td>\n      <td>0.0</td>\n      <td>0.0</td>\n      <td>0.0</td>\n      <td>0.0</td>\n      <td>0.0</td>\n      <td>0.000000</td>\n      <td>197.77</td>\n    </tr>\n    <tr>\n      <th>127054</th>\n      <td>46244208106</td>\n      <td>2021-12-01 00:33:00</td>\n      <td>0</td>\n      <td>1</td>\n      <td>1</td>\n      <td>1</td>\n      <td>0</td>\n      <td>1</td>\n      <td>ZW</td>\n      <td>0</td>\n      <td>...</td>\n      <td>0.800000</td>\n      <td>6.0</td>\n      <td>0.666667</td>\n      <td>0.0</td>\n      <td>0.0</td>\n      <td>0.0</td>\n      <td>0.0</td>\n      <td>0.0</td>\n      <td>0.000000</td>\n      <td>19.40</td>\n    </tr>\n    <tr>\n      <th>...</th>\n      <td>...</td>\n      <td>...</td>\n      <td>...</td>\n      <td>...</td>\n      <td>...</td>\n      <td>...</td>\n      <td>...</td>\n      <td>...</td>\n      <td>...</td>\n      <td>...</td>\n      <td>...</td>\n      <td>...</td>\n      <td>...</td>\n      <td>...</td>\n      <td>...</td>\n      <td>...</td>\n      <td>...</td>\n      <td>...</td>\n      <td>...</td>\n      <td>...</td>\n      <td>...</td>\n    </tr>\n    <tr>\n      <th>138696</th>\n      <td>19327282133</td>\n      <td>2021-12-31 23:35:00</td>\n      <td>0</td>\n      <td>0</td>\n      <td>1</td>\n      <td>0</td>\n      <td>0</td>\n      <td>1</td>\n      <td>BR</td>\n      <td>0</td>\n      <td>...</td>\n      <td>0.000000</td>\n      <td>1.0</td>\n      <td>0.000000</td>\n      <td>0.0</td>\n      <td>0.0</td>\n      <td>0.0</td>\n      <td>0.0</td>\n      <td>0.0</td>\n      <td>0.000000</td>\n      <td>70.49</td>\n    </tr>\n    <tr>\n      <th>138697</th>\n      <td>79652690861</td>\n      <td>2021-12-31 23:43:00</td>\n      <td>0</td>\n      <td>0</td>\n      <td>1</td>\n      <td>0</td>\n      <td>0</td>\n      <td>1</td>\n      <td>ZW</td>\n      <td>1</td>\n      <td>...</td>\n      <td>0.000000</td>\n      <td>0.0</td>\n      <td>0.000000</td>\n      <td>0.0</td>\n      <td>0.0</td>\n      <td>0.0</td>\n      <td>0.0</td>\n      <td>0.0</td>\n      <td>0.000000</td>\n      <td>9.20</td>\n    </tr>\n    <tr>\n      <th>138698</th>\n      <td>68928267563</td>\n      <td>2021-12-31 23:46:00</td>\n      <td>0</td>\n      <td>0</td>\n      <td>1</td>\n      <td>0</td>\n      <td>1</td>\n      <td>0</td>\n      <td>ZW</td>\n      <td>1</td>\n      <td>...</td>\n      <td>0.000000</td>\n      <td>0.0</td>\n      <td>0.000000</td>\n      <td>0.0</td>\n      <td>0.0</td>\n      <td>0.0</td>\n      <td>0.0</td>\n      <td>2.0</td>\n      <td>0.000000</td>\n      <td>60.09</td>\n    </tr>\n    <tr>\n      <th>138699</th>\n      <td>21678354521</td>\n      <td>2021-12-31 23:48:00</td>\n      <td>1</td>\n      <td>0</td>\n      <td>1</td>\n      <td>0</td>\n      <td>0</td>\n      <td>1</td>\n      <td>BR</td>\n      <td>0</td>\n      <td>...</td>\n      <td>0.333333</td>\n      <td>13.0</td>\n      <td>0.461538</td>\n      <td>0.0</td>\n      <td>0.0</td>\n      <td>2.0</td>\n      <td>0.0</td>\n      <td>11.0</td>\n      <td>0.454545</td>\n      <td>184.19</td>\n    </tr>\n    <tr>\n      <th>138700</th>\n      <td>23221916367</td>\n      <td>2021-12-31 23:57:00</td>\n      <td>0</td>\n      <td>0</td>\n      <td>1</td>\n      <td>0</td>\n      <td>0</td>\n      <td>1</td>\n      <td>NL</td>\n      <td>0</td>\n      <td>...</td>\n      <td>0.000000</td>\n      <td>5.0</td>\n      <td>0.000000</td>\n      <td>0.0</td>\n      <td>0.0</td>\n      <td>0.0</td>\n      <td>0.0</td>\n      <td>1.0</td>\n      <td>0.000000</td>\n      <td>11.94</td>\n    </tr>\n  </tbody>\n</table>\n<p>11651 rows × 68 columns</p>\n</div>"
     },
     "execution_count": 4,
     "metadata": {},
     "output_type": "execute_result"
    }
   ],
   "source": [
    "df_test = df[df[\"tx_datetime\"].dt.month == 12]\n",
    "df_test"
   ],
   "metadata": {
    "collapsed": false
   }
  },
  {
   "cell_type": "code",
   "execution_count": 5,
   "outputs": [],
   "source": [
    "df_test.to_csv(\"./src/resources/test_dataset_december.csv\", index=False)"
   ],
   "metadata": {
    "collapsed": false
   }
  },
  {
   "cell_type": "code",
   "execution_count": null,
   "outputs": [],
   "source": [],
   "metadata": {
    "collapsed": false,
    "pycharm": {
     "is_executing": true
    }
   }
  },
  {
   "cell_type": "code",
   "execution_count": 5,
   "outputs": [],
   "source": [],
   "metadata": {
    "collapsed": false
   }
  }
 ],
 "metadata": {
  "kernelspec": {
   "display_name": "Python 3",
   "language": "python",
   "name": "python3"
  },
  "language_info": {
   "codemirror_mode": {
    "name": "ipython",
    "version": 2
   },
   "file_extension": ".py",
   "mimetype": "text/x-python",
   "name": "python",
   "nbconvert_exporter": "python",
   "pygments_lexer": "ipython2",
   "version": "2.7.6"
  }
 },
 "nbformat": 4,
 "nbformat_minor": 0
}
