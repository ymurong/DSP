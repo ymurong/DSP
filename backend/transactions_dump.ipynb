{
 "cells": [
  {
   "cell_type": "code",
   "execution_count": 77,
   "metadata": {
    "collapsed": true
   },
   "outputs": [],
   "source": [
    "import pandas as pd\n",
    "import datetime"
   ]
  },
  {
   "cell_type": "code",
   "execution_count": 78,
   "outputs": [],
   "source": [
    "df = pd.read_csv('../adyen-dataset.csv')"
   ],
   "metadata": {
    "collapsed": false
   }
  },
  {
   "cell_type": "code",
   "execution_count": 79,
   "outputs": [
    {
     "name": "stdout",
     "output_type": "stream",
     "text": [
      "<class 'pandas.core.frame.DataFrame'>\n",
      "RangeIndex: 138701 entries, 0 to 138700\n",
      "Data columns (total 20 columns):\n",
      " #   Column                  Non-Null Count   Dtype  \n",
      "---  ------                  --------------   -----  \n",
      " 0   psp_reference           138701 non-null  int64  \n",
      " 1   merchant                138701 non-null  object \n",
      " 2   card_scheme             138701 non-null  object \n",
      " 3   year                    138701 non-null  int64  \n",
      " 4   hour_of_day             138701 non-null  int64  \n",
      " 5   minute_of_hour          138701 non-null  int64  \n",
      " 6   day_of_year             138701 non-null  int64  \n",
      " 7   is_credit               138701 non-null  bool   \n",
      " 8   eur_amount              138701 non-null  float64\n",
      " 9   ip_country              138701 non-null  object \n",
      " 10  issuing_country         138701 non-null  object \n",
      " 11  device_type             138701 non-null  object \n",
      " 12  ip_address              110961 non-null  object \n",
      " 13  email_address           124831 non-null  object \n",
      " 14  card_number             138701 non-null  object \n",
      " 15  shopper_interaction     138701 non-null  object \n",
      " 16  zip_code                127798 non-null  object \n",
      " 17  card_bin                138701 non-null  int64  \n",
      " 18  has_fraudulent_dispute  138701 non-null  bool   \n",
      " 19  is_refused_by_adyen     138701 non-null  bool   \n",
      "dtypes: bool(3), float64(1), int64(6), object(10)\n",
      "memory usage: 18.4+ MB\n"
     ]
    }
   ],
   "source": [
    "df.info()"
   ],
   "metadata": {
    "collapsed": false
   }
  },
  {
   "cell_type": "code",
   "execution_count": 80,
   "outputs": [],
   "source": [
    "def time(row):\n",
    "    year = row[3]\n",
    "    day_of_year = int(row[6])\n",
    "    hour_of_day = row[4]\n",
    "    minute_of_hour = row[5]\n",
    "    date = datetime.datetime(year, 1, 1) + datetime.timedelta(day_of_year - 1)\n",
    "    _datetime = datetime.datetime.combine(date, datetime.time(hour_of_day, minute_of_hour))\n",
    "    return _datetime"
   ],
   "metadata": {
    "collapsed": false
   }
  },
  {
   "cell_type": "code",
   "execution_count": 81,
   "outputs": [
    {
     "data": {
      "text/plain": "datetime.datetime(2021, 12, 11, 15, 20)"
     },
     "execution_count": 81,
     "metadata": {},
     "output_type": "execute_result"
    }
   ],
   "source": [
    "time(df.iloc[1])"
   ],
   "metadata": {
    "collapsed": false
   }
  },
  {
   "cell_type": "code",
   "execution_count": 82,
   "outputs": [],
   "source": [
    "df[\"created_at\"] = df.apply(time, axis=1)\n",
    "df[\"updated_at\"] = df.apply(time, axis=1)"
   ],
   "metadata": {
    "collapsed": false
   }
  },
  {
   "cell_type": "code",
   "execution_count": 83,
   "outputs": [],
   "source": [
    "df_import = df.copy()\n",
    "df_import = df_import.drop([\"year\",\"hour_of_day\",\"minute_of_hour\",\"day_of_year\"], axis=1, errors=\"ignore\")"
   ],
   "metadata": {
    "collapsed": false
   }
  },
  {
   "cell_type": "code",
   "execution_count": 84,
   "outputs": [],
   "source": [
    "df_import[\"is_credit\"] = df_import[\"is_credit\"].astype(int)\n",
    "df_import[\"has_fraudulent_dispute\"] = df_import[\"has_fraudulent_dispute\"].astype(int)\n",
    "df_import[\"is_refused_by_adyen\"] = df_import[\"is_refused_by_adyen\"].astype(int)"
   ],
   "metadata": {
    "collapsed": false
   }
  },
  {
   "cell_type": "code",
   "execution_count": 85,
   "outputs": [
    {
     "data": {
      "text/plain": "   psp_reference    merchant card_scheme  is_credit  eur_amount ip_country  \\\n0    79622457320  Merchant A       Other          1       18.75         GR   \n1    41293916020  Merchant C        Visa          0       43.65         BR   \n2    31382555255  Merchant E        Visa          1      187.72         NL   \n3    13944051314  Merchant D        Visa          0      109.16         NL   \n4    62343575411  Merchant E  MasterCard          1       46.27         BR   \n\n  issuing_country device_type              ip_address           email_address  \\\n0              GR       MacOS  i1oY1kTOXMlsFfoyhFJxyA  3XBRYto3QgX7g4pX-BvNyA   \n1              BR     Android  HZkxQvtpScNLgi0fsoSkjA  klwgzdfrnz_6eGsHSi2prQ   \n2              NL       MacOS  HGW5EwBnHVgOrD5xYplBdw  XkMWeLLmXALPcV3ndwzKJw   \n3              NL         iOS  8AuFEjK8m-0lxGAOJzOPmg  26Lw20NQtPKb5cyQZBuh1w   \n4              BR       Other                     NaN  Y7tv2i85iUadkEIAPIufgg   \n\n              card_number shopper_interaction zip_code  card_bin  \\\n0  XldVNN9TQgIA2RE9FTC2TA           Ecommerce     XDED      4236   \n1  zgRoL8pxX5LJI-SEPUTMvg           Ecommerce      AAD      4802   \n2  T3BF1uOOqgcwaVRb_ujPQg           Ecommerce     1104      4526   \n3  BMf1zFkJ1xvPMlOxC7RWTw           Ecommerce     2039      4571   \n4  jfxS2TIe0gR9vpOUdMKrBw           Ecommerce      XOL      4916   \n\n   has_fraudulent_dispute  is_refused_by_adyen          created_at  \\\n0                       0                    0 2021-07-25 13:51:00   \n1                       0                    0 2021-12-11 15:20:00   \n2                       0                    0 2021-10-20 01:56:00   \n3                       0                    1 2021-08-30 12:50:00   \n4                       0                    0 2021-11-14 19:26:00   \n\n           updated_at  \n0 2021-07-25 13:51:00  \n1 2021-12-11 15:20:00  \n2 2021-10-20 01:56:00  \n3 2021-08-30 12:50:00  \n4 2021-11-14 19:26:00  ",
      "text/html": "<div>\n<style scoped>\n    .dataframe tbody tr th:only-of-type {\n        vertical-align: middle;\n    }\n\n    .dataframe tbody tr th {\n        vertical-align: top;\n    }\n\n    .dataframe thead th {\n        text-align: right;\n    }\n</style>\n<table border=\"1\" class=\"dataframe\">\n  <thead>\n    <tr style=\"text-align: right;\">\n      <th></th>\n      <th>psp_reference</th>\n      <th>merchant</th>\n      <th>card_scheme</th>\n      <th>is_credit</th>\n      <th>eur_amount</th>\n      <th>ip_country</th>\n      <th>issuing_country</th>\n      <th>device_type</th>\n      <th>ip_address</th>\n      <th>email_address</th>\n      <th>card_number</th>\n      <th>shopper_interaction</th>\n      <th>zip_code</th>\n      <th>card_bin</th>\n      <th>has_fraudulent_dispute</th>\n      <th>is_refused_by_adyen</th>\n      <th>created_at</th>\n      <th>updated_at</th>\n    </tr>\n  </thead>\n  <tbody>\n    <tr>\n      <th>0</th>\n      <td>79622457320</td>\n      <td>Merchant A</td>\n      <td>Other</td>\n      <td>1</td>\n      <td>18.75</td>\n      <td>GR</td>\n      <td>GR</td>\n      <td>MacOS</td>\n      <td>i1oY1kTOXMlsFfoyhFJxyA</td>\n      <td>3XBRYto3QgX7g4pX-BvNyA</td>\n      <td>XldVNN9TQgIA2RE9FTC2TA</td>\n      <td>Ecommerce</td>\n      <td>XDED</td>\n      <td>4236</td>\n      <td>0</td>\n      <td>0</td>\n      <td>2021-07-25 13:51:00</td>\n      <td>2021-07-25 13:51:00</td>\n    </tr>\n    <tr>\n      <th>1</th>\n      <td>41293916020</td>\n      <td>Merchant C</td>\n      <td>Visa</td>\n      <td>0</td>\n      <td>43.65</td>\n      <td>BR</td>\n      <td>BR</td>\n      <td>Android</td>\n      <td>HZkxQvtpScNLgi0fsoSkjA</td>\n      <td>klwgzdfrnz_6eGsHSi2prQ</td>\n      <td>zgRoL8pxX5LJI-SEPUTMvg</td>\n      <td>Ecommerce</td>\n      <td>AAD</td>\n      <td>4802</td>\n      <td>0</td>\n      <td>0</td>\n      <td>2021-12-11 15:20:00</td>\n      <td>2021-12-11 15:20:00</td>\n    </tr>\n    <tr>\n      <th>2</th>\n      <td>31382555255</td>\n      <td>Merchant E</td>\n      <td>Visa</td>\n      <td>1</td>\n      <td>187.72</td>\n      <td>NL</td>\n      <td>NL</td>\n      <td>MacOS</td>\n      <td>HGW5EwBnHVgOrD5xYplBdw</td>\n      <td>XkMWeLLmXALPcV3ndwzKJw</td>\n      <td>T3BF1uOOqgcwaVRb_ujPQg</td>\n      <td>Ecommerce</td>\n      <td>1104</td>\n      <td>4526</td>\n      <td>0</td>\n      <td>0</td>\n      <td>2021-10-20 01:56:00</td>\n      <td>2021-10-20 01:56:00</td>\n    </tr>\n    <tr>\n      <th>3</th>\n      <td>13944051314</td>\n      <td>Merchant D</td>\n      <td>Visa</td>\n      <td>0</td>\n      <td>109.16</td>\n      <td>NL</td>\n      <td>NL</td>\n      <td>iOS</td>\n      <td>8AuFEjK8m-0lxGAOJzOPmg</td>\n      <td>26Lw20NQtPKb5cyQZBuh1w</td>\n      <td>BMf1zFkJ1xvPMlOxC7RWTw</td>\n      <td>Ecommerce</td>\n      <td>2039</td>\n      <td>4571</td>\n      <td>0</td>\n      <td>1</td>\n      <td>2021-08-30 12:50:00</td>\n      <td>2021-08-30 12:50:00</td>\n    </tr>\n    <tr>\n      <th>4</th>\n      <td>62343575411</td>\n      <td>Merchant E</td>\n      <td>MasterCard</td>\n      <td>1</td>\n      <td>46.27</td>\n      <td>BR</td>\n      <td>BR</td>\n      <td>Other</td>\n      <td>NaN</td>\n      <td>Y7tv2i85iUadkEIAPIufgg</td>\n      <td>jfxS2TIe0gR9vpOUdMKrBw</td>\n      <td>Ecommerce</td>\n      <td>XOL</td>\n      <td>4916</td>\n      <td>0</td>\n      <td>0</td>\n      <td>2021-11-14 19:26:00</td>\n      <td>2021-11-14 19:26:00</td>\n    </tr>\n  </tbody>\n</table>\n</div>"
     },
     "execution_count": 85,
     "metadata": {},
     "output_type": "execute_result"
    }
   ],
   "source": [
    "df_import.head()"
   ],
   "metadata": {
    "collapsed": false
   }
  },
  {
   "cell_type": "code",
   "execution_count": 86,
   "outputs": [],
   "source": [
    "df_import.to_csv(\"transactions_dump.csv\", index=False)"
   ],
   "metadata": {
    "collapsed": false
   }
  },
  {
   "cell_type": "code",
   "execution_count": 86,
   "outputs": [],
   "source": [],
   "metadata": {
    "collapsed": false
   }
  }
 ],
 "metadata": {
  "kernelspec": {
   "display_name": "Python 3",
   "language": "python",
   "name": "python3"
  },
  "language_info": {
   "codemirror_mode": {
    "name": "ipython",
    "version": 2
   },
   "file_extension": ".py",
   "mimetype": "text/x-python",
   "name": "python",
   "nbconvert_exporter": "python",
   "pygments_lexer": "ipython2",
   "version": "2.7.6"
  }
 },
 "nbformat": 4,
 "nbformat_minor": 0
}
