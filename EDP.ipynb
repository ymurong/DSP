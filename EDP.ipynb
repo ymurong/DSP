{
 "cells": [
  {
   "cell_type": "code",
   "execution_count": 4,
   "metadata": {
    "collapsed": false,
    "jupyter": {
     "outputs_hidden": false
    },
    "pycharm": {
     "name": "#%%\n"
    }
   },
   "outputs": [],
   "source": [
    "import pandas as pd\n",
    "import numpy as np\n",
    "import matplotlib.pyplot as plt\n",
    "%matplotlib inline\n",
    "\n",
    "df = pd.read_csv('adyen-dataset.csv')"
   ]
  },
  {
   "cell_type": "code",
   "execution_count": 5,
   "metadata": {
    "collapsed": false,
    "jupyter": {
     "outputs_hidden": false
    },
    "pycharm": {
     "name": "#%%\n"
    }
   },
   "outputs": [
    {
     "data": {
      "text/html": [
       "<div>\n",
       "<style scoped>\n",
       "    .dataframe tbody tr th:only-of-type {\n",
       "        vertical-align: middle;\n",
       "    }\n",
       "\n",
       "    .dataframe tbody tr th {\n",
       "        vertical-align: top;\n",
       "    }\n",
       "\n",
       "    .dataframe thead th {\n",
       "        text-align: right;\n",
       "    }\n",
       "</style>\n",
       "<table border=\"1\" class=\"dataframe\">\n",
       "  <thead>\n",
       "    <tr style=\"text-align: right;\">\n",
       "      <th></th>\n",
       "      <th>psp_reference</th>\n",
       "      <th>merchant</th>\n",
       "      <th>card_scheme</th>\n",
       "      <th>year</th>\n",
       "      <th>hour_of_day</th>\n",
       "      <th>minute_of_hour</th>\n",
       "      <th>day_of_year</th>\n",
       "      <th>is_credit</th>\n",
       "      <th>eur_amount</th>\n",
       "      <th>ip_country</th>\n",
       "      <th>issuing_country</th>\n",
       "      <th>device_type</th>\n",
       "      <th>ip_address</th>\n",
       "      <th>email_address</th>\n",
       "      <th>card_number</th>\n",
       "      <th>shopper_interaction</th>\n",
       "      <th>zip_code</th>\n",
       "      <th>card_bin</th>\n",
       "      <th>has_fraudulent_dispute</th>\n",
       "      <th>is_refused_by_adyen</th>\n",
       "    </tr>\n",
       "  </thead>\n",
       "  <tbody>\n",
       "    <tr>\n",
       "      <th>0</th>\n",
       "      <td>79622457320</td>\n",
       "      <td>Merchant A</td>\n",
       "      <td>Other</td>\n",
       "      <td>2021</td>\n",
       "      <td>13</td>\n",
       "      <td>51</td>\n",
       "      <td>206</td>\n",
       "      <td>True</td>\n",
       "      <td>18.75</td>\n",
       "      <td>GR</td>\n",
       "      <td>GR</td>\n",
       "      <td>MacOS</td>\n",
       "      <td>i1oY1kTOXMlsFfoyhFJxyA</td>\n",
       "      <td>3XBRYto3QgX7g4pX-BvNyA</td>\n",
       "      <td>XldVNN9TQgIA2RE9FTC2TA</td>\n",
       "      <td>Ecommerce</td>\n",
       "      <td>XDED</td>\n",
       "      <td>4236</td>\n",
       "      <td>False</td>\n",
       "      <td>False</td>\n",
       "    </tr>\n",
       "    <tr>\n",
       "      <th>1</th>\n",
       "      <td>41293916020</td>\n",
       "      <td>Merchant C</td>\n",
       "      <td>Visa</td>\n",
       "      <td>2021</td>\n",
       "      <td>15</td>\n",
       "      <td>20</td>\n",
       "      <td>345</td>\n",
       "      <td>False</td>\n",
       "      <td>43.65</td>\n",
       "      <td>BR</td>\n",
       "      <td>BR</td>\n",
       "      <td>Android</td>\n",
       "      <td>HZkxQvtpScNLgi0fsoSkjA</td>\n",
       "      <td>klwgzdfrnz_6eGsHSi2prQ</td>\n",
       "      <td>zgRoL8pxX5LJI-SEPUTMvg</td>\n",
       "      <td>Ecommerce</td>\n",
       "      <td>AAD</td>\n",
       "      <td>4802</td>\n",
       "      <td>False</td>\n",
       "      <td>False</td>\n",
       "    </tr>\n",
       "    <tr>\n",
       "      <th>2</th>\n",
       "      <td>31382555255</td>\n",
       "      <td>Merchant E</td>\n",
       "      <td>Visa</td>\n",
       "      <td>2021</td>\n",
       "      <td>1</td>\n",
       "      <td>56</td>\n",
       "      <td>293</td>\n",
       "      <td>True</td>\n",
       "      <td>187.72</td>\n",
       "      <td>NL</td>\n",
       "      <td>NL</td>\n",
       "      <td>MacOS</td>\n",
       "      <td>HGW5EwBnHVgOrD5xYplBdw</td>\n",
       "      <td>XkMWeLLmXALPcV3ndwzKJw</td>\n",
       "      <td>T3BF1uOOqgcwaVRb_ujPQg</td>\n",
       "      <td>Ecommerce</td>\n",
       "      <td>1104</td>\n",
       "      <td>4526</td>\n",
       "      <td>False</td>\n",
       "      <td>False</td>\n",
       "    </tr>\n",
       "    <tr>\n",
       "      <th>3</th>\n",
       "      <td>13944051314</td>\n",
       "      <td>Merchant D</td>\n",
       "      <td>Visa</td>\n",
       "      <td>2021</td>\n",
       "      <td>12</td>\n",
       "      <td>50</td>\n",
       "      <td>242</td>\n",
       "      <td>False</td>\n",
       "      <td>109.16</td>\n",
       "      <td>NL</td>\n",
       "      <td>NL</td>\n",
       "      <td>iOS</td>\n",
       "      <td>8AuFEjK8m-0lxGAOJzOPmg</td>\n",
       "      <td>26Lw20NQtPKb5cyQZBuh1w</td>\n",
       "      <td>BMf1zFkJ1xvPMlOxC7RWTw</td>\n",
       "      <td>Ecommerce</td>\n",
       "      <td>2039</td>\n",
       "      <td>4571</td>\n",
       "      <td>False</td>\n",
       "      <td>True</td>\n",
       "    </tr>\n",
       "    <tr>\n",
       "      <th>4</th>\n",
       "      <td>62343575411</td>\n",
       "      <td>Merchant E</td>\n",
       "      <td>MasterCard</td>\n",
       "      <td>2021</td>\n",
       "      <td>19</td>\n",
       "      <td>26</td>\n",
       "      <td>318</td>\n",
       "      <td>True</td>\n",
       "      <td>46.27</td>\n",
       "      <td>BR</td>\n",
       "      <td>BR</td>\n",
       "      <td>Other</td>\n",
       "      <td>NaN</td>\n",
       "      <td>Y7tv2i85iUadkEIAPIufgg</td>\n",
       "      <td>jfxS2TIe0gR9vpOUdMKrBw</td>\n",
       "      <td>Ecommerce</td>\n",
       "      <td>XOL</td>\n",
       "      <td>4916</td>\n",
       "      <td>False</td>\n",
       "      <td>False</td>\n",
       "    </tr>\n",
       "  </tbody>\n",
       "</table>\n",
       "</div>"
      ],
      "text/plain": [
       "   psp_reference    merchant card_scheme  year  hour_of_day  minute_of_hour  \\\n",
       "0    79622457320  Merchant A       Other  2021           13              51   \n",
       "1    41293916020  Merchant C        Visa  2021           15              20   \n",
       "2    31382555255  Merchant E        Visa  2021            1              56   \n",
       "3    13944051314  Merchant D        Visa  2021           12              50   \n",
       "4    62343575411  Merchant E  MasterCard  2021           19              26   \n",
       "\n",
       "   day_of_year  is_credit  eur_amount ip_country issuing_country device_type  \\\n",
       "0          206       True       18.75         GR              GR       MacOS   \n",
       "1          345      False       43.65         BR              BR     Android   \n",
       "2          293       True      187.72         NL              NL       MacOS   \n",
       "3          242      False      109.16         NL              NL         iOS   \n",
       "4          318       True       46.27         BR              BR       Other   \n",
       "\n",
       "               ip_address           email_address             card_number  \\\n",
       "0  i1oY1kTOXMlsFfoyhFJxyA  3XBRYto3QgX7g4pX-BvNyA  XldVNN9TQgIA2RE9FTC2TA   \n",
       "1  HZkxQvtpScNLgi0fsoSkjA  klwgzdfrnz_6eGsHSi2prQ  zgRoL8pxX5LJI-SEPUTMvg   \n",
       "2  HGW5EwBnHVgOrD5xYplBdw  XkMWeLLmXALPcV3ndwzKJw  T3BF1uOOqgcwaVRb_ujPQg   \n",
       "3  8AuFEjK8m-0lxGAOJzOPmg  26Lw20NQtPKb5cyQZBuh1w  BMf1zFkJ1xvPMlOxC7RWTw   \n",
       "4                     NaN  Y7tv2i85iUadkEIAPIufgg  jfxS2TIe0gR9vpOUdMKrBw   \n",
       "\n",
       "  shopper_interaction zip_code  card_bin  has_fraudulent_dispute  \\\n",
       "0           Ecommerce     XDED      4236                   False   \n",
       "1           Ecommerce      AAD      4802                   False   \n",
       "2           Ecommerce     1104      4526                   False   \n",
       "3           Ecommerce     2039      4571                   False   \n",
       "4           Ecommerce      XOL      4916                   False   \n",
       "\n",
       "   is_refused_by_adyen  \n",
       "0                False  \n",
       "1                False  \n",
       "2                False  \n",
       "3                 True  \n",
       "4                False  "
      ]
     },
     "execution_count": 5,
     "metadata": {},
     "output_type": "execute_result"
    }
   ],
   "source": [
    "df.head()"
   ]
  },
  {
   "cell_type": "code",
   "execution_count": 6,
   "metadata": {
    "collapsed": false,
    "jupyter": {
     "outputs_hidden": false
    },
    "pycharm": {
     "name": "#%%\n"
    }
   },
   "outputs": [
    {
     "name": "stdout",
     "output_type": "stream",
     "text": [
      "<class 'pandas.core.frame.DataFrame'>\n",
      "RangeIndex: 138701 entries, 0 to 138700\n",
      "Data columns (total 20 columns):\n",
      " #   Column                  Non-Null Count   Dtype  \n",
      "---  ------                  --------------   -----  \n",
      " 0   psp_reference           138701 non-null  int64  \n",
      " 1   merchant                138701 non-null  object \n",
      " 2   card_scheme             138701 non-null  object \n",
      " 3   year                    138701 non-null  int64  \n",
      " 4   hour_of_day             138701 non-null  int64  \n",
      " 5   minute_of_hour          138701 non-null  int64  \n",
      " 6   day_of_year             138701 non-null  int64  \n",
      " 7   is_credit               138701 non-null  bool   \n",
      " 8   eur_amount              138701 non-null  float64\n",
      " 9   ip_country              138701 non-null  object \n",
      " 10  issuing_country         138701 non-null  object \n",
      " 11  device_type             138701 non-null  object \n",
      " 12  ip_address              110961 non-null  object \n",
      " 13  email_address           124831 non-null  object \n",
      " 14  card_number             138701 non-null  object \n",
      " 15  shopper_interaction     138701 non-null  object \n",
      " 16  zip_code                127798 non-null  object \n",
      " 17  card_bin                138701 non-null  int64  \n",
      " 18  has_fraudulent_dispute  138701 non-null  bool   \n",
      " 19  is_refused_by_adyen     138701 non-null  bool   \n",
      "dtypes: bool(3), float64(1), int64(6), object(10)\n",
      "memory usage: 18.4+ MB\n"
     ]
    }
   ],
   "source": [
    "df.info()"
   ]
  },
  {
   "cell_type": "code",
   "execution_count": 8,
   "metadata": {
    "collapsed": false,
    "jupyter": {
     "outputs_hidden": false
    },
    "pycharm": {
     "name": "#%%\n"
    }
   },
   "outputs": [
    {
     "data": {
      "text/plain": [
       "Index(['psp_reference', 'merchant', 'card_scheme', 'year', 'hour_of_day',\n",
       "       'minute_of_hour', 'day_of_year', 'is_credit', 'eur_amount',\n",
       "       'ip_country', 'issuing_country', 'device_type', 'ip_address',\n",
       "       'email_address', 'card_number', 'shopper_interaction', 'zip_code',\n",
       "       'card_bin', 'has_fraudulent_dispute', 'is_refused_by_adyen'],\n",
       "      dtype='object')"
      ]
     },
     "execution_count": 8,
     "metadata": {},
     "output_type": "execute_result"
    }
   ],
   "source": [
    "df.columns"
   ]
  },
  {
   "cell_type": "code",
   "execution_count": 18,
   "metadata": {
    "collapsed": false,
    "jupyter": {
     "outputs_hidden": false
    },
    "pycharm": {
     "name": "#%%\n"
    }
   },
   "outputs": [
    {
     "data": {
      "text/plain": [
       "psp_reference             False\n",
       "merchant                  False\n",
       "card_scheme               False\n",
       "year                      False\n",
       "hour_of_day               False\n",
       "minute_of_hour            False\n",
       "day_of_year               False\n",
       "is_credit                 False\n",
       "eur_amount                False\n",
       "ip_country                False\n",
       "issuing_country           False\n",
       "device_type               False\n",
       "ip_address                 True\n",
       "email_address              True\n",
       "card_number               False\n",
       "shopper_interaction       False\n",
       "zip_code                   True\n",
       "card_bin                  False\n",
       "has_fraudulent_dispute    False\n",
       "is_refused_by_adyen       False\n",
       "dtype: bool"
      ]
     },
     "execution_count": 18,
     "metadata": {},
     "output_type": "execute_result"
    }
   ],
   "source": [
    "df.isnull().any()"
   ]
  },
  {
   "cell_type": "markdown",
   "metadata": {
    "pycharm": {
     "name": "#%% md\n"
    }
   },
   "source": [
    "EDA\n",
    "\n",
    "* Q1: real fraud usually related to which information.\n",
    "is_credit = true, shopper_interaction = Ecommerce\n",
    "\n",
    "* Q2: real frauds cases related to amounts? same distribution\n",
    "* Q3: real frauds happens normally to same cards ? not really"
   ]
  },
  {
   "cell_type": "code",
   "execution_count": 20,
   "metadata": {
    "collapsed": false,
    "jupyter": {
     "outputs_hidden": false
    },
    "pycharm": {
     "name": "#%%\n"
    }
   },
   "outputs": [
    {
     "data": {
      "text/plain": [
       "has_fraudulent_dispute  shopper_interaction\n",
       "False                   Ecommerce              115647\n",
       "                        POS                     12338\n",
       "True                    Ecommerce               10716\n",
       "dtype: int64"
      ]
     },
     "execution_count": 20,
     "metadata": {},
     "output_type": "execute_result"
    }
   ],
   "source": [
    "df.groupby(['has_fraudulent_dispute','shopper_interaction']).size()\n",
    "# all coming from e-commerce"
   ]
  },
  {
   "cell_type": "code",
   "execution_count": 23,
   "metadata": {
    "collapsed": false,
    "jupyter": {
     "outputs_hidden": false
    },
    "pycharm": {
     "name": "#%%\n"
    }
   },
   "outputs": [
    {
     "data": {
      "text/plain": [
       "has_fraudulent_dispute  merchant  \n",
       "False                   Merchant A    51097\n",
       "                        Merchant B    25508\n",
       "                        Merchant C    12831\n",
       "                        Merchant D    25592\n",
       "                        Merchant E    12957\n",
       "True                    Merchant A     4247\n",
       "                        Merchant B     2184\n",
       "                        Merchant C     1026\n",
       "                        Merchant D     2228\n",
       "                        Merchant E     1031\n",
       "dtype: int64"
      ]
     },
     "execution_count": 23,
     "metadata": {},
     "output_type": "execute_result"
    }
   ],
   "source": [
    "df.groupby(['has_fraudulent_dispute','merchant']).size()"
   ]
  },
  {
   "cell_type": "code",
   "execution_count": 24,
   "metadata": {
    "collapsed": false,
    "jupyter": {
     "outputs_hidden": false
    },
    "pycharm": {
     "name": "#%%\n"
    }
   },
   "outputs": [
    {
     "data": {
      "text/plain": [
       "False    127985\n",
       "True      10716\n",
       "Name: has_fraudulent_dispute, dtype: int64"
      ]
     },
     "execution_count": 24,
     "metadata": {},
     "output_type": "execute_result"
    }
   ],
   "source": [
    "df['has_fraudulent_dispute'].value_counts()"
   ]
  },
  {
   "cell_type": "code",
   "execution_count": 28,
   "metadata": {
    "collapsed": false,
    "jupyter": {
     "outputs_hidden": false
    },
    "pycharm": {
     "name": "#%%\n"
    }
   },
   "outputs": [
    {
     "data": {
      "text/plain": [
       "has_fraudulent_dispute  card_scheme\n",
       "False                   Amex           12921\n",
       "                        MasterCard     38593\n",
       "                        Other          31827\n",
       "                        Visa           44644\n",
       "True                    Amex            1135\n",
       "                        MasterCard      3207\n",
       "                        Other           2725\n",
       "                        Visa            3649\n",
       "dtype: int64"
      ]
     },
     "execution_count": 28,
     "metadata": {},
     "output_type": "execute_result"
    }
   ],
   "source": [
    "df.groupby(['has_fraudulent_dispute','card_scheme']).size()"
   ]
  },
  {
   "cell_type": "code",
   "execution_count": 29,
   "metadata": {
    "collapsed": false,
    "jupyter": {
     "outputs_hidden": false
    },
    "pycharm": {
     "name": "#%%\n"
    }
   },
   "outputs": [
    {
     "data": {
      "text/plain": [
       "has_fraudulent_dispute  is_credit\n",
       "False                   False        37369\n",
       "                        True         90616\n",
       "True                    True         10716\n",
       "dtype: int64"
      ]
     },
     "execution_count": 29,
     "metadata": {},
     "output_type": "execute_result"
    }
   ],
   "source": [
    "df.groupby(['has_fraudulent_dispute','is_credit']).size()\n",
    "# is_credit always true for fraudulent_dispute"
   ]
  },
  {
   "cell_type": "code",
   "execution_count": 30,
   "metadata": {
    "collapsed": false,
    "jupyter": {
     "outputs_hidden": false
    },
    "pycharm": {
     "name": "#%%\n"
    }
   },
   "outputs": [
    {
     "data": {
      "text/plain": [
       "has_fraudulent_dispute  device_type\n",
       "False                   Android        21246\n",
       "                        Linux          21297\n",
       "                        MacOS          21236\n",
       "                        Other          21569\n",
       "                        Windows        21431\n",
       "                        iOS            21206\n",
       "True                    Android         1521\n",
       "                        Linux           1508\n",
       "                        MacOS           1575\n",
       "                        Other           3104\n",
       "                        Windows         1588\n",
       "                        iOS             1420\n",
       "dtype: int64"
      ]
     },
     "execution_count": 30,
     "metadata": {},
     "output_type": "execute_result"
    }
   ],
   "source": [
    "df.groupby(['has_fraudulent_dispute','device_type']).size()"
   ]
  },
  {
   "cell_type": "code",
   "execution_count": 32,
   "metadata": {
    "collapsed": false,
    "jupyter": {
     "outputs_hidden": false
    },
    "pycharm": {
     "name": "#%%\n"
    }
   },
   "outputs": [
    {
     "data": {
      "text/plain": [
       "has_fraudulent_dispute  issuing_country\n",
       "False                   BR                 27218\n",
       "                        GR                 27286\n",
       "                        IT                  9277\n",
       "                        NL                 36853\n",
       "                        ZW                 27351\n",
       "True                    BR                  3048\n",
       "                        GR                  1540\n",
       "                        IT                  1525\n",
       "                        NL                  3118\n",
       "                        ZW                  1485\n",
       "dtype: int64"
      ]
     },
     "execution_count": 32,
     "metadata": {},
     "output_type": "execute_result"
    }
   ],
   "source": [
    "df.groupby(['has_fraudulent_dispute','issuing_country']).size()"
   ]
  },
  {
   "cell_type": "code",
   "execution_count": 42,
   "metadata": {
    "collapsed": false,
    "jupyter": {
     "outputs_hidden": false
    },
    "pycharm": {
     "name": "#%%\n"
    }
   },
   "outputs": [],
   "source": [
    "df_fraud = df[df['has_fraudulent_dispute']==True]\n",
    "df_notfraud = df[df['has_fraudulent_dispute']==False]"
   ]
  },
  {
   "cell_type": "code",
   "execution_count": 41,
   "metadata": {
    "collapsed": false,
    "jupyter": {
     "outputs_hidden": false
    },
    "pycharm": {
     "name": "#%%\n"
    }
   },
   "outputs": [
    {
     "data": {
      "text/plain": [
       "(array([2.588e+03, 2.720e+03, 1.697e+03, 1.058e+03, 7.180e+02, 4.680e+02,\n",
       "        3.420e+02, 2.300e+02, 1.730e+02, 1.360e+02, 1.080e+02, 6.100e+01,\n",
       "        6.800e+01, 4.900e+01, 5.400e+01, 3.900e+01, 2.700e+01, 2.400e+01,\n",
       "        1.300e+01, 1.600e+01, 2.100e+01, 1.200e+01, 1.700e+01, 5.000e+00,\n",
       "        9.000e+00, 1.000e+00, 3.000e+00, 5.000e+00, 4.000e+00, 3.000e+00]),\n",
       " array([   0.        ,   33.33333333,   66.66666667,  100.        ,\n",
       "         133.33333333,  166.66666667,  200.        ,  233.33333333,\n",
       "         266.66666667,  300.        ,  333.33333333,  366.66666667,\n",
       "         400.        ,  433.33333333,  466.66666667,  500.        ,\n",
       "         533.33333333,  566.66666667,  600.        ,  633.33333333,\n",
       "         666.66666667,  700.        ,  733.33333333,  766.66666667,\n",
       "         800.        ,  833.33333333,  866.66666667,  900.        ,\n",
       "         933.33333333,  966.66666667, 1000.        ]),\n",
       " <BarContainer object of 30 artists>)"
      ]
     },
     "execution_count": 41,
     "metadata": {},
     "output_type": "execute_result"
    },
    {
     "data": {
      "image/png": "[encoded data removed]",
      "text/plain": [
       "<Figure size 432x288 with 1 Axes>"
      ]
     },
     "metadata": {
      "needs_background": "light"
     },
     "output_type": "display_data"
    }
   ],
   "source": [
    "plt.hist(df.eur_amount,bins=30,range=(0,1000))\n",
    "plt.hist(df_fraud.eur_amount,bins=30,range=(0,1000))"
   ]
  },
  {
   "cell_type": "code",
   "execution_count": 49,
   "metadata": {
    "collapsed": false,
    "jupyter": {
     "outputs_hidden": false
    },
    "pycharm": {
     "name": "#%%\n"
    }
   },
   "outputs": [
    {
     "data": {
      "text/plain": [
       "138701"
      ]
     },
     "execution_count": 49,
     "metadata": {},
     "output_type": "execute_result"
    }
   ],
   "source": [
    "df['card_number'].value_counts()"
   ]
  },
  {
   "cell_type": "code",
   "execution_count": 50,
   "metadata": {
    "collapsed": false,
    "jupyter": {
     "outputs_hidden": false
    },
    "pycharm": {
     "name": "#%%\n"
    }
   },
   "outputs": [
    {
     "data": {
      "text/plain": [
       "gLZvKVK0zdRzRlhufrrZjQ    49\n",
       "tILz9SCTB-jZcC3KBe1tgA    38\n",
       "5YoeBI22nfwwEYpD8iI24Q    36\n",
       "AJWnL6gryOz8O6hm1jsbxg    36\n",
       "PM14M6gMRcjxYFG3F7vEaw    33\n",
       "                          ..\n",
       "TWKRGJ0iKDwxAGAfeVUOtA     1\n",
       "3mHg_3mFXdW-CnzjAb3CMQ     1\n",
       "eoWJIHW5yYvBcwekz72kkQ     1\n",
       "JFWBnqfvQAUIO04TIDo2Kg     1\n",
       "8pRRhuIhqAhkd79KdVV9tw     1\n",
       "Name: card_number, Length: 2049, dtype: int64"
      ]
     },
     "execution_count": 50,
     "metadata": {},
     "output_type": "execute_result"
    }
   ],
   "source": [
    "df_fraud['card_number'].value_counts()"
   ]
  },
  {
   "cell_type": "markdown",
   "metadata": {
    "pycharm": {
     "name": "#%% md\n"
    }
   },
   "source": []
  },
  {
   "cell_type": "code",
   "execution_count": 56,
   "metadata": {
    "collapsed": false,
    "jupyter": {
     "outputs_hidden": false
    },
    "pycharm": {
     "name": "#%%\n"
    }
   },
   "outputs": [
    {
     "data": {
      "text/plain": [
       "gLZvKVK0zdRzRlhufrrZjQ    49\n",
       "tILz9SCTB-jZcC3KBe1tgA    38\n",
       "5YoeBI22nfwwEYpD8iI24Q    36\n",
       "AJWnL6gryOz8O6hm1jsbxg    36\n",
       "PM14M6gMRcjxYFG3F7vEaw    33\n",
       "                          ..\n",
       "KDYPA7cDg3W8AemYsok8lw     1\n",
       "SFsT_X-IwnjSAJiLRQ43WQ     1\n",
       "7IFl3X-KA14SqpFvTflPQQ     1\n",
       "7xQlAC5RRXLRk1SdtzVSZQ     1\n",
       "mp632U4XKdZvpM9HGqqLgA     1\n",
       "Name: card_number, Length: 1025, dtype: int64"
      ]
     },
     "execution_count": 56,
     "metadata": {},
     "output_type": "execute_result"
    }
   ],
   "source": [
    "df_fraud[df_fraud['card_number'].isin(df_notfraud['card_number'])]['card_number'].value_counts()"
   ]
  },
  {
   "cell_type": "code",
   "execution_count": 55,
   "metadata": {
    "collapsed": false,
    "jupyter": {
     "outputs_hidden": false
    },
    "pycharm": {
     "name": "#%%\n"
    }
   },
   "outputs": [
    {
     "data": {
      "text/plain": [
       "S2kBLWhAn7XUlslZJqpmmw    40\n",
       "DM9ee_c6UK_UF531p5HQ6w    29\n",
       "AJWnL6gryOz8O6hm1jsbxg    28\n",
       "FWG49jEpjxK0wW8ITkfDKg    27\n",
       "tILz9SCTB-jZcC3KBe1tgA    26\n",
       "                          ..\n",
       "Ueta-Qw220ds-xXWk2Uddg     1\n",
       "bhemVZvEZ_XoI04cDf5fVA     1\n",
       "tjNJ9wEtTC82t_CRX-Uzbg     1\n",
       "2B-_idFl7aXP6oMbXAhFRg     1\n",
       "GRWf7B5VI-6uYavbg_aWHQ     1\n",
       "Name: card_number, Length: 1025, dtype: int64"
      ]
     },
     "execution_count": 55,
     "metadata": {},
     "output_type": "execute_result"
    }
   ],
   "source": [
    "df_notfraud[df_notfraud['card_number'].isin(df_fraud['card_number'])]['card_number'].value_counts()"
   ]
  },
  {
   "cell_type": "code",
   "execution_count": 58,
   "metadata": {
    "collapsed": false,
    "jupyter": {
     "outputs_hidden": false
    },
    "pycharm": {
     "name": "#%%\n"
    }
   },
   "outputs": [
    {
     "data": {
      "text/plain": [
       "<AxesSubplot:>"
      ]
     },
     "execution_count": 58,
     "metadata": {},
     "output_type": "execute_result"
    },
    {
     "data": {
      "image/png": "[encoded data removed]",
      "text/plain": [
       "<Figure size 432x288 with 2 Axes>"
      ]
     },
     "metadata": {
      "needs_background": "light"
     },
     "output_type": "display_data"
    }
   ],
   "source": [
    "import seaborn as sns\n",
    "sns.heatmap(df_fraud.corr())"
   ]
  },
  {
   "cell_type": "code",
   "execution_count": null,
   "metadata": {
    "collapsed": false,
    "jupyter": {
     "outputs_hidden": false
    },
    "pycharm": {
     "name": "#%%\n"
    }
   },
   "outputs": [],
   "source": []
  }
 ],
 "metadata": {
  "kernelspec": {
   "display_name": "Python 3",
   "language": "python",
   "name": "python3"
  },
  "language_info": {
   "codemirror_mode": {
    "name": "ipython",
    "version": 3
   },
   "file_extension": ".py",
   "mimetype": "text/x-python",
   "name": "python",
   "nbconvert_exporter": "python",
   "pygments_lexer": "ipython3",
   "version": "3.10.1 (tags/v3.10.1:2cd268a, Dec  6 2021, 19:10:37) [MSC v.1929 64 bit (AMD64)]"
  },
  "vscode": {
   "interpreter": {
    "hash": "51c3db15a58bb6b96242ddaff4ad63f4f5eb2d0c84d8d9f819c5fc1b78c7e915"
   }
  }
 },
 "nbformat": 4,
 "nbformat_minor": 4
}
