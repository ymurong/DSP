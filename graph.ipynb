{
 "cells": [
  {
   "cell_type": "code",
   "execution_count": 1,
   "id": "772db457-53e1-4892-b8b6-874b068cfa6c",
   "metadata": {
    "pycharm": {
     "name": "#%%\n"
    }
   },
   "outputs": [
    {
     "data": {
      "text/plain": [
       "(21432, 20)"
      ]
     },
     "execution_count": 1,
     "metadata": {},
     "output_type": "execute_result"
    }
   ],
   "source": [
    "import pandas as pd\n",
    "import numpy as np\n",
    "import matplotlib.pyplot as plt\n",
    "import seaborn as sns\n",
    "import scipy.stats as ss\n",
    "import sklearn as sci\n",
    "%matplotlib inline\n",
    "%load_ext autoreload\n",
    "%autoreload\n",
    "\n",
    "df_ori = pd.read_csv('adyen-dataset.csv')\n",
    "from lib.sampling import subsampling\n",
    "\n",
    "# Subsample non_fraudulent transactions records so we have balanced dataset\n",
    "df_fraudulent = df_ori[df_ori['has_fraudulent_dispute'] == True]\n",
    "df_non_fraudulent = df_ori[df_ori['has_fraudulent_dispute'] == False]\n",
    "subsample_index= subsampling(df_non_fraudulent.index, len(df_fraudulent))\n",
    "df_non_fraudulent_subsample  = df_non_fraudulent.loc[subsample_index,:]\n",
    "df_sample = pd.concat([df_non_fraudulent_subsample,df_fraudulent], axis=0)\n",
    "df_sample.shape"
   ]
  },
  {
   "cell_type": "code",
   "execution_count": 2,
   "id": "5735c586-109b-4bc0-8715-02a9e154a596",
   "metadata": {
    "pycharm": {
     "name": "#%%\n"
    }
   },
   "outputs": [],
   "source": [
    "df_sample.head()\n",
    "df_sample = df_sample[:2000]"
   ]
  },
  {
   "cell_type": "code",
   "execution_count": 3,
   "id": "42afedcb-0217-4873-9ab4-9e079af5ff86",
   "metadata": {
    "pycharm": {
     "name": "#%%\n"
    }
   },
   "outputs": [],
   "source": [
    "df = df_sample[['ip_address','email_address','card_number']]"
   ]
  },
  {
   "cell_type": "code",
   "execution_count": 4,
   "id": "fb0cc6e6-1c46-4f66-8052-e5bc15ba5fd4",
   "metadata": {
    "pycharm": {
     "name": "#%%\n"
    }
   },
   "outputs": [],
   "source": [
    "def nb_common_attr(transaction1, transaction2):\n",
    "    assert transaction1.size == transaction2.size\n",
    "    merged = [*transaction1.values, *transaction2.values]\n",
    "    nb_common_attr = transaction1.size*2 - len(set(merged))\n",
    "    return nb_common_attr"
   ]
  },
  {
   "cell_type": "code",
   "execution_count": 5,
   "id": "1e8224af-4313-4d87-a5f8-626273bb2676",
   "metadata": {
    "pycharm": {
     "name": "#%%\n"
    }
   },
   "outputs": [],
   "source": [
    "import itertools\n",
    "\n",
    "data = []\n",
    "for i,j in itertools.combinations(df.index, 2):\n",
    "    data.append([i, j, nb_common_attr(df.loc[i],df.loc[j])])\n"
   ]
  },
  {
   "cell_type": "code",
   "execution_count": null,
   "id": "3fb5e3ff",
   "metadata": {},
   "outputs": [],
   "source": []
  }
 ],
 "metadata": {
  "kernelspec": {
   "display_name": "Python 3.10.1 64-bit",
   "language": "python",
   "name": "python3"
  },
  "language_info": {
   "codemirror_mode": {
    "name": "ipython",
    "version": 3
   },
   "file_extension": ".py",
   "mimetype": "text/x-python",
   "name": "python",
   "nbconvert_exporter": "python",
   "pygments_lexer": "ipython3",
   "version": "3.10.1 (tags/v3.10.1:2cd268a, Dec  6 2021, 19:10:37) [MSC v.1929 64 bit (AMD64)]"
  },
  "vscode": {
   "interpreter": {
    "hash": "51c3db15a58bb6b96242ddaff4ad63f4f5eb2d0c84d8d9f819c5fc1b78c7e915"
   }
  }
 },
 "nbformat": 4,
 "nbformat_minor": 5
}