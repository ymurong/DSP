{
 "cells": [
  {
   "cell_type": "code",
   "execution_count": 6,
   "outputs": [],
   "source": [
    "import pandas as pd\n",
    "import numpy as np\n",
    "import matplotlib.pyplot as plt\n",
    "import seaborn as sns\n",
    "%matplotlib inline\n",
    "df = pd.read_csv('adyen-dataset.csv')"
   ],
   "metadata": {
    "collapsed": false,
    "pycharm": {
     "name": "#%%\n"
    }
   }
  },
  {
   "cell_type": "markdown",
   "source": [
    "# data dictionary\n",
    "\n",
    "psp_reference: id unique of transaction\n",
    "merchant: merchant type (industry: A,B,C,D,E), different proportion\n",
    "card_scheme: (Amex, Visa, Mastercard, Other), different proportion\n",
    "is_credit: (creditcard: 0.73, non-creditcard: 0.27)\n",
    "eur_amount: skewed distribution (70% < 100 eur)\n",
    "ip_country: [GR: GREECE, BR: BRAZIL, NL: NETHERLANDS, ZW: Zimbabwe, IT: ITALY]\n",
    "issuing_country: [GR: GREECE, BR: BRAZIL, NL: NETHERLANDS, ZW: Zimbabwe, IT: ITALY]\n",
    "device_type: [MAC, Android, IOS, Windows, Linux, Other] equivalent proportion\n",
    "ip_address: some missing values, duplicated entries present\n",
    "email_address: some missing values, duplicated entries present\n",
    "card_number: duplicated entries present\n",
    "shopper_interaction: (E-commerce 91%, POS 9%) all fraud happens to E-commerce\n",
    "zip_code: 16 different zip codes\n",
    "card_bin: 13 different banks"
   ],
   "metadata": {
    "collapsed": false,
    "pycharm": {
     "name": "#%% md\n"
    }
   }
  },
  {
   "cell_type": "markdown",
   "source": [
    "Missing value columns: ip_address, email_address. zip_code"
   ],
   "metadata": {
    "collapsed": false,
    "pycharm": {
     "name": "#%% md\n"
    }
   }
  },
  {
   "cell_type": "code",
   "execution_count": 2,
   "outputs": [
    {
     "data": {
      "text/plain": "   psp_reference    merchant card_scheme  year  hour_of_day  minute_of_hour  \\\n0    79622457320  Merchant A       Other  2021           13              51   \n1    41293916020  Merchant C        Visa  2021           15              20   \n2    31382555255  Merchant E        Visa  2021            1              56   \n3    13944051314  Merchant D        Visa  2021           12              50   \n4    62343575411  Merchant E  MasterCard  2021           19              26   \n\n   day_of_year  is_credit  eur_amount ip_country issuing_country device_type  \\\n0          206       True       18.75         GR              GR       MacOS   \n1          345      False       43.65         BR              BR     Android   \n2          293       True      187.72         NL              NL       MacOS   \n3          242      False      109.16         NL              NL         iOS   \n4          318       True       46.27         BR              BR       Other   \n\n               ip_address           email_address             card_number  \\\n0  i1oY1kTOXMlsFfoyhFJxyA  3XBRYto3QgX7g4pX-BvNyA  XldVNN9TQgIA2RE9FTC2TA   \n1  HZkxQvtpScNLgi0fsoSkjA  klwgzdfrnz_6eGsHSi2prQ  zgRoL8pxX5LJI-SEPUTMvg   \n2  HGW5EwBnHVgOrD5xYplBdw  XkMWeLLmXALPcV3ndwzKJw  T3BF1uOOqgcwaVRb_ujPQg   \n3  8AuFEjK8m-0lxGAOJzOPmg  26Lw20NQtPKb5cyQZBuh1w  BMf1zFkJ1xvPMlOxC7RWTw   \n4                     NaN  Y7tv2i85iUadkEIAPIufgg  jfxS2TIe0gR9vpOUdMKrBw   \n\n  shopper_interaction zip_code  card_bin  has_fraudulent_dispute  \\\n0           Ecommerce     XDED      4236                   False   \n1           Ecommerce      AAD      4802                   False   \n2           Ecommerce     1104      4526                   False   \n3           Ecommerce     2039      4571                   False   \n4           Ecommerce      XOL      4916                   False   \n\n   is_refused_by_adyen  \n0                False  \n1                False  \n2                False  \n3                 True  \n4                False  ",
      "text/html": "<div>\n<style scoped>\n    .dataframe tbody tr th:only-of-type {\n        vertical-align: middle;\n    }\n\n    .dataframe tbody tr th {\n        vertical-align: top;\n    }\n\n    .dataframe thead th {\n        text-align: right;\n    }\n</style>\n<table border=\"1\" class=\"dataframe\">\n  <thead>\n    <tr style=\"text-align: right;\">\n      <th></th>\n      <th>psp_reference</th>\n      <th>merchant</th>\n      <th>card_scheme</th>\n      <th>year</th>\n      <th>hour_of_day</th>\n      <th>minute_of_hour</th>\n      <th>day_of_year</th>\n      <th>is_credit</th>\n      <th>eur_amount</th>\n      <th>ip_country</th>\n      <th>issuing_country</th>\n      <th>device_type</th>\n      <th>ip_address</th>\n      <th>email_address</th>\n      <th>card_number</th>\n      <th>shopper_interaction</th>\n      <th>zip_code</th>\n      <th>card_bin</th>\n      <th>has_fraudulent_dispute</th>\n      <th>is_refused_by_adyen</th>\n    </tr>\n  </thead>\n  <tbody>\n    <tr>\n      <th>0</th>\n      <td>79622457320</td>\n      <td>Merchant A</td>\n      <td>Other</td>\n      <td>2021</td>\n      <td>13</td>\n      <td>51</td>\n      <td>206</td>\n      <td>True</td>\n      <td>18.75</td>\n      <td>GR</td>\n      <td>GR</td>\n      <td>MacOS</td>\n      <td>i1oY1kTOXMlsFfoyhFJxyA</td>\n      <td>3XBRYto3QgX7g4pX-BvNyA</td>\n      <td>XldVNN9TQgIA2RE9FTC2TA</td>\n      <td>Ecommerce</td>\n      <td>XDED</td>\n      <td>4236</td>\n      <td>False</td>\n      <td>False</td>\n    </tr>\n    <tr>\n      <th>1</th>\n      <td>41293916020</td>\n      <td>Merchant C</td>\n      <td>Visa</td>\n      <td>2021</td>\n      <td>15</td>\n      <td>20</td>\n      <td>345</td>\n      <td>False</td>\n      <td>43.65</td>\n      <td>BR</td>\n      <td>BR</td>\n      <td>Android</td>\n      <td>HZkxQvtpScNLgi0fsoSkjA</td>\n      <td>klwgzdfrnz_6eGsHSi2prQ</td>\n      <td>zgRoL8pxX5LJI-SEPUTMvg</td>\n      <td>Ecommerce</td>\n      <td>AAD</td>\n      <td>4802</td>\n      <td>False</td>\n      <td>False</td>\n    </tr>\n    <tr>\n      <th>2</th>\n      <td>31382555255</td>\n      <td>Merchant E</td>\n      <td>Visa</td>\n      <td>2021</td>\n      <td>1</td>\n      <td>56</td>\n      <td>293</td>\n      <td>True</td>\n      <td>187.72</td>\n      <td>NL</td>\n      <td>NL</td>\n      <td>MacOS</td>\n      <td>HGW5EwBnHVgOrD5xYplBdw</td>\n      <td>XkMWeLLmXALPcV3ndwzKJw</td>\n      <td>T3BF1uOOqgcwaVRb_ujPQg</td>\n      <td>Ecommerce</td>\n      <td>1104</td>\n      <td>4526</td>\n      <td>False</td>\n      <td>False</td>\n    </tr>\n    <tr>\n      <th>3</th>\n      <td>13944051314</td>\n      <td>Merchant D</td>\n      <td>Visa</td>\n      <td>2021</td>\n      <td>12</td>\n      <td>50</td>\n      <td>242</td>\n      <td>False</td>\n      <td>109.16</td>\n      <td>NL</td>\n      <td>NL</td>\n      <td>iOS</td>\n      <td>8AuFEjK8m-0lxGAOJzOPmg</td>\n      <td>26Lw20NQtPKb5cyQZBuh1w</td>\n      <td>BMf1zFkJ1xvPMlOxC7RWTw</td>\n      <td>Ecommerce</td>\n      <td>2039</td>\n      <td>4571</td>\n      <td>False</td>\n      <td>True</td>\n    </tr>\n    <tr>\n      <th>4</th>\n      <td>62343575411</td>\n      <td>Merchant E</td>\n      <td>MasterCard</td>\n      <td>2021</td>\n      <td>19</td>\n      <td>26</td>\n      <td>318</td>\n      <td>True</td>\n      <td>46.27</td>\n      <td>BR</td>\n      <td>BR</td>\n      <td>Other</td>\n      <td>NaN</td>\n      <td>Y7tv2i85iUadkEIAPIufgg</td>\n      <td>jfxS2TIe0gR9vpOUdMKrBw</td>\n      <td>Ecommerce</td>\n      <td>XOL</td>\n      <td>4916</td>\n      <td>False</td>\n      <td>False</td>\n    </tr>\n  </tbody>\n</table>\n</div>"
     },
     "execution_count": 2,
     "metadata": {},
     "output_type": "execute_result"
    }
   ],
   "source": [
    "df.head()"
   ],
   "metadata": {
    "collapsed": false,
    "pycharm": {
     "name": "#%%\n"
    }
   }
  },
  {
   "cell_type": "code",
   "execution_count": 3,
   "outputs": [
    {
     "name": "stdout",
     "output_type": "stream",
     "text": [
      "<class 'pandas.core.frame.DataFrame'>\n",
      "RangeIndex: 138701 entries, 0 to 138700\n",
      "Data columns (total 20 columns):\n",
      " #   Column                  Non-Null Count   Dtype  \n",
      "---  ------                  --------------   -----  \n",
      " 0   psp_reference           138701 non-null  int64  \n",
      " 1   merchant                138701 non-null  object \n",
      " 2   card_scheme             138701 non-null  object \n",
      " 3   year                    138701 non-null  int64  \n",
      " 4   hour_of_day             138701 non-null  int64  \n",
      " 5   minute_of_hour          138701 non-null  int64  \n",
      " 6   day_of_year             138701 non-null  int64  \n",
      " 7   is_credit               138701 non-null  bool   \n",
      " 8   eur_amount              138701 non-null  float64\n",
      " 9   ip_country              138701 non-null  object \n",
      " 10  issuing_country         138701 non-null  object \n",
      " 11  device_type             138701 non-null  object \n",
      " 12  ip_address              110961 non-null  object \n",
      " 13  email_address           124831 non-null  object \n",
      " 14  card_number             138701 non-null  object \n",
      " 15  shopper_interaction     138701 non-null  object \n",
      " 16  zip_code                127798 non-null  object \n",
      " 17  card_bin                138701 non-null  int64  \n",
      " 18  has_fraudulent_dispute  138701 non-null  bool   \n",
      " 19  is_refused_by_adyen     138701 non-null  bool   \n",
      "dtypes: bool(3), float64(1), int64(6), object(10)\n",
      "memory usage: 18.4+ MB\n"
     ]
    }
   ],
   "source": [
    "df.info()"
   ],
   "metadata": {
    "collapsed": false,
    "pycharm": {
     "name": "#%%\n"
    }
   }
  },
  {
   "cell_type": "code",
   "execution_count": 113,
   "outputs": [
    {
     "data": {
      "text/plain": "Merchant A    0.399017\nMerchant D    0.200575\nMerchant B    0.199652\nMerchant E    0.100850\nMerchant C    0.099906\nName: merchant, dtype: float64"
     },
     "execution_count": 113,
     "metadata": {},
     "output_type": "execute_result"
    }
   ],
   "source": [
    "df['merchant'].value_counts(normalize=True)"
   ],
   "metadata": {
    "collapsed": false,
    "pycharm": {
     "name": "#%%\n"
    }
   }
  },
  {
   "cell_type": "code",
   "execution_count": 114,
   "outputs": [
    {
     "data": {
      "text/plain": "Visa          0.348181\nMasterCard    0.301368\nOther         0.249111\nAmex          0.101340\nName: card_scheme, dtype: float64"
     },
     "execution_count": 114,
     "metadata": {},
     "output_type": "execute_result"
    }
   ],
   "source": [
    "df['card_scheme'].value_counts(normalize=True)"
   ],
   "metadata": {
    "collapsed": false,
    "pycharm": {
     "name": "#%%\n"
    }
   }
  },
  {
   "cell_type": "code",
   "execution_count": 4,
   "outputs": [
    {
     "data": {
      "text/plain": "True     0.730579\nFalse    0.269421\nName: is_credit, dtype: float64"
     },
     "execution_count": 4,
     "metadata": {},
     "output_type": "execute_result"
    }
   ],
   "source": [
    "df[\"is_credit\"].value_counts(normalize=True)"
   ],
   "metadata": {
    "collapsed": false,
    "pycharm": {
     "name": "#%%\n"
    }
   }
  },
  {
   "cell_type": "code",
   "execution_count": 67,
   "outputs": [
    {
     "data": {
      "text/plain": "<Figure size 576x288 with 1 Axes>",
      "image/png": "[encoded data removed]"
     },
     "metadata": {},
     "output_type": "display_data"
    }
   ],
   "source": [
    "df_eur_amount = pd.cut(df.eur_amount, [0,20,50,100,200,500,1000,10000],right=False)\n",
    "value_counts = df_eur_amount.value_counts(normalize=True)\n",
    "plt.figure(figsize=(8,4))\n",
    "sns.set_style(\"whitegrid\")\n",
    "sns.set_color_codes(\"muted\")\n",
    "ax = sns.barplot(x=value_counts.index, y=value_counts.values,alpha=0.8,palette=(\"Greens_d\"))\n",
    "ax.set_xlabel('eur amount')\n",
    "ax.set_ylabel('Proportion')\n",
    "ax.bar_label(ax.containers[0])\n",
    "plt.show()"
   ],
   "metadata": {
    "collapsed": false,
    "pycharm": {
     "name": "#%%\n"
    }
   }
  },
  {
   "cell_type": "code",
   "execution_count": 68,
   "outputs": [
    {
     "data": {
      "text/plain": "array(['GR', 'BR', 'NL', 'ZW', 'IT'], dtype=object)"
     },
     "execution_count": 68,
     "metadata": {},
     "output_type": "execute_result"
    }
   ],
   "source": [
    "df['ip_country'].unique()"
   ],
   "metadata": {
    "collapsed": false,
    "pycharm": {
     "name": "#%%\n"
    }
   }
  },
  {
   "cell_type": "code",
   "execution_count": 111,
   "outputs": [
    {
     "data": {
      "text/plain": "NL    0.287172\nBR    0.217951\nZW    0.208499\nGR    0.207771\nIT    0.078608\nName: ip_country, dtype: float64"
     },
     "execution_count": 111,
     "metadata": {},
     "output_type": "execute_result"
    }
   ],
   "source": [
    "df['ip_country'].value_counts(normalize=True)"
   ],
   "metadata": {
    "collapsed": false,
    "pycharm": {
     "name": "#%%\n"
    }
   }
  },
  {
   "cell_type": "code",
   "execution_count": 69,
   "outputs": [
    {
     "data": {
      "text/plain": "array(['GR', 'BR', 'NL', 'ZW', 'IT'], dtype=object)"
     },
     "execution_count": 69,
     "metadata": {},
     "output_type": "execute_result"
    }
   ],
   "source": [
    "df['issuing_country'].unique()"
   ],
   "metadata": {
    "collapsed": false,
    "pycharm": {
     "name": "#%%\n"
    }
   }
  },
  {
   "cell_type": "code",
   "execution_count": 74,
   "outputs": [
    {
     "data": {
      "text/plain": "Empty DataFrame\nColumns: [psp_reference, merchant, card_scheme, year, hour_of_day, minute_of_hour, day_of_year, is_credit, eur_amount, ip_country, issuing_country, device_type, ip_address, email_address, card_number, shopper_interaction, zip_code, card_bin, has_fraudulent_dispute, is_refused_by_adyen]\nIndex: []",
      "text/html": "<div>\n<style scoped>\n    .dataframe tbody tr th:only-of-type {\n        vertical-align: middle;\n    }\n\n    .dataframe tbody tr th {\n        vertical-align: top;\n    }\n\n    .dataframe thead th {\n        text-align: right;\n    }\n</style>\n<table border=\"1\" class=\"dataframe\">\n  <thead>\n    <tr style=\"text-align: right;\">\n      <th></th>\n      <th>psp_reference</th>\n      <th>merchant</th>\n      <th>card_scheme</th>\n      <th>year</th>\n      <th>hour_of_day</th>\n      <th>minute_of_hour</th>\n      <th>day_of_year</th>\n      <th>is_credit</th>\n      <th>eur_amount</th>\n      <th>ip_country</th>\n      <th>issuing_country</th>\n      <th>device_type</th>\n      <th>ip_address</th>\n      <th>email_address</th>\n      <th>card_number</th>\n      <th>shopper_interaction</th>\n      <th>zip_code</th>\n      <th>card_bin</th>\n      <th>has_fraudulent_dispute</th>\n      <th>is_refused_by_adyen</th>\n    </tr>\n  </thead>\n  <tbody>\n  </tbody>\n</table>\n</div>"
     },
     "execution_count": 74,
     "metadata": {},
     "output_type": "execute_result"
    }
   ],
   "source": [
    "df[df['issuing_country'] != df['ip_country']]"
   ],
   "metadata": {
    "collapsed": false,
    "pycharm": {
     "name": "#%%\n"
    }
   }
  },
  {
   "cell_type": "code",
   "execution_count": 110,
   "outputs": [
    {
     "data": {
      "text/plain": "array(['MacOS', 'Android', 'iOS', 'Other', 'Windows', 'Linux'],\n      dtype=object)"
     },
     "execution_count": 110,
     "metadata": {},
     "output_type": "execute_result"
    }
   ],
   "source": [
    "df['device_type'].unique()"
   ],
   "metadata": {
    "collapsed": false,
    "pycharm": {
     "name": "#%%\n"
    }
   }
  },
  {
   "cell_type": "code",
   "execution_count": 112,
   "outputs": [
    {
     "data": {
      "text/plain": "Other      0.177886\nWindows    0.165961\nMacOS      0.164462\nLinux      0.164418\nAndroid    0.164144\niOS        0.163128\nName: device_type, dtype: float64"
     },
     "execution_count": 112,
     "metadata": {},
     "output_type": "execute_result"
    }
   ],
   "source": [
    "df['device_type'].value_counts(normalize=True)"
   ],
   "metadata": {
    "collapsed": false,
    "pycharm": {
     "name": "#%%\n"
    }
   }
  },
  {
   "cell_type": "code",
   "execution_count": 95,
   "outputs": [
    {
     "data": {
      "text/plain": "                    ip_address  has_fraudulent_dispute\n7                          NaN                    True\n13                         NaN                    True\n18                         NaN                    True\n25                         NaN                   False\n31                         NaN                   False\n...                        ...                     ...\n138696  947PJ1zh6yFwZxGOYG8Lnw                    True\n138697                     NaN                   False\n138698  -mT_MQEgvNfb5RkbW0oejw                   False\n138699  13Jg3lRGPEoM3c_vLM-SVQ                    True\n138700                     NaN                   False\n\n[83225 rows x 2 columns]",
      "text/html": "<div>\n<style scoped>\n    .dataframe tbody tr th:only-of-type {\n        vertical-align: middle;\n    }\n\n    .dataframe tbody tr th {\n        vertical-align: top;\n    }\n\n    .dataframe thead th {\n        text-align: right;\n    }\n</style>\n<table border=\"1\" class=\"dataframe\">\n  <thead>\n    <tr style=\"text-align: right;\">\n      <th></th>\n      <th>ip_address</th>\n      <th>has_fraudulent_dispute</th>\n    </tr>\n  </thead>\n  <tbody>\n    <tr>\n      <th>7</th>\n      <td>NaN</td>\n      <td>True</td>\n    </tr>\n    <tr>\n      <th>13</th>\n      <td>NaN</td>\n      <td>True</td>\n    </tr>\n    <tr>\n      <th>18</th>\n      <td>NaN</td>\n      <td>True</td>\n    </tr>\n    <tr>\n      <th>25</th>\n      <td>NaN</td>\n      <td>False</td>\n    </tr>\n    <tr>\n      <th>31</th>\n      <td>NaN</td>\n      <td>False</td>\n    </tr>\n    <tr>\n      <th>...</th>\n      <td>...</td>\n      <td>...</td>\n    </tr>\n    <tr>\n      <th>138696</th>\n      <td>947PJ1zh6yFwZxGOYG8Lnw</td>\n      <td>True</td>\n    </tr>\n    <tr>\n      <th>138697</th>\n      <td>NaN</td>\n      <td>False</td>\n    </tr>\n    <tr>\n      <th>138698</th>\n      <td>-mT_MQEgvNfb5RkbW0oejw</td>\n      <td>False</td>\n    </tr>\n    <tr>\n      <th>138699</th>\n      <td>13Jg3lRGPEoM3c_vLM-SVQ</td>\n      <td>True</td>\n    </tr>\n    <tr>\n      <th>138700</th>\n      <td>NaN</td>\n      <td>False</td>\n    </tr>\n  </tbody>\n</table>\n<p>83225 rows × 2 columns</p>\n</div>"
     },
     "execution_count": 95,
     "metadata": {},
     "output_type": "execute_result"
    }
   ],
   "source": [
    "df[df['ip_address'].duplicated()][['ip_address','has_fraudulent_dispute']]"
   ],
   "metadata": {
    "collapsed": false,
    "pycharm": {
     "name": "#%%\n"
    }
   }
  },
  {
   "cell_type": "code",
   "execution_count": 97,
   "outputs": [
    {
     "data": {
      "text/plain": "                        has_fraudulent_dispute\nip_address                                    \nnzKBxRDpQNoWtCGpb6KDBQ                      32\n3Cwu5_lVTmRIisW87oZm1A                      32\nyV7nl_JGU6rMLunl8kx8Og                      26\niP7XWoa8wOeObF3rF4LxyA                      25\nYVIelrrudnhD6ExnVNNrHA                      24\n...                                        ...\nKx9EVbbk1_7CmUaK13wtvA                       0\nKwvUylNRfmChtXSbTNxy8g                       0\nKwbqv0-94sNsPEFlfAn4Qw                       0\nKwFv7p9V5_m3p-lCJmhpjQ                       0\nzzvN6Az0Xu_aWVzzn0fomw                       0\n\n[23908 rows x 1 columns]",
      "text/html": "<div>\n<style scoped>\n    .dataframe tbody tr th:only-of-type {\n        vertical-align: middle;\n    }\n\n    .dataframe tbody tr th {\n        vertical-align: top;\n    }\n\n    .dataframe thead th {\n        text-align: right;\n    }\n</style>\n<table border=\"1\" class=\"dataframe\">\n  <thead>\n    <tr style=\"text-align: right;\">\n      <th></th>\n      <th>has_fraudulent_dispute</th>\n    </tr>\n    <tr>\n      <th>ip_address</th>\n      <th></th>\n    </tr>\n  </thead>\n  <tbody>\n    <tr>\n      <th>nzKBxRDpQNoWtCGpb6KDBQ</th>\n      <td>32</td>\n    </tr>\n    <tr>\n      <th>3Cwu5_lVTmRIisW87oZm1A</th>\n      <td>32</td>\n    </tr>\n    <tr>\n      <th>yV7nl_JGU6rMLunl8kx8Og</th>\n      <td>26</td>\n    </tr>\n    <tr>\n      <th>iP7XWoa8wOeObF3rF4LxyA</th>\n      <td>25</td>\n    </tr>\n    <tr>\n      <th>YVIelrrudnhD6ExnVNNrHA</th>\n      <td>24</td>\n    </tr>\n    <tr>\n      <th>...</th>\n      <td>...</td>\n    </tr>\n    <tr>\n      <th>Kx9EVbbk1_7CmUaK13wtvA</th>\n      <td>0</td>\n    </tr>\n    <tr>\n      <th>KwvUylNRfmChtXSbTNxy8g</th>\n      <td>0</td>\n    </tr>\n    <tr>\n      <th>Kwbqv0-94sNsPEFlfAn4Qw</th>\n      <td>0</td>\n    </tr>\n    <tr>\n      <th>KwFv7p9V5_m3p-lCJmhpjQ</th>\n      <td>0</td>\n    </tr>\n    <tr>\n      <th>zzvN6Az0Xu_aWVzzn0fomw</th>\n      <td>0</td>\n    </tr>\n  </tbody>\n</table>\n<p>23908 rows × 1 columns</p>\n</div>"
     },
     "execution_count": 97,
     "metadata": {},
     "output_type": "execute_result"
    }
   ],
   "source": [
    "df[df['ip_address'].duplicated()][['ip_address','has_fraudulent_dispute']].groupby('ip_address').sum().sort_values(by=\"has_fraudulent_dispute\",ascending=False)"
   ],
   "metadata": {
    "collapsed": false,
    "pycharm": {
     "name": "#%%\n"
    }
   }
  },
  {
   "cell_type": "code",
   "execution_count": 134,
   "outputs": [
    {
     "data": {
      "text/plain": "                        eur_amount  has_fraudulent_dispute\nemail_address                                             \nn9iW182FS26i7RZ1ZQQsiA  109.177089                      52\nRYWijttPHGy-YCyhxFKc2g  113.197143                      34\nAsGDA0u3ReB45qkhf3rU5A   96.694821                      33\nTH99ne6aeXzcpAXZdIjKmA   96.205435                      31\ny6sow_WvxmjUzdbPiAaG7A   89.104915                      31\n...                            ...                     ...\nndisrzxdK5tWh8X3YvBEBw   19.380000                       1\nsjq_33Owj3xP55vsb-Wcbw  157.950000                       1\nVtDZPMdX59vKGpyHkLO9ZQ  104.193333                       1\nItIOmws_bwe46fJmaJ3_8A   24.880000                       1\nlebY-_NcwOkXhku-JDpgFg   72.280000                       1\n\n[1035 rows x 2 columns]",
      "text/html": "<div>\n<style scoped>\n    .dataframe tbody tr th:only-of-type {\n        vertical-align: middle;\n    }\n\n    .dataframe tbody tr th {\n        vertical-align: top;\n    }\n\n    .dataframe thead th {\n        text-align: right;\n    }\n</style>\n<table border=\"1\" class=\"dataframe\">\n  <thead>\n    <tr style=\"text-align: right;\">\n      <th></th>\n      <th>eur_amount</th>\n      <th>has_fraudulent_dispute</th>\n    </tr>\n    <tr>\n      <th>email_address</th>\n      <th></th>\n      <th></th>\n    </tr>\n  </thead>\n  <tbody>\n    <tr>\n      <th>n9iW182FS26i7RZ1ZQQsiA</th>\n      <td>109.177089</td>\n      <td>52</td>\n    </tr>\n    <tr>\n      <th>RYWijttPHGy-YCyhxFKc2g</th>\n      <td>113.197143</td>\n      <td>34</td>\n    </tr>\n    <tr>\n      <th>AsGDA0u3ReB45qkhf3rU5A</th>\n      <td>96.694821</td>\n      <td>33</td>\n    </tr>\n    <tr>\n      <th>TH99ne6aeXzcpAXZdIjKmA</th>\n      <td>96.205435</td>\n      <td>31</td>\n    </tr>\n    <tr>\n      <th>y6sow_WvxmjUzdbPiAaG7A</th>\n      <td>89.104915</td>\n      <td>31</td>\n    </tr>\n    <tr>\n      <th>...</th>\n      <td>...</td>\n      <td>...</td>\n    </tr>\n    <tr>\n      <th>ndisrzxdK5tWh8X3YvBEBw</th>\n      <td>19.380000</td>\n      <td>1</td>\n    </tr>\n    <tr>\n      <th>sjq_33Owj3xP55vsb-Wcbw</th>\n      <td>157.950000</td>\n      <td>1</td>\n    </tr>\n    <tr>\n      <th>VtDZPMdX59vKGpyHkLO9ZQ</th>\n      <td>104.193333</td>\n      <td>1</td>\n    </tr>\n    <tr>\n      <th>ItIOmws_bwe46fJmaJ3_8A</th>\n      <td>24.880000</td>\n      <td>1</td>\n    </tr>\n    <tr>\n      <th>lebY-_NcwOkXhku-JDpgFg</th>\n      <td>72.280000</td>\n      <td>1</td>\n    </tr>\n  </tbody>\n</table>\n<p>1035 rows × 2 columns</p>\n</div>"
     },
     "execution_count": 134,
     "metadata": {},
     "output_type": "execute_result"
    }
   ],
   "source": [
    "new_df = df[df['email_address'].duplicated()][['email_address','eur_amount','has_fraudulent_dispute']].groupby('email_address').agg({'eur_amount':'mean','has_fraudulent_dispute':'sum'}).sort_values(by=\"has_fraudulent_dispute\",ascending=False)\n",
    "new_df[new_df['has_fraudulent_dispute'] >= 1]"
   ],
   "metadata": {
    "collapsed": false,
    "pycharm": {
     "name": "#%%\n"
    }
   }
  },
  {
   "cell_type": "code",
   "execution_count": 135,
   "outputs": [
    {
     "data": {
      "text/plain": "                        has_fraudulent_dispute\ncard_number                                   \ngLZvKVK0zdRzRlhufrrZjQ                      49\ntILz9SCTB-jZcC3KBe1tgA                      38\nAJWnL6gryOz8O6hm1jsbxg                      35\n5YoeBI22nfwwEYpD8iI24Q                      35\nPM14M6gMRcjxYFG3F7vEaw                      32\n...                                        ...\n9MLrbEwRrcr79BnY0fTFGQ                       1\ndMBHTs8HcY3BeM7QN_houw                       1\nyOTREwh7NOytNXX2dZR6gQ                       1\nHDioMfTmoVLK7b3L_mNeqw                       1\nj6qSUfeUHMbCZEi_JhYy0A                       1\n\n[1039 rows x 1 columns]",
      "text/html": "<div>\n<style scoped>\n    .dataframe tbody tr th:only-of-type {\n        vertical-align: middle;\n    }\n\n    .dataframe tbody tr th {\n        vertical-align: top;\n    }\n\n    .dataframe thead th {\n        text-align: right;\n    }\n</style>\n<table border=\"1\" class=\"dataframe\">\n  <thead>\n    <tr style=\"text-align: right;\">\n      <th></th>\n      <th>has_fraudulent_dispute</th>\n    </tr>\n    <tr>\n      <th>card_number</th>\n      <th></th>\n    </tr>\n  </thead>\n  <tbody>\n    <tr>\n      <th>gLZvKVK0zdRzRlhufrrZjQ</th>\n      <td>49</td>\n    </tr>\n    <tr>\n      <th>tILz9SCTB-jZcC3KBe1tgA</th>\n      <td>38</td>\n    </tr>\n    <tr>\n      <th>AJWnL6gryOz8O6hm1jsbxg</th>\n      <td>35</td>\n    </tr>\n    <tr>\n      <th>5YoeBI22nfwwEYpD8iI24Q</th>\n      <td>35</td>\n    </tr>\n    <tr>\n      <th>PM14M6gMRcjxYFG3F7vEaw</th>\n      <td>32</td>\n    </tr>\n    <tr>\n      <th>...</th>\n      <td>...</td>\n    </tr>\n    <tr>\n      <th>9MLrbEwRrcr79BnY0fTFGQ</th>\n      <td>1</td>\n    </tr>\n    <tr>\n      <th>dMBHTs8HcY3BeM7QN_houw</th>\n      <td>1</td>\n    </tr>\n    <tr>\n      <th>yOTREwh7NOytNXX2dZR6gQ</th>\n      <td>1</td>\n    </tr>\n    <tr>\n      <th>HDioMfTmoVLK7b3L_mNeqw</th>\n      <td>1</td>\n    </tr>\n    <tr>\n      <th>j6qSUfeUHMbCZEi_JhYy0A</th>\n      <td>1</td>\n    </tr>\n  </tbody>\n</table>\n<p>1039 rows × 1 columns</p>\n</div>"
     },
     "execution_count": 135,
     "metadata": {},
     "output_type": "execute_result"
    }
   ],
   "source": [
    "new_df = df[df['card_number'].duplicated()][['card_number','has_fraudulent_dispute']].groupby('card_number').sum().sort_values(by=\"has_fraudulent_dispute\",ascending=False)\n",
    "new_df[new_df['has_fraudulent_dispute'] >= 1]"
   ],
   "metadata": {
    "collapsed": false,
    "pycharm": {
     "name": "#%%\n"
    }
   }
  },
  {
   "cell_type": "code",
   "execution_count": 106,
   "outputs": [
    {
     "data": {
      "text/plain": "Ecommerce    0.911046\nPOS          0.088954\nName: shopper_interaction, dtype: float64"
     },
     "execution_count": 106,
     "metadata": {},
     "output_type": "execute_result"
    }
   ],
   "source": [
    "df['shopper_interaction'].value_counts(normalize=True)"
   ],
   "metadata": {
    "collapsed": false,
    "pycharm": {
     "name": "#%%\n"
    }
   }
  },
  {
   "cell_type": "code",
   "execution_count": 108,
   "outputs": [
    {
     "data": {
      "text/plain": "2039    0.145840\nFFR     0.109227\nZB      0.108335\nFGDD    0.108179\n1104    0.090244\nBZD     0.070635\nBB      0.061918\nXDED    0.061762\n1093    0.037904\n3941    0.037684\nXOL     0.028858\nEB      0.028725\nDFFF    0.027958\nAAD     0.027825\nEGHA    0.027598\nDB      0.027309\nName: zip_code, dtype: float64"
     },
     "execution_count": 108,
     "metadata": {},
     "output_type": "execute_result"
    }
   ],
   "source": [
    "df['zip_code'].value_counts(normalize=True)"
   ],
   "metadata": {
    "collapsed": false,
    "pycharm": {
     "name": "#%%\n"
    }
   }
  },
  {
   "cell_type": "code",
   "execution_count": 109,
   "outputs": [
    {
     "data": {
      "text/plain": "4556    0.210662\n4916    0.158716\n4571    0.105479\n4645    0.053720\n4133    0.053338\n4802    0.052905\n4891    0.052747\n4532    0.052667\n4920    0.052667\n4526    0.052624\n4017    0.052314\n4236    0.051218\n4622    0.050944\nName: card_bin, dtype: float64"
     },
     "execution_count": 109,
     "metadata": {},
     "output_type": "execute_result"
    }
   ],
   "source": [
    "df['card_bin'].value_counts(normalize=True)"
   ],
   "metadata": {
    "collapsed": false,
    "pycharm": {
     "name": "#%%\n"
    }
   }
  }
 ],
 "metadata": {
  "kernelspec": {
   "display_name": "Python 3",
   "language": "python",
   "name": "python3"
  },
  "language_info": {
   "codemirror_mode": {
    "name": "ipython",
    "version": 2
   },
   "file_extension": ".py",
   "mimetype": "text/x-python",
   "name": "python",
   "nbconvert_exporter": "python",
   "pygments_lexer": "ipython2",
   "version": "2.7.6"
  }
 },
 "nbformat": 4,
 "nbformat_minor": 0
}