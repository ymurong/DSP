{
 "cells": [
  {
   "cell_type": "code",
   "execution_count": 230,
   "metadata": {
    "collapsed": true
   },
   "outputs": [
    {
     "name": "stdout",
     "output_type": "stream",
     "text": [
      "The autoreload extension is already loaded. To reload it, use:\n",
      "  %reload_ext autoreload\n"
     ]
    }
   ],
   "source": [
    "from sklearn.ensemble import RandomForestClassifier\n",
    "import pandas as pd\n",
    "from lib.sampling import subsampling\n",
    "import numpy as np\n",
    "from sklearn.model_selection import GridSearchCV\n",
    "from lib.mutation_util import date\n",
    "from sklearn import metrics\n",
    "%load_ext autoreload\n",
    "%autoreload"
   ]
  },
  {
   "cell_type": "markdown",
   "source": [
    "# Data Preparation (need balanced sample before classification)"
   ],
   "metadata": {
    "collapsed": false
   }
  },
  {
   "cell_type": "code",
   "execution_count": 231,
   "outputs": [],
   "source": [
    "start_date = \"2021-01-01\"\n",
    "end_date = \"2021-11-30\""
   ],
   "metadata": {
    "collapsed": false
   }
  },
  {
   "cell_type": "code",
   "execution_count": 232,
   "outputs": [
    {
     "data": {
      "text/plain": "(19438, 56)"
     },
     "execution_count": 232,
     "metadata": {},
     "output_type": "execute_result"
    }
   ],
   "source": [
    "df_features = pd.read_csv(f\"../feature-engineering/final_features_{end_date}.csv\")\n",
    "\n",
    "# Subsample non_fraudulent transactions records so we have balanced dataset\n",
    "df_fraudulent = df_features[df_features['has_fraudulent_dispute'] == True]\n",
    "df_non_fraudulent = df_features[df_features['has_fraudulent_dispute'] == False]\n",
    "subsample_index= subsampling(df_non_fraudulent.index, len(df_fraudulent))\n",
    "df_non_fraudulent_subsample  = df_non_fraudulent.loc[subsample_index,:]\n",
    "df_sample = pd.concat([df_non_fraudulent_subsample,df_fraudulent], axis=0)\n",
    "df_sample.shape"
   ],
   "metadata": {
    "collapsed": false
   }
  },
  {
   "cell_type": "code",
   "execution_count": 233,
   "outputs": [],
   "source": [
    "X = df_sample.drop([\"date\",\"psp_reference\",\"has_fraudulent_dispute\", \"is_refused_by_adyen\"], axis=1)\n",
    "y = df_sample[\"has_fraudulent_dispute\"]"
   ],
   "metadata": {
    "collapsed": false
   }
  },
  {
   "cell_type": "code",
   "execution_count": 234,
   "outputs": [
    {
     "data": {
      "text/plain": "False    9719\nTrue     9719\nName: has_fraudulent_dispute, dtype: int64"
     },
     "execution_count": 234,
     "metadata": {},
     "output_type": "execute_result"
    }
   ],
   "source": [
    "y.value_counts()"
   ],
   "metadata": {
    "collapsed": false
   }
  },
  {
   "cell_type": "markdown",
   "source": [
    "## Training (Tuning)"
   ],
   "metadata": {
    "collapsed": false
   }
  },
  {
   "cell_type": "code",
   "execution_count": 235,
   "outputs": [
    {
     "name": "stdout",
     "output_type": "stream",
     "text": [
      "<class 'pandas.core.frame.DataFrame'>\n",
      "Int64Index: 19438 entries, 86282 to 127004\n",
      "Data columns (total 52 columns):\n",
      " #   Column                   Non-Null Count  Dtype  \n",
      "---  ------                   --------------  -----  \n",
      " 0   is_credit                19438 non-null  bool   \n",
      " 1   no_ip                    19438 non-null  bool   \n",
      " 2   no_email                 19438 non-null  bool   \n",
      " 3   same_country             19438 non-null  bool   \n",
      " 4   merchant_Merchant B      19438 non-null  int64  \n",
      " 5   merchant_Merchant C      19438 non-null  int64  \n",
      " 6   merchant_Merchant D      19438 non-null  int64  \n",
      " 7   merchant_Merchant E      19438 non-null  int64  \n",
      " 8   card_scheme_MasterCard   19438 non-null  int64  \n",
      " 9   card_scheme_Other        19438 non-null  int64  \n",
      " 10  card_scheme_Visa         19438 non-null  int64  \n",
      " 11  ip_country_GR            19438 non-null  int64  \n",
      " 12  ip_country_IT            19438 non-null  int64  \n",
      " 13  ip_country_NL            19438 non-null  int64  \n",
      " 14  ip_country_ZW            19438 non-null  int64  \n",
      " 15  issuing_country_GR       19438 non-null  int64  \n",
      " 16  issuing_country_IT       19438 non-null  int64  \n",
      " 17  issuing_country_NL       19438 non-null  int64  \n",
      " 18  issuing_country_ZW       19438 non-null  int64  \n",
      " 19  device_type_Linux        19438 non-null  int64  \n",
      " 20  device_type_MacOS        19438 non-null  int64  \n",
      " 21  device_type_Other        19438 non-null  int64  \n",
      " 22  device_type_Windows      19438 non-null  int64  \n",
      " 23  device_type_iOS          19438 non-null  int64  \n",
      " 24  shopper_interaction_POS  19438 non-null  int64  \n",
      " 25  zip_code_1104            19438 non-null  int64  \n",
      " 26  zip_code_2039            19438 non-null  int64  \n",
      " 27  zip_code_3941            19438 non-null  int64  \n",
      " 28  zip_code_AAD             19438 non-null  int64  \n",
      " 29  zip_code_BB              19438 non-null  int64  \n",
      " 30  zip_code_BZD             19438 non-null  int64  \n",
      " 31  zip_code_DB              19438 non-null  int64  \n",
      " 32  zip_code_DFFF            19438 non-null  int64  \n",
      " 33  zip_code_EB              19438 non-null  int64  \n",
      " 34  zip_code_EGHA            19438 non-null  int64  \n",
      " 35  zip_code_FFR             19438 non-null  int64  \n",
      " 36  zip_code_FGDD            19438 non-null  int64  \n",
      " 37  zip_code_XDED            19438 non-null  int64  \n",
      " 38  zip_code_XOL             19438 non-null  int64  \n",
      " 39  zip_code_ZB              19438 non-null  int64  \n",
      " 40  ip_node_degree           19438 non-null  float64\n",
      " 41  ip_eigen_centrality      19438 non-null  float64\n",
      " 42  ip_page_rank             19438 non-null  float64\n",
      " 43  email_node_degree        19438 non-null  float64\n",
      " 44  email_eigen_centrality   19438 non-null  float64\n",
      " 45  email_page_rank          19438 non-null  float64\n",
      " 46  card_node_degree         19438 non-null  float64\n",
      " 47  card_eigen_centrality    19438 non-null  float64\n",
      " 48  card_page_rank           19438 non-null  float64\n",
      " 49  ip_address_woe           19438 non-null  float64\n",
      " 50  email_address_woe        19438 non-null  float64\n",
      " 51  card_number_woe          19438 non-null  float64\n",
      "dtypes: bool(4), float64(12), int64(36)\n",
      "memory usage: 7.3 MB\n"
     ]
    }
   ],
   "source": [
    "X.info()"
   ],
   "metadata": {
    "collapsed": false
   }
  },
  {
   "cell_type": "code",
   "execution_count": 291,
   "outputs": [
    {
     "name": "stdout",
     "output_type": "stream",
     "text": [
      "oob_score_: 0.6465171313921185\n",
      "AUC Score (Train): 0.6465171313921185\n"
     ]
    }
   ],
   "source": [
    "# only is_credit feature\n",
    "X_subset = X.loc(axis=1)[[\"is_credit\"]]\n",
    "rf0 = RandomForestClassifier(oob_score=True, random_state=10)\n",
    "rf0.fit(X_subset,y)\n",
    "print(f\"oob_score_: {rf0.oob_score_}\")\n",
    "y_predprob = rf0.predict_proba(X_subset)[:,1]\n",
    "print(f\"AUC Score (Train): {metrics.roc_auc_score(y, y_predprob)}\")"
   ],
   "metadata": {
    "collapsed": false
   }
  },
  {
   "cell_type": "code",
   "execution_count": 237,
   "outputs": [
    {
     "name": "stdout",
     "output_type": "stream",
     "text": [
      "oob_score_: 0.7346434818396954\n",
      "AUC Score (Train): 0.9444194923973386\n"
     ]
    }
   ],
   "source": [
    "# all features without woe and graph features\n",
    "X_subset = X.loc(axis=1)[\"is_credit\":\"zip_code_ZB\"]\n",
    "X_subset\n",
    "rf0 = RandomForestClassifier(oob_score=True, random_state=10)\n",
    "rf0.fit(X_subset,y)\n",
    "print(f\"oob_score_: {rf0.oob_score_}\")\n",
    "y_predprob = rf0.predict_proba(X_subset)[:,1]\n",
    "print(f\"AUC Score (Train): {metrics.roc_auc_score(y, y_predprob)}\")"
   ],
   "metadata": {
    "collapsed": false
   }
  },
  {
   "cell_type": "code",
   "execution_count": 238,
   "outputs": [
    {
     "name": "stdout",
     "output_type": "stream",
     "text": [
      "oob_score_: 0.8329046198168536\n",
      "AUC Score (Train): 0.9315381681998387\n"
     ]
    }
   ],
   "source": [
    "# only is_credit, woe feature\n",
    "X_subset = X.loc(axis=1)[[\"is_credit\",\"ip_address_woe\"]]\n",
    "rf0 = RandomForestClassifier(oob_score=True, random_state=10)\n",
    "rf0.fit(X_subset,y)\n",
    "print(f\"oob_score_: {rf0.oob_score_}\")\n",
    "y_predprob = rf0.predict_proba(X_subset)[:,1]\n",
    "print(f\"AUC Score (Train): {metrics.roc_auc_score(y, y_predprob)}\")"
   ],
   "metadata": {
    "collapsed": false
   }
  },
  {
   "cell_type": "code",
   "execution_count": 279,
   "outputs": [
    {
     "name": "stdout",
     "output_type": "stream",
     "text": [
      "oob_score_: 0.965325650787118\n",
      "AUC Score (Train): 0.9965906040402033\n"
     ]
    }
   ],
   "source": [
    "# only credit+woe\n",
    "X_subset = X.loc(axis=1)[[\"is_credit\",\"ip_address_woe\", \"email_address_woe\", \"card_number_woe\"]]\n",
    "rf0 = RandomForestClassifier(oob_score=True, random_state=10)\n",
    "rf0.fit(X_subset,y)\n",
    "print(f\"oob_score_: {rf0.oob_score_}\")\n",
    "y_predprob = rf0.predict_proba(X_subset)[:,1]\n",
    "print(f\"AUC Score (Train): {metrics.roc_auc_score(y, y_predprob)}\")"
   ],
   "metadata": {
    "collapsed": false
   }
  },
  {
   "cell_type": "code",
   "execution_count": 240,
   "outputs": [
    {
     "name": "stdout",
     "output_type": "stream",
     "text": [
      "oob_score_: 0.8620228418561581\n",
      "AUC Score (Train): 0.9532777573109237\n"
     ]
    }
   ],
   "source": [
    "# only graph\n",
    "X_subset = X.loc(axis=1)[\"ip_node_degree\":\"card_page_rank\"]\n",
    "rf0 = RandomForestClassifier(oob_score=True, random_state=10)\n",
    "rf0.fit(X_subset,y)\n",
    "print(f\"oob_score_: {rf0.oob_score_}\")\n",
    "y_predprob = rf0.predict_proba(X_subset)[:,1]\n",
    "print(f\"AUC Score (Train): {metrics.roc_auc_score(y, y_predprob)}\")"
   ],
   "metadata": {
    "collapsed": false
   }
  },
  {
   "cell_type": "code",
   "execution_count": 241,
   "outputs": [
    {
     "name": "stdout",
     "output_type": "stream",
     "text": [
      "oob_score_: 0.8781767671571149\n",
      "AUC Score (Train): 0.9667844906742094\n"
     ]
    }
   ],
   "source": [
    "# is_credit + graph\n",
    "X_subset = pd.concat([X.loc(axis=1)[\"ip_node_degree\":\"card_page_rank\"],X.loc(axis=1)[[\"is_credit\"]]], axis=1)\n",
    "rf0 = RandomForestClassifier(oob_score=True, random_state=10)\n",
    "rf0.fit(X_subset,y)\n",
    "print(f\"oob_score_: {rf0.oob_score_}\")\n",
    "y_predprob = rf0.predict_proba(X_subset)[:,1]\n",
    "print(f\"AUC Score (Train): {metrics.roc_auc_score(y, y_predprob)}\")"
   ],
   "metadata": {
    "collapsed": false
   }
  },
  {
   "cell_type": "code",
   "execution_count": 266,
   "outputs": [
    {
     "name": "stdout",
     "output_type": "stream",
     "text": [
      "oob_score_: 0.9651198682992077\n",
      "AUC Score (Train): 0.9971551084496896\n",
      "<class 'pandas.core.frame.DataFrame'>\n",
      "Int64Index: 19438 entries, 86282 to 127004\n",
      "Data columns (total 13 columns):\n",
      " #   Column                  Non-Null Count  Dtype  \n",
      "---  ------                  --------------  -----  \n",
      " 0   ip_node_degree          19438 non-null  float64\n",
      " 1   ip_eigen_centrality     19438 non-null  float64\n",
      " 2   ip_page_rank            19438 non-null  float64\n",
      " 3   email_node_degree       19438 non-null  float64\n",
      " 4   email_eigen_centrality  19438 non-null  float64\n",
      " 5   email_page_rank         19438 non-null  float64\n",
      " 6   card_node_degree        19438 non-null  float64\n",
      " 7   card_eigen_centrality   19438 non-null  float64\n",
      " 8   card_page_rank          19438 non-null  float64\n",
      " 9   is_credit               19438 non-null  bool   \n",
      " 10  ip_address_woe          19438 non-null  float64\n",
      " 11  email_address_woe       19438 non-null  float64\n",
      " 12  card_number_woe         19438 non-null  float64\n",
      "dtypes: bool(1), float64(12)\n",
      "memory usage: 1.9 MB\n"
     ]
    }
   ],
   "source": [
    "# is_credit + graph + woe\n",
    "X_subset = pd.concat([X.loc(axis=1)[\"ip_node_degree\":\"card_page_rank\"], X.loc(axis=1)[[\"is_credit\"]], X.loc(axis=1)[\"ip_address_woe\":\"card_number_woe\"]], axis=1)\n",
    "rf0 = RandomForestClassifier(oob_score=True, random_state=10)\n",
    "rf0.fit(X_subset,y)\n",
    "print(f\"oob_score_: {rf0.oob_score_}\")\n",
    "y_predprob = rf0.predict_proba(X_subset)[:,1]\n",
    "print(f\"AUC Score (Train): {metrics.roc_auc_score(y, y_predprob)}\")\n",
    "X_subset.info()"
   ],
   "metadata": {
    "collapsed": false
   }
  },
  {
   "cell_type": "markdown",
   "source": [
    "## Testing"
   ],
   "metadata": {
    "collapsed": false
   }
  },
  {
   "cell_type": "code",
   "execution_count": 243,
   "outputs": [],
   "source": [
    "test_start_date = \"2021-12-01\"\n",
    "test_end_date = \"2021-12-31\""
   ],
   "metadata": {
    "collapsed": false
   }
  },
  {
   "cell_type": "code",
   "execution_count": 244,
   "outputs": [],
   "source": [
    "df_ori = pd.read_csv(f\"../adyen-dataset.csv\")\n",
    "df_ori[\"date\"] = df_ori.apply(date, axis=1)\n",
    "df_ori[\"date\"] = pd.to_datetime(df_ori[\"date\"])\n",
    "df_ori.set_index('date', inplace=True)\n",
    "df_ts = df_ori.sort_index()\n",
    "df_test_ts = df_ts.loc[test_start_date:test_end_date]"
   ],
   "metadata": {
    "collapsed": false
   }
  },
  {
   "cell_type": "code",
   "execution_count": 245,
   "outputs": [
    {
     "data": {
      "text/plain": "       is_credit              ip_address           email_address  \\\n0          False  cqHg4ONJtOBwqNNSjawwVg  vpCrxKV4Rb4hHYZ_xUQrnA   \n1           True  I4zf2g3Z4BdSVbOtXDmw7g  YKy04vP5R13SJl5ydrfr3w   \n2           True  M3g-untYinyAQiAIXKGNSw  f-37afIGJJkYJHQXM_HKMg   \n3           True  KT8qTQ6tiACsTKJsyxvPIg  36VSxpSABRjj43cfP6lwjw   \n4           True  wpnDR446pjLAUoNYueB-yg  5MO1Y0cW3sRJ56IbZCwOIQ   \n...          ...                     ...                     ...   \n11646       True  NUZxGz6wWtW1enn19ghi4g  D5nXKSWwpD40xABXiW5drg   \n11647      False  -0zsia1FtEIuWYt71pLrKw                     NaN   \n11648       True  sDicZTCFj6lP8AiV6WFC7g  NJPPoAQt0eoYvDtBIf5tHQ   \n11649       True  hAKt2EU3vmjrGOT6ueNsdw  3zRwZ-rq1GTbTuPpE9mwXw   \n11650      False  nrHkou9mx6FQP77ei3CQ-Q  2GXofd06OoL1Pbql021Ifw   \n\n                  card_number  has_fraudulent_dispute  \n0      92TKnNIoPTXgok35txpjyg                   False  \n1      iWwHGPT5vcubXqewt6QmFQ                   False  \n2      HDPyxyvo2Lqebm-qusJqOQ                   False  \n3      gbsYb_MOBHH6FXa_a7c7og                   False  \n4      s0sj9IsbO7VMzyIsRBBZOA                   False  \n...                       ...                     ...  \n11646  2XeZsqgafyXVZrQNZpC7Kw                   False  \n11647  leow_iHIe06J6n5YLGOgyQ                   False  \n11648  Gd03xMeOIMabaEfpvqR1wA                   False  \n11649  h_1om9k6GCO7nv5NeoDgfQ                   False  \n11650  QPqgQiC4PXDYhxI3agKVkw                   False  \n\n[11651 rows x 5 columns]",
      "text/html": "<div>\n<style scoped>\n    .dataframe tbody tr th:only-of-type {\n        vertical-align: middle;\n    }\n\n    .dataframe tbody tr th {\n        vertical-align: top;\n    }\n\n    .dataframe thead th {\n        text-align: right;\n    }\n</style>\n<table border=\"1\" class=\"dataframe\">\n  <thead>\n    <tr style=\"text-align: right;\">\n      <th></th>\n      <th>is_credit</th>\n      <th>ip_address</th>\n      <th>email_address</th>\n      <th>card_number</th>\n      <th>has_fraudulent_dispute</th>\n    </tr>\n  </thead>\n  <tbody>\n    <tr>\n      <th>0</th>\n      <td>False</td>\n      <td>cqHg4ONJtOBwqNNSjawwVg</td>\n      <td>vpCrxKV4Rb4hHYZ_xUQrnA</td>\n      <td>92TKnNIoPTXgok35txpjyg</td>\n      <td>False</td>\n    </tr>\n    <tr>\n      <th>1</th>\n      <td>True</td>\n      <td>I4zf2g3Z4BdSVbOtXDmw7g</td>\n      <td>YKy04vP5R13SJl5ydrfr3w</td>\n      <td>iWwHGPT5vcubXqewt6QmFQ</td>\n      <td>False</td>\n    </tr>\n    <tr>\n      <th>2</th>\n      <td>True</td>\n      <td>M3g-untYinyAQiAIXKGNSw</td>\n      <td>f-37afIGJJkYJHQXM_HKMg</td>\n      <td>HDPyxyvo2Lqebm-qusJqOQ</td>\n      <td>False</td>\n    </tr>\n    <tr>\n      <th>3</th>\n      <td>True</td>\n      <td>KT8qTQ6tiACsTKJsyxvPIg</td>\n      <td>36VSxpSABRjj43cfP6lwjw</td>\n      <td>gbsYb_MOBHH6FXa_a7c7og</td>\n      <td>False</td>\n    </tr>\n    <tr>\n      <th>4</th>\n      <td>True</td>\n      <td>wpnDR446pjLAUoNYueB-yg</td>\n      <td>5MO1Y0cW3sRJ56IbZCwOIQ</td>\n      <td>s0sj9IsbO7VMzyIsRBBZOA</td>\n      <td>False</td>\n    </tr>\n    <tr>\n      <th>...</th>\n      <td>...</td>\n      <td>...</td>\n      <td>...</td>\n      <td>...</td>\n      <td>...</td>\n    </tr>\n    <tr>\n      <th>11646</th>\n      <td>True</td>\n      <td>NUZxGz6wWtW1enn19ghi4g</td>\n      <td>D5nXKSWwpD40xABXiW5drg</td>\n      <td>2XeZsqgafyXVZrQNZpC7Kw</td>\n      <td>False</td>\n    </tr>\n    <tr>\n      <th>11647</th>\n      <td>False</td>\n      <td>-0zsia1FtEIuWYt71pLrKw</td>\n      <td>NaN</td>\n      <td>leow_iHIe06J6n5YLGOgyQ</td>\n      <td>False</td>\n    </tr>\n    <tr>\n      <th>11648</th>\n      <td>True</td>\n      <td>sDicZTCFj6lP8AiV6WFC7g</td>\n      <td>NJPPoAQt0eoYvDtBIf5tHQ</td>\n      <td>Gd03xMeOIMabaEfpvqR1wA</td>\n      <td>False</td>\n    </tr>\n    <tr>\n      <th>11649</th>\n      <td>True</td>\n      <td>hAKt2EU3vmjrGOT6ueNsdw</td>\n      <td>3zRwZ-rq1GTbTuPpE9mwXw</td>\n      <td>h_1om9k6GCO7nv5NeoDgfQ</td>\n      <td>False</td>\n    </tr>\n    <tr>\n      <th>11650</th>\n      <td>False</td>\n      <td>nrHkou9mx6FQP77ei3CQ-Q</td>\n      <td>2GXofd06OoL1Pbql021Ifw</td>\n      <td>QPqgQiC4PXDYhxI3agKVkw</td>\n      <td>False</td>\n    </tr>\n  </tbody>\n</table>\n<p>11651 rows × 5 columns</p>\n</div>"
     },
     "execution_count": 245,
     "metadata": {},
     "output_type": "execute_result"
    }
   ],
   "source": [
    "df_test_ts = df_test_ts.loc(axis=1)[\"is_credit\", \"ip_address\", \"email_address\", \"card_number\", \"has_fraudulent_dispute\"]\n",
    "df_test = df_test_ts.reset_index(drop=True)\n",
    "df_test"
   ],
   "metadata": {
    "collapsed": false
   }
  },
  {
   "cell_type": "code",
   "execution_count": 246,
   "outputs": [],
   "source": [
    "df_graph_features_lookup_table = pd.read_csv(f\"../feature-engineering/graph_features_lookup_table_{end_date}.csv\")"
   ],
   "metadata": {
    "collapsed": false
   }
  },
  {
   "cell_type": "code",
   "execution_count": 247,
   "outputs": [],
   "source": [
    "def append_graph_features(node_type_name, df, graph_feature_lookup_table):\n",
    "    def append_graph_features_by_row(row):\n",
    "        node_key = row[node_type_name]\n",
    "        prefix = node_type_name.split('_')[0]\n",
    "        try:\n",
    "            row[f\"{prefix}_node_degree\"] = graph_feature_lookup_table[graph_feature_lookup_table[\"Node\"] == node_key][\"DEGREE\"].iloc[0]\n",
    "            row[f\"{prefix}_eigen_centrality\"] = graph_feature_lookup_table[graph_feature_lookup_table[\"Node\"] == node_key][\"EIGENVECTOR_CENTRALITY\"].iloc[0]\n",
    "            row[f\"{prefix}_page_rank\"] = graph_feature_lookup_table[graph_feature_lookup_table[\"Node\"] == node_key][\"PAGE_RANK\"].iloc[0]\n",
    "        except IndexError as e:\n",
    "            row[f\"{prefix}_node_degree\"] = 2\n",
    "            row[f\"{prefix}_eigen_centrality\"] = 0.33\n",
    "            row[f\"{prefix}_page_rank\"] = 0.57\n",
    "        return row\n",
    "    df = df.apply(append_graph_features_by_row, axis=1)\n",
    "    return df"
   ],
   "metadata": {
    "collapsed": false
   }
  },
  {
   "cell_type": "code",
   "execution_count": 248,
   "outputs": [],
   "source": [
    "df_test = append_graph_features(\"ip_address\",df_test, df_graph_features_lookup_table)\n",
    "df_test = append_graph_features(\"email_address\",df_test, df_graph_features_lookup_table)\n",
    "df_test = append_graph_features(\"card_number\",df_test, df_graph_features_lookup_table)"
   ],
   "metadata": {
    "collapsed": false
   }
  },
  {
   "cell_type": "code",
   "execution_count": 249,
   "outputs": [],
   "source": [
    "df_woe_features = pd.read_csv(f\"../feature-engineering/woe_features_{end_date}.csv\")"
   ],
   "metadata": {
    "collapsed": false
   }
  },
  {
   "cell_type": "code",
   "execution_count": 250,
   "outputs": [],
   "source": [
    "def append_woe_features(col_name, df, woe_features):\n",
    "    def append_woe_features_by_row(row):\n",
    "        node_key = row[col_name]\n",
    "        try:\n",
    "            row[f\"{col_name}_woe\"] = woe_features[woe_features[col_name] == node_key][f\"{col_name}_woe\"].iloc[0]\n",
    "        except IndexError as e:\n",
    "            row[f\"{col_name}_woe\"] = 0.0\n",
    "        return row\n",
    "    df = df.apply(append_woe_features_by_row, axis=1)\n",
    "    return df"
   ],
   "metadata": {
    "collapsed": false
   }
  },
  {
   "cell_type": "code",
   "execution_count": 251,
   "outputs": [],
   "source": [
    "df_test = append_woe_features(\"ip_address\",df_test,df_woe_features)\n",
    "df_test = append_woe_features(\"email_address\",df_test,df_woe_features)\n",
    "df_test = append_woe_features(\"card_number\",df_test,df_woe_features)"
   ],
   "metadata": {
    "collapsed": false
   }
  },
  {
   "cell_type": "code",
   "execution_count": 259,
   "outputs": [],
   "source": [
    "X_test = pd.concat([df_test[[\"is_credit\"]], df_test.loc(axis=1)[\"ip_node_degree\":\"card_number_woe\"]], axis=1)\n",
    "y_test = df_test[\"has_fraudulent_dispute\"]"
   ],
   "metadata": {
    "collapsed": false
   }
  },
  {
   "cell_type": "code",
   "execution_count": 292,
   "outputs": [
    {
     "data": {
      "text/plain": "       is_credit\n0          False\n1           True\n2           True\n3           True\n4           True\n...          ...\n11646       True\n11647      False\n11648       True\n11649       True\n11650      False\n\n[11651 rows x 1 columns]",
      "text/html": "<div>\n<style scoped>\n    .dataframe tbody tr th:only-of-type {\n        vertical-align: middle;\n    }\n\n    .dataframe tbody tr th {\n        vertical-align: top;\n    }\n\n    .dataframe thead th {\n        text-align: right;\n    }\n</style>\n<table border=\"1\" class=\"dataframe\">\n  <thead>\n    <tr style=\"text-align: right;\">\n      <th></th>\n      <th>is_credit</th>\n    </tr>\n  </thead>\n  <tbody>\n    <tr>\n      <th>0</th>\n      <td>False</td>\n    </tr>\n    <tr>\n      <th>1</th>\n      <td>True</td>\n    </tr>\n    <tr>\n      <th>2</th>\n      <td>True</td>\n    </tr>\n    <tr>\n      <th>3</th>\n      <td>True</td>\n    </tr>\n    <tr>\n      <th>4</th>\n      <td>True</td>\n    </tr>\n    <tr>\n      <th>...</th>\n      <td>...</td>\n    </tr>\n    <tr>\n      <th>11646</th>\n      <td>True</td>\n    </tr>\n    <tr>\n      <th>11647</th>\n      <td>False</td>\n    </tr>\n    <tr>\n      <th>11648</th>\n      <td>True</td>\n    </tr>\n    <tr>\n      <th>11649</th>\n      <td>True</td>\n    </tr>\n    <tr>\n      <th>11650</th>\n      <td>False</td>\n    </tr>\n  </tbody>\n</table>\n<p>11651 rows × 1 columns</p>\n</div>"
     },
     "execution_count": 292,
     "metadata": {},
     "output_type": "execute_result"
    }
   ],
   "source": [
    "X_test = X_test[X_subset.columns]\n",
    "X_test"
   ],
   "metadata": {
    "collapsed": false
   }
  },
  {
   "cell_type": "code",
   "execution_count": 293,
   "outputs": [],
   "source": [
    "y_predict = rf0.predict(X_test)"
   ],
   "metadata": {
    "collapsed": false
   }
  },
  {
   "cell_type": "code",
   "execution_count": 300,
   "outputs": [],
   "source": [
    "from sklearn.metrics import confusion_matrix,precision_score,recall_score,f1_score, accuracy_score"
   ],
   "metadata": {
    "collapsed": false
   }
  },
  {
   "cell_type": "code",
   "execution_count": 295,
   "outputs": [
    {
     "data": {
      "text/plain": "array([[3057, 7597],\n       [   0,  997]])"
     },
     "execution_count": 295,
     "metadata": {},
     "output_type": "execute_result"
    }
   ],
   "source": [
    "confusion_matrix(y_test, y_predict)"
   ],
   "metadata": {
    "collapsed": false
   }
  },
  {
   "cell_type": "code",
   "execution_count": 301,
   "outputs": [
    {
     "data": {
      "text/plain": "0.34795296541069437"
     },
     "execution_count": 301,
     "metadata": {},
     "output_type": "execute_result"
    }
   ],
   "source": [
    "accuracy_score(y_test, y_predict)"
   ],
   "metadata": {
    "collapsed": false
   }
  },
  {
   "cell_type": "code",
   "execution_count": 296,
   "outputs": [
    {
     "data": {
      "text/plain": "0.11601117058412846"
     },
     "execution_count": 296,
     "metadata": {},
     "output_type": "execute_result"
    }
   ],
   "source": [
    "precision_score(y_test, y_predict)"
   ],
   "metadata": {
    "collapsed": false
   }
  },
  {
   "cell_type": "code",
   "execution_count": 297,
   "outputs": [
    {
     "data": {
      "text/plain": "1.0"
     },
     "execution_count": 297,
     "metadata": {},
     "output_type": "execute_result"
    }
   ],
   "source": [
    "recall_score(y_test, y_predict)"
   ],
   "metadata": {
    "collapsed": false
   }
  },
  {
   "cell_type": "code",
   "execution_count": 298,
   "outputs": [
    {
     "data": {
      "text/plain": "0.20790324262329268"
     },
     "execution_count": 298,
     "metadata": {},
     "output_type": "execute_result"
    }
   ],
   "source": [
    "f1_score(y_test, y_predict)"
   ],
   "metadata": {
    "collapsed": false
   }
  },
  {
   "cell_type": "code",
   "execution_count": null,
   "outputs": [],
   "source": [],
   "metadata": {
    "collapsed": false
   }
  }
 ],
 "metadata": {
  "kernelspec": {
   "display_name": "Python 3",
   "language": "python",
   "name": "python3"
  },
  "language_info": {
   "codemirror_mode": {
    "name": "ipython",
    "version": 2
   },
   "file_extension": ".py",
   "mimetype": "text/x-python",
   "name": "python",
   "nbconvert_exporter": "python",
   "pygments_lexer": "ipython2",
   "version": "2.7.6"
  }
 },
 "nbformat": 4,
 "nbformat_minor": 0
}
