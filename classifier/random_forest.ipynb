{
 "cells": [
  {
   "cell_type": "code",
   "execution_count": 325,
   "metadata": {
    "collapsed": true
   },
   "outputs": [
    {
     "name": "stdout",
     "output_type": "stream",
     "text": [
      "The autoreload extension is already loaded. To reload it, use:\n",
      "  %reload_ext autoreload\n"
     ]
    }
   ],
   "source": [
    "from sklearn.ensemble import RandomForestClassifier\n",
    "import pandas as pd\n",
    "from lib.sampling import subsampling\n",
    "import numpy as np\n",
    "from sklearn.model_selection import GridSearchCV\n",
    "from lib.mutation_util import date\n",
    "from sklearn import metrics\n",
    "%load_ext autoreload\n",
    "%autoreload"
   ]
  },
  {
   "cell_type": "markdown",
   "source": [
    "# Data Preparation (need balanced sample before classification)"
   ],
   "metadata": {
    "collapsed": false
   }
  },
  {
   "cell_type": "code",
   "execution_count": 231,
   "outputs": [],
   "source": [
    "start_date = \"2021-01-01\"\n",
    "end_date = \"2021-11-30\""
   ],
   "metadata": {
    "collapsed": false
   }
  },
  {
   "cell_type": "code",
   "execution_count": 232,
   "outputs": [
    {
     "data": {
      "text/plain": "(19438, 56)"
     },
     "execution_count": 232,
     "metadata": {},
     "output_type": "execute_result"
    }
   ],
   "source": [
    "df_features = pd.read_csv(f\"../feature-engineering/final_features_{end_date}.csv\")\n",
    "\n",
    "# Subsample non_fraudulent transactions records so we have balanced dataset\n",
    "df_fraudulent = df_features[df_features['has_fraudulent_dispute'] == True]\n",
    "df_non_fraudulent = df_features[df_features['has_fraudulent_dispute'] == False]\n",
    "subsample_index= subsampling(df_non_fraudulent.index, len(df_fraudulent))\n",
    "df_non_fraudulent_subsample  = df_non_fraudulent.loc[subsample_index,:]\n",
    "df_sample = pd.concat([df_non_fraudulent_subsample,df_fraudulent], axis=0)\n",
    "df_sample.shape"
   ],
   "metadata": {
    "collapsed": false
   }
  },
  {
   "cell_type": "code",
   "execution_count": 233,
   "outputs": [],
   "source": [
    "X = df_sample.drop([\"date\",\"psp_reference\",\"has_fraudulent_dispute\", \"is_refused_by_adyen\"], axis=1)\n",
    "y = df_sample[\"has_fraudulent_dispute\"]"
   ],
   "metadata": {
    "collapsed": false
   }
  },
  {
   "cell_type": "code",
   "execution_count": 234,
   "outputs": [
    {
     "data": {
      "text/plain": "False    9719\nTrue     9719\nName: has_fraudulent_dispute, dtype: int64"
     },
     "execution_count": 234,
     "metadata": {},
     "output_type": "execute_result"
    }
   ],
   "source": [
    "y.value_counts()"
   ],
   "metadata": {
    "collapsed": false
   }
  },
  {
   "cell_type": "markdown",
   "source": [
    "## Training (Tuning)"
   ],
   "metadata": {
    "collapsed": false
   }
  },
  {
   "cell_type": "code",
   "execution_count": 235,
   "outputs": [
    {
     "name": "stdout",
     "output_type": "stream",
     "text": [
      "<class 'pandas.core.frame.DataFrame'>\n",
      "Int64Index: 19438 entries, 86282 to 127004\n",
      "Data columns (total 52 columns):\n",
      " #   Column                   Non-Null Count  Dtype  \n",
      "---  ------                   --------------  -----  \n",
      " 0   is_credit                19438 non-null  bool   \n",
      " 1   no_ip                    19438 non-null  bool   \n",
      " 2   no_email                 19438 non-null  bool   \n",
      " 3   same_country             19438 non-null  bool   \n",
      " 4   merchant_Merchant B      19438 non-null  int64  \n",
      " 5   merchant_Merchant C      19438 non-null  int64  \n",
      " 6   merchant_Merchant D      19438 non-null  int64  \n",
      " 7   merchant_Merchant E      19438 non-null  int64  \n",
      " 8   card_scheme_MasterCard   19438 non-null  int64  \n",
      " 9   card_scheme_Other        19438 non-null  int64  \n",
      " 10  card_scheme_Visa         19438 non-null  int64  \n",
      " 11  ip_country_GR            19438 non-null  int64  \n",
      " 12  ip_country_IT            19438 non-null  int64  \n",
      " 13  ip_country_NL            19438 non-null  int64  \n",
      " 14  ip_country_ZW            19438 non-null  int64  \n",
      " 15  issuing_country_GR       19438 non-null  int64  \n",
      " 16  issuing_country_IT       19438 non-null  int64  \n",
      " 17  issuing_country_NL       19438 non-null  int64  \n",
      " 18  issuing_country_ZW       19438 non-null  int64  \n",
      " 19  device_type_Linux        19438 non-null  int64  \n",
      " 20  device_type_MacOS        19438 non-null  int64  \n",
      " 21  device_type_Other        19438 non-null  int64  \n",
      " 22  device_type_Windows      19438 non-null  int64  \n",
      " 23  device_type_iOS          19438 non-null  int64  \n",
      " 24  shopper_interaction_POS  19438 non-null  int64  \n",
      " 25  zip_code_1104            19438 non-null  int64  \n",
      " 26  zip_code_2039            19438 non-null  int64  \n",
      " 27  zip_code_3941            19438 non-null  int64  \n",
      " 28  zip_code_AAD             19438 non-null  int64  \n",
      " 29  zip_code_BB              19438 non-null  int64  \n",
      " 30  zip_code_BZD             19438 non-null  int64  \n",
      " 31  zip_code_DB              19438 non-null  int64  \n",
      " 32  zip_code_DFFF            19438 non-null  int64  \n",
      " 33  zip_code_EB              19438 non-null  int64  \n",
      " 34  zip_code_EGHA            19438 non-null  int64  \n",
      " 35  zip_code_FFR             19438 non-null  int64  \n",
      " 36  zip_code_FGDD            19438 non-null  int64  \n",
      " 37  zip_code_XDED            19438 non-null  int64  \n",
      " 38  zip_code_XOL             19438 non-null  int64  \n",
      " 39  zip_code_ZB              19438 non-null  int64  \n",
      " 40  ip_node_degree           19438 non-null  float64\n",
      " 41  ip_eigen_centrality      19438 non-null  float64\n",
      " 42  ip_page_rank             19438 non-null  float64\n",
      " 43  email_node_degree        19438 non-null  float64\n",
      " 44  email_eigen_centrality   19438 non-null  float64\n",
      " 45  email_page_rank          19438 non-null  float64\n",
      " 46  card_node_degree         19438 non-null  float64\n",
      " 47  card_eigen_centrality    19438 non-null  float64\n",
      " 48  card_page_rank           19438 non-null  float64\n",
      " 49  ip_address_woe           19438 non-null  float64\n",
      " 50  email_address_woe        19438 non-null  float64\n",
      " 51  card_number_woe          19438 non-null  float64\n",
      "dtypes: bool(4), float64(12), int64(36)\n",
      "memory usage: 7.3 MB\n"
     ]
    }
   ],
   "source": [
    "X.info()"
   ],
   "metadata": {
    "collapsed": false
   }
  },
  {
   "cell_type": "code",
   "execution_count": 291,
   "outputs": [
    {
     "name": "stdout",
     "output_type": "stream",
     "text": [
      "oob_score_: 0.6465171313921185\n",
      "AUC Score (Train): 0.6465171313921185\n"
     ]
    }
   ],
   "source": [
    "# only is_credit feature\n",
    "X_subset = X.loc(axis=1)[[\"is_credit\"]]\n",
    "rf0 = RandomForestClassifier(oob_score=True, random_state=10)\n",
    "rf0.fit(X_subset,y)\n",
    "print(f\"oob_score_: {rf0.oob_score_}\")\n",
    "y_predprob = rf0.predict_proba(X_subset)[:,1]\n",
    "print(f\"AUC Score (Train): {metrics.roc_auc_score(y, y_predprob)}\")"
   ],
   "metadata": {
    "collapsed": false
   }
  },
  {
   "cell_type": "code",
   "execution_count": 237,
   "outputs": [
    {
     "name": "stdout",
     "output_type": "stream",
     "text": [
      "oob_score_: 0.7346434818396954\n",
      "AUC Score (Train): 0.9444194923973386\n"
     ]
    }
   ],
   "source": [
    "# all features without woe and graph features\n",
    "X_subset = X.loc(axis=1)[\"is_credit\":\"zip_code_ZB\"]\n",
    "rf0 = RandomForestClassifier(oob_score=True, random_state=10)\n",
    "rf0.fit(X_subset,y)\n",
    "print(f\"oob_score_: {rf0.oob_score_}\")\n",
    "y_predprob = rf0.predict_proba(X_subset)[:,1]\n",
    "print(f\"AUC Score (Train): {metrics.roc_auc_score(y, y_predprob)}\")"
   ],
   "metadata": {
    "collapsed": false
   }
  },
  {
   "cell_type": "code",
   "execution_count": 238,
   "outputs": [
    {
     "name": "stdout",
     "output_type": "stream",
     "text": [
      "oob_score_: 0.8329046198168536\n",
      "AUC Score (Train): 0.9315381681998387\n"
     ]
    }
   ],
   "source": [
    "# only is_credit, woe feature\n",
    "X_subset = X.loc(axis=1)[[\"is_credit\",\"ip_address_woe\"]]\n",
    "rf0 = RandomForestClassifier(oob_score=True, random_state=10)\n",
    "rf0.fit(X_subset,y)\n",
    "print(f\"oob_score_: {rf0.oob_score_}\")\n",
    "y_predprob = rf0.predict_proba(X_subset)[:,1]\n",
    "print(f\"AUC Score (Train): {metrics.roc_auc_score(y, y_predprob)}\")"
   ],
   "metadata": {
    "collapsed": false
   }
  },
  {
   "cell_type": "code",
   "execution_count": 279,
   "outputs": [
    {
     "name": "stdout",
     "output_type": "stream",
     "text": [
      "oob_score_: 0.965325650787118\n",
      "AUC Score (Train): 0.9965906040402033\n"
     ]
    }
   ],
   "source": [
    "# only credit+woe\n",
    "X_subset = X.loc(axis=1)[[\"is_credit\",\"ip_address_woe\", \"email_address_woe\", \"card_number_woe\"]]\n",
    "rf0 = RandomForestClassifier(oob_score=True, random_state=10)\n",
    "rf0.fit(X_subset,y)\n",
    "print(f\"oob_score_: {rf0.oob_score_}\")\n",
    "y_predprob = rf0.predict_proba(X_subset)[:,1]\n",
    "print(f\"AUC Score (Train): {metrics.roc_auc_score(y, y_predprob)}\")"
   ],
   "metadata": {
    "collapsed": false
   }
  },
  {
   "cell_type": "code",
   "execution_count": 240,
   "outputs": [
    {
     "name": "stdout",
     "output_type": "stream",
     "text": [
      "oob_score_: 0.8620228418561581\n",
      "AUC Score (Train): 0.9532777573109237\n"
     ]
    }
   ],
   "source": [
    "# only graph\n",
    "X_subset = X.loc(axis=1)[\"ip_node_degree\":\"card_page_rank\"]\n",
    "rf0 = RandomForestClassifier(oob_score=True, random_state=10)\n",
    "rf0.fit(X_subset,y)\n",
    "print(f\"oob_score_: {rf0.oob_score_}\")\n",
    "y_predprob = rf0.predict_proba(X_subset)[:,1]\n",
    "print(f\"AUC Score (Train): {metrics.roc_auc_score(y, y_predprob)}\")"
   ],
   "metadata": {
    "collapsed": false
   }
  },
  {
   "cell_type": "code",
   "execution_count": 241,
   "outputs": [
    {
     "name": "stdout",
     "output_type": "stream",
     "text": [
      "oob_score_: 0.8781767671571149\n",
      "AUC Score (Train): 0.9667844906742094\n"
     ]
    }
   ],
   "source": [
    "# is_credit + graph\n",
    "X_subset = pd.concat([X.loc(axis=1)[\"ip_node_degree\":\"card_page_rank\"],X.loc(axis=1)[[\"is_credit\"]]], axis=1)\n",
    "rf0 = RandomForestClassifier(oob_score=True, random_state=10)\n",
    "rf0.fit(X_subset,y)\n",
    "print(f\"oob_score_: {rf0.oob_score_}\")\n",
    "y_predprob = rf0.predict_proba(X_subset)[:,1]\n",
    "print(f\"AUC Score (Train): {metrics.roc_auc_score(y, y_predprob)}\")"
   ],
   "metadata": {
    "collapsed": false
   }
  },
  {
   "cell_type": "code",
   "execution_count": 315,
   "outputs": [
    {
     "name": "stdout",
     "output_type": "stream",
     "text": [
      "oob_score_: 0.9651198682992077\n",
      "AUC Score (Train): 0.9971551084496896\n"
     ]
    }
   ],
   "source": [
    "# is_credit + graph + woe\n",
    "X_subset = pd.concat([X.loc(axis=1)[\"ip_node_degree\":\"card_page_rank\"], X.loc(axis=1)[[\"is_credit\"]], X.loc(axis=1)[\"ip_address_woe\":\"card_number_woe\"]], axis=1)\n",
    "rf0 = RandomForestClassifier(oob_score=True, random_state=10)\n",
    "rf0.fit(X_subset,y)\n",
    "print(f\"oob_score_: {rf0.oob_score_}\")\n",
    "y_predprob = rf0.predict_proba(X_subset)[:,1]\n",
    "print(f\"AUC Score (Train): {metrics.roc_auc_score(y, y_predprob)}\")"
   ],
   "metadata": {
    "collapsed": false
   }
  },
  {
   "cell_type": "markdown",
   "source": [
    "## Testing"
   ],
   "metadata": {
    "collapsed": false
   }
  },
  {
   "cell_type": "code",
   "execution_count": 243,
   "outputs": [],
   "source": [
    "test_start_date = \"2021-12-01\"\n",
    "test_end_date = \"2021-12-31\""
   ],
   "metadata": {
    "collapsed": false
   }
  },
  {
   "cell_type": "code",
   "execution_count": 244,
   "outputs": [],
   "source": [
    "df_ori = pd.read_csv(f\"../adyen-dataset.csv\")\n",
    "df_ori[\"date\"] = df_ori.apply(date, axis=1)\n",
    "df_ori[\"date\"] = pd.to_datetime(df_ori[\"date\"])\n",
    "df_ori.set_index('date', inplace=True)\n",
    "df_ts = df_ori.sort_index()\n",
    "df_test_ts = df_ts.loc[test_start_date:test_end_date]"
   ],
   "metadata": {
    "collapsed": false
   }
  },
  {
   "cell_type": "code",
   "execution_count": 245,
   "outputs": [
    {
     "data": {
      "text/plain": "       is_credit              ip_address           email_address  \\\n0          False  cqHg4ONJtOBwqNNSjawwVg  vpCrxKV4Rb4hHYZ_xUQrnA   \n1           True  I4zf2g3Z4BdSVbOtXDmw7g  YKy04vP5R13SJl5ydrfr3w   \n2           True  M3g-untYinyAQiAIXKGNSw  f-37afIGJJkYJHQXM_HKMg   \n3           True  KT8qTQ6tiACsTKJsyxvPIg  36VSxpSABRjj43cfP6lwjw   \n4           True  wpnDR446pjLAUoNYueB-yg  5MO1Y0cW3sRJ56IbZCwOIQ   \n...          ...                     ...                     ...   \n11646       True  NUZxGz6wWtW1enn19ghi4g  D5nXKSWwpD40xABXiW5drg   \n11647      False  -0zsia1FtEIuWYt71pLrKw                     NaN   \n11648       True  sDicZTCFj6lP8AiV6WFC7g  NJPPoAQt0eoYvDtBIf5tHQ   \n11649       True  hAKt2EU3vmjrGOT6ueNsdw  3zRwZ-rq1GTbTuPpE9mwXw   \n11650      False  nrHkou9mx6FQP77ei3CQ-Q  2GXofd06OoL1Pbql021Ifw   \n\n                  card_number  has_fraudulent_dispute  \n0      92TKnNIoPTXgok35txpjyg                   False  \n1      iWwHGPT5vcubXqewt6QmFQ                   False  \n2      HDPyxyvo2Lqebm-qusJqOQ                   False  \n3      gbsYb_MOBHH6FXa_a7c7og                   False  \n4      s0sj9IsbO7VMzyIsRBBZOA                   False  \n...                       ...                     ...  \n11646  2XeZsqgafyXVZrQNZpC7Kw                   False  \n11647  leow_iHIe06J6n5YLGOgyQ                   False  \n11648  Gd03xMeOIMabaEfpvqR1wA                   False  \n11649  h_1om9k6GCO7nv5NeoDgfQ                   False  \n11650  QPqgQiC4PXDYhxI3agKVkw                   False  \n\n[11651 rows x 5 columns]",
      "text/html": "<div>\n<style scoped>\n    .dataframe tbody tr th:only-of-type {\n        vertical-align: middle;\n    }\n\n    .dataframe tbody tr th {\n        vertical-align: top;\n    }\n\n    .dataframe thead th {\n        text-align: right;\n    }\n</style>\n<table border=\"1\" class=\"dataframe\">\n  <thead>\n    <tr style=\"text-align: right;\">\n      <th></th>\n      <th>is_credit</th>\n      <th>ip_address</th>\n      <th>email_address</th>\n      <th>card_number</th>\n      <th>has_fraudulent_dispute</th>\n    </tr>\n  </thead>\n  <tbody>\n    <tr>\n      <th>0</th>\n      <td>False</td>\n      <td>cqHg4ONJtOBwqNNSjawwVg</td>\n      <td>vpCrxKV4Rb4hHYZ_xUQrnA</td>\n      <td>92TKnNIoPTXgok35txpjyg</td>\n      <td>False</td>\n    </tr>\n    <tr>\n      <th>1</th>\n      <td>True</td>\n      <td>I4zf2g3Z4BdSVbOtXDmw7g</td>\n      <td>YKy04vP5R13SJl5ydrfr3w</td>\n      <td>iWwHGPT5vcubXqewt6QmFQ</td>\n      <td>False</td>\n    </tr>\n    <tr>\n      <th>2</th>\n      <td>True</td>\n      <td>M3g-untYinyAQiAIXKGNSw</td>\n      <td>f-37afIGJJkYJHQXM_HKMg</td>\n      <td>HDPyxyvo2Lqebm-qusJqOQ</td>\n      <td>False</td>\n    </tr>\n    <tr>\n      <th>3</th>\n      <td>True</td>\n      <td>KT8qTQ6tiACsTKJsyxvPIg</td>\n      <td>36VSxpSABRjj43cfP6lwjw</td>\n      <td>gbsYb_MOBHH6FXa_a7c7og</td>\n      <td>False</td>\n    </tr>\n    <tr>\n      <th>4</th>\n      <td>True</td>\n      <td>wpnDR446pjLAUoNYueB-yg</td>\n      <td>5MO1Y0cW3sRJ56IbZCwOIQ</td>\n      <td>s0sj9IsbO7VMzyIsRBBZOA</td>\n      <td>False</td>\n    </tr>\n    <tr>\n      <th>...</th>\n      <td>...</td>\n      <td>...</td>\n      <td>...</td>\n      <td>...</td>\n      <td>...</td>\n    </tr>\n    <tr>\n      <th>11646</th>\n      <td>True</td>\n      <td>NUZxGz6wWtW1enn19ghi4g</td>\n      <td>D5nXKSWwpD40xABXiW5drg</td>\n      <td>2XeZsqgafyXVZrQNZpC7Kw</td>\n      <td>False</td>\n    </tr>\n    <tr>\n      <th>11647</th>\n      <td>False</td>\n      <td>-0zsia1FtEIuWYt71pLrKw</td>\n      <td>NaN</td>\n      <td>leow_iHIe06J6n5YLGOgyQ</td>\n      <td>False</td>\n    </tr>\n    <tr>\n      <th>11648</th>\n      <td>True</td>\n      <td>sDicZTCFj6lP8AiV6WFC7g</td>\n      <td>NJPPoAQt0eoYvDtBIf5tHQ</td>\n      <td>Gd03xMeOIMabaEfpvqR1wA</td>\n      <td>False</td>\n    </tr>\n    <tr>\n      <th>11649</th>\n      <td>True</td>\n      <td>hAKt2EU3vmjrGOT6ueNsdw</td>\n      <td>3zRwZ-rq1GTbTuPpE9mwXw</td>\n      <td>h_1om9k6GCO7nv5NeoDgfQ</td>\n      <td>False</td>\n    </tr>\n    <tr>\n      <th>11650</th>\n      <td>False</td>\n      <td>nrHkou9mx6FQP77ei3CQ-Q</td>\n      <td>2GXofd06OoL1Pbql021Ifw</td>\n      <td>QPqgQiC4PXDYhxI3agKVkw</td>\n      <td>False</td>\n    </tr>\n  </tbody>\n</table>\n<p>11651 rows × 5 columns</p>\n</div>"
     },
     "execution_count": 245,
     "metadata": {},
     "output_type": "execute_result"
    }
   ],
   "source": [
    "df_test_ts = df_test_ts.loc(axis=1)[\"is_credit\", \"ip_address\", \"email_address\", \"card_number\", \"has_fraudulent_dispute\"]\n",
    "df_test = df_test_ts.reset_index(drop=True)\n",
    "df_test"
   ],
   "metadata": {
    "collapsed": false
   }
  },
  {
   "cell_type": "code",
   "execution_count": 246,
   "outputs": [],
   "source": [
    "df_graph_features_lookup_table = pd.read_csv(f\"../feature-engineering/graph_features_lookup_table_{end_date}.csv\")"
   ],
   "metadata": {
    "collapsed": false
   }
  },
  {
   "cell_type": "code",
   "execution_count": 247,
   "outputs": [],
   "source": [
    "def append_graph_features(node_type_name, df, graph_feature_lookup_table):\n",
    "    def append_graph_features_by_row(row):\n",
    "        node_key = row[node_type_name]\n",
    "        prefix = node_type_name.split('_')[0]\n",
    "        try:\n",
    "            row[f\"{prefix}_node_degree\"] = graph_feature_lookup_table[graph_feature_lookup_table[\"Node\"] == node_key][\"DEGREE\"].iloc[0]\n",
    "            row[f\"{prefix}_eigen_centrality\"] = graph_feature_lookup_table[graph_feature_lookup_table[\"Node\"] == node_key][\"EIGENVECTOR_CENTRALITY\"].iloc[0]\n",
    "            row[f\"{prefix}_page_rank\"] = graph_feature_lookup_table[graph_feature_lookup_table[\"Node\"] == node_key][\"PAGE_RANK\"].iloc[0]\n",
    "        except IndexError as e:\n",
    "            row[f\"{prefix}_node_degree\"] = 2\n",
    "            row[f\"{prefix}_eigen_centrality\"] = 0.33\n",
    "            row[f\"{prefix}_page_rank\"] = 0.57\n",
    "        return row\n",
    "    df = df.apply(append_graph_features_by_row, axis=1)\n",
    "    return df"
   ],
   "metadata": {
    "collapsed": false
   }
  },
  {
   "cell_type": "code",
   "execution_count": 248,
   "outputs": [],
   "source": [
    "df_test = append_graph_features(\"ip_address\",df_test, df_graph_features_lookup_table)\n",
    "df_test = append_graph_features(\"email_address\",df_test, df_graph_features_lookup_table)\n",
    "df_test = append_graph_features(\"card_number\",df_test, df_graph_features_lookup_table)"
   ],
   "metadata": {
    "collapsed": false
   }
  },
  {
   "cell_type": "code",
   "execution_count": 249,
   "outputs": [],
   "source": [
    "df_woe_features = pd.read_csv(f\"../feature-engineering/woe_features_{end_date}.csv\")"
   ],
   "metadata": {
    "collapsed": false
   }
  },
  {
   "cell_type": "code",
   "execution_count": 250,
   "outputs": [],
   "source": [
    "def append_woe_features(col_name, df, woe_features):\n",
    "    def append_woe_features_by_row(row):\n",
    "        node_key = row[col_name]\n",
    "        try:\n",
    "            row[f\"{col_name}_woe\"] = woe_features[woe_features[col_name] == node_key][f\"{col_name}_woe\"].iloc[0]\n",
    "        except IndexError as e:\n",
    "            row[f\"{col_name}_woe\"] = 0.0\n",
    "        return row\n",
    "    df = df.apply(append_woe_features_by_row, axis=1)\n",
    "    return df"
   ],
   "metadata": {
    "collapsed": false
   }
  },
  {
   "cell_type": "code",
   "execution_count": 251,
   "outputs": [],
   "source": [
    "df_test = append_woe_features(\"ip_address\",df_test,df_woe_features)\n",
    "df_test = append_woe_features(\"email_address\",df_test,df_woe_features)\n",
    "df_test = append_woe_features(\"card_number\",df_test,df_woe_features)"
   ],
   "metadata": {
    "collapsed": false
   }
  },
  {
   "cell_type": "markdown",
   "source": [
    "## Predictions (is_credit, woe, graph)"
   ],
   "metadata": {
    "collapsed": false
   }
  },
  {
   "cell_type": "code",
   "execution_count": 383,
   "outputs": [],
   "source": [
    "df_test.to_csv(\"test_dataset_december.csv\", index=False)"
   ],
   "metadata": {
    "collapsed": false
   }
  },
  {
   "cell_type": "code",
   "execution_count": 359,
   "outputs": [],
   "source": [
    "X_test = pd.concat([df_test[[\"is_credit\"]], df_test.loc(axis=1)[\"ip_node_degree\":\"card_number_woe\"]], axis=1)\n",
    "y_test = df_test[\"has_fraudulent_dispute\"]"
   ],
   "metadata": {
    "collapsed": false
   }
  },
  {
   "cell_type": "code",
   "execution_count": 360,
   "outputs": [
    {
     "data": {
      "text/plain": "       ip_node_degree  ip_eigen_centrality  ip_page_rank  email_node_degree  \\\n0                   2         3.184233e-03      0.000004                  2   \n1                   2        -1.655327e-19      0.000007                  2   \n2                   2         3.300000e-01      0.570000                  2   \n3                   3         3.198642e-03      0.000005                  5   \n4                   2         3.300000e-01      0.570000                  2   \n...               ...                  ...           ...                ...   \n11646               2         3.300000e-01      0.570000                  2   \n11647               2         3.300000e-01      0.570000                  2   \n11648               2         8.075300e-20      0.000005                  6   \n11649               2         3.300000e-01      0.570000                  2   \n11650               2         1.434283e-05      0.000005                  4   \n\n       email_eigen_centrality  email_page_rank  card_node_degree  \\\n0                3.184233e-03         0.000004                 3   \n1               -8.414725e-21         0.000007                 2   \n2                3.300000e-01         0.570000                 2   \n3                3.212985e-03         0.000010                 4   \n4                3.184169e-03         0.000004                 2   \n...                       ...              ...               ...   \n11646            3.300000e-01         0.570000                 2   \n11647            3.300000e-01         0.570000                 2   \n11648            1.684996e-19         0.000016                 4   \n11649            3.300000e-01         0.570000                 2   \n11650            3.184298e-03         0.000009                 2   \n\n       card_eigen_centrality  card_page_rank  is_credit  ip_address_woe  \\\n0               3.198447e-03        0.000007      False        0.000000   \n1               1.576474e-19        0.000007       True        0.000000   \n2               3.300000e-01        0.570000       True        0.000000   \n3               3.198770e-03        0.000007       True        1.392115   \n4               3.300000e-01        0.570000       True        0.000000   \n...                      ...             ...        ...             ...   \n11646           3.300000e-01        0.570000       True        0.000000   \n11647           3.300000e-01        0.570000      False        0.000000   \n11648          -1.582400e-19        0.000011       True        0.000000   \n11649           3.300000e-01        0.570000       True        0.000000   \n11650           1.434283e-05        0.000005      False        0.000000   \n\n       email_address_woe  card_number_woe  \n0               1.392115         1.104433  \n1               0.000000         0.000000  \n2               0.000000         0.000000  \n3               0.881290         0.881290  \n4               0.000000         0.000000  \n...                  ...              ...  \n11646           0.000000         0.000000  \n11647           0.000000         0.000000  \n11648           0.881290         1.104433  \n11649           0.000000         0.000000  \n11650           1.392115         0.000000  \n\n[11651 rows x 13 columns]",
      "text/html": "<div>\n<style scoped>\n    .dataframe tbody tr th:only-of-type {\n        vertical-align: middle;\n    }\n\n    .dataframe tbody tr th {\n        vertical-align: top;\n    }\n\n    .dataframe thead th {\n        text-align: right;\n    }\n</style>\n<table border=\"1\" class=\"dataframe\">\n  <thead>\n    <tr style=\"text-align: right;\">\n      <th></th>\n      <th>ip_node_degree</th>\n      <th>ip_eigen_centrality</th>\n      <th>ip_page_rank</th>\n      <th>email_node_degree</th>\n      <th>email_eigen_centrality</th>\n      <th>email_page_rank</th>\n      <th>card_node_degree</th>\n      <th>card_eigen_centrality</th>\n      <th>card_page_rank</th>\n      <th>is_credit</th>\n      <th>ip_address_woe</th>\n      <th>email_address_woe</th>\n      <th>card_number_woe</th>\n    </tr>\n  </thead>\n  <tbody>\n    <tr>\n      <th>0</th>\n      <td>2</td>\n      <td>3.184233e-03</td>\n      <td>0.000004</td>\n      <td>2</td>\n      <td>3.184233e-03</td>\n      <td>0.000004</td>\n      <td>3</td>\n      <td>3.198447e-03</td>\n      <td>0.000007</td>\n      <td>False</td>\n      <td>0.000000</td>\n      <td>1.392115</td>\n      <td>1.104433</td>\n    </tr>\n    <tr>\n      <th>1</th>\n      <td>2</td>\n      <td>-1.655327e-19</td>\n      <td>0.000007</td>\n      <td>2</td>\n      <td>-8.414725e-21</td>\n      <td>0.000007</td>\n      <td>2</td>\n      <td>1.576474e-19</td>\n      <td>0.000007</td>\n      <td>True</td>\n      <td>0.000000</td>\n      <td>0.000000</td>\n      <td>0.000000</td>\n    </tr>\n    <tr>\n      <th>2</th>\n      <td>2</td>\n      <td>3.300000e-01</td>\n      <td>0.570000</td>\n      <td>2</td>\n      <td>3.300000e-01</td>\n      <td>0.570000</td>\n      <td>2</td>\n      <td>3.300000e-01</td>\n      <td>0.570000</td>\n      <td>True</td>\n      <td>0.000000</td>\n      <td>0.000000</td>\n      <td>0.000000</td>\n    </tr>\n    <tr>\n      <th>3</th>\n      <td>3</td>\n      <td>3.198642e-03</td>\n      <td>0.000005</td>\n      <td>5</td>\n      <td>3.212985e-03</td>\n      <td>0.000010</td>\n      <td>4</td>\n      <td>3.198770e-03</td>\n      <td>0.000007</td>\n      <td>True</td>\n      <td>1.392115</td>\n      <td>0.881290</td>\n      <td>0.881290</td>\n    </tr>\n    <tr>\n      <th>4</th>\n      <td>2</td>\n      <td>3.300000e-01</td>\n      <td>0.570000</td>\n      <td>2</td>\n      <td>3.184169e-03</td>\n      <td>0.000004</td>\n      <td>2</td>\n      <td>3.300000e-01</td>\n      <td>0.570000</td>\n      <td>True</td>\n      <td>0.000000</td>\n      <td>0.000000</td>\n      <td>0.000000</td>\n    </tr>\n    <tr>\n      <th>...</th>\n      <td>...</td>\n      <td>...</td>\n      <td>...</td>\n      <td>...</td>\n      <td>...</td>\n      <td>...</td>\n      <td>...</td>\n      <td>...</td>\n      <td>...</td>\n      <td>...</td>\n      <td>...</td>\n      <td>...</td>\n      <td>...</td>\n    </tr>\n    <tr>\n      <th>11646</th>\n      <td>2</td>\n      <td>3.300000e-01</td>\n      <td>0.570000</td>\n      <td>2</td>\n      <td>3.300000e-01</td>\n      <td>0.570000</td>\n      <td>2</td>\n      <td>3.300000e-01</td>\n      <td>0.570000</td>\n      <td>True</td>\n      <td>0.000000</td>\n      <td>0.000000</td>\n      <td>0.000000</td>\n    </tr>\n    <tr>\n      <th>11647</th>\n      <td>2</td>\n      <td>3.300000e-01</td>\n      <td>0.570000</td>\n      <td>2</td>\n      <td>3.300000e-01</td>\n      <td>0.570000</td>\n      <td>2</td>\n      <td>3.300000e-01</td>\n      <td>0.570000</td>\n      <td>False</td>\n      <td>0.000000</td>\n      <td>0.000000</td>\n      <td>0.000000</td>\n    </tr>\n    <tr>\n      <th>11648</th>\n      <td>2</td>\n      <td>8.075300e-20</td>\n      <td>0.000005</td>\n      <td>6</td>\n      <td>1.684996e-19</td>\n      <td>0.000016</td>\n      <td>4</td>\n      <td>-1.582400e-19</td>\n      <td>0.000011</td>\n      <td>True</td>\n      <td>0.000000</td>\n      <td>0.881290</td>\n      <td>1.104433</td>\n    </tr>\n    <tr>\n      <th>11649</th>\n      <td>2</td>\n      <td>3.300000e-01</td>\n      <td>0.570000</td>\n      <td>2</td>\n      <td>3.300000e-01</td>\n      <td>0.570000</td>\n      <td>2</td>\n      <td>3.300000e-01</td>\n      <td>0.570000</td>\n      <td>True</td>\n      <td>0.000000</td>\n      <td>0.000000</td>\n      <td>0.000000</td>\n    </tr>\n    <tr>\n      <th>11650</th>\n      <td>2</td>\n      <td>1.434283e-05</td>\n      <td>0.000005</td>\n      <td>4</td>\n      <td>3.184298e-03</td>\n      <td>0.000009</td>\n      <td>2</td>\n      <td>1.434283e-05</td>\n      <td>0.000005</td>\n      <td>False</td>\n      <td>0.000000</td>\n      <td>1.392115</td>\n      <td>0.000000</td>\n    </tr>\n  </tbody>\n</table>\n<p>11651 rows × 13 columns</p>\n</div>"
     },
     "execution_count": 360,
     "metadata": {},
     "output_type": "execute_result"
    }
   ],
   "source": [
    "X_test = X_test[X_subset.columns]\n",
    "X_test"
   ],
   "metadata": {
    "collapsed": false
   }
  },
  {
   "cell_type": "code",
   "execution_count": 376,
   "outputs": [],
   "source": [
    "y_predict = rf0.predict(X_test)"
   ],
   "metadata": {
    "collapsed": false
   }
  },
  {
   "cell_type": "code",
   "execution_count": 377,
   "outputs": [],
   "source": [
    "from sklearn.metrics import confusion_matrix,precision_score,recall_score,f1_score, accuracy_score"
   ],
   "metadata": {
    "collapsed": false
   }
  },
  {
   "cell_type": "code",
   "execution_count": 378,
   "outputs": [
    {
     "data": {
      "text/plain": "array([[10346,   308],\n       [  451,   546]])"
     },
     "execution_count": 378,
     "metadata": {},
     "output_type": "execute_result"
    }
   ],
   "source": [
    "confusion_matrix(y_test, y_predict)"
   ],
   "metadata": {
    "collapsed": false
   }
  },
  {
   "cell_type": "code",
   "execution_count": 379,
   "outputs": [
    {
     "data": {
      "text/plain": "0.9348553772208394"
     },
     "execution_count": 379,
     "metadata": {},
     "output_type": "execute_result"
    }
   ],
   "source": [
    "accuracy_score(y_test, y_predict)"
   ],
   "metadata": {
    "collapsed": false
   }
  },
  {
   "cell_type": "code",
   "execution_count": 380,
   "outputs": [
    {
     "data": {
      "text/plain": "0.639344262295082"
     },
     "execution_count": 380,
     "metadata": {},
     "output_type": "execute_result"
    }
   ],
   "source": [
    "precision_score(y_test, y_predict)"
   ],
   "metadata": {
    "collapsed": false
   }
  },
  {
   "cell_type": "code",
   "execution_count": 381,
   "outputs": [
    {
     "data": {
      "text/plain": "0.5476429287863591"
     },
     "execution_count": 381,
     "metadata": {},
     "output_type": "execute_result"
    }
   ],
   "source": [
    "recall_score(y_test, y_predict)"
   ],
   "metadata": {
    "collapsed": false
   }
  },
  {
   "cell_type": "code",
   "execution_count": 382,
   "outputs": [
    {
     "data": {
      "text/plain": "0.5899513776337115"
     },
     "execution_count": 382,
     "metadata": {},
     "output_type": "execute_result"
    }
   ],
   "source": [
    "f1_score(y_test, y_predict)"
   ],
   "metadata": {
    "collapsed": false
   }
  },
  {
   "cell_type": "markdown",
   "source": [
    "## Tuning (not really useful)"
   ],
   "metadata": {
    "collapsed": false
   }
  },
  {
   "cell_type": "code",
   "execution_count": null,
   "outputs": [],
   "source": [
    "X_subset = pd.concat([X.loc(axis=1)[\"ip_node_degree\":\"card_page_rank\"], X.loc(axis=1)[[\"is_credit\"]], X.loc(axis=1)[\"ip_address_woe\":\"card_number_woe\"]], axis=1)"
   ],
   "metadata": {
    "collapsed": false
   }
  },
  {
   "cell_type": "code",
   "execution_count": 352,
   "outputs": [
    {
     "data": {
      "text/plain": "({'mean_fit_time': array([0.12378974, 0.19673738, 0.29205623, 0.42115102, 0.47942514,\n         0.58582735, 0.70450187, 0.80118055, 0.88996224, 0.98919044,\n         1.07789898, 1.17051721, 1.3112318 , 1.40421591, 1.4641624 ]),\n  'std_fit_time': array([0.03867791, 0.00195145, 0.00378195, 0.06570024, 0.00501395,\n         0.0080467 , 0.01330481, 0.01787398, 0.01472627, 0.02065134,\n         0.01220449, 0.0179001 , 0.04361432, 0.0223939 , 0.01868218]),\n  'mean_score_time': array([0.0084094 , 0.01020551, 0.01375451, 0.02915473, 0.02069988,\n         0.02513857, 0.02910414, 0.03275661, 0.03674717, 0.03989892,\n         0.04394736, 0.04837079, 0.05362921, 0.05739017, 0.0596478 ]),\n  'std_score_time': array([0.0030775 , 0.00041452, 0.0001785 , 0.02299957, 0.00021715,\n         0.0005639 , 0.00101597, 0.00084113, 0.00185126, 0.00038807,\n         0.00142556, 0.00182118, 0.00357857, 0.00399383, 0.00194913]),\n  'param_n_estimators': masked_array(data=[10, 20, 30, 40, 50, 60, 70, 80, 90, 100, 110, 120, 130,\n                     140, 150],\n               mask=[False, False, False, False, False, False, False, False,\n                     False, False, False, False, False, False, False],\n         fill_value='?',\n              dtype=object),\n  'params': [{'n_estimators': 10},\n   {'n_estimators': 20},\n   {'n_estimators': 30},\n   {'n_estimators': 40},\n   {'n_estimators': 50},\n   {'n_estimators': 60},\n   {'n_estimators': 70},\n   {'n_estimators': 80},\n   {'n_estimators': 90},\n   {'n_estimators': 100},\n   {'n_estimators': 110},\n   {'n_estimators': 120},\n   {'n_estimators': 130},\n   {'n_estimators': 140},\n   {'n_estimators': 150}],\n  'split0_test_score': array([0.96222642, 0.96208895, 0.96226016, 0.96161702, 0.96140414,\n         0.96155206, 0.96129367, 0.96143828, 0.96136167, 0.96130848,\n         0.96121362, 0.96113093, 0.96099069, 0.9608429 , 0.96073706]),\n  'split1_test_score': array([0.97214006, 0.97217975, 0.97188894, 0.97144387, 0.9711958 ,\n         0.97092153, 0.97113361, 0.97104285, 0.97112475, 0.97094799,\n         0.97114195, 0.97108916, 0.97106653, 0.97095037, 0.97095672]),\n  'split2_test_score': array([0.97272339, 0.97330197, 0.97334999, 0.97318779, 0.97271599,\n         0.97292318, 0.97301381, 0.97283665, 0.97304265, 0.972954  ,\n         0.97273186, 0.97273451, 0.97262919, 0.97275621, 0.97278399]),\n  'split3_test_score': array([0.96880275, 0.97027832, 0.97067703, 0.97036807, 0.96979423,\n         0.97014714, 0.97023437, 0.9700607 , 0.96995519, 0.9698894 ,\n         0.96977053, 0.96973929, 0.96978827, 0.96970408, 0.96983288]),\n  'split4_test_score': array([0.96379678, 0.96539559, 0.96517532, 0.96482043, 0.96672939,\n         0.96649998, 0.96686242, 0.96698566, 0.96694343, 0.9669801 ,\n         0.96697838, 0.96704801, 0.96698725, 0.96679915, 0.96687367]),\n  'mean_test_score': array([0.96793788, 0.96864892, 0.96867029, 0.96828743, 0.96836791,\n         0.96840878, 0.96850758, 0.96847283, 0.96848554, 0.968416  ,\n         0.96836727, 0.96834838, 0.96829239, 0.96821054, 0.96823686]),\n  'std_test_score': array([0.00426795, 0.00425182, 0.00423299, 0.00435477, 0.0040029 ,\n         0.00400933, 0.00412143, 0.00399665, 0.0040748 , 0.00404361,\n         0.00404528, 0.00406121, 0.00409291, 0.00416352, 0.00421252]),\n  'rank_test_score': array([15,  2,  1, 12,  8,  7,  3,  5,  4,  6,  9, 10, 11, 14, 13],\n        dtype=int32)},\n {'n_estimators': 30},\n 0.9686702884978715)"
     },
     "execution_count": 352,
     "metadata": {},
     "output_type": "execute_result"
    }
   ],
   "source": [
    "param_test1 = {'n_estimators':range(10,151,10)}\n",
    "gsearch1 = GridSearchCV(estimator = RandomForestClassifier(random_state=10),\n",
    "                       param_grid = param_test1, scoring='roc_auc',cv=5)\n",
    "gsearch1.fit(X_subset,y)\n",
    "gsearch1.cv_results_, gsearch1.best_params_, gsearch1.best_score_"
   ],
   "metadata": {
    "collapsed": false
   }
  },
  {
   "cell_type": "code",
   "execution_count": 353,
   "outputs": [
    {
     "data": {
      "text/plain": "({'mean_fit_time': array([0.16879406, 0.16404853, 0.16362352, 0.16366458, 0.16348042,\n         0.16593161, 0.16338406, 0.16368375, 0.20606718, 0.20646753,\n         0.21183357, 0.21314287, 0.20728927, 0.20637684, 0.20593209,\n         0.20497589, 0.23962893, 0.23948202, 0.24233418, 0.24226007,\n         0.24154611, 0.23784742, 0.23677883, 0.23629456, 0.2664885 ,\n         0.26362209, 0.2625392 , 0.26205082, 0.26060171, 0.25924153,\n         0.25764403, 0.25687222, 0.28216896, 0.28098378, 0.28396125,\n         0.31028681, 0.27274718, 0.26891832, 0.26883111, 0.26608062,\n         0.2907372 , 0.28888106, 0.28472695, 0.28860178, 0.28236542,\n         0.27905354, 0.28301101, 0.27848196]),\n  'std_fit_time': array([0.00508852, 0.00064684, 0.00027487, 0.00063139, 0.00028855,\n         0.00514847, 0.00045908, 0.00030422, 0.0011309 , 0.00080787,\n         0.00204518, 0.00163866, 0.00065204, 0.00052651, 0.00086094,\n         0.00102962, 0.00100223, 0.00149451, 0.00211918, 0.00101606,\n         0.00323926, 0.00110295, 0.00057676, 0.0014037 , 0.00115499,\n         0.00124418, 0.00219314, 0.00085556, 0.00186119, 0.0012798 ,\n         0.00126453, 0.00132879, 0.00161995, 0.00085537, 0.00560851,\n         0.05657517, 0.00122778, 0.00213426, 0.00223089, 0.0013377 ,\n         0.00190441, 0.00178428, 0.00130508, 0.00427875, 0.00129782,\n         0.00182999, 0.00994717, 0.00191589]),\n  'mean_score_time': array([0.0087925 , 0.00866165, 0.00870361, 0.00852098, 0.00854678,\n         0.00851135, 0.00869932, 0.00859051, 0.00984836, 0.01019626,\n         0.0103169 , 0.01001825, 0.00972657, 0.00979891, 0.00948415,\n         0.00968833, 0.0110414 , 0.01092143, 0.0108058 , 0.01086969,\n         0.01086168, 0.01053581, 0.01057391, 0.01041965, 0.01128435,\n         0.01136847, 0.01130266, 0.01117725, 0.01122661, 0.01129217,\n         0.01097159, 0.01119795, 0.01196365, 0.01185894, 0.01188397,\n         0.0119204 , 0.01173635, 0.01140318, 0.01133332, 0.01132812,\n         0.0122436 , 0.01227984, 0.01198454, 0.01233873, 0.011799  ,\n         0.01168799, 0.01231246, 0.01170092]),\n  'std_score_time': array([2.13996877e-04, 1.35787919e-04, 1.90388401e-04, 1.29858316e-04,\n         6.79879162e-05, 1.19579827e-04, 3.09525596e-04, 1.33654436e-04,\n         1.80575909e-04, 5.79703965e-04, 8.09665204e-04, 4.26788292e-04,\n         2.30976317e-04, 1.89153349e-04, 1.93724484e-04, 1.25768402e-04,\n         4.60800193e-04, 2.18796220e-04, 3.03560520e-04, 2.44343262e-04,\n         3.87882084e-04, 1.13053917e-04, 2.10349966e-04, 2.72523862e-04,\n         1.70025047e-04, 4.10346632e-04, 1.84706885e-04, 1.76105614e-04,\n         2.41569648e-04, 2.67881089e-04, 2.04939341e-04, 2.33512205e-04,\n         1.86211315e-04, 2.83365592e-04, 1.76849960e-04, 2.23855641e-04,\n         2.56904329e-04, 1.68979585e-04, 2.51419219e-04, 2.16243764e-04,\n         2.71552737e-04, 2.14276559e-04, 1.06850196e-04, 5.89260412e-04,\n         9.69414282e-05, 2.73640971e-04, 1.15790354e-03, 1.32058189e-04]),\n  'param_max_depth': masked_array(data=[3, 3, 3, 3, 3, 3, 3, 3, 5, 5, 5, 5, 5, 5, 5, 5, 7, 7,\n                     7, 7, 7, 7, 7, 7, 9, 9, 9, 9, 9, 9, 9, 9, 11, 11, 11,\n                     11, 11, 11, 11, 11, 13, 13, 13, 13, 13, 13, 13, 13],\n               mask=[False, False, False, False, False, False, False, False,\n                     False, False, False, False, False, False, False, False,\n                     False, False, False, False, False, False, False, False,\n                     False, False, False, False, False, False, False, False,\n                     False, False, False, False, False, False, False, False,\n                     False, False, False, False, False, False, False, False],\n         fill_value='?',\n              dtype=object),\n  'param_min_samples_split': masked_array(data=[50, 70, 90, 110, 130, 150, 170, 190, 50, 70, 90, 110,\n                     130, 150, 170, 190, 50, 70, 90, 110, 130, 150, 170,\n                     190, 50, 70, 90, 110, 130, 150, 170, 190, 50, 70, 90,\n                     110, 130, 150, 170, 190, 50, 70, 90, 110, 130, 150,\n                     170, 190],\n               mask=[False, False, False, False, False, False, False, False,\n                     False, False, False, False, False, False, False, False,\n                     False, False, False, False, False, False, False, False,\n                     False, False, False, False, False, False, False, False,\n                     False, False, False, False, False, False, False, False,\n                     False, False, False, False, False, False, False, False],\n         fill_value='?',\n              dtype=object),\n  'params': [{'max_depth': 3, 'min_samples_split': 50},\n   {'max_depth': 3, 'min_samples_split': 70},\n   {'max_depth': 3, 'min_samples_split': 90},\n   {'max_depth': 3, 'min_samples_split': 110},\n   {'max_depth': 3, 'min_samples_split': 130},\n   {'max_depth': 3, 'min_samples_split': 150},\n   {'max_depth': 3, 'min_samples_split': 170},\n   {'max_depth': 3, 'min_samples_split': 190},\n   {'max_depth': 5, 'min_samples_split': 50},\n   {'max_depth': 5, 'min_samples_split': 70},\n   {'max_depth': 5, 'min_samples_split': 90},\n   {'max_depth': 5, 'min_samples_split': 110},\n   {'max_depth': 5, 'min_samples_split': 130},\n   {'max_depth': 5, 'min_samples_split': 150},\n   {'max_depth': 5, 'min_samples_split': 170},\n   {'max_depth': 5, 'min_samples_split': 190},\n   {'max_depth': 7, 'min_samples_split': 50},\n   {'max_depth': 7, 'min_samples_split': 70},\n   {'max_depth': 7, 'min_samples_split': 90},\n   {'max_depth': 7, 'min_samples_split': 110},\n   {'max_depth': 7, 'min_samples_split': 130},\n   {'max_depth': 7, 'min_samples_split': 150},\n   {'max_depth': 7, 'min_samples_split': 170},\n   {'max_depth': 7, 'min_samples_split': 190},\n   {'max_depth': 9, 'min_samples_split': 50},\n   {'max_depth': 9, 'min_samples_split': 70},\n   {'max_depth': 9, 'min_samples_split': 90},\n   {'max_depth': 9, 'min_samples_split': 110},\n   {'max_depth': 9, 'min_samples_split': 130},\n   {'max_depth': 9, 'min_samples_split': 150},\n   {'max_depth': 9, 'min_samples_split': 170},\n   {'max_depth': 9, 'min_samples_split': 190},\n   {'max_depth': 11, 'min_samples_split': 50},\n   {'max_depth': 11, 'min_samples_split': 70},\n   {'max_depth': 11, 'min_samples_split': 90},\n   {'max_depth': 11, 'min_samples_split': 110},\n   {'max_depth': 11, 'min_samples_split': 130},\n   {'max_depth': 11, 'min_samples_split': 150},\n   {'max_depth': 11, 'min_samples_split': 170},\n   {'max_depth': 11, 'min_samples_split': 190},\n   {'max_depth': 13, 'min_samples_split': 50},\n   {'max_depth': 13, 'min_samples_split': 70},\n   {'max_depth': 13, 'min_samples_split': 90},\n   {'max_depth': 13, 'min_samples_split': 110},\n   {'max_depth': 13, 'min_samples_split': 130},\n   {'max_depth': 13, 'min_samples_split': 150},\n   {'max_depth': 13, 'min_samples_split': 170},\n   {'max_depth': 13, 'min_samples_split': 190}],\n  'split0_test_score': array([0.96814126, 0.96814126, 0.96814126, 0.96814126, 0.9683294 ,\n         0.9683294 , 0.9683294 , 0.9683294 , 0.97308472, 0.97379375,\n         0.97372548, 0.97406246, 0.9745799 , 0.97419781, 0.97411763,\n         0.97419132, 0.9720325 , 0.97214893, 0.97148885, 0.97219417,\n         0.97267338, 0.97225781, 0.97263184, 0.97289328, 0.97092325,\n         0.97195841, 0.97260789, 0.97187095, 0.97170954, 0.97154813,\n         0.97203739, 0.97154707, 0.97034322, 0.97043914, 0.97103518,\n         0.9701953 , 0.97123192, 0.97139174, 0.97097167, 0.97249861,\n         0.96876522, 0.96997607, 0.97035209, 0.96998362, 0.9702772 ,\n         0.97139174, 0.97138023, 0.9718175 ]),\n  'split1_test_score': array([0.97830536, 0.97830536, 0.97813932, 0.97812053, 0.97845116,\n         0.97845116, 0.97845116, 0.97845116, 0.98103416, 0.98093109,\n         0.98092725, 0.98063407, 0.98046696, 0.98075684, 0.98051354,\n         0.98057678, 0.98069374, 0.98058736, 0.98065259, 0.98017695,\n         0.98099632, 0.98088254, 0.98053894, 0.98139707, 0.97965792,\n         0.97993113, 0.97846373, 0.97980597, 0.97984156, 0.97961015,\n         0.97998259, 0.98002983, 0.97914854, 0.97925624, 0.9781118 ,\n         0.97869473, 0.97799947, 0.97936063, 0.97903436, 0.97941289,\n         0.97764833, 0.97833619, 0.97755572, 0.97785261, 0.97817914,\n         0.97859431, 0.97775788, 0.97779585]),\n  'split2_test_score': array([0.97526075, 0.97526075, 0.97526075, 0.97526075, 0.9751766 ,\n         0.9751766 , 0.9751766 , 0.9751766 , 0.97779453, 0.97761155,\n         0.97766394, 0.97748335, 0.97734204, 0.97671081, 0.97708855,\n         0.9773005 , 0.97921496, 0.97975926, 0.97953514, 0.97962735,\n         0.97871551, 0.97973518, 0.97983706, 0.97932504, 0.97914775,\n         0.97848318, 0.97862223, 0.97842046, 0.9790849 , 0.97885972,\n         0.97889332, 0.97854708, 0.97894082, 0.97809195, 0.97831594,\n         0.97886805, 0.97831078, 0.97917553, 0.97878219, 0.97926775,\n         0.97755056, 0.97809976, 0.97846862, 0.97904944, 0.97818853,\n         0.97846135, 0.97842258, 0.97898409]),\n  'split3_test_score': array([0.97631362, 0.97631362, 0.97631362, 0.97631362, 0.97657201,\n         0.97657201, 0.97655904, 0.97655904, 0.97791865, 0.97788172,\n         0.97837547, 0.97865743, 0.97836554, 0.97836541, 0.97899683,\n         0.97897208, 0.97867027, 0.97951163, 0.97902635, 0.97954168,\n         0.97961435, 0.98023532, 0.97960721, 0.97960946, 0.97762928,\n         0.97816447, 0.97788185, 0.97933028, 0.97874492, 0.97928792,\n         0.97851843, 0.97838566, 0.97592047, 0.97634539, 0.97800112,\n         0.97700117, 0.97693194, 0.97804335, 0.97788264, 0.97845714,\n         0.97633242, 0.97655256, 0.97649021, 0.97613704, 0.97768779,\n         0.9787252 , 0.97715022, 0.97617251]),\n  'split4_test_score': array([0.97418598, 0.97418598, 0.97418598, 0.97418598, 0.97418598,\n         0.97418598, 0.97418598, 0.97418598, 0.97640496, 0.97671485,\n         0.9766476 , 0.97664601, 0.97655229, 0.97671895, 0.97630197,\n         0.97615464, 0.97520341, 0.97529342, 0.97620044, 0.97574389,\n         0.97586474, 0.97585574, 0.97644825, 0.97674119, 0.97573568,\n         0.97487141, 0.97504509, 0.97499399, 0.97472713, 0.97547451,\n         0.97479384, 0.97438176, 0.97433424, 0.97492939, 0.97402303,\n         0.97529355, 0.97416202, 0.97414071, 0.97488041, 0.97491907,\n         0.97335838, 0.97343423, 0.9733147 , 0.97454604, 0.97433133,\n         0.97455663, 0.97449494, 0.97456762]),\n  'mean_test_score': array([0.97444139, 0.97444139, 0.97440819, 0.97440443, 0.97454303,\n         0.97454303, 0.97454044, 0.97454044, 0.9772474 , 0.97738659,\n         0.97746795, 0.97749666, 0.97746135, 0.97734996, 0.9774037 ,\n         0.97743906, 0.97716297, 0.97746012, 0.97738067, 0.97745681,\n         0.97757286, 0.97779332, 0.97781266, 0.97799321, 0.97661877,\n         0.97668172, 0.97652416, 0.97688433, 0.97682161, 0.97695609,\n         0.97684512, 0.97657828, 0.97573746, 0.97581242, 0.97589741,\n         0.97601056, 0.97572723, 0.97642239, 0.97631026, 0.97691109,\n         0.97473098, 0.97527976, 0.97523627, 0.97551375, 0.9757328 ,\n         0.97634585, 0.97584117, 0.97586751]),\n  'std_test_score': array([0.00343114, 0.00343114, 0.00339419, 0.00339006, 0.00342135,\n         0.00342135, 0.00341982, 0.00341982, 0.00257399, 0.00228994,\n         0.00234554, 0.00217753, 0.00194908, 0.00216244, 0.00220547,\n         0.00220962, 0.00313402, 0.00323041, 0.00329126, 0.00306876,\n         0.00297038, 0.00327638, 0.00294801, 0.00295124, 0.00315823,\n         0.00288407, 0.00234657, 0.00301946, 0.00311326, 0.00308371,\n         0.0029719 , 0.00313668, 0.00325568, 0.00306568, 0.00290974,\n         0.00318379, 0.0026813 , 0.00314178, 0.00305118, 0.00274377,\n         0.00336154, 0.00317645, 0.00299827, 0.00315844, 0.00308431,\n         0.00293042, 0.00259859, 0.00251463]),\n  'rank_test_score': array([45, 45, 47, 48, 41, 41, 43, 43, 15, 12,  6,  5,  7, 14, 11, 10, 16,\n          8, 13,  9,  4,  3,  2,  1, 23, 22, 25, 19, 21, 17, 20, 24, 34, 33,\n         30, 29, 36, 26, 28, 18, 40, 38, 39, 37, 35, 27, 32, 31],\n        dtype=int32)},\n {'max_depth': 7, 'min_samples_split': 190},\n 0.9779932050950828)"
     },
     "execution_count": 353,
     "metadata": {},
     "output_type": "execute_result"
    }
   ],
   "source": [
    "param_test2 = {'max_depth':range(3,14,2), 'min_samples_split':range(50,201,20)}\n",
    "gsearch2 = GridSearchCV(estimator = RandomForestClassifier(n_estimators= 30,\n",
    "                                  oob_score=True, random_state=10),\n",
    "   param_grid = param_test2, scoring='roc_auc', cv=5)\n",
    "gsearch2.fit(X_subset,y)\n",
    "gsearch2.cv_results_, gsearch2.best_params_, gsearch2.best_score_"
   ],
   "metadata": {
    "collapsed": false
   }
  },
  {
   "cell_type": "code",
   "execution_count": 354,
   "outputs": [
    {
     "data": {
      "text/plain": "({'mean_fit_time': array([0.24265223, 0.23990798, 0.2404212 , 0.2410212 , 0.24095545,\n         0.24153118, 0.24131575, 0.2398077 , 0.24231324, 0.24241018,\n         0.23773222, 0.2397378 , 0.24274039, 0.23850627, 0.23404059,\n         0.2330893 , 0.24053025, 0.24314027, 0.24116521, 0.2366312 ]),\n  'std_fit_time': array([0.00306061, 0.00128373, 0.00570162, 0.00268747, 0.00195683,\n         0.00237842, 0.00240192, 0.0037528 , 0.00266088, 0.00287505,\n         0.0033096 , 0.00188151, 0.00264979, 0.00242088, 0.00053005,\n         0.00164323, 0.00444959, 0.00122904, 0.00101099, 0.00319665]),\n  'mean_score_time': array([0.01094007, 0.01090541, 0.01066694, 0.01083016, 0.01097441,\n         0.01105995, 0.01120739, 0.01088634, 0.01107702, 0.01190329,\n         0.01089859, 0.01136689, 0.01112556, 0.01119714, 0.01090717,\n         0.01092596, 0.01103725, 0.01107583, 0.01184969, 0.0111588 ]),\n  'std_score_time': array([0.0002237 , 0.0001523 , 0.00016484, 0.00039312, 0.00019274,\n         0.00036151, 0.00020276, 0.00052106, 0.00033886, 0.00132682,\n         0.00028602, 0.00047218, 0.00024163, 0.0003562 , 0.00015082,\n         0.00022494, 0.00032635, 0.0003492 , 0.00107689, 0.00040876]),\n  'param_min_samples_leaf': masked_array(data=[10, 10, 10, 10, 20, 20, 20, 20, 30, 30, 30, 30, 40, 40,\n                     40, 40, 50, 50, 50, 50],\n               mask=[False, False, False, False, False, False, False, False,\n                     False, False, False, False, False, False, False, False,\n                     False, False, False, False],\n         fill_value='?',\n              dtype=object),\n  'param_min_samples_split': masked_array(data=[80, 100, 120, 140, 80, 100, 120, 140, 80, 100, 120,\n                     140, 80, 100, 120, 140, 80, 100, 120, 140],\n               mask=[False, False, False, False, False, False, False, False,\n                     False, False, False, False, False, False, False, False,\n                     False, False, False, False],\n         fill_value='?',\n              dtype=object),\n  'params': [{'min_samples_leaf': 10, 'min_samples_split': 80},\n   {'min_samples_leaf': 10, 'min_samples_split': 100},\n   {'min_samples_leaf': 10, 'min_samples_split': 120},\n   {'min_samples_leaf': 10, 'min_samples_split': 140},\n   {'min_samples_leaf': 20, 'min_samples_split': 80},\n   {'min_samples_leaf': 20, 'min_samples_split': 100},\n   {'min_samples_leaf': 20, 'min_samples_split': 120},\n   {'min_samples_leaf': 20, 'min_samples_split': 140},\n   {'min_samples_leaf': 30, 'min_samples_split': 80},\n   {'min_samples_leaf': 30, 'min_samples_split': 100},\n   {'min_samples_leaf': 30, 'min_samples_split': 120},\n   {'min_samples_leaf': 30, 'min_samples_split': 140},\n   {'min_samples_leaf': 40, 'min_samples_split': 80},\n   {'min_samples_leaf': 40, 'min_samples_split': 100},\n   {'min_samples_leaf': 40, 'min_samples_split': 120},\n   {'min_samples_leaf': 40, 'min_samples_split': 140},\n   {'min_samples_leaf': 50, 'min_samples_split': 80},\n   {'min_samples_leaf': 50, 'min_samples_split': 100},\n   {'min_samples_leaf': 50, 'min_samples_split': 120},\n   {'min_samples_leaf': 50, 'min_samples_split': 140}],\n  'split0_test_score': array([0.97371516, 0.97368711, 0.97321623, 0.97237424, 0.97382722,\n         0.97388874, 0.97324375, 0.97371926, 0.97417227, 0.97377893,\n         0.97339895, 0.97400345, 0.973547  , 0.9738333 , 0.97368261,\n         0.97418484, 0.97416671, 0.97416671, 0.9738894 , 0.97342964]),\n  'split1_test_score': array([0.98080395, 0.980943  , 0.98107226, 0.98066569, 0.98088412,\n         0.98125683, 0.98069585, 0.98059808, 0.98158309, 0.98133264,\n         0.98107107, 0.98092646, 0.98097991, 0.98156669, 0.98072919,\n         0.98010656, 0.9806551 , 0.9806551 , 0.9795264 , 0.97860146]),\n  'split2_test_score': array([0.9796046 , 0.97888459, 0.97860172, 0.97909602, 0.97934025,\n         0.97950166, 0.97930321, 0.97917871, 0.97951304, 0.97954453,\n         0.97922647, 0.9795534 , 0.97882347, 0.97944557, 0.97975728,\n         0.97914404, 0.97785605, 0.97785605, 0.97924499, 0.97899679]),\n  'split3_test_score': array([0.97935967, 0.97928488, 0.98028866, 0.97955915, 0.98010744,\n         0.98010294, 0.97973918, 0.97943419, 0.97963739, 0.98042567,\n         0.97985832, 0.97965804, 0.97969894, 0.97963937, 0.97879245,\n         0.9794097 , 0.97921657, 0.97921657, 0.97958616, 0.97928726]),\n  'split4_test_score': array([0.97592908, 0.97583324, 0.97595132, 0.97623433, 0.97610169,\n         0.9762706 , 0.97640562, 0.97621063, 0.97716968, 0.97699534,\n         0.97655242, 0.97663635, 0.97686363, 0.97600215, 0.97640059,\n         0.97661159, 0.97625074, 0.97625074, 0.97679798, 0.97626186]),\n  'mean_test_score': array([0.97788249, 0.97772656, 0.97782604, 0.97758589, 0.97805215,\n         0.97820416, 0.97787752, 0.97782817, 0.97841509, 0.97841542,\n         0.97802145, 0.97815554, 0.97798259, 0.97809742, 0.97787242,\n         0.97789135, 0.97762904, 0.97762904, 0.97780899, 0.9773154 ]),\n  'std_test_score': array([0.00264065, 0.00260832, 0.00289721, 0.00298822, 0.00266675,\n         0.00271916, 0.00272322, 0.00251298, 0.00254119, 0.00273276,\n         0.00274415, 0.00250748, 0.00259089, 0.00278581, 0.00254091,\n         0.00219808, 0.00226346, 0.00226346, 0.00221609, 0.00221713]),\n  'rank_test_score': array([10, 16, 14, 19,  6,  3, 11, 13,  2,  1,  7,  4,  8,  5, 12,  9, 17,\n         17, 15, 20], dtype=int32)},\n {'min_samples_leaf': 30, 'min_samples_split': 100},\n 0.978415422279269)"
     },
     "execution_count": 354,
     "metadata": {},
     "output_type": "execute_result"
    }
   ],
   "source": [
    "param_test3 = {'min_samples_split':range(80,150,20), 'min_samples_leaf':range(10,60,10)}\n",
    "gsearch3 = GridSearchCV(estimator = RandomForestClassifier(n_estimators= 30, max_depth=7,\n",
    "                                  oob_score=True, random_state=10),\n",
    "   param_grid = param_test3, scoring='roc_auc', cv=5)\n",
    "gsearch3.fit(X_subset,y)\n",
    "gsearch3.cv_results_, gsearch3.best_params_, gsearch3.best_score_"
   ],
   "metadata": {
    "collapsed": false
   }
  },
  {
   "cell_type": "code",
   "execution_count": 355,
   "outputs": [
    {
     "data": {
      "text/plain": "({'mean_fit_time': array([0.24294357, 0.31898136, 0.39854727, 0.48486314]),\n  'std_fit_time': array([0.00534745, 0.00245454, 0.00340895, 0.00498369]),\n  'mean_score_time': array([0.0110496 , 0.01072111, 0.01066084, 0.01042175]),\n  'std_score_time': array([0.00014124, 0.00016907, 0.0002374 , 0.00010479]),\n  'param_max_features': masked_array(data=[3, 5, 7, 9],\n               mask=[False, False, False, False],\n         fill_value='?',\n              dtype=object),\n  'params': [{'max_features': 3},\n   {'max_features': 5},\n   {'max_features': 7},\n   {'max_features': 9}],\n  'split0_test_score': array([0.97377893, 0.97553078, 0.97567156, 0.9757606 ]),\n  'split1_test_score': array([0.98133264, 0.98182323, 0.98118141, 0.9825947 ]),\n  'split2_test_score': array([0.97954453, 0.98018462, 0.97952865, 0.97961717]),\n  'split3_test_score': array([0.98042567, 0.98154833, 0.98109363, 0.98070749]),\n  'split4_test_score': array([0.97699534, 0.9789914 , 0.97816169, 0.97811615]),\n  'mean_test_score': array([0.97841542, 0.97961567, 0.97912739, 0.97935922]),\n  'std_test_score': array([0.00273276, 0.00228071, 0.00205531, 0.00231724]),\n  'rank_test_score': array([4, 1, 3, 2], dtype=int32)},\n {'max_features': 5},\n 0.9796156734895721)"
     },
     "execution_count": 355,
     "metadata": {},
     "output_type": "execute_result"
    }
   ],
   "source": [
    "param_test4 = {'max_features':range(3,11,2)}\n",
    "gsearch4 = GridSearchCV(estimator = RandomForestClassifier(n_estimators= 30, max_depth=7, min_samples_split=100,\n",
    "                                  min_samples_leaf=30 ,oob_score=True, random_state=10),\n",
    "   param_grid = param_test4, scoring='roc_auc', cv=5)\n",
    "gsearch4.fit(X_subset,y)\n",
    "gsearch4.cv_results_, gsearch4.best_params_, gsearch4.best_score_"
   ],
   "metadata": {
    "collapsed": false
   }
  },
  {
   "cell_type": "code",
   "execution_count": 358,
   "outputs": [
    {
     "name": "stdout",
     "output_type": "stream",
     "text": [
      "0.9690811811914806\n",
      "AUC Score (Train): 0.986339607313699\n"
     ]
    }
   ],
   "source": [
    "rf2 = RandomForestClassifier(n_estimators=30, max_depth=7, min_samples_split=100,\n",
    "                                  min_samples_leaf=30 ,max_features=5 ,oob_score=True, random_state=10)\n",
    "rf2.fit(X_subset,y)\n",
    "print (rf2.oob_score_)\n",
    "y_predprob = rf2.predict_proba(X_subset)[:,1]\n",
    "print(f\"AUC Score (Train): {metrics.roc_auc_score(y, y_predprob)}\")"
   ],
   "metadata": {
    "collapsed": false
   }
  },
  {
   "cell_type": "code",
   "execution_count": null,
   "outputs": [],
   "source": [],
   "metadata": {
    "collapsed": false
   }
  }
 ],
 "metadata": {
  "kernelspec": {
   "display_name": "Python 3",
   "language": "python",
   "name": "python3"
  },
  "language_info": {
   "codemirror_mode": {
    "name": "ipython",
    "version": 2
   },
   "file_extension": ".py",
   "mimetype": "text/x-python",
   "name": "python",
   "nbconvert_exporter": "python",
   "pygments_lexer": "ipython2",
   "version": "2.7.6"
  }
 },
 "nbformat": 4,
 "nbformat_minor": 0
}
