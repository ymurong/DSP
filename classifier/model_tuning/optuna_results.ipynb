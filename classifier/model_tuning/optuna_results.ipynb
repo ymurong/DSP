{
 "cells": [
  {
   "cell_type": "code",
   "execution_count": 25,
   "outputs": [
    {
     "name": "stdout",
     "output_type": "stream",
     "text": [
      "/Users/omochi/opt/anaconda3/envs/base-310/bin/optuna\r\n",
      "optuna 3.0.3\r\n"
     ]
    }
   ],
   "source": [
    "import pickle\n",
    "!which optuna\n",
    "!optuna --version"
   ],
   "metadata": {
    "collapsed": false
   }
  },
  {
   "cell_type": "code",
   "execution_count": 26,
   "outputs": [
    {
     "ename": "AttributeError",
     "evalue": "Can't get attribute 'IntDistribution' on <module 'optuna.distributions' from '/Users/omochi/opt/anaconda3/envs/base-310/lib/python3.10/site-packages/optuna/distributions.py'>",
     "output_type": "error",
     "traceback": [
      "\u001B[0;31m---------------------------------------------------------------------------\u001B[0m",
      "\u001B[0;31mAttributeError\u001B[0m                            Traceback (most recent call last)",
      "Cell \u001B[0;32mIn[26], line 11\u001B[0m\n\u001B[1;32m      9\u001B[0m \u001B[38;5;28;01mfor\u001B[39;00m model_name, model_path \u001B[38;5;129;01min\u001B[39;00m model_dictionary\u001B[38;5;241m.\u001B[39mitems():\n\u001B[1;32m     10\u001B[0m     \u001B[38;5;28;01mwith\u001B[39;00m \u001B[38;5;28mopen\u001B[39m(model_path, \u001B[38;5;124m'\u001B[39m\u001B[38;5;124mrb\u001B[39m\u001B[38;5;124m'\u001B[39m) \u001B[38;5;28;01mas\u001B[39;00m handle:\n\u001B[0;32m---> 11\u001B[0m         study_saved \u001B[38;5;241m=\u001B[39m \u001B[43mpickle\u001B[49m\u001B[38;5;241;43m.\u001B[39;49m\u001B[43mload\u001B[49m\u001B[43m(\u001B[49m\u001B[43mhandle\u001B[49m\u001B[43m)\u001B[49m\n\u001B[1;32m     12\u001B[0m         best_trails[model_name] \u001B[38;5;241m=\u001B[39m study_saved\u001B[38;5;241m.\u001B[39mbest_trial\n",
      "\u001B[0;31mAttributeError\u001B[0m: Can't get attribute 'IntDistribution' on <module 'optuna.distributions' from '/Users/omochi/opt/anaconda3/envs/base-310/lib/python3.10/site-packages/optuna/distributions.py'>"
     ]
    }
   ],
   "source": [
    "model_dictionary = {\n",
    "    'Random forest': \"study_rf_v2.pickle\",\n",
    "    'XGBoost': \"study_xgboost_v2.pickle\",\n",
    "    'XGBoost Random Forest': \"study_xgrfboost_v2.pickle\",\n",
    "    'CatBoost': \"study_catboost_v2.pickle\",\n",
    "    'LightGBM': \"study_lightgbm_v2.pickle\"\n",
    "}\n",
    "best_trails = {}\n",
    "for model_name, model_path in model_dictionary.items():\n",
    "    with open(model_path, 'rb') as handle:\n",
    "        study_saved = pickle.load(handle)\n",
    "        best_trails[model_name] = study_saved.best_trial"
   ],
   "metadata": {
    "collapsed": false
   }
  },
  {
   "cell_type": "code",
   "execution_count": null,
   "outputs": [],
   "source": [],
   "metadata": {
    "collapsed": false
   }
  }
 ],
 "metadata": {
  "kernelspec": {
   "display_name": "Python 3",
   "language": "python",
   "name": "python3"
  },
  "language_info": {
   "codemirror_mode": {
    "name": "ipython",
    "version": 2
   },
   "file_extension": ".py",
   "mimetype": "text/x-python",
   "name": "python",
   "nbconvert_exporter": "python",
   "pygments_lexer": "ipython2",
   "version": "2.7.6"
  }
 },
 "nbformat": 4,
 "nbformat_minor": 0
}
