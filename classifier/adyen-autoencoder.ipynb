{
 "metadata": {
  "kernelspec": {
   "language": "python",
   "display_name": "Python 3",
   "name": "python3"
  },
  "language_info": {
   "name": "python",
   "version": "3.7.12",
   "mimetype": "text/x-python",
   "codemirror_mode": {
    "name": "ipython",
    "version": 3
   },
   "pygments_lexer": "ipython3",
   "nbconvert_exporter": "python",
   "file_extension": ".py"
  }
 },
 "nbformat_minor": 4,
 "nbformat": 4,
 "cells": [
  {
   "cell_type": "code",
   "source": [
    "import pandas as pd\n",
    "import datetime\n",
    "from sklearn.preprocessing import StandardScaler\n",
    "import numpy as np\n",
    "import torch\n",
    "import random\n",
    "import os\n",
    "import time\n",
    "import matplotlib.pyplot as plt\n",
    "import matplotlib.lines as lines\n",
    "import seaborn as sns\n",
    "from sklearn.metrics import accuracy_score, roc_auc_score, f1_score, roc_curve, recall_score, precision_score, \\\n",
    "    confusion_matrix, average_precision_score\n"
   ],
   "metadata": {
    "_uuid": "8f2839f25d086af736a60e9eeb907d3b93b6e0e5",
    "_cell_guid": "b1076dfc-b9ad-4769-8c92-a6c4dae69d19",
    "execution": {
     "iopub.status.busy": "2023-01-13T22:32:46.462683Z",
     "iopub.execute_input": "2023-01-13T22:32:46.463051Z",
     "iopub.status.idle": "2023-01-13T22:32:46.469108Z",
     "shell.execute_reply.started": "2023-01-13T22:32:46.463022Z",
     "shell.execute_reply": "2023-01-13T22:32:46.467901Z"
    },
    "trusted": true
   },
   "execution_count": 129,
   "outputs": []
  },
  {
   "cell_type": "markdown",
   "source": [
    "# Common Functions"
   ],
   "metadata": {}
  },
  {
   "cell_type": "code",
   "source": [
    "def get_train_test_set(transactions_df,\n",
    "                       start_date_training=datetime.datetime(2021, 1, 1),\n",
    "                       delta_train=(datetime.datetime(2021, 10, 31) - datetime.datetime(2021, 1, 1)).days,\n",
    "                       delta_delay=(datetime.datetime(2021, 11, 30) - datetime.datetime(2021, 11, 1)).days,\n",
    "                       delta_test=(datetime.datetime(2021, 12, 31) - datetime.datetime(2021, 12, 1)).days\n",
    "                       ):\n",
    "    \"\"\"\n",
    "    Given the whole feature dataset, split them into train and test dataset considering a delay period.\n",
    "    It accounts for the fact that, in a real-world fraud detection system, the label of a transaction (fraudulent or genuine)\n",
    "    is only known after a customer complaint, or thanks to the result of a fraud investigation.\n",
    "    \"\"\"\n",
    "    # Get the training set data\n",
    "    train_df = transactions_df[(transactions_df.tx_datetime >= start_date_training) & (\n",
    "            transactions_df.tx_datetime < start_date_training + datetime.timedelta(days=delta_train + 1))]\n",
    "\n",
    "    # Get the delay set data\n",
    "    delay_df = transactions_df[\n",
    "        (transactions_df.tx_datetime >= start_date_training + datetime.timedelta(days=delta_train  + 1)) &\n",
    "        (transactions_df.tx_datetime < start_date_training + datetime.timedelta(\n",
    "            days=delta_train + delta_delay + 1))]\n",
    "    \n",
    "    # Get the test set data\n",
    "    test_df = transactions_df[\n",
    "        (transactions_df.tx_datetime >= start_date_training + datetime.timedelta(days=delta_train + delta_delay + 1)) &\n",
    "        (transactions_df.tx_datetime < start_date_training + datetime.timedelta(\n",
    "            days=delta_train + delta_delay + delta_test))]\n",
    "\n",
    "    # Sort data sets by ascending order of time\n",
    "    train_df = train_df.sort_values('tx_datetime')\n",
    "    delay_df = delay_df.sort_values('tx_datetime')\n",
    "    test_df = test_df.sort_values('tx_datetime')\n",
    "\n",
    "    return train_df, delay_df, test_df\n",
    "\n",
    "def scale_data(train, valid, test):\n",
    "    scaler = StandardScaler()\n",
    "    scaler.fit(train)\n",
    "    train = scaler.transform(train)\n",
    "    valid = scaler.transform(valid)\n",
    "    test = scaler.transform(test)\n",
    "\n",
    "    return train, valid, test\n",
    "\n",
    "    \n",
    "def pd_metrics(y_valid, y_pred_, y_pred_proba):\n",
    "    \"\"\"transform model metrics into dataframe\"\"\"\n",
    "    accuracy = accuracy_score(y_valid, y_pred_)\n",
    "\n",
    "    precision = precision_score(y_valid, y_pred_)\n",
    "\n",
    "    recall = recall_score(y_valid, y_pred_)\n",
    "\n",
    "    f1 = f1_score(y_valid, y_pred_)\n",
    "\n",
    "    auc = roc_auc_score(y_valid, y_pred_)\n",
    "\n",
    "    fpr, tpr, thresholds = roc_curve(y_valid, y_pred_)\n",
    "    ks = max(abs(fpr - tpr))\n",
    "\n",
    "    block_rate = len(y_pred_[y_pred_ == True]) / len(y_pred_)\n",
    "\n",
    "    false_neg = confusion_matrix(y_valid, y_pred_)[1, 0]\n",
    "    fraud_rate = false_neg / len(y_pred_[y_pred_ == False])\n",
    "\n",
    "    conversion_rate = 1 - block_rate\n",
    "\n",
    "    average_precision = average_precision_score(y_valid, y_pred_proba)\n",
    "\n",
    "    return pd.DataFrame(\n",
    "        [[accuracy, precision, recall, f1, auc, block_rate, fraud_rate, conversion_rate, average_precision]],\n",
    "        columns=[\"accuracy\", \"precision\", \"recall\", \"f1\", \"auc\", \"block_rate\", \"fraud_rate\", \"conversion_rate\",\n",
    "                 \"average_precision\"])\n"
   ],
   "metadata": {
    "execution": {
     "iopub.status.busy": "2023-01-13T22:32:46.785822Z",
     "iopub.execute_input": "2023-01-13T22:32:46.786185Z",
     "iopub.status.idle": "2023-01-13T22:32:46.802706Z",
     "shell.execute_reply.started": "2023-01-13T22:32:46.786148Z",
     "shell.execute_reply": "2023-01-13T22:32:46.801395Z"
    },
    "trusted": true
   },
   "execution_count": 130,
   "outputs": []
  },
  {
   "cell_type": "code",
   "source": [
    "## DL related\n",
    "\n",
    "def seed_everything(seed):\n",
    "    random.seed(seed)\n",
    "    os.environ['PYTHONHASHSEED'] = str(seed)\n",
    "    np.random.seed(seed)\n",
    "    torch.manual_seed(seed)\n",
    "    torch.cuda.manual_seed(seed)\n",
    "    torch.backends.cudnn.deterministic = True\n",
    "    torch.backends.cudnn.benchmark = True\n",
    "\n",
    "class FraudDatasetUnsupervised(torch.utils.data.Dataset):\n",
    "    \n",
    "    def __init__(self, x,output=True):\n",
    "        'Initialization'\n",
    "        self.x = x\n",
    "        self.output = output\n",
    "\n",
    "    def __len__(self):\n",
    "        'Denotes the total number of samples'\n",
    "        return len(self.x)\n",
    "\n",
    "    def __getitem__(self, index):\n",
    "        'Generates one sample of data'\n",
    "        # Select sample index\n",
    "        if self.output:\n",
    "            return self.x[index], self.x[index]\n",
    "        else:\n",
    "            return self.x[index]\n",
    "\n",
    "def prepare_generators(training_set,valid_set, test_set,batch_size=64):\n",
    "    \n",
    "    train_loader_params = {'batch_size': batch_size,\n",
    "              'shuffle': True,\n",
    "              'num_workers': 0}\n",
    "    valid_loader_params = {'batch_size': batch_size,\n",
    "              'num_workers': 0}\n",
    "    test_loader_params = {'batch_size': batch_size,\n",
    "              'num_workers': 0}\n",
    "    \n",
    "    training_generator = torch.utils.data.DataLoader(training_set, **train_loader_params)\n",
    "    valid_generator = torch.utils.data.DataLoader(valid_set, **valid_loader_params)\n",
    "    test_generator = torch.utils.data.DataLoader(test_set, **test_loader_params)\n",
    "    \n",
    "    return training_generator,valid_generator, test_generator\n",
    "\n",
    "class SimpleAutoencoder(torch.nn.Module):\n",
    "    \n",
    "        def __init__(self, input_size, intermediate_size, code_size):\n",
    "            super(SimpleAutoencoder, self).__init__()\n",
    "            # parameters\n",
    "            self.input_size = input_size\n",
    "            self.intermediate_size = intermediate_size           \n",
    "            self.code_size  = code_size\n",
    "            \n",
    "            self.relu = torch.nn.ReLU()   \n",
    "            \n",
    "            #encoder\n",
    "            self.fc1 = torch.nn.Linear(self.input_size, self.intermediate_size)\n",
    "            self.fc2 = torch.nn.Linear(self.intermediate_size, self.code_size)\n",
    "            \n",
    "            #decoder \n",
    "            self.fc3 = torch.nn.Linear(self.code_size, self.intermediate_size)            \n",
    "            self.fc4 = torch.nn.Linear(self.intermediate_size, self.input_size)\n",
    "            \n",
    "            \n",
    "        def forward(self, x):\n",
    "            \n",
    "            hidden = self.fc1(x)\n",
    "            hidden = self.relu(hidden)\n",
    "            \n",
    "            code = self.fc2(hidden)\n",
    "            code = self.relu(code)\n",
    " \n",
    "            hidden = self.fc3(code)\n",
    "            hidden = self.relu(hidden)\n",
    "            \n",
    "            output = self.fc4(hidden)\n",
    "            #linear activation in final layer)            \n",
    "            \n",
    "            return output\n",
    "        \n",
    "def per_sample_mse(model, generator):\n",
    "    \n",
    "    model.eval()\n",
    "    criterion = torch.nn.MSELoss(reduction=\"none\")\n",
    "    batch_losses = []\n",
    "    \n",
    "    for x_batch, y_batch in generator:\n",
    "        # Forward pass\n",
    "        y_pred = model(x_batch)\n",
    "        # Compute Loss\n",
    "        loss = criterion(y_pred.squeeze(), y_batch)\n",
    "        loss_app = list(torch.mean(loss,axis=1).detach().cpu().numpy())\n",
    "        batch_losses.extend(loss_app)\n",
    "    \n",
    "    return batch_losses\n",
    "\n",
    "\n",
    "def training_loop(model,training_generator,valid_generator,optimizer,criterion,max_epochs=100,apply_early_stopping=True,patience=2,verbose=False):\n",
    "    #Setting the model in training mode\n",
    "    model.train()\n",
    "\n",
    "    if apply_early_stopping:\n",
    "        early_stopping = EarlyStopping(verbose=verbose,patience=patience)\n",
    "    \n",
    "    all_train_losses = []\n",
    "    all_valid_losses = []\n",
    "    \n",
    "    #Training loop\n",
    "    start_time=time.time()\n",
    "    for epoch in range(max_epochs):\n",
    "        model.train()\n",
    "        train_loss=[]\n",
    "        for x_batch, y_batch in training_generator:\n",
    "            optimizer.zero_grad()\n",
    "            # Forward pass\n",
    "            y_pred = model(x_batch)\n",
    "            # Compute Loss\n",
    "            loss = criterion(y_pred.squeeze(), y_batch)\n",
    "            # Backward pass\n",
    "            loss.backward()\n",
    "            optimizer.step()   \n",
    "            train_loss.append(loss.item())\n",
    "        \n",
    "        #showing last training loss after each epoch\n",
    "        all_train_losses.append(np.mean(train_loss))\n",
    "        if verbose:\n",
    "            print('')\n",
    "            print('Epoch {}: train loss: {}'.format(epoch, np.mean(train_loss)))\n",
    "        #evaluating the model on the test set after each epoch    \n",
    "        valid_loss = evaluate_model(model,valid_generator,criterion)\n",
    "        all_valid_losses.append(valid_loss)\n",
    "        if verbose:\n",
    "            print('valid loss: {}'.format(valid_loss))\n",
    "        if apply_early_stopping:\n",
    "            if not early_stopping.continue_training(valid_loss):\n",
    "                if verbose:\n",
    "                    print(\"Early stopping\")\n",
    "                break\n",
    "        \n",
    "    training_execution_time=time.time()-start_time\n",
    "    return model,training_execution_time,all_train_losses,all_valid_losses\n",
    "\n",
    "class EarlyStopping:\n",
    "    \n",
    "    def __init__(self, patience=2, verbose=False):\n",
    "        self.patience = patience\n",
    "        self.verbose = verbose\n",
    "        self.counter = 0\n",
    "        self.best_score = np.Inf\n",
    "    \n",
    "    def continue_training(self,current_score):\n",
    "        if self.best_score > current_score:\n",
    "            self.best_score = current_score\n",
    "            self.counter = 0\n",
    "            if self.verbose:\n",
    "                print(\"New best score:\", current_score)\n",
    "        else:\n",
    "            self.counter+=1\n",
    "            if self.verbose:\n",
    "                print(self.counter, \" iterations since best score.\")\n",
    "                \n",
    "        return self.counter <= self.patience        \n",
    "    \n",
    "def evaluate_model(model,generator,criterion):\n",
    "    model.eval()\n",
    "    batch_losses = []\n",
    "    for x_batch, y_batch in generator:\n",
    "        # Forward pass\n",
    "        y_pred = model(x_batch)\n",
    "        # Compute Loss\n",
    "        loss = criterion(y_pred.squeeze(), y_batch)\n",
    "        batch_losses.append(loss.item())\n",
    "    mean_loss = np.mean(batch_losses)    \n",
    "    return mean_loss"
   ],
   "metadata": {
    "execution": {
     "iopub.status.busy": "2023-01-13T22:32:46.933640Z",
     "iopub.execute_input": "2023-01-13T22:32:46.935738Z",
     "iopub.status.idle": "2023-01-13T22:32:46.961666Z",
     "shell.execute_reply.started": "2023-01-13T22:32:46.935703Z",
     "shell.execute_reply": "2023-01-13T22:32:46.960578Z"
    },
    "trusted": true
   },
   "execution_count": 131,
   "outputs": []
  },
  {
   "cell_type": "code",
   "source": [
    "SEED = 42\n",
    "\n",
    "if torch.cuda.is_available():\n",
    "    DEVICE = \"cuda\" \n",
    "else:\n",
    "    DEVICE = \"cpu\"\n",
    "print(\"Selected device is\",DEVICE)"
   ],
   "metadata": {
    "execution": {
     "iopub.status.busy": "2023-01-13T22:32:47.085104Z",
     "iopub.execute_input": "2023-01-13T22:32:47.085460Z",
     "iopub.status.idle": "2023-01-13T22:32:47.091685Z",
     "shell.execute_reply.started": "2023-01-13T22:32:47.085430Z",
     "shell.execute_reply": "2023-01-13T22:32:47.090512Z"
    },
    "trusted": true
   },
   "execution_count": 132,
   "outputs": [
    {
     "name": "stdout",
     "text": "Selected device is cuda\n",
     "output_type": "stream"
    }
   ]
  },
  {
   "cell_type": "markdown",
   "source": [
    "# Import Training Data"
   ],
   "metadata": {}
  },
  {
   "cell_type": "code",
   "source": [
    "df_features = pd.read_csv(f\"/kaggle/input/adyen-2023/final_features.csv\")\n",
    "df_features[\"tx_datetime\"] = pd.to_datetime(df_features[\"tx_datetime\"])\n",
    "df_train, df_valid, df_test = get_train_test_set(\n",
    "    df_features,\n",
    "    start_date_training=datetime.datetime(2021, 1, 1),\n",
    "    delta_train=(datetime.datetime(2021, 5, 31) - datetime.datetime(2021, 1,\n",
    "                                                                     1)).days,\n",
    "    delta_delay=(datetime.datetime(2021, 6, 30) - datetime.datetime(2021, 6,\n",
    "                                                                     1)).days,\n",
    "    delta_test=(datetime.datetime(2021, 12, 31) - datetime.datetime(2021, 7,\n",
    "                                                                    1)).days\n",
    ")\n",
    "\n",
    "columns = ['is_credit', 'no_ip', 'no_email', 'same_country', 'merchant_Merchant B',\n",
    "           'merchant_Merchant C', 'merchant_Merchant D', 'merchant_Merchant E',\n",
    "           'card_scheme_MasterCard', 'card_scheme_Other', 'card_scheme_Visa',\n",
    "           'device_type_Linux', 'device_type_MacOS', 'device_type_Other',\n",
    "           'device_type_Windows', 'device_type_iOS', 'shopper_interaction_POS',\n",
    "           'is_night', 'is_weekend', 'diff_tx_time_in_hours',\n",
    "           'is_diff_previous_ip_country', 'card_nb_tx_1day_window',\n",
    "           'card_avg_amount_1day_window', 'card_nb_tx_7day_window',\n",
    "           'card_avg_amount_7day_window', 'card_nb_tx_30day_window',\n",
    "           'card_avg_amount_30day_window', 'email_address_nb_tx_1day_window',\n",
    "           'email_address_risk_1day_window', 'email_address_nb_tx_7day_window',\n",
    "           'email_address_risk_7day_window', 'email_address_nb_tx_30day_window',\n",
    "           'email_address_risk_30day_window', 'ip_address_nb_tx_1day_window',\n",
    "           'ip_address_risk_1day_window', 'ip_address_nb_tx_7day_window',\n",
    "           'ip_address_risk_7day_window', 'ip_address_nb_tx_30day_window',\n",
    "           'ip_address_risk_30day_window']\n",
    "\n",
    "X_train = df_train[columns]\n",
    "y_train = df_train[\"has_fraudulent_dispute\"]\n",
    "print(f\"Train data size: {X_train.shape[0]}\")\n",
    "\n",
    "X_valid = df_valid[columns]\n",
    "y_valid = df_valid[\"has_fraudulent_dispute\"]\n",
    "print(f\"Train data size: {X_valid.shape[0]}\")\n",
    "\n",
    "X_test = df_test[X_train.columns]\n",
    "y_test = df_test[\"has_fraudulent_dispute\"]\n",
    "print(f\"Test data size: {X_test.shape[0]}\")\n",
    "\n",
    "# scale data\n",
    "X_train, X_valid, X_test = scale_data(X_train,X_valid, X_test)"
   ],
   "metadata": {
    "execution": {
     "iopub.status.busy": "2023-01-13T22:32:47.820891Z",
     "iopub.execute_input": "2023-01-13T22:32:47.821817Z",
     "iopub.status.idle": "2023-01-13T22:32:49.402067Z",
     "shell.execute_reply.started": "2023-01-13T22:32:47.821781Z",
     "shell.execute_reply": "2023-01-13T22:32:49.401030Z"
    },
    "trusted": true
   },
   "execution_count": 133,
   "outputs": [
    {
     "name": "stdout",
     "text": "Train data size: 57443\nTrain data size: 10922\nTest data size: 69146\n",
     "output_type": "stream"
    }
   ]
  },
  {
   "cell_type": "code",
   "source": [
    "# Prepare Dataloader\n",
    "X_train = torch.FloatTensor(X_train).to(DEVICE)\n",
    "X_valid = torch.FloatTensor(X_valid).to(DEVICE)\n",
    "X_test = torch.FloatTensor(X_test).to(DEVICE)\n",
    "y_train = torch.FloatTensor(y_train.values).to(DEVICE)\n",
    "y_valid= torch.FloatTensor(y_valid.values).to(DEVICE)\n",
    "y_test = torch.FloatTensor(y_test.values).to(DEVICE)\n",
    "training_set = FraudDatasetUnsupervised(X_train)\n",
    "valid_set = FraudDatasetUnsupervised(X_valid)\n",
    "test_set = FraudDatasetUnsupervised(X_test)\n",
    "training_generator,valid_generator, test_generator = prepare_generators(training_set, valid_set, test_set, batch_size = 64)"
   ],
   "metadata": {
    "execution": {
     "iopub.status.busy": "2023-01-13T22:32:49.404216Z",
     "iopub.execute_input": "2023-01-13T22:32:49.404601Z",
     "iopub.status.idle": "2023-01-13T22:32:49.425575Z",
     "shell.execute_reply.started": "2023-01-13T22:32:49.404565Z",
     "shell.execute_reply": "2023-01-13T22:32:49.424646Z"
    },
    "trusted": true
   },
   "execution_count": 134,
   "outputs": []
  },
  {
   "cell_type": "code",
   "source": [],
   "metadata": {
    "trusted": true
   },
   "execution_count": null,
   "outputs": []
  },
  {
   "cell_type": "code",
   "source": [
    "seed_everything(SEED)\n",
    "model = SimpleAutoencoder(input_size=X_train.shape[1], intermediate_size=100, code_size=20).to(DEVICE)\n",
    "criterion = torch.nn.MSELoss().to(DEVICE)\n",
    "valid_losses = per_sample_mse(model, valid_generator)"
   ],
   "metadata": {
    "execution": {
     "iopub.status.busy": "2023-01-13T22:32:50.346464Z",
     "iopub.execute_input": "2023-01-13T22:32:50.347450Z",
     "iopub.status.idle": "2023-01-13T22:32:50.469826Z",
     "shell.execute_reply.started": "2023-01-13T22:32:50.347413Z",
     "shell.execute_reply": "2023-01-13T22:32:50.468917Z"
    },
    "trusted": true
   },
   "execution_count": 135,
   "outputs": []
  },
  {
   "cell_type": "code",
   "source": [
    "# losses without training\n",
    "print(valid_losses[0:5])\n",
    "print(np.mean(valid_losses))"
   ],
   "metadata": {
    "execution": {
     "iopub.status.busy": "2023-01-13T22:32:51.006742Z",
     "iopub.execute_input": "2023-01-13T22:32:51.007845Z",
     "iopub.status.idle": "2023-01-13T22:32:51.015780Z",
     "shell.execute_reply.started": "2023-01-13T22:32:51.007807Z",
     "shell.execute_reply": "2023-01-13T22:32:51.014562Z"
    },
    "trusted": true
   },
   "execution_count": 136,
   "outputs": [
    {
     "name": "stdout",
     "text": "[0.7363908, 0.4712032, 1.6770352, 0.82255965, 1.4034028]\n1.0082072\n",
     "output_type": "stream"
    }
   ]
  },
  {
   "cell_type": "markdown",
   "source": [
    "# Training"
   ],
   "metadata": {}
  },
  {
   "cell_type": "code",
   "source": [
    "seed_everything(SEED)\n",
    "\n",
    "training_generator,valid_generator, test_generator = prepare_generators(training_set, valid_set, test_set, batch_size = 64)\n",
    "\n",
    "criterion = torch.nn.MSELoss().to(DEVICE)\n",
    "\n",
    "model = SimpleAutoencoder(len(columns), 100,20).to(DEVICE)\n",
    "\n",
    "optimizer = torch.optim.Adam(model.parameters(), lr = 0.0001)"
   ],
   "metadata": {
    "execution": {
     "iopub.status.busy": "2023-01-13T22:32:52.100266Z",
     "iopub.execute_input": "2023-01-13T22:32:52.101625Z",
     "iopub.status.idle": "2023-01-13T22:32:52.110233Z",
     "shell.execute_reply.started": "2023-01-13T22:32:52.101577Z",
     "shell.execute_reply": "2023-01-13T22:32:52.109386Z"
    },
    "trusted": true
   },
   "execution_count": 137,
   "outputs": []
  },
  {
   "cell_type": "code",
   "source": [
    "model,training_execution_time,all_train_losses,all_valid_losses = training_loop(model,\n",
    "                                                                        training_generator,\n",
    "                                                                        valid_generator,\n",
    "                                                                        optimizer,\n",
    "                                                                        criterion,\n",
    "                                                                        max_epochs=500,\n",
    "                                                                        verbose=True)"
   ],
   "metadata": {
    "execution": {
     "iopub.status.busy": "2023-01-13T22:32:52.692871Z",
     "iopub.execute_input": "2023-01-13T22:32:52.693234Z",
     "iopub.status.idle": "2023-01-13T22:35:30.753393Z",
     "shell.execute_reply.started": "2023-01-13T22:32:52.693202Z",
     "shell.execute_reply": "2023-01-13T22:35:30.752401Z"
    },
    "trusted": true
   },
   "execution_count": 138,
   "outputs": [
    {
     "name": "stdout",
     "text": "\nEpoch 0: train loss: 0.725807086695276\nvalid loss: 0.48773360339521665\nNew best score: 0.48773360339521665\n\nEpoch 1: train loss: 0.38270884636117514\nvalid loss: 0.3100404159890281\nNew best score: 0.3100404159890281\n\nEpoch 2: train loss: 0.2606237465329053\nvalid loss: 0.23219221882652819\nNew best score: 0.23219221882652819\n\nEpoch 3: train loss: 0.21378636328640388\nvalid loss: 0.2080295340795266\nNew best score: 0.2080295340795266\n\nEpoch 4: train loss: 0.193438354564337\nvalid loss: 0.18793078315885445\nNew best score: 0.18793078315885445\n\nEpoch 5: train loss: 0.17247714842348164\nvalid loss: 0.1675579080804747\nNew best score: 0.1675579080804747\n\nEpoch 6: train loss: 0.1534458230724579\nvalid loss: 0.14959904085300121\nNew best score: 0.14959904085300121\n\nEpoch 7: train loss: 0.13712153256039045\nvalid loss: 0.13498563241017492\nNew best score: 0.13498563241017492\n\nEpoch 8: train loss: 0.12326188366403824\nvalid loss: 0.1222086047742799\nNew best score: 0.1222086047742799\n\nEpoch 9: train loss: 0.11264763610698864\nvalid loss: 0.11369000458055073\nNew best score: 0.11369000458055073\n\nEpoch 10: train loss: 0.10416579065649441\nvalid loss: 0.10587827604242235\nNew best score: 0.10587827604242235\n\nEpoch 11: train loss: 0.09751950033042239\nvalid loss: 0.09997853272926738\nNew best score: 0.09997853272926738\n\nEpoch 12: train loss: 0.09252401477012177\nvalid loss: 0.09567580860086351\nNew best score: 0.09567580860086351\n\nEpoch 13: train loss: 0.08857026079333571\nvalid loss: 0.0919071485598882\nNew best score: 0.0919071485598882\n\nEpoch 14: train loss: 0.08537893279772957\nvalid loss: 0.08900909949290126\nNew best score: 0.08900909949290126\n\nEpoch 15: train loss: 0.08242069156155953\nvalid loss: 0.0852483573930654\nNew best score: 0.0852483573930654\n\nEpoch 16: train loss: 0.07951546169170293\nvalid loss: 0.08322228120955807\nNew best score: 0.08322228120955807\n\nEpoch 17: train loss: 0.07692039743032647\nvalid loss: 0.07994001596207508\nNew best score: 0.07994001596207508\n\nEpoch 18: train loss: 0.07421576337917876\nvalid loss: 0.07709419004052703\nNew best score: 0.07709419004052703\n\nEpoch 19: train loss: 0.07172284259944159\nvalid loss: 0.07423078233909886\nNew best score: 0.07423078233909886\n\nEpoch 20: train loss: 0.06927134873208596\nvalid loss: 0.07166542230468047\nNew best score: 0.07166542230468047\n\nEpoch 21: train loss: 0.0671110027251902\nvalid loss: 0.06972886397563226\nNew best score: 0.06972886397563226\n\nEpoch 22: train loss: 0.06514236609345687\nvalid loss: 0.06748628309159949\nNew best score: 0.06748628309159949\n\nEpoch 23: train loss: 0.06329162226147735\nvalid loss: 0.06674951269176968\nNew best score: 0.06674951269176968\n\nEpoch 24: train loss: 0.061822037753920776\nvalid loss: 0.06429506695627818\nNew best score: 0.06429506695627818\n\nEpoch 25: train loss: 0.0605438276212704\nvalid loss: 0.06314581570525964\nNew best score: 0.06314581570525964\n\nEpoch 26: train loss: 0.05940273574621879\nvalid loss: 0.06173225783073066\nNew best score: 0.06173225783073066\n\nEpoch 27: train loss: 0.0584717027693655\nvalid loss: 0.06078258275506441\nNew best score: 0.06078258275506441\n\nEpoch 28: train loss: 0.057580726322840343\nvalid loss: 0.05958745295279905\nNew best score: 0.05958745295279905\n\nEpoch 29: train loss: 0.05691326558092124\nvalid loss: 0.05922570940085322\nNew best score: 0.05922570940085322\n\nEpoch 30: train loss: 0.056171849430154984\nvalid loss: 0.05861716921174387\nNew best score: 0.05861716921174387\n\nEpoch 31: train loss: 0.0554773262484136\nvalid loss: 0.0586227494025091\n1  iterations since best score.\n\nEpoch 32: train loss: 0.054976716954966295\nvalid loss: 0.05738969150473151\nNew best score: 0.05738969150473151\n\nEpoch 33: train loss: 0.054416251487050926\nvalid loss: 0.0568190061906625\nNew best score: 0.0568190061906625\n\nEpoch 34: train loss: 0.05389683713145006\nvalid loss: 0.05619146012597614\nNew best score: 0.05619146012597614\n\nEpoch 35: train loss: 0.053441295925038296\nvalid loss: 0.05598693903078113\nNew best score: 0.05598693903078113\n\nEpoch 36: train loss: 0.05301796843013612\nvalid loss: 0.055691015062450666\nNew best score: 0.055691015062450666\n\nEpoch 37: train loss: 0.052557061030166455\nvalid loss: 0.0549166058108472\nNew best score: 0.0549166058108472\n\nEpoch 38: train loss: 0.052289809560805624\nvalid loss: 0.0545169776251093\nNew best score: 0.0545169776251093\n\nEpoch 39: train loss: 0.05177034725557457\nvalid loss: 0.05375545105913229\nNew best score: 0.05375545105913229\n\nEpoch 40: train loss: 0.05145182317425653\nvalid loss: 0.05346507411341221\nNew best score: 0.05346507411341221\n\nEpoch 41: train loss: 0.05105854501586847\nvalid loss: 0.05323470748786689\nNew best score: 0.05323470748786689\n\nEpoch 42: train loss: 0.05068083143355387\nvalid loss: 0.052907337440036194\nNew best score: 0.052907337440036194\n\nEpoch 43: train loss: 0.0502885219999869\nvalid loss: 0.05292065025508752\n1  iterations since best score.\n\nEpoch 44: train loss: 0.050032075457191946\nvalid loss: 0.05226537756273272\nNew best score: 0.05226537756273272\n\nEpoch 45: train loss: 0.04959931793126935\nvalid loss: 0.05270196946218\n1  iterations since best score.\n\nEpoch 46: train loss: 0.04933135211882586\nvalid loss: 0.0511451794804014\nNew best score: 0.0511451794804014\n\nEpoch 47: train loss: 0.0489430038573714\nvalid loss: 0.05138050069847302\n1  iterations since best score.\n\nEpoch 48: train loss: 0.048627574299617705\nvalid loss: 0.050848157052495326\nNew best score: 0.050848157052495326\n\nEpoch 49: train loss: 0.04827287036900664\nvalid loss: 0.05058302496129658\nNew best score: 0.05058302496129658\n\nEpoch 50: train loss: 0.04789110995364481\nvalid loss: 0.050212945168217026\nNew best score: 0.050212945168217026\n\nEpoch 51: train loss: 0.04753255403138083\nvalid loss: 0.0496926238183041\nNew best score: 0.0496926238183041\n\nEpoch 52: train loss: 0.04724230239362786\nvalid loss: 0.04931433032653485\nNew best score: 0.04931433032653485\n\nEpoch 53: train loss: 0.04690801049219673\nvalid loss: 0.049146669911362274\nNew best score: 0.049146669911362274\n\nEpoch 54: train loss: 0.04653818244301198\nvalid loss: 0.0490063089136666\nNew best score: 0.0490063089136666\n\nEpoch 55: train loss: 0.046118572993174956\nvalid loss: 0.048889369622134325\nNew best score: 0.048889369622134325\n\nEpoch 56: train loss: 0.04578075492609383\nvalid loss: 0.04764907191676355\nNew best score: 0.04764907191676355\n\nEpoch 57: train loss: 0.04546671548032747\nvalid loss: 0.047449143821297335\nNew best score: 0.047449143821297335\n\nEpoch 58: train loss: 0.04506731525536436\nvalid loss: 0.04686110541878039\nNew best score: 0.04686110541878039\n\nEpoch 59: train loss: 0.0446912123881828\nvalid loss: 0.0465807468243684\nNew best score: 0.0465807468243684\n\nEpoch 60: train loss: 0.044264897990366134\nvalid loss: 0.04655519474232406\nNew best score: 0.04655519474232406\n\nEpoch 61: train loss: 0.04394527884171176\nvalid loss: 0.04558134558256607\nNew best score: 0.04558134558256607\n\nEpoch 62: train loss: 0.04352165970801975\nvalid loss: 0.04541422728427321\nNew best score: 0.04541422728427321\n\nEpoch 63: train loss: 0.04316306314358533\nvalid loss: 0.04516568752713719\nNew best score: 0.04516568752713719\n\nEpoch 64: train loss: 0.042798202692267626\nvalid loss: 0.04529708947398161\n1  iterations since best score.\n\nEpoch 65: train loss: 0.042450770953533244\nvalid loss: 0.044106034213426515\nNew best score: 0.044106034213426515\n\nEpoch 66: train loss: 0.042149553604357626\nvalid loss: 0.04404181257238862\nNew best score: 0.04404181257238862\n\nEpoch 67: train loss: 0.04182055374329499\nvalid loss: 0.043634229159930295\nNew best score: 0.043634229159930295\n\nEpoch 68: train loss: 0.04145516905278167\nvalid loss: 0.04368923935625288\n1  iterations since best score.\n\nEpoch 69: train loss: 0.04116984984457891\nvalid loss: 0.04285651926844441\nNew best score: 0.04285651926844441\n\nEpoch 70: train loss: 0.04089546565148971\nvalid loss: 0.042750467279413985\nNew best score: 0.042750467279413985\n\nEpoch 71: train loss: 0.04054546941129827\nvalid loss: 0.04231533685927851\nNew best score: 0.04231533685927851\n\nEpoch 72: train loss: 0.04024685679298135\nvalid loss: 0.042222158591213976\nNew best score: 0.042222158591213976\n\nEpoch 73: train loss: 0.03997637538596125\nvalid loss: 0.041654759636747904\nNew best score: 0.041654759636747904\n\nEpoch 74: train loss: 0.03975901446556195\nvalid loss: 0.04123418318510753\nNew best score: 0.04123418318510753\n\nEpoch 75: train loss: 0.03948692504818528\nvalid loss: 0.04124749261254107\n1  iterations since best score.\n\nEpoch 76: train loss: 0.03931877415685319\nvalid loss: 0.040817192107526185\nNew best score: 0.040817192107526185\n\nEpoch 77: train loss: 0.03910466354186823\nvalid loss: 0.04073127044353917\nNew best score: 0.04073127044353917\n\nEpoch 78: train loss: 0.03893641140602346\nvalid loss: 0.04092056743190651\n1  iterations since best score.\n\nEpoch 79: train loss: 0.03879497843257303\nvalid loss: 0.04070066737980522\nNew best score: 0.04070066737980522\n\nEpoch 80: train loss: 0.03857989368010271\nvalid loss: 0.040388448632251446\nNew best score: 0.040388448632251446\n\nEpoch 81: train loss: 0.03843460149154532\nvalid loss: 0.040332934301760465\nNew best score: 0.040332934301760465\n\nEpoch 82: train loss: 0.0383622470625027\nvalid loss: 0.040275340355192014\nNew best score: 0.040275340355192014\n\nEpoch 83: train loss: 0.03817787777864787\nvalid loss: 0.039919693622062775\nNew best score: 0.039919693622062775\n\nEpoch 84: train loss: 0.03796787379840534\nvalid loss: 0.0397903193224069\nNew best score: 0.0397903193224069\n\nEpoch 85: train loss: 0.03791594749445174\nvalid loss: 0.04036781711405829\n1  iterations since best score.\n\nEpoch 86: train loss: 0.037855989940647025\nvalid loss: 0.03971826375532917\nNew best score: 0.03971826375532917\n\nEpoch 87: train loss: 0.03766323513204112\nvalid loss: 0.03993035995602956\n1  iterations since best score.\n\nEpoch 88: train loss: 0.037602904579396836\nvalid loss: 0.04017186994876778\n2  iterations since best score.\n\nEpoch 89: train loss: 0.0375377839588807\nvalid loss: 0.03977206807953921\n3  iterations since best score.\nEarly stopping\n",
     "output_type": "stream"
    }
   ]
  },
  {
   "cell_type": "code",
   "source": [
    "ma_window = 5\n",
    "\n",
    "plt.plot(np.arange(len(all_train_losses)-ma_window + 1)+1, np.convolve(all_train_losses, np.ones(ma_window)/ma_window, mode='valid'))\n",
    "plt.plot(np.arange(len(all_valid_losses)-ma_window + 1)+1, np.convolve(all_valid_losses, np.ones(ma_window)/ma_window, mode='valid'))\n",
    "plt.xlabel('epoch')\n",
    "plt.ylabel('loss')\n",
    "plt.legend(['train','valid'])\n",
    "#plt.ylim([0.01,0.06])"
   ],
   "metadata": {
    "execution": {
     "iopub.status.busy": "2023-01-13T22:39:16.162657Z",
     "iopub.execute_input": "2023-01-13T22:39:16.163032Z",
     "iopub.status.idle": "2023-01-13T22:39:16.389179Z",
     "shell.execute_reply.started": "2023-01-13T22:39:16.163000Z",
     "shell.execute_reply": "2023-01-13T22:39:16.388249Z"
    },
    "trusted": true
   },
   "execution_count": 144,
   "outputs": [
    {
     "execution_count": 144,
     "output_type": "execute_result",
     "data": {
      "text/plain": "<matplotlib.legend.Legend at 0x7fc4ef311d90>"
     },
     "metadata": {}
    },
    {
     "output_type": "display_data",
     "data": {
      "text/plain": "<Figure size 432x288 with 1 Axes>",
      "image/png": "[encoded data removed]"
     },
     "metadata": {
      "needs_background": "light"
     }
    }
   ]
  },
  {
   "cell_type": "code",
   "source": [
    "train_losses = per_sample_mse(model, training_generator)\n",
    "print(train_losses[0:5])\n",
    "print(np.mean(train_losses))\n",
    "\n",
    "train_genuine_losses = np.array(train_losses)[y_train.cpu().numpy() == 0]\n",
    "train_fraud_losses = np.array(train_losses)[y_train.cpu().numpy() == 1]\n",
    "print(\"Average fraud reconstruction error:\", np.mean(train_genuine_losses))\n",
    "print(\"Average genuine reconstruction error:\", np.mean(train_fraud_losses))"
   ],
   "metadata": {
    "execution": {
     "iopub.status.busy": "2023-01-13T22:39:22.666147Z",
     "iopub.execute_input": "2023-01-13T22:39:22.666650Z",
     "iopub.status.idle": "2023-01-13T22:39:23.257808Z",
     "shell.execute_reply.started": "2023-01-13T22:39:22.666609Z",
     "shell.execute_reply": "2023-01-13T22:39:23.256786Z"
    },
    "trusted": true
   },
   "execution_count": 145,
   "outputs": [
    {
     "name": "stdout",
     "text": "[0.0039413115, 0.009499348, 0.014512614, 0.012666309, 0.021930164]\n0.037629113\nAverage fraud reconstruction error: 0.037893213\nAverage genuine reconstruction error: 0.034351144\n",
     "output_type": "stream"
    }
   ]
  },
  {
   "cell_type": "code",
   "source": [
    "valid_losses = per_sample_mse(model, valid_generator)\n",
    "print(valid_losses[0:5])\n",
    "print(np.mean(valid_losses))\n",
    "\n",
    "valid_genuine_losses = np.array(valid_losses)[y_valid.cpu().numpy() == 0]\n",
    "valid_fraud_losses = np.array(valid_losses)[y_valid.cpu().numpy() == 1]\n",
    "print(\"Average fraud reconstruction error:\", np.mean(valid_fraud_losses))\n",
    "print(\"Average genuine reconstruction error:\", np.mean(valid_genuine_losses))"
   ],
   "metadata": {
    "execution": {
     "iopub.status.busy": "2023-01-13T22:39:23.259587Z",
     "iopub.execute_input": "2023-01-13T22:39:23.260604Z",
     "iopub.status.idle": "2023-01-13T22:39:23.409096Z",
     "shell.execute_reply.started": "2023-01-13T22:39:23.260566Z",
     "shell.execute_reply": "2023-01-13T22:39:23.408117Z"
    },
    "trusted": true
   },
   "execution_count": 146,
   "outputs": [
    {
     "name": "stdout",
     "text": "[0.092695415, 0.010693915, 0.20118737, 0.024127873, 0.05813095]\n0.03979701\nAverage fraud reconstruction error: 0.14965338\nAverage genuine reconstruction error: 0.03106757\n",
     "output_type": "stream"
    }
   ]
  },
  {
   "cell_type": "code",
   "source": [
    "test_losses = per_sample_mse(model, test_generator)\n",
    "print(test_losses[0:5])\n",
    "print(np.mean(test_losses))\n",
    "\n",
    "test_genuine_losses = np.array(test_losses)[y_test.cpu().numpy() == 0]\n",
    "test_fraud_losses = np.array(test_losses)[y_test.cpu().numpy() == 1]\n",
    "print(\"Average fraud reconstruction error:\", np.mean(test_fraud_losses))\n",
    "print(\"Average genuine reconstruction error:\", np.mean(test_genuine_losses))"
   ],
   "metadata": {
    "execution": {
     "iopub.status.busy": "2023-01-13T22:39:23.410681Z",
     "iopub.execute_input": "2023-01-13T22:39:23.411016Z",
     "iopub.status.idle": "2023-01-13T22:39:24.131425Z",
     "shell.execute_reply.started": "2023-01-13T22:39:23.410982Z",
     "shell.execute_reply": "2023-01-13T22:39:24.129646Z"
    },
    "trusted": true
   },
   "execution_count": 147,
   "outputs": [
    {
     "name": "stdout",
     "text": "[0.020247104, 0.0012014237, 0.0038813674, 0.028374523, 0.006181513]\n0.04020127\nAverage fraud reconstruction error: 0.14284658\nAverage genuine reconstruction error: 0.031269755\n",
     "output_type": "stream"
    }
   ]
  },
  {
   "cell_type": "code",
   "source": [
    "print(X_train[0])\n",
    "print(model(X_train[0].to(DEVICE)))"
   ],
   "metadata": {
    "execution": {
     "iopub.status.busy": "2023-01-13T22:39:26.484517Z",
     "iopub.execute_input": "2023-01-13T22:39:26.484914Z",
     "iopub.status.idle": "2023-01-13T22:39:26.496861Z",
     "shell.execute_reply.started": "2023-01-13T22:39:26.484882Z",
     "shell.execute_reply": "2023-01-13T22:39:26.495916Z"
    },
    "trusted": true
   },
   "execution_count": 148,
   "outputs": [
    {
     "name": "stdout",
     "text": "tensor([ 0.6086,  1.9965, -0.3345, -2.2000,  2.0069, -0.3308, -0.5019, -0.3334,\n         1.5303, -0.5787, -0.7315, -0.4468, -0.4431, -0.4639, -0.4443,  2.2554,\n        -0.3135,  2.5358, -0.6462, -0.8518, -0.9234, -0.1911, -0.2341, -0.4216,\n        -0.2594, -0.5790, -0.3049, -0.2590, -0.1323, -0.5207, -0.2423, -0.5167,\n        -0.2682, -0.1992, -0.1013, -0.4163, -0.1965, -0.4280, -0.2252],\n       device='cuda:0')\ntensor([ 0.4918,  1.9444, -0.2927, -2.0988,  1.9909, -0.3151, -0.5121, -0.3889,\n         1.4662, -0.6544, -0.8527, -0.4153, -0.5230, -0.4900, -0.4597,  2.1504,\n        -0.2936,  2.5219, -0.6144, -0.8113, -0.8816, -0.1961, -0.3152, -0.4131,\n        -0.2648, -0.5580, -0.1479, -0.3537, -0.1731, -0.5382, -0.1594, -0.4608,\n        -0.1665,  0.0048, -0.0857, -0.5323, -0.2456, -0.5391, -0.2840],\n       device='cuda:0', grad_fn=<AddBackward0>)\n",
     "output_type": "stream"
    }
   ]
  },
  {
   "cell_type": "code",
   "source": [
    "# Plot Transactions MSE with labels"
   ],
   "metadata": {
    "execution": {
     "iopub.status.busy": "2023-01-13T22:39:28.290816Z",
     "iopub.execute_input": "2023-01-13T22:39:28.291174Z",
     "iopub.status.idle": "2023-01-13T22:39:28.295814Z",
     "shell.execute_reply.started": "2023-01-13T22:39:28.291144Z",
     "shell.execute_reply": "2023-01-13T22:39:28.294621Z"
    },
    "trusted": true
   },
   "execution_count": 149,
   "outputs": []
  },
  {
   "cell_type": "code",
   "source": [
    "plot_samples = 100\n",
    "\n",
    "genuine_losses = valid_genuine_losses\n",
    "fraud_losses = valid_fraud_losses\n",
    "\n",
    "cut_off = np.percentile(genuine_losses, 92)\n",
    "\n",
    "print(f\"cutoff:{cut_off}\")\n",
    "\n",
    "# normal event\n",
    "normal_events_mse = genuine_losses[0:plot_samples]\n",
    "normal_events_df = pd.DataFrame({\n",
    "\t'mse': normal_events_mse,\n",
    "\t'n': np.arange(0, plot_samples),\n",
    "\t'anomaly': np.zeros(plot_samples)})\n",
    "\n",
    "# abnormal event\n",
    "abnormal_events_mse = fraud_losses[0:plot_samples]\n",
    "abnormal_events_df = pd.DataFrame({\n",
    "\t'mse': abnormal_events_mse,\n",
    "\t'n': np.arange(0, plot_samples),\n",
    "\t'anomaly': np.ones(plot_samples)})\n",
    "\n",
    "mse_df = pd.concat([normal_events_df, abnormal_events_df], ignore_index=True)\n",
    "plot = sns.lineplot(x=mse_df.n, y=mse_df.mse, hue=mse_df.anomaly)\n",
    "\n",
    "line = lines.Line2D(\n",
    "\txdata=np.arange(0, plot_samples),\n",
    "\tydata=np.full(plot_samples, cut_off),\n",
    "\tcolor='#CC2B5E',\n",
    "\tlinewidth=1.5,\n",
    "\tlinestyle='dashed')\n",
    "\n",
    "plot.add_artist(line)\n",
    "plt.title('Threshlold: {threshold}'.format(threshold=cut_off))\n",
    "plt.show()\n",
    "\n",
    "y_true = df_test[\"has_fraudulent_dispute\"]\n",
    "y_pred_proba = test_losses\n",
    "y_pred = (y_pred_proba >= cut_off).astype(bool)\n",
    "df_performances_one = pd_metrics(y_true, y_pred, y_pred_proba)\n",
    "df_performances_one"
   ],
   "metadata": {
    "execution": {
     "iopub.status.busy": "2023-01-13T23:14:03.394487Z",
     "iopub.execute_input": "2023-01-13T23:14:03.394849Z",
     "iopub.status.idle": "2023-01-13T23:14:03.855551Z",
     "shell.execute_reply.started": "2023-01-13T23:14:03.394822Z",
     "shell.execute_reply": "2023-01-13T23:14:03.854667Z"
    },
    "trusted": true
   },
   "execution_count": 193,
   "outputs": [
    {
     "name": "stdout",
     "text": "cutoff:0.0691097673773767\n",
     "output_type": "stream"
    },
    {
     "output_type": "display_data",
     "data": {
      "text/plain": "<Figure size 432x288 with 1 Axes>",
      "image/png": "[encoded data removed]"
     },
     "metadata": {
      "needs_background": "light"
     }
    },
    {
     "execution_count": 193,
     "output_type": "execute_result",
     "data": {
      "text/plain": "   accuracy  precision    recall        f1       auc  block_rate  fraud_rate  \\\n0  0.896813   0.408467  0.644986  0.500175  0.781856    0.126399     0.03253   \n\n   conversion_rate  average_precision  \n0         0.873601           0.354456  ",
      "text/html": "<div>\n<style scoped>\n    .dataframe tbody tr th:only-of-type {\n        vertical-align: middle;\n    }\n\n    .dataframe tbody tr th {\n        vertical-align: top;\n    }\n\n    .dataframe thead th {\n        text-align: right;\n    }\n</style>\n<table border=\"1\" class=\"dataframe\">\n  <thead>\n    <tr style=\"text-align: right;\">\n      <th></th>\n      <th>accuracy</th>\n      <th>precision</th>\n      <th>recall</th>\n      <th>f1</th>\n      <th>auc</th>\n      <th>block_rate</th>\n      <th>fraud_rate</th>\n      <th>conversion_rate</th>\n      <th>average_precision</th>\n    </tr>\n  </thead>\n  <tbody>\n    <tr>\n      <th>0</th>\n      <td>0.896813</td>\n      <td>0.408467</td>\n      <td>0.644986</td>\n      <td>0.500175</td>\n      <td>0.781856</td>\n      <td>0.126399</td>\n      <td>0.03253</td>\n      <td>0.873601</td>\n      <td>0.354456</td>\n    </tr>\n  </tbody>\n</table>\n</div>"
     },
     "metadata": {}
    }
   ]
  },
  {
   "cell_type": "code",
   "source": [
    "df_outlier_score = pd.concat([df_test[[\"psp_reference\"]].reset_index(drop=True), pd.Series(test_losses)], axis=1)\n",
    "df_outlier_score.columns= ['psp_reference', 'outlier_score']\n",
    "df_outlier_score.to_csv(\"outlier_score_July_December.csv\", index=False)"
   ],
   "metadata": {
    "execution": {
     "iopub.status.busy": "2023-01-13T22:52:07.775357Z",
     "iopub.execute_input": "2023-01-13T22:52:07.775725Z",
     "iopub.status.idle": "2023-01-13T22:52:07.908477Z",
     "shell.execute_reply.started": "2023-01-13T22:52:07.775695Z",
     "shell.execute_reply": "2023-01-13T22:52:07.907432Z"
    },
    "trusted": true
   },
   "execution_count": 191,
   "outputs": []
  },
  {
   "cell_type": "code",
   "source": [
    "df_outlier_score"
   ],
   "metadata": {
    "execution": {
     "iopub.status.busy": "2023-01-13T22:52:10.544739Z",
     "iopub.execute_input": "2023-01-13T22:52:10.545092Z",
     "iopub.status.idle": "2023-01-13T22:52:10.559078Z",
     "shell.execute_reply.started": "2023-01-13T22:52:10.545063Z",
     "shell.execute_reply": "2023-01-13T22:52:10.557756Z"
    },
    "trusted": true
   },
   "execution_count": 192,
   "outputs": [
    {
     "execution_count": 192,
     "output_type": "execute_result",
     "data": {
      "text/plain": "       psp_reference  outlier_score\n0        70119249768       0.020247\n1        28072336569       0.001201\n2        39014155829       0.003881\n3        88323560627       0.028375\n4        58489922712       0.006182\n...              ...            ...\n69141    61096039813       0.004453\n69142    37712861918       0.038624\n69143    17076786973       0.006643\n69144    76999601451       0.001235\n69145    13400564759       0.005796\n\n[69146 rows x 2 columns]",
      "text/html": "<div>\n<style scoped>\n    .dataframe tbody tr th:only-of-type {\n        vertical-align: middle;\n    }\n\n    .dataframe tbody tr th {\n        vertical-align: top;\n    }\n\n    .dataframe thead th {\n        text-align: right;\n    }\n</style>\n<table border=\"1\" class=\"dataframe\">\n  <thead>\n    <tr style=\"text-align: right;\">\n      <th></th>\n      <th>psp_reference</th>\n      <th>outlier_score</th>\n    </tr>\n  </thead>\n  <tbody>\n    <tr>\n      <th>0</th>\n      <td>70119249768</td>\n      <td>0.020247</td>\n    </tr>\n    <tr>\n      <th>1</th>\n      <td>28072336569</td>\n      <td>0.001201</td>\n    </tr>\n    <tr>\n      <th>2</th>\n      <td>39014155829</td>\n      <td>0.003881</td>\n    </tr>\n    <tr>\n      <th>3</th>\n      <td>88323560627</td>\n      <td>0.028375</td>\n    </tr>\n    <tr>\n      <th>4</th>\n      <td>58489922712</td>\n      <td>0.006182</td>\n    </tr>\n    <tr>\n      <th>...</th>\n      <td>...</td>\n      <td>...</td>\n    </tr>\n    <tr>\n      <th>69141</th>\n      <td>61096039813</td>\n      <td>0.004453</td>\n    </tr>\n    <tr>\n      <th>69142</th>\n      <td>37712861918</td>\n      <td>0.038624</td>\n    </tr>\n    <tr>\n      <th>69143</th>\n      <td>17076786973</td>\n      <td>0.006643</td>\n    </tr>\n    <tr>\n      <th>69144</th>\n      <td>76999601451</td>\n      <td>0.001235</td>\n    </tr>\n    <tr>\n      <th>69145</th>\n      <td>13400564759</td>\n      <td>0.005796</td>\n    </tr>\n  </tbody>\n</table>\n<p>69146 rows × 2 columns</p>\n</div>"
     },
     "metadata": {}
    }
   ]
  },
  {
   "cell_type": "code",
   "source": [],
   "metadata": {},
   "execution_count": null,
   "outputs": []
  }
 ]
}
