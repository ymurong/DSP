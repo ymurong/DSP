{
 "cells": [
  {
   "cell_type": "code",
   "execution_count": 1,
   "metadata": {
    "collapsed": true
   },
   "outputs": [],
   "source": [
    "from sklearn.ensemble import RandomForestClassifier\n",
    "import pandas as pd\n",
    "from lib.sampling import subsampling\n",
    "import numpy as np\n",
    "from sklearn.model_selection import GridSearchCV\n",
    "from lib.mutation_util import date\n",
    "from sklearn import metrics\n",
    "from sklearn.ensemble import RandomForestClassifier\n",
    "import pandas as pd\n",
    "from lib.sampling import subsampling\n",
    "import numpy as np\n",
    "from sklearn.model_selection import GridSearchCV\n",
    "from lib.mutation_util import date\n",
    "from sklearn import metrics\n",
    "%load_ext autoreload\n",
    "%autoreload"
   ]
  },
  {
   "cell_type": "code",
   "execution_count": 4,
   "outputs": [],
   "source": [
    "test_start_date = \"2021-12-01\"\n",
    "test_end_date = \"2021-12-31\""
   ],
   "metadata": {
    "collapsed": false
   }
  },
  {
   "cell_type": "code",
   "execution_count": 6,
   "outputs": [
    {
     "data": {
      "text/plain": "       psp_reference    merchant card_scheme  year  hour_of_day  \\\n0        70826623779  Merchant A  MasterCard  2021           12   \n1        54770322082  Merchant C  MasterCard  2021           10   \n2        76421531318  Merchant E       Other  2021            8   \n3        53221980222  Merchant A        Visa  2021           22   \n4        21921666536  Merchant B        Visa  2021           16   \n...              ...         ...         ...   ...          ...   \n11646    62369458306  Merchant D        Amex  2021           13   \n11647    61422983781  Merchant A        Visa  2021            2   \n11648    83634178595  Merchant A  MasterCard  2021           11   \n11649    45741664315  Merchant A       Other  2021            6   \n11650    30498139094  Merchant C  MasterCard  2021           10   \n\n       minute_of_hour  day_of_year  is_credit  eur_amount ip_country  \\\n0                  16          335      False       30.34         ZW   \n1                  44          335       True       37.61         IT   \n2                  38          335       True       18.87         GR   \n3                  33          335       True       31.02         BR   \n4                  29          335       True      161.40         NL   \n...               ...          ...        ...         ...        ...   \n11646              27          365       True      112.66         NL   \n11647              18          365      False       21.38         BR   \n11648               7          365       True       43.16         NL   \n11649              35          365       True       16.62         IT   \n11650              32          365      False      126.99         GR   \n\n      issuing_country device_type              ip_address  \\\n0                  IT     Android  cqHg4ONJtOBwqNNSjawwVg   \n1                  ZW       Linux  I4zf2g3Z4BdSVbOtXDmw7g   \n2                  GR       Linux  M3g-untYinyAQiAIXKGNSw   \n3                  BR     Windows  KT8qTQ6tiACsTKJsyxvPIg   \n4                  ZW       Other  wpnDR446pjLAUoNYueB-yg   \n...               ...         ...                     ...   \n11646              NL     Windows  NUZxGz6wWtW1enn19ghi4g   \n11647              BR     Windows  -0zsia1FtEIuWYt71pLrKw   \n11648              NL         iOS  sDicZTCFj6lP8AiV6WFC7g   \n11649              NL     Android  hAKt2EU3vmjrGOT6ueNsdw   \n11650              GR     Android  nrHkou9mx6FQP77ei3CQ-Q   \n\n                email_address             card_number shopper_interaction  \\\n0      vpCrxKV4Rb4hHYZ_xUQrnA  92TKnNIoPTXgok35txpjyg           Ecommerce   \n1      YKy04vP5R13SJl5ydrfr3w  iWwHGPT5vcubXqewt6QmFQ           Ecommerce   \n2      f-37afIGJJkYJHQXM_HKMg  HDPyxyvo2Lqebm-qusJqOQ           Ecommerce   \n3      36VSxpSABRjj43cfP6lwjw  gbsYb_MOBHH6FXa_a7c7og                 POS   \n4      5MO1Y0cW3sRJ56IbZCwOIQ  s0sj9IsbO7VMzyIsRBBZOA           Ecommerce   \n...                       ...                     ...                 ...   \n11646  D5nXKSWwpD40xABXiW5drg  2XeZsqgafyXVZrQNZpC7Kw           Ecommerce   \n11647                     NaN  leow_iHIe06J6n5YLGOgyQ           Ecommerce   \n11648  NJPPoAQt0eoYvDtBIf5tHQ  Gd03xMeOIMabaEfpvqR1wA           Ecommerce   \n11649  3zRwZ-rq1GTbTuPpE9mwXw  h_1om9k6GCO7nv5NeoDgfQ           Ecommerce   \n11650  2GXofd06OoL1Pbql021Ifw  QPqgQiC4PXDYhxI3agKVkw           Ecommerce   \n\n      zip_code  card_bin  has_fraudulent_dispute  is_refused_by_adyen  \n0           ZB      4916                   False                False  \n1          NaN      4556                   False                False  \n2         DFFF      4556                   False                False  \n3          AAD      4571                   False                False  \n4         2039      4916                   False                False  \n...        ...       ...                     ...                  ...  \n11646     2039      4017                   False                False  \n11647      FFR      4133                   False                False  \n11648     1093      4571                   False                False  \n11649      NaN      4526                   False                False  \n11650     XDED      4556                   False                False  \n\n[11651 rows x 20 columns]",
      "text/html": "<div>\n<style scoped>\n    .dataframe tbody tr th:only-of-type {\n        vertical-align: middle;\n    }\n\n    .dataframe tbody tr th {\n        vertical-align: top;\n    }\n\n    .dataframe thead th {\n        text-align: right;\n    }\n</style>\n<table border=\"1\" class=\"dataframe\">\n  <thead>\n    <tr style=\"text-align: right;\">\n      <th></th>\n      <th>psp_reference</th>\n      <th>merchant</th>\n      <th>card_scheme</th>\n      <th>year</th>\n      <th>hour_of_day</th>\n      <th>minute_of_hour</th>\n      <th>day_of_year</th>\n      <th>is_credit</th>\n      <th>eur_amount</th>\n      <th>ip_country</th>\n      <th>issuing_country</th>\n      <th>device_type</th>\n      <th>ip_address</th>\n      <th>email_address</th>\n      <th>card_number</th>\n      <th>shopper_interaction</th>\n      <th>zip_code</th>\n      <th>card_bin</th>\n      <th>has_fraudulent_dispute</th>\n      <th>is_refused_by_adyen</th>\n    </tr>\n  </thead>\n  <tbody>\n    <tr>\n      <th>0</th>\n      <td>70826623779</td>\n      <td>Merchant A</td>\n      <td>MasterCard</td>\n      <td>2021</td>\n      <td>12</td>\n      <td>16</td>\n      <td>335</td>\n      <td>False</td>\n      <td>30.34</td>\n      <td>ZW</td>\n      <td>IT</td>\n      <td>Android</td>\n      <td>cqHg4ONJtOBwqNNSjawwVg</td>\n      <td>vpCrxKV4Rb4hHYZ_xUQrnA</td>\n      <td>92TKnNIoPTXgok35txpjyg</td>\n      <td>Ecommerce</td>\n      <td>ZB</td>\n      <td>4916</td>\n      <td>False</td>\n      <td>False</td>\n    </tr>\n    <tr>\n      <th>1</th>\n      <td>54770322082</td>\n      <td>Merchant C</td>\n      <td>MasterCard</td>\n      <td>2021</td>\n      <td>10</td>\n      <td>44</td>\n      <td>335</td>\n      <td>True</td>\n      <td>37.61</td>\n      <td>IT</td>\n      <td>ZW</td>\n      <td>Linux</td>\n      <td>I4zf2g3Z4BdSVbOtXDmw7g</td>\n      <td>YKy04vP5R13SJl5ydrfr3w</td>\n      <td>iWwHGPT5vcubXqewt6QmFQ</td>\n      <td>Ecommerce</td>\n      <td>NaN</td>\n      <td>4556</td>\n      <td>False</td>\n      <td>False</td>\n    </tr>\n    <tr>\n      <th>2</th>\n      <td>76421531318</td>\n      <td>Merchant E</td>\n      <td>Other</td>\n      <td>2021</td>\n      <td>8</td>\n      <td>38</td>\n      <td>335</td>\n      <td>True</td>\n      <td>18.87</td>\n      <td>GR</td>\n      <td>GR</td>\n      <td>Linux</td>\n      <td>M3g-untYinyAQiAIXKGNSw</td>\n      <td>f-37afIGJJkYJHQXM_HKMg</td>\n      <td>HDPyxyvo2Lqebm-qusJqOQ</td>\n      <td>Ecommerce</td>\n      <td>DFFF</td>\n      <td>4556</td>\n      <td>False</td>\n      <td>False</td>\n    </tr>\n    <tr>\n      <th>3</th>\n      <td>53221980222</td>\n      <td>Merchant A</td>\n      <td>Visa</td>\n      <td>2021</td>\n      <td>22</td>\n      <td>33</td>\n      <td>335</td>\n      <td>True</td>\n      <td>31.02</td>\n      <td>BR</td>\n      <td>BR</td>\n      <td>Windows</td>\n      <td>KT8qTQ6tiACsTKJsyxvPIg</td>\n      <td>36VSxpSABRjj43cfP6lwjw</td>\n      <td>gbsYb_MOBHH6FXa_a7c7og</td>\n      <td>POS</td>\n      <td>AAD</td>\n      <td>4571</td>\n      <td>False</td>\n      <td>False</td>\n    </tr>\n    <tr>\n      <th>4</th>\n      <td>21921666536</td>\n      <td>Merchant B</td>\n      <td>Visa</td>\n      <td>2021</td>\n      <td>16</td>\n      <td>29</td>\n      <td>335</td>\n      <td>True</td>\n      <td>161.40</td>\n      <td>NL</td>\n      <td>ZW</td>\n      <td>Other</td>\n      <td>wpnDR446pjLAUoNYueB-yg</td>\n      <td>5MO1Y0cW3sRJ56IbZCwOIQ</td>\n      <td>s0sj9IsbO7VMzyIsRBBZOA</td>\n      <td>Ecommerce</td>\n      <td>2039</td>\n      <td>4916</td>\n      <td>False</td>\n      <td>False</td>\n    </tr>\n    <tr>\n      <th>...</th>\n      <td>...</td>\n      <td>...</td>\n      <td>...</td>\n      <td>...</td>\n      <td>...</td>\n      <td>...</td>\n      <td>...</td>\n      <td>...</td>\n      <td>...</td>\n      <td>...</td>\n      <td>...</td>\n      <td>...</td>\n      <td>...</td>\n      <td>...</td>\n      <td>...</td>\n      <td>...</td>\n      <td>...</td>\n      <td>...</td>\n      <td>...</td>\n      <td>...</td>\n    </tr>\n    <tr>\n      <th>11646</th>\n      <td>62369458306</td>\n      <td>Merchant D</td>\n      <td>Amex</td>\n      <td>2021</td>\n      <td>13</td>\n      <td>27</td>\n      <td>365</td>\n      <td>True</td>\n      <td>112.66</td>\n      <td>NL</td>\n      <td>NL</td>\n      <td>Windows</td>\n      <td>NUZxGz6wWtW1enn19ghi4g</td>\n      <td>D5nXKSWwpD40xABXiW5drg</td>\n      <td>2XeZsqgafyXVZrQNZpC7Kw</td>\n      <td>Ecommerce</td>\n      <td>2039</td>\n      <td>4017</td>\n      <td>False</td>\n      <td>False</td>\n    </tr>\n    <tr>\n      <th>11647</th>\n      <td>61422983781</td>\n      <td>Merchant A</td>\n      <td>Visa</td>\n      <td>2021</td>\n      <td>2</td>\n      <td>18</td>\n      <td>365</td>\n      <td>False</td>\n      <td>21.38</td>\n      <td>BR</td>\n      <td>BR</td>\n      <td>Windows</td>\n      <td>-0zsia1FtEIuWYt71pLrKw</td>\n      <td>NaN</td>\n      <td>leow_iHIe06J6n5YLGOgyQ</td>\n      <td>Ecommerce</td>\n      <td>FFR</td>\n      <td>4133</td>\n      <td>False</td>\n      <td>False</td>\n    </tr>\n    <tr>\n      <th>11648</th>\n      <td>83634178595</td>\n      <td>Merchant A</td>\n      <td>MasterCard</td>\n      <td>2021</td>\n      <td>11</td>\n      <td>7</td>\n      <td>365</td>\n      <td>True</td>\n      <td>43.16</td>\n      <td>NL</td>\n      <td>NL</td>\n      <td>iOS</td>\n      <td>sDicZTCFj6lP8AiV6WFC7g</td>\n      <td>NJPPoAQt0eoYvDtBIf5tHQ</td>\n      <td>Gd03xMeOIMabaEfpvqR1wA</td>\n      <td>Ecommerce</td>\n      <td>1093</td>\n      <td>4571</td>\n      <td>False</td>\n      <td>False</td>\n    </tr>\n    <tr>\n      <th>11649</th>\n      <td>45741664315</td>\n      <td>Merchant A</td>\n      <td>Other</td>\n      <td>2021</td>\n      <td>6</td>\n      <td>35</td>\n      <td>365</td>\n      <td>True</td>\n      <td>16.62</td>\n      <td>IT</td>\n      <td>NL</td>\n      <td>Android</td>\n      <td>hAKt2EU3vmjrGOT6ueNsdw</td>\n      <td>3zRwZ-rq1GTbTuPpE9mwXw</td>\n      <td>h_1om9k6GCO7nv5NeoDgfQ</td>\n      <td>Ecommerce</td>\n      <td>NaN</td>\n      <td>4526</td>\n      <td>False</td>\n      <td>False</td>\n    </tr>\n    <tr>\n      <th>11650</th>\n      <td>30498139094</td>\n      <td>Merchant C</td>\n      <td>MasterCard</td>\n      <td>2021</td>\n      <td>10</td>\n      <td>32</td>\n      <td>365</td>\n      <td>False</td>\n      <td>126.99</td>\n      <td>GR</td>\n      <td>GR</td>\n      <td>Android</td>\n      <td>nrHkou9mx6FQP77ei3CQ-Q</td>\n      <td>2GXofd06OoL1Pbql021Ifw</td>\n      <td>QPqgQiC4PXDYhxI3agKVkw</td>\n      <td>Ecommerce</td>\n      <td>XDED</td>\n      <td>4556</td>\n      <td>False</td>\n      <td>False</td>\n    </tr>\n  </tbody>\n</table>\n<p>11651 rows × 20 columns</p>\n</div>"
     },
     "execution_count": 6,
     "metadata": {},
     "output_type": "execute_result"
    }
   ],
   "source": [
    "df_ori = pd.read_csv(f\"../adyen-dataset.csv\")\n",
    "df_ori[\"date\"] = df_ori.apply(date, axis=1)\n",
    "df_ori[\"date\"] = pd.to_datetime(df_ori[\"date\"])\n",
    "df_ori.set_index('date', inplace=True)\n",
    "df_ts = df_ori.sort_index()\n",
    "df_test_ts = df_ts.loc[test_start_date:test_end_date]\n",
    "df_test = df_test_ts.reset_index(drop=True)\n",
    "df_test"
   ],
   "metadata": {
    "collapsed": false
   }
  },
  {
   "cell_type": "code",
   "execution_count": 10,
   "outputs": [],
   "source": [
    "# append categorical dummies\n",
    "df_test['no_ip'] = df_test['ip_address'].isnull()\n",
    "df_test['no_email'] = df_test['email_address'].isnull()\n",
    "df_test['same_country'] = df_test['ip_country'] == df_test['issuing_country']\n",
    "\n",
    "# one hot encoding\n",
    "merchant_dummies = pd.get_dummies(df_test.merchant, prefix='merchant', drop_first=True)\n",
    "card_scheme_dummies = pd.get_dummies(df_test.card_scheme, prefix='card_scheme', drop_first=True)\n",
    "ip_country_dummies = pd.get_dummies(df_test.ip_country, prefix='ip_country', drop_first=True)\n",
    "issuing_country_dummies = pd.get_dummies(df_test.issuing_country, prefix='issuing_country',  drop_first=True)\n",
    "device_type_dummies = pd.get_dummies(df_test.device_type, prefix='device_type',  drop_first=True)\n",
    "shopper_interaction_dummies = pd.get_dummies(df_test.shopper_interaction, prefix='shopper_interaction',  drop_first=True)\n",
    "zip_code_dummies = pd.get_dummies(df_test.zip_code, prefix='zip_code', drop_first=True)\n",
    "df_test = pd.concat(\n",
    "    [df_test,merchant_dummies, card_scheme_dummies, ip_country_dummies, issuing_country_dummies, device_type_dummies,\n",
    "     shopper_interaction_dummies, zip_code_dummies], axis=1)"
   ],
   "metadata": {
    "collapsed": false
   }
  },
  {
   "cell_type": "code",
   "execution_count": 13,
   "outputs": [],
   "source": [
    "# append graph features\n",
    "train_end_date = \"2021-11-30\"\n",
    "df_graph_features_lookup_table = pd.read_csv(f\"../feature-engineering/graph_features_lookup_table_{train_end_date}.csv\")\n",
    "def append_graph_features(node_type_name, df, graph_feature_lookup_table):\n",
    "    def append_graph_features_by_row(row):\n",
    "        node_key = row[node_type_name]\n",
    "        prefix = node_type_name.split('_')[0]\n",
    "        try:\n",
    "            row[f\"{prefix}_node_degree\"] = graph_feature_lookup_table[graph_feature_lookup_table[\"Node\"] == node_key][\"DEGREE\"].iloc[0]\n",
    "            row[f\"{prefix}_eigen_centrality\"] = graph_feature_lookup_table[graph_feature_lookup_table[\"Node\"] == node_key][\"EIGENVECTOR_CENTRALITY\"].iloc[0]\n",
    "            row[f\"{prefix}_page_rank\"] = graph_feature_lookup_table[graph_feature_lookup_table[\"Node\"] == node_key][\"PAGE_RANK\"].iloc[0]\n",
    "        except IndexError as e:\n",
    "            row[f\"{prefix}_node_degree\"] = 2\n",
    "            row[f\"{prefix}_eigen_centrality\"] = 0.33\n",
    "            row[f\"{prefix}_page_rank\"] = 0.57\n",
    "        return row\n",
    "    df = df.apply(append_graph_features_by_row, axis=1)\n",
    "    return df\n",
    "\n",
    "df_test = append_graph_features(\"ip_address\",df_test, df_graph_features_lookup_table)\n",
    "df_test = append_graph_features(\"email_address\",df_test, df_graph_features_lookup_table)\n",
    "df_test = append_graph_features(\"card_number\",df_test, df_graph_features_lookup_table)"
   ],
   "metadata": {
    "collapsed": false
   }
  },
  {
   "cell_type": "code",
   "execution_count": 14,
   "outputs": [],
   "source": [
    "# append woe features\n",
    "df_woe_features = pd.read_csv(f\"../feature-engineering/woe_features_{train_end_date}.csv\")\n",
    "def append_woe_features(col_name, df, woe_features):\n",
    "    def append_woe_features_by_row(row):\n",
    "        node_key = row[col_name]\n",
    "        try:\n",
    "            row[f\"{col_name}_woe\"] = woe_features[woe_features[col_name] == node_key][f\"{col_name}_woe\"].iloc[0]\n",
    "        except IndexError as e:\n",
    "            row[f\"{col_name}_woe\"] = 0.0\n",
    "        return row\n",
    "    df = df.apply(append_woe_features_by_row, axis=1)\n",
    "    return df\n",
    "df_test = append_woe_features(\"ip_address\",df_test,df_woe_features)\n",
    "df_test = append_woe_features(\"email_address\",df_test,df_woe_features)\n",
    "df_test = append_woe_features(\"card_number\",df_test,df_woe_features)"
   ],
   "metadata": {
    "collapsed": false
   }
  },
  {
   "cell_type": "code",
   "execution_count": 15,
   "outputs": [
    {
     "data": {
      "text/plain": "   psp_reference    merchant card_scheme  year  hour_of_day  minute_of_hour  \\\n0    70826623779  Merchant A  MasterCard  2021           12              16   \n1    54770322082  Merchant C  MasterCard  2021           10              44   \n2    76421531318  Merchant E       Other  2021            8              38   \n3    53221980222  Merchant A        Visa  2021           22              33   \n4    21921666536  Merchant B        Visa  2021           16              29   \n\n   day_of_year  is_credit  eur_amount ip_country  ... ip_page_rank  \\\n0          335      False       30.34         ZW  ...     0.000004   \n1          335       True       37.61         IT  ...     0.000007   \n2          335       True       18.87         GR  ...     0.570000   \n3          335       True       31.02         BR  ...     0.000005   \n4          335       True      161.40         NL  ...     0.570000   \n\n  email_node_degree email_eigen_centrality email_page_rank card_node_degree  \\\n0                 2           3.184233e-03        0.000004                3   \n1                 2          -8.414725e-21        0.000007                2   \n2                 2           3.300000e-01        0.570000                2   \n3                 5           3.212985e-03        0.000010                4   \n4                 2           3.184169e-03        0.000004                2   \n\n  card_eigen_centrality card_page_rank  ip_address_woe  email_address_woe  \\\n0          3.198447e-03       0.000007        0.000000           1.392115   \n1          1.576474e-19       0.000007        0.000000           0.000000   \n2          3.300000e-01       0.570000        0.000000           0.000000   \n3          3.198770e-03       0.000007        1.392115           0.881290   \n4          3.300000e-01       0.570000        0.000000           0.000000   \n\n   card_number_woe  \n0         1.104433  \n1         0.000000  \n2         0.000000  \n3         0.881290  \n4         0.000000  \n\n[5 rows x 107 columns]",
      "text/html": "<div>\n<style scoped>\n    .dataframe tbody tr th:only-of-type {\n        vertical-align: middle;\n    }\n\n    .dataframe tbody tr th {\n        vertical-align: top;\n    }\n\n    .dataframe thead th {\n        text-align: right;\n    }\n</style>\n<table border=\"1\" class=\"dataframe\">\n  <thead>\n    <tr style=\"text-align: right;\">\n      <th></th>\n      <th>psp_reference</th>\n      <th>merchant</th>\n      <th>card_scheme</th>\n      <th>year</th>\n      <th>hour_of_day</th>\n      <th>minute_of_hour</th>\n      <th>day_of_year</th>\n      <th>is_credit</th>\n      <th>eur_amount</th>\n      <th>ip_country</th>\n      <th>...</th>\n      <th>ip_page_rank</th>\n      <th>email_node_degree</th>\n      <th>email_eigen_centrality</th>\n      <th>email_page_rank</th>\n      <th>card_node_degree</th>\n      <th>card_eigen_centrality</th>\n      <th>card_page_rank</th>\n      <th>ip_address_woe</th>\n      <th>email_address_woe</th>\n      <th>card_number_woe</th>\n    </tr>\n  </thead>\n  <tbody>\n    <tr>\n      <th>0</th>\n      <td>70826623779</td>\n      <td>Merchant A</td>\n      <td>MasterCard</td>\n      <td>2021</td>\n      <td>12</td>\n      <td>16</td>\n      <td>335</td>\n      <td>False</td>\n      <td>30.34</td>\n      <td>ZW</td>\n      <td>...</td>\n      <td>0.000004</td>\n      <td>2</td>\n      <td>3.184233e-03</td>\n      <td>0.000004</td>\n      <td>3</td>\n      <td>3.198447e-03</td>\n      <td>0.000007</td>\n      <td>0.000000</td>\n      <td>1.392115</td>\n      <td>1.104433</td>\n    </tr>\n    <tr>\n      <th>1</th>\n      <td>54770322082</td>\n      <td>Merchant C</td>\n      <td>MasterCard</td>\n      <td>2021</td>\n      <td>10</td>\n      <td>44</td>\n      <td>335</td>\n      <td>True</td>\n      <td>37.61</td>\n      <td>IT</td>\n      <td>...</td>\n      <td>0.000007</td>\n      <td>2</td>\n      <td>-8.414725e-21</td>\n      <td>0.000007</td>\n      <td>2</td>\n      <td>1.576474e-19</td>\n      <td>0.000007</td>\n      <td>0.000000</td>\n      <td>0.000000</td>\n      <td>0.000000</td>\n    </tr>\n    <tr>\n      <th>2</th>\n      <td>76421531318</td>\n      <td>Merchant E</td>\n      <td>Other</td>\n      <td>2021</td>\n      <td>8</td>\n      <td>38</td>\n      <td>335</td>\n      <td>True</td>\n      <td>18.87</td>\n      <td>GR</td>\n      <td>...</td>\n      <td>0.570000</td>\n      <td>2</td>\n      <td>3.300000e-01</td>\n      <td>0.570000</td>\n      <td>2</td>\n      <td>3.300000e-01</td>\n      <td>0.570000</td>\n      <td>0.000000</td>\n      <td>0.000000</td>\n      <td>0.000000</td>\n    </tr>\n    <tr>\n      <th>3</th>\n      <td>53221980222</td>\n      <td>Merchant A</td>\n      <td>Visa</td>\n      <td>2021</td>\n      <td>22</td>\n      <td>33</td>\n      <td>335</td>\n      <td>True</td>\n      <td>31.02</td>\n      <td>BR</td>\n      <td>...</td>\n      <td>0.000005</td>\n      <td>5</td>\n      <td>3.212985e-03</td>\n      <td>0.000010</td>\n      <td>4</td>\n      <td>3.198770e-03</td>\n      <td>0.000007</td>\n      <td>1.392115</td>\n      <td>0.881290</td>\n      <td>0.881290</td>\n    </tr>\n    <tr>\n      <th>4</th>\n      <td>21921666536</td>\n      <td>Merchant B</td>\n      <td>Visa</td>\n      <td>2021</td>\n      <td>16</td>\n      <td>29</td>\n      <td>335</td>\n      <td>True</td>\n      <td>161.40</td>\n      <td>NL</td>\n      <td>...</td>\n      <td>0.570000</td>\n      <td>2</td>\n      <td>3.184169e-03</td>\n      <td>0.000004</td>\n      <td>2</td>\n      <td>3.300000e-01</td>\n      <td>0.570000</td>\n      <td>0.000000</td>\n      <td>0.000000</td>\n      <td>0.000000</td>\n    </tr>\n  </tbody>\n</table>\n<p>5 rows × 107 columns</p>\n</div>"
     },
     "execution_count": 15,
     "metadata": {},
     "output_type": "execute_result"
    }
   ],
   "source": [
    "df_test.head()"
   ],
   "metadata": {
    "collapsed": false
   }
  },
  {
   "cell_type": "code",
   "execution_count": 16,
   "outputs": [],
   "source": [
    "df_test.to_csv(\"test_dataset_december.csv\", index=False)"
   ],
   "metadata": {
    "collapsed": false
   }
  },
  {
   "cell_type": "code",
   "execution_count": null,
   "outputs": [],
   "source": [],
   "metadata": {
    "collapsed": false
   }
  }
 ],
 "metadata": {
  "kernelspec": {
   "display_name": "Python 3",
   "language": "python",
   "name": "python3"
  },
  "language_info": {
   "codemirror_mode": {
    "name": "ipython",
    "version": 2
   },
   "file_extension": ".py",
   "mimetype": "text/x-python",
   "name": "python",
   "nbconvert_exporter": "python",
   "pygments_lexer": "ipython2",
   "version": "2.7.6"
  }
 },
 "nbformat": 4,
 "nbformat_minor": 0
}
