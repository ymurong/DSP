{
 "cells": [
  {
   "cell_type": "code",
   "execution_count": 35,
   "id": "772db457-53e1-4892-b8b6-874b068cfa6c",
   "metadata": {
    "pycharm": {
     "name": "#%%\n"
    }
   },
   "outputs": [
    {
     "name": "stdout",
     "output_type": "stream",
     "text": [
      "The autoreload extension is already loaded. To reload it, use:\n",
      "  %reload_ext autoreload\n"
     ]
    },
    {
     "data": {
      "text/plain": "(21432, 20)"
     },
     "execution_count": 35,
     "metadata": {},
     "output_type": "execute_result"
    }
   ],
   "source": [
    "import pandas as pd\n",
    "import numpy as np\n",
    "import matplotlib.pyplot as plt\n",
    "import seaborn as sns\n",
    "import scipy.stats as ss\n",
    "import sklearn as sci\n",
    "%matplotlib inline\n",
    "%load_ext autoreload\n",
    "%autoreload\n",
    "\n",
    "df_ori = pd.read_csv('adyen-dataset.csv')\n",
    "from lib.sampling import subsampling\n",
    "\n",
    "# Subsample non_fraudulent transactions records so we have balanced dataset\n",
    "df_fraudulent = df_ori[df_ori['has_fraudulent_dispute'] == True]\n",
    "df_non_fraudulent = df_ori[df_ori['has_fraudulent_dispute'] == False]\n",
    "subsample_index= subsampling(df_non_fraudulent.index, len(df_fraudulent))\n",
    "df_non_fraudulent_subsample  = df_non_fraudulent.loc[subsample_index,:]\n",
    "df_sample = pd.concat([df_non_fraudulent_subsample,df_fraudulent], axis=0)\n",
    "df_sample.shape"
   ]
  },
  {
   "cell_type": "code",
   "execution_count": 36,
   "outputs": [
    {
     "data": {
      "text/plain": "        psp_reference    merchant card_scheme  year  hour_of_day  \\\n100589    66904306057  Merchant A        Amex  2021           14   \n132541    62106400109  Merchant B        Visa  2021           17   \n128249    42993811077  Merchant D  MasterCard  2021            9   \n92433     74853496154  Merchant A       Other  2021           17   \n132819    68447486793  Merchant D       Other  2021            7   \n\n        minute_of_hour  day_of_year  is_credit  eur_amount ip_country  \\\n100589              33          221       True      119.63         BR   \n132541              38          246       True      106.18         ZW   \n128249              57           57       True       87.62         BR   \n92433               21          175       True       18.64         BR   \n132819              28           10       True      120.65         BR   \n\n       issuing_country device_type              ip_address  \\\n100589              BR         iOS  YWjJwmlGJPixXGE7ZiOc4Q   \n132541              ZW       Linux  Bhh4hDFEn9SUmPl7DewmQA   \n128249              GR       Linux  226YyIHbGmxQYR0GmCHGFw   \n92433               BR       MacOS                     NaN   \n132819              BR       Other                     NaN   \n\n                 email_address             card_number shopper_interaction  \\\n100589  vsN6dDbqNIUqyUeIbhBITg  RjBk2c9SfCBlEj6aLUmRhg           Ecommerce   \n132541  WUC-fSELqJQytILNQ_0t4w  pba__PLPD4rLYK47CM5FzQ           Ecommerce   \n128249  jXsu5-CEfb-MIUbeNmwSjg  cwzUvZ9jRQVfj6qqmvOsZw                 POS   \n92433   fDVfUMF3SCYrOilj9x_ZIw  FvjlLMaOnhk88dByaG3Geg           Ecommerce   \n132819  oPosT9sFfAE0yPXqJuKnng  O8Nz0WMnwQsdxSX68o7kKg           Ecommerce   \n\n       zip_code  card_bin  has_fraudulent_dispute  is_refused_by_adyen  \n100589      BZD      4571                   False                 True  \n132541       DB      4236                   False                False  \n128249      BZD      4916                   False                False  \n92433       BZD      4622                   False                False  \n132819      BZD      4891                   False                False  ",
      "text/html": "<div>\n<style scoped>\n    .dataframe tbody tr th:only-of-type {\n        vertical-align: middle;\n    }\n\n    .dataframe tbody tr th {\n        vertical-align: top;\n    }\n\n    .dataframe thead th {\n        text-align: right;\n    }\n</style>\n<table border=\"1\" class=\"dataframe\">\n  <thead>\n    <tr style=\"text-align: right;\">\n      <th></th>\n      <th>psp_reference</th>\n      <th>merchant</th>\n      <th>card_scheme</th>\n      <th>year</th>\n      <th>hour_of_day</th>\n      <th>minute_of_hour</th>\n      <th>day_of_year</th>\n      <th>is_credit</th>\n      <th>eur_amount</th>\n      <th>ip_country</th>\n      <th>issuing_country</th>\n      <th>device_type</th>\n      <th>ip_address</th>\n      <th>email_address</th>\n      <th>card_number</th>\n      <th>shopper_interaction</th>\n      <th>zip_code</th>\n      <th>card_bin</th>\n      <th>has_fraudulent_dispute</th>\n      <th>is_refused_by_adyen</th>\n    </tr>\n  </thead>\n  <tbody>\n    <tr>\n      <th>100589</th>\n      <td>66904306057</td>\n      <td>Merchant A</td>\n      <td>Amex</td>\n      <td>2021</td>\n      <td>14</td>\n      <td>33</td>\n      <td>221</td>\n      <td>True</td>\n      <td>119.63</td>\n      <td>BR</td>\n      <td>BR</td>\n      <td>iOS</td>\n      <td>YWjJwmlGJPixXGE7ZiOc4Q</td>\n      <td>vsN6dDbqNIUqyUeIbhBITg</td>\n      <td>RjBk2c9SfCBlEj6aLUmRhg</td>\n      <td>Ecommerce</td>\n      <td>BZD</td>\n      <td>4571</td>\n      <td>False</td>\n      <td>True</td>\n    </tr>\n    <tr>\n      <th>132541</th>\n      <td>62106400109</td>\n      <td>Merchant B</td>\n      <td>Visa</td>\n      <td>2021</td>\n      <td>17</td>\n      <td>38</td>\n      <td>246</td>\n      <td>True</td>\n      <td>106.18</td>\n      <td>ZW</td>\n      <td>ZW</td>\n      <td>Linux</td>\n      <td>Bhh4hDFEn9SUmPl7DewmQA</td>\n      <td>WUC-fSELqJQytILNQ_0t4w</td>\n      <td>pba__PLPD4rLYK47CM5FzQ</td>\n      <td>Ecommerce</td>\n      <td>DB</td>\n      <td>4236</td>\n      <td>False</td>\n      <td>False</td>\n    </tr>\n    <tr>\n      <th>128249</th>\n      <td>42993811077</td>\n      <td>Merchant D</td>\n      <td>MasterCard</td>\n      <td>2021</td>\n      <td>9</td>\n      <td>57</td>\n      <td>57</td>\n      <td>True</td>\n      <td>87.62</td>\n      <td>BR</td>\n      <td>GR</td>\n      <td>Linux</td>\n      <td>226YyIHbGmxQYR0GmCHGFw</td>\n      <td>jXsu5-CEfb-MIUbeNmwSjg</td>\n      <td>cwzUvZ9jRQVfj6qqmvOsZw</td>\n      <td>POS</td>\n      <td>BZD</td>\n      <td>4916</td>\n      <td>False</td>\n      <td>False</td>\n    </tr>\n    <tr>\n      <th>92433</th>\n      <td>74853496154</td>\n      <td>Merchant A</td>\n      <td>Other</td>\n      <td>2021</td>\n      <td>17</td>\n      <td>21</td>\n      <td>175</td>\n      <td>True</td>\n      <td>18.64</td>\n      <td>BR</td>\n      <td>BR</td>\n      <td>MacOS</td>\n      <td>NaN</td>\n      <td>fDVfUMF3SCYrOilj9x_ZIw</td>\n      <td>FvjlLMaOnhk88dByaG3Geg</td>\n      <td>Ecommerce</td>\n      <td>BZD</td>\n      <td>4622</td>\n      <td>False</td>\n      <td>False</td>\n    </tr>\n    <tr>\n      <th>132819</th>\n      <td>68447486793</td>\n      <td>Merchant D</td>\n      <td>Other</td>\n      <td>2021</td>\n      <td>7</td>\n      <td>28</td>\n      <td>10</td>\n      <td>True</td>\n      <td>120.65</td>\n      <td>BR</td>\n      <td>BR</td>\n      <td>Other</td>\n      <td>NaN</td>\n      <td>oPosT9sFfAE0yPXqJuKnng</td>\n      <td>O8Nz0WMnwQsdxSX68o7kKg</td>\n      <td>Ecommerce</td>\n      <td>BZD</td>\n      <td>4891</td>\n      <td>False</td>\n      <td>False</td>\n    </tr>\n  </tbody>\n</table>\n</div>"
     },
     "execution_count": 36,
     "metadata": {},
     "output_type": "execute_result"
    }
   ],
   "source": [
    "df_sample.head()"
   ],
   "metadata": {
    "collapsed": false,
    "pycharm": {
     "name": "#%%\n"
    }
   }
  },
  {
   "cell_type": "code",
   "execution_count": 37,
   "outputs": [
    {
     "data": {
      "text/plain": "0.0998040313549832"
     },
     "execution_count": 37,
     "metadata": {},
     "output_type": "execute_result"
    }
   ],
   "source": [
    "total_fraud = df_sample[df_sample['has_fraudulent_dispute']==1].shape[0]\n",
    "total_not_fraud = df_sample[df_sample['has_fraudulent_dispute']==0].shape[0]\n",
    "total_fraud_na_ip = df_sample[df_sample['ip_address'].isna() & df_sample['has_fraudulent_dispute']==1].shape[0]\n",
    "total_not_fraud_na_ip = df_sample[df_sample['ip_address'].isna() & df_sample['has_fraudulent_dispute']==0].shape[0]\n",
    "p_likelihood_fraud = total_fraud_na_ip/total_fraud\n",
    "p_likelihood_not_fraud = total_not_fraud_na_ip/total_not_fraud\n",
    "p_prior_no_fraud = 0.5\n",
    "p_prior_fraud = 0.5\n",
    "p_posterio = p_likelihood_fraud * p_prior_fraud/(p_likelihood_fraud * p_prior_fraud + p_likelihood_not_fraud * p_prior_no_fraud)\n",
    "p_posterio"
   ],
   "metadata": {
    "collapsed": false,
    "pycharm": {
     "name": "#%%\n"
    }
   }
  },
  {
   "cell_type": "markdown",
   "source": [],
   "metadata": {
    "collapsed": false,
    "pycharm": {
     "name": "#%% md\n"
    }
   }
  },
  {
   "cell_type": "code",
   "execution_count": 75,
   "outputs": [],
   "source": [
    "df_sample = df_sample.fillna(\"anonymous\")"
   ],
   "metadata": {
    "collapsed": false,
    "pycharm": {
     "name": "#%%\n"
    }
   }
  },
  {
   "cell_type": "code",
   "execution_count": null,
   "outputs": [],
   "source": [],
   "metadata": {
    "collapsed": false,
    "pycharm": {
     "name": "#%%\n"
    }
   }
  },
  {
   "cell_type": "code",
   "execution_count": 262,
   "outputs": [
    {
     "data": {
      "text/plain": "                     point_in               point_out  total_transactions  \\\n0      --2E0toluie1TqMY-oXrQg  GOgdL2ymYoPD99nIT1zbkA                   1   \n1      --2E0toluie1TqMY-oXrQg  vtGsRvD7aYpa-LJdW8sbyg                   5   \n2      -0KPDZ04oHcWYb579pGDNw  5ocC9lnu7b22vFKTsBZPVQ                   1   \n3      -0jK02r79jRQ2Nzmcbd51Q  GaTo2bLUxy-n939nv2g-ag                   1   \n4      -0mAboSyixPty7xuAAnWTA  E3wWIIUb7J4HBwfTbCTB2w                   1   \n...                       ...                     ...                 ...   \n13999  zyWMrWSG-p1u_9-bgdLgyA  gG2Nyn0zUqgqxPNPp7Ps7A                   1   \n14000  zyb5ISuOdXMGndU6Rqq5lg  rucjIQnNfn0vKD5W08stDQ                   1   \n14001  zyt9qkmd5Fg_WxwAuKSTkQ  6t9pJxuaEpQIgF45FFahfg                   1   \n14002  zz7sHLxN1lPPA4WlxSpiJw  0JnGW7gBQOREAyoCa2gEjQ                   1   \n14003  zzDM4qtk2t2WXBDeYicsrg  N2Fn59KgnIyEVFGtxr5UtA                   1   \n\n       total_fraud type_in type_out  \n0                1      ip     card  \n1                5      ip     card  \n2                0      ip     card  \n3                1      ip     card  \n4                1      ip     card  \n...            ...     ...      ...  \n13999            0      ip     card  \n14000            0      ip     card  \n14001            0      ip     card  \n14002            0      ip     card  \n14003            0      ip     card  \n\n[14004 rows x 6 columns]",
      "text/html": "<div>\n<style scoped>\n    .dataframe tbody tr th:only-of-type {\n        vertical-align: middle;\n    }\n\n    .dataframe tbody tr th {\n        vertical-align: top;\n    }\n\n    .dataframe thead th {\n        text-align: right;\n    }\n</style>\n<table border=\"1\" class=\"dataframe\">\n  <thead>\n    <tr style=\"text-align: right;\">\n      <th></th>\n      <th>point_in</th>\n      <th>point_out</th>\n      <th>total_transactions</th>\n      <th>total_fraud</th>\n      <th>type_in</th>\n      <th>type_out</th>\n    </tr>\n  </thead>\n  <tbody>\n    <tr>\n      <th>0</th>\n      <td>--2E0toluie1TqMY-oXrQg</td>\n      <td>GOgdL2ymYoPD99nIT1zbkA</td>\n      <td>1</td>\n      <td>1</td>\n      <td>ip</td>\n      <td>card</td>\n    </tr>\n    <tr>\n      <th>1</th>\n      <td>--2E0toluie1TqMY-oXrQg</td>\n      <td>vtGsRvD7aYpa-LJdW8sbyg</td>\n      <td>5</td>\n      <td>5</td>\n      <td>ip</td>\n      <td>card</td>\n    </tr>\n    <tr>\n      <th>2</th>\n      <td>-0KPDZ04oHcWYb579pGDNw</td>\n      <td>5ocC9lnu7b22vFKTsBZPVQ</td>\n      <td>1</td>\n      <td>0</td>\n      <td>ip</td>\n      <td>card</td>\n    </tr>\n    <tr>\n      <th>3</th>\n      <td>-0jK02r79jRQ2Nzmcbd51Q</td>\n      <td>GaTo2bLUxy-n939nv2g-ag</td>\n      <td>1</td>\n      <td>1</td>\n      <td>ip</td>\n      <td>card</td>\n    </tr>\n    <tr>\n      <th>4</th>\n      <td>-0mAboSyixPty7xuAAnWTA</td>\n      <td>E3wWIIUb7J4HBwfTbCTB2w</td>\n      <td>1</td>\n      <td>1</td>\n      <td>ip</td>\n      <td>card</td>\n    </tr>\n    <tr>\n      <th>...</th>\n      <td>...</td>\n      <td>...</td>\n      <td>...</td>\n      <td>...</td>\n      <td>...</td>\n      <td>...</td>\n    </tr>\n    <tr>\n      <th>13999</th>\n      <td>zyWMrWSG-p1u_9-bgdLgyA</td>\n      <td>gG2Nyn0zUqgqxPNPp7Ps7A</td>\n      <td>1</td>\n      <td>0</td>\n      <td>ip</td>\n      <td>card</td>\n    </tr>\n    <tr>\n      <th>14000</th>\n      <td>zyb5ISuOdXMGndU6Rqq5lg</td>\n      <td>rucjIQnNfn0vKD5W08stDQ</td>\n      <td>1</td>\n      <td>0</td>\n      <td>ip</td>\n      <td>card</td>\n    </tr>\n    <tr>\n      <th>14001</th>\n      <td>zyt9qkmd5Fg_WxwAuKSTkQ</td>\n      <td>6t9pJxuaEpQIgF45FFahfg</td>\n      <td>1</td>\n      <td>0</td>\n      <td>ip</td>\n      <td>card</td>\n    </tr>\n    <tr>\n      <th>14002</th>\n      <td>zz7sHLxN1lPPA4WlxSpiJw</td>\n      <td>0JnGW7gBQOREAyoCa2gEjQ</td>\n      <td>1</td>\n      <td>0</td>\n      <td>ip</td>\n      <td>card</td>\n    </tr>\n    <tr>\n      <th>14003</th>\n      <td>zzDM4qtk2t2WXBDeYicsrg</td>\n      <td>N2Fn59KgnIyEVFGtxr5UtA</td>\n      <td>1</td>\n      <td>0</td>\n      <td>ip</td>\n      <td>card</td>\n    </tr>\n  </tbody>\n</table>\n<p>14004 rows × 6 columns</p>\n</div>"
     },
     "execution_count": 262,
     "metadata": {},
     "output_type": "execute_result"
    }
   ],
   "source": [
    "edges1 = df_sample.groupby([\"ip_address\",\"card_number\"]).agg(total_transactions=('has_fraudulent_dispute','size'), total_fraud=('has_fraudulent_dispute','sum')).reset_index()\n",
    "edges1['type_in'] = 'ip'\n",
    "edges1['type_out'] = 'card'\n",
    "edges1.columns=[\"point_in\",\"point_out\",\"total_transactions\",\"total_fraud\",\"type_in\",\"type_out\"]\n",
    "edges1"
   ],
   "metadata": {
    "collapsed": false,
    "pycharm": {
     "name": "#%%\n"
    }
   }
  },
  {
   "cell_type": "code",
   "execution_count": null,
   "outputs": [],
   "source": [],
   "metadata": {
    "collapsed": false,
    "pycharm": {
     "name": "#%%\n"
    }
   }
  },
  {
   "cell_type": "code",
   "execution_count": 263,
   "outputs": [
    {
     "data": {
      "text/plain": "                     point_in               point_out  total_transactions  \\\n0      --2E0toluie1TqMY-oXrQg  eErppXRkq-p_C8ginsSiOQ                   6   \n1      -0KPDZ04oHcWYb579pGDNw  b-tLUTPfEfa2l0Eui-v9UQ                   1   \n2      -0jK02r79jRQ2Nzmcbd51Q               anonymous                   1   \n3      -0mAboSyixPty7xuAAnWTA  wlpo3xiAoV0KC0ndCnyiQg                   1   \n4      -1I5QWw03mL1yTPQQfQd1w  lBEp5B7QqM5AqZcdXdBt-g                   1   \n...                       ...                     ...                 ...   \n13848  zyWMrWSG-p1u_9-bgdLgyA  1JT5yMFbjV0J1jTIXfn5XQ                   1   \n13849  zyb5ISuOdXMGndU6Rqq5lg  f34_y0qww-IH7er7Ppyiog                   1   \n13850  zyt9qkmd5Fg_WxwAuKSTkQ  tekJgTRstbm1UmyYcpF53w                   1   \n13851  zz7sHLxN1lPPA4WlxSpiJw               anonymous                   1   \n13852  zzDM4qtk2t2WXBDeYicsrg  5w_skorc_iRX7KqaQbClAw                   1   \n\n       total_fraud type_in type_out  \n0                6      ip    email  \n1                0      ip    email  \n2                1      ip    email  \n3                1      ip    email  \n4                1      ip    email  \n...            ...     ...      ...  \n13848            0      ip    email  \n13849            0      ip    email  \n13850            0      ip    email  \n13851            0      ip    email  \n13852            0      ip    email  \n\n[13853 rows x 6 columns]",
      "text/html": "<div>\n<style scoped>\n    .dataframe tbody tr th:only-of-type {\n        vertical-align: middle;\n    }\n\n    .dataframe tbody tr th {\n        vertical-align: top;\n    }\n\n    .dataframe thead th {\n        text-align: right;\n    }\n</style>\n<table border=\"1\" class=\"dataframe\">\n  <thead>\n    <tr style=\"text-align: right;\">\n      <th></th>\n      <th>point_in</th>\n      <th>point_out</th>\n      <th>total_transactions</th>\n      <th>total_fraud</th>\n      <th>type_in</th>\n      <th>type_out</th>\n    </tr>\n  </thead>\n  <tbody>\n    <tr>\n      <th>0</th>\n      <td>--2E0toluie1TqMY-oXrQg</td>\n      <td>eErppXRkq-p_C8ginsSiOQ</td>\n      <td>6</td>\n      <td>6</td>\n      <td>ip</td>\n      <td>email</td>\n    </tr>\n    <tr>\n      <th>1</th>\n      <td>-0KPDZ04oHcWYb579pGDNw</td>\n      <td>b-tLUTPfEfa2l0Eui-v9UQ</td>\n      <td>1</td>\n      <td>0</td>\n      <td>ip</td>\n      <td>email</td>\n    </tr>\n    <tr>\n      <th>2</th>\n      <td>-0jK02r79jRQ2Nzmcbd51Q</td>\n      <td>anonymous</td>\n      <td>1</td>\n      <td>1</td>\n      <td>ip</td>\n      <td>email</td>\n    </tr>\n    <tr>\n      <th>3</th>\n      <td>-0mAboSyixPty7xuAAnWTA</td>\n      <td>wlpo3xiAoV0KC0ndCnyiQg</td>\n      <td>1</td>\n      <td>1</td>\n      <td>ip</td>\n      <td>email</td>\n    </tr>\n    <tr>\n      <th>4</th>\n      <td>-1I5QWw03mL1yTPQQfQd1w</td>\n      <td>lBEp5B7QqM5AqZcdXdBt-g</td>\n      <td>1</td>\n      <td>1</td>\n      <td>ip</td>\n      <td>email</td>\n    </tr>\n    <tr>\n      <th>...</th>\n      <td>...</td>\n      <td>...</td>\n      <td>...</td>\n      <td>...</td>\n      <td>...</td>\n      <td>...</td>\n    </tr>\n    <tr>\n      <th>13848</th>\n      <td>zyWMrWSG-p1u_9-bgdLgyA</td>\n      <td>1JT5yMFbjV0J1jTIXfn5XQ</td>\n      <td>1</td>\n      <td>0</td>\n      <td>ip</td>\n      <td>email</td>\n    </tr>\n    <tr>\n      <th>13849</th>\n      <td>zyb5ISuOdXMGndU6Rqq5lg</td>\n      <td>f34_y0qww-IH7er7Ppyiog</td>\n      <td>1</td>\n      <td>0</td>\n      <td>ip</td>\n      <td>email</td>\n    </tr>\n    <tr>\n      <th>13850</th>\n      <td>zyt9qkmd5Fg_WxwAuKSTkQ</td>\n      <td>tekJgTRstbm1UmyYcpF53w</td>\n      <td>1</td>\n      <td>0</td>\n      <td>ip</td>\n      <td>email</td>\n    </tr>\n    <tr>\n      <th>13851</th>\n      <td>zz7sHLxN1lPPA4WlxSpiJw</td>\n      <td>anonymous</td>\n      <td>1</td>\n      <td>0</td>\n      <td>ip</td>\n      <td>email</td>\n    </tr>\n    <tr>\n      <th>13852</th>\n      <td>zzDM4qtk2t2WXBDeYicsrg</td>\n      <td>5w_skorc_iRX7KqaQbClAw</td>\n      <td>1</td>\n      <td>0</td>\n      <td>ip</td>\n      <td>email</td>\n    </tr>\n  </tbody>\n</table>\n<p>13853 rows × 6 columns</p>\n</div>"
     },
     "execution_count": 263,
     "metadata": {},
     "output_type": "execute_result"
    }
   ],
   "source": [
    "edges2 = df_sample.groupby([\"ip_address\",\"email_address\"]).agg(total_transactions=('has_fraudulent_dispute','size'), total_fraud=('has_fraudulent_dispute','sum')).reset_index()\n",
    "edges2['type_in'] = 'ip'\n",
    "edges2['type_out'] = 'email'\n",
    "edges2.columns=[\"point_in\",\"point_out\",\"total_transactions\",\"total_fraud\",\"type_in\",\"type_out\"]\n",
    "edges2"
   ],
   "metadata": {
    "collapsed": false,
    "pycharm": {
     "name": "#%%\n"
    }
   }
  },
  {
   "cell_type": "code",
   "execution_count": 264,
   "outputs": [
    {
     "data": {
      "text/plain": "                     point_in               point_out  total_transactions  \\\n0      --58rRRUeyFG-y_jcju51Q  L1BXwyigFMYGEKbI3we34g                   1   \n1      --Bvl6WxZlN8C5M7oieKtA  yKJA0yAKMFw4y0LrDD9JTw                   1   \n2      --MhWq3tmEoMi4ue4Kxk5w  DRgcTBhL5gROs2p5_Gc5gg                   1   \n3      -0ZQwT16Q5y-VFpWswWc_Q  ctvJdP0df5k3Gf3zOfdgng                   1   \n4      -17204BlewoWuAwUqbQlFg  _PVpnNY-Gtrp89MW5AVerw                   1   \n...                       ...                     ...                 ...   \n12392  zyyDrH9wronGeR0FKCU0kQ  a7J4OkbL30z_vZZG1ngTkQ                  12   \n12393  zyyDrH9wronGeR0FKCU0kQ  zCfWu9gLgYRIPsMkjQhUlQ                   1   \n12394  zyyrkdL1kPmFYW55oV1JsA  eVTsPXWuXZRsGIP9xZXWWw                   1   \n12395  zzTiEkkk7H-sqCJZtwgDMg  X53VJ7mZWbfbqWvvZxLpgQ                   1   \n12396  zznixqMdaC80Mfrz9SgxRA  0Y5dHu16ZVyLhbBRarCbSA                   1   \n\n       total_fraud type_in type_out  \n0                0   email     card  \n1                0   email     card  \n2                0   email     card  \n3                0   email     card  \n4                0   email     card  \n...            ...     ...      ...  \n12392           12   email     card  \n12393            1   email     card  \n12394            0   email     card  \n12395            0   email     card  \n12396            0   email     card  \n\n[12397 rows x 6 columns]",
      "text/html": "<div>\n<style scoped>\n    .dataframe tbody tr th:only-of-type {\n        vertical-align: middle;\n    }\n\n    .dataframe tbody tr th {\n        vertical-align: top;\n    }\n\n    .dataframe thead th {\n        text-align: right;\n    }\n</style>\n<table border=\"1\" class=\"dataframe\">\n  <thead>\n    <tr style=\"text-align: right;\">\n      <th></th>\n      <th>point_in</th>\n      <th>point_out</th>\n      <th>total_transactions</th>\n      <th>total_fraud</th>\n      <th>type_in</th>\n      <th>type_out</th>\n    </tr>\n  </thead>\n  <tbody>\n    <tr>\n      <th>0</th>\n      <td>--58rRRUeyFG-y_jcju51Q</td>\n      <td>L1BXwyigFMYGEKbI3we34g</td>\n      <td>1</td>\n      <td>0</td>\n      <td>email</td>\n      <td>card</td>\n    </tr>\n    <tr>\n      <th>1</th>\n      <td>--Bvl6WxZlN8C5M7oieKtA</td>\n      <td>yKJA0yAKMFw4y0LrDD9JTw</td>\n      <td>1</td>\n      <td>0</td>\n      <td>email</td>\n      <td>card</td>\n    </tr>\n    <tr>\n      <th>2</th>\n      <td>--MhWq3tmEoMi4ue4Kxk5w</td>\n      <td>DRgcTBhL5gROs2p5_Gc5gg</td>\n      <td>1</td>\n      <td>0</td>\n      <td>email</td>\n      <td>card</td>\n    </tr>\n    <tr>\n      <th>3</th>\n      <td>-0ZQwT16Q5y-VFpWswWc_Q</td>\n      <td>ctvJdP0df5k3Gf3zOfdgng</td>\n      <td>1</td>\n      <td>0</td>\n      <td>email</td>\n      <td>card</td>\n    </tr>\n    <tr>\n      <th>4</th>\n      <td>-17204BlewoWuAwUqbQlFg</td>\n      <td>_PVpnNY-Gtrp89MW5AVerw</td>\n      <td>1</td>\n      <td>0</td>\n      <td>email</td>\n      <td>card</td>\n    </tr>\n    <tr>\n      <th>...</th>\n      <td>...</td>\n      <td>...</td>\n      <td>...</td>\n      <td>...</td>\n      <td>...</td>\n      <td>...</td>\n    </tr>\n    <tr>\n      <th>12392</th>\n      <td>zyyDrH9wronGeR0FKCU0kQ</td>\n      <td>a7J4OkbL30z_vZZG1ngTkQ</td>\n      <td>12</td>\n      <td>12</td>\n      <td>email</td>\n      <td>card</td>\n    </tr>\n    <tr>\n      <th>12393</th>\n      <td>zyyDrH9wronGeR0FKCU0kQ</td>\n      <td>zCfWu9gLgYRIPsMkjQhUlQ</td>\n      <td>1</td>\n      <td>1</td>\n      <td>email</td>\n      <td>card</td>\n    </tr>\n    <tr>\n      <th>12394</th>\n      <td>zyyrkdL1kPmFYW55oV1JsA</td>\n      <td>eVTsPXWuXZRsGIP9xZXWWw</td>\n      <td>1</td>\n      <td>0</td>\n      <td>email</td>\n      <td>card</td>\n    </tr>\n    <tr>\n      <th>12395</th>\n      <td>zzTiEkkk7H-sqCJZtwgDMg</td>\n      <td>X53VJ7mZWbfbqWvvZxLpgQ</td>\n      <td>1</td>\n      <td>0</td>\n      <td>email</td>\n      <td>card</td>\n    </tr>\n    <tr>\n      <th>12396</th>\n      <td>zznixqMdaC80Mfrz9SgxRA</td>\n      <td>0Y5dHu16ZVyLhbBRarCbSA</td>\n      <td>1</td>\n      <td>0</td>\n      <td>email</td>\n      <td>card</td>\n    </tr>\n  </tbody>\n</table>\n<p>12397 rows × 6 columns</p>\n</div>"
     },
     "execution_count": 264,
     "metadata": {},
     "output_type": "execute_result"
    }
   ],
   "source": [
    "edges3 =df_sample.groupby([\"email_address\",\"card_number\"]).agg(total_transactions=('has_fraudulent_dispute','size'), total_fraud=('has_fraudulent_dispute','sum')).reset_index()\n",
    "edges3['type_in'] = 'email'\n",
    "edges3['type_out'] = 'card'\n",
    "edges3.columns=[\"point_in\",\"point_out\",\"total_transactions\",\"total_fraud\",\"type_in\",\"type_out\"]\n",
    "edges3"
   ],
   "metadata": {
    "collapsed": false,
    "pycharm": {
     "name": "#%%\n"
    }
   }
  },
  {
   "cell_type": "code",
   "execution_count": 266,
   "outputs": [
    {
     "data": {
      "text/plain": "                     point_in               point_out  total_transactions  \\\n0      --2E0toluie1TqMY-oXrQg  GOgdL2ymYoPD99nIT1zbkA                   1   \n1      --2E0toluie1TqMY-oXrQg  vtGsRvD7aYpa-LJdW8sbyg                   5   \n2      -0KPDZ04oHcWYb579pGDNw  5ocC9lnu7b22vFKTsBZPVQ                   1   \n3      -0jK02r79jRQ2Nzmcbd51Q  GaTo2bLUxy-n939nv2g-ag                   1   \n4      -0mAboSyixPty7xuAAnWTA  E3wWIIUb7J4HBwfTbCTB2w                   1   \n...                       ...                     ...                 ...   \n12392  zyyDrH9wronGeR0FKCU0kQ  a7J4OkbL30z_vZZG1ngTkQ                  12   \n12393  zyyDrH9wronGeR0FKCU0kQ  zCfWu9gLgYRIPsMkjQhUlQ                   1   \n12394  zyyrkdL1kPmFYW55oV1JsA  eVTsPXWuXZRsGIP9xZXWWw                   1   \n12395  zzTiEkkk7H-sqCJZtwgDMg  X53VJ7mZWbfbqWvvZxLpgQ                   1   \n12396  zznixqMdaC80Mfrz9SgxRA  0Y5dHu16ZVyLhbBRarCbSA                   1   \n\n       total_fraud type_in type_out  \n0                1      ip     card  \n1                5      ip     card  \n2                0      ip     card  \n3                1      ip     card  \n4                1      ip     card  \n...            ...     ...      ...  \n12392           12   email     card  \n12393            1   email     card  \n12394            0   email     card  \n12395            0   email     card  \n12396            0   email     card  \n\n[40254 rows x 6 columns]",
      "text/html": "<div>\n<style scoped>\n    .dataframe tbody tr th:only-of-type {\n        vertical-align: middle;\n    }\n\n    .dataframe tbody tr th {\n        vertical-align: top;\n    }\n\n    .dataframe thead th {\n        text-align: right;\n    }\n</style>\n<table border=\"1\" class=\"dataframe\">\n  <thead>\n    <tr style=\"text-align: right;\">\n      <th></th>\n      <th>point_in</th>\n      <th>point_out</th>\n      <th>total_transactions</th>\n      <th>total_fraud</th>\n      <th>type_in</th>\n      <th>type_out</th>\n    </tr>\n  </thead>\n  <tbody>\n    <tr>\n      <th>0</th>\n      <td>--2E0toluie1TqMY-oXrQg</td>\n      <td>GOgdL2ymYoPD99nIT1zbkA</td>\n      <td>1</td>\n      <td>1</td>\n      <td>ip</td>\n      <td>card</td>\n    </tr>\n    <tr>\n      <th>1</th>\n      <td>--2E0toluie1TqMY-oXrQg</td>\n      <td>vtGsRvD7aYpa-LJdW8sbyg</td>\n      <td>5</td>\n      <td>5</td>\n      <td>ip</td>\n      <td>card</td>\n    </tr>\n    <tr>\n      <th>2</th>\n      <td>-0KPDZ04oHcWYb579pGDNw</td>\n      <td>5ocC9lnu7b22vFKTsBZPVQ</td>\n      <td>1</td>\n      <td>0</td>\n      <td>ip</td>\n      <td>card</td>\n    </tr>\n    <tr>\n      <th>3</th>\n      <td>-0jK02r79jRQ2Nzmcbd51Q</td>\n      <td>GaTo2bLUxy-n939nv2g-ag</td>\n      <td>1</td>\n      <td>1</td>\n      <td>ip</td>\n      <td>card</td>\n    </tr>\n    <tr>\n      <th>4</th>\n      <td>-0mAboSyixPty7xuAAnWTA</td>\n      <td>E3wWIIUb7J4HBwfTbCTB2w</td>\n      <td>1</td>\n      <td>1</td>\n      <td>ip</td>\n      <td>card</td>\n    </tr>\n    <tr>\n      <th>...</th>\n      <td>...</td>\n      <td>...</td>\n      <td>...</td>\n      <td>...</td>\n      <td>...</td>\n      <td>...</td>\n    </tr>\n    <tr>\n      <th>12392</th>\n      <td>zyyDrH9wronGeR0FKCU0kQ</td>\n      <td>a7J4OkbL30z_vZZG1ngTkQ</td>\n      <td>12</td>\n      <td>12</td>\n      <td>email</td>\n      <td>card</td>\n    </tr>\n    <tr>\n      <th>12393</th>\n      <td>zyyDrH9wronGeR0FKCU0kQ</td>\n      <td>zCfWu9gLgYRIPsMkjQhUlQ</td>\n      <td>1</td>\n      <td>1</td>\n      <td>email</td>\n      <td>card</td>\n    </tr>\n    <tr>\n      <th>12394</th>\n      <td>zyyrkdL1kPmFYW55oV1JsA</td>\n      <td>eVTsPXWuXZRsGIP9xZXWWw</td>\n      <td>1</td>\n      <td>0</td>\n      <td>email</td>\n      <td>card</td>\n    </tr>\n    <tr>\n      <th>12395</th>\n      <td>zzTiEkkk7H-sqCJZtwgDMg</td>\n      <td>X53VJ7mZWbfbqWvvZxLpgQ</td>\n      <td>1</td>\n      <td>0</td>\n      <td>email</td>\n      <td>card</td>\n    </tr>\n    <tr>\n      <th>12396</th>\n      <td>zznixqMdaC80Mfrz9SgxRA</td>\n      <td>0Y5dHu16ZVyLhbBRarCbSA</td>\n      <td>1</td>\n      <td>0</td>\n      <td>email</td>\n      <td>card</td>\n    </tr>\n  </tbody>\n</table>\n<p>40254 rows × 6 columns</p>\n</div>"
     },
     "execution_count": 266,
     "metadata": {},
     "output_type": "execute_result"
    }
   ],
   "source": [
    "df_edges = pd.concat([edges1,edges2,edges3], axis=0)\n",
    "df_edges = df_edges[df_edges['total_transactions']>0]\n",
    "df_edges"
   ],
   "metadata": {
    "collapsed": false,
    "pycharm": {
     "name": "#%%\n"
    }
   }
  },
  {
   "cell_type": "markdown",
   "source": [],
   "metadata": {
    "collapsed": false,
    "pycharm": {
     "name": "#%% md\n"
    }
   }
  },
  {
   "cell_type": "code",
   "execution_count": 268,
   "outputs": [
    {
     "name": "stdout",
     "output_type": "stream",
     "text": [
      "number of nodes 31092\n",
      "number of edges 39511\n"
     ]
    }
   ],
   "source": [
    "import networkx as nx\n",
    "\n",
    "source = 'point_in'\n",
    "target = 'point_out'\n",
    "\n",
    "G = nx.from_pandas_edgelist(df_edges, source=source, target = target, edge_attr='total_transactions')\n",
    "print(f\"number of nodes {len(G.nodes)}\")\n",
    "print(f\"number of edges {len(G.edges)}\")"
   ],
   "metadata": {
    "collapsed": false,
    "pycharm": {
     "name": "#%%\n"
    }
   }
  },
  {
   "cell_type": "code",
   "execution_count": 269,
   "outputs": [
    {
     "data": {
      "text/plain": "Text(0, 0.5, 'Frequency')"
     },
     "execution_count": 269,
     "metadata": {},
     "output_type": "execute_result"
    },
    {
     "data": {
      "text/plain": "<Figure size 864x576 with 1 Axes>",
      "image/png": "[encoded data removed]"
     },
     "metadata": {
      "needs_background": "light"
     },
     "output_type": "display_data"
    }
   ],
   "source": [
    "m=1\n",
    "degree_freq = nx.degree_histogram(G)\n",
    "degrees = range(len(degree_freq))\n",
    "plt.figure(figsize=(12, 8))\n",
    "plt.plot(degrees[m:10], degree_freq[m:10],'go-')\n",
    "plt.xlabel('Degree')\n",
    "plt.ylabel('Frequency')"
   ],
   "metadata": {
    "collapsed": false,
    "pycharm": {
     "name": "#%%\n"
    }
   }
  },
  {
   "cell_type": "code",
   "execution_count": 302,
   "outputs": [],
   "source": [
    "degree_fraud_map = {}\n",
    "degree_transaction_map = {}\n",
    "degree_fraud_odds_raito_map = {}\n",
    "\n",
    "for n, d in G.degree():\n",
    "    if d not in degree_fraud_map:\n",
    "        degree_fraud_map[d] = 0\n",
    "        degree_transaction_map[d] = 0\n",
    "    if len(df_edges[df_edges['point_in']==n])>0:\n",
    "        degree_fraud_map[d] += df_edges[df_edges['point_in'] == n]['total_fraud'].sum()\n",
    "        degree_transaction_map[d] += df_edges[df_edges['point_in'] == n]['total_transactions'].sum()\n",
    "        continue\n",
    "    if len(df_edges[df_edges['point_out']==n])>0:\n",
    "        degree_fraud_map[d] += df_edges[df_edges['point_out'] == n]['total_fraud'].sum()\n",
    "        degree_transaction_map[d] += df_edges[df_edges['point_out'] == n]['total_transactions'].sum()\n",
    "        continue\n",
    "    raise Exception(\"node name not found in df_edges\")"
   ],
   "metadata": {
    "collapsed": false,
    "pycharm": {
     "name": "#%%\n"
    }
   }
  },
  {
   "cell_type": "code",
   "execution_count": 314,
   "outputs": [
    {
     "data": {
      "text/plain": "<AxesSubplot:xlabel='node degree', ylabel='fraud odds'>"
     },
     "execution_count": 314,
     "metadata": {},
     "output_type": "execute_result"
    },
    {
     "data": {
      "text/plain": "<Figure size 432x288 with 1 Axes>",
      "image/png": "[encoded data removed]"
     },
     "metadata": {
      "needs_background": "light"
     },
     "output_type": "display_data"
    }
   ],
   "source": [
    "for degree, fraud in degree_fraud_map.items():\n",
    "    degree_fraud_odds_raito_map[degree] = fraud/(degree_transaction_map[degree]-fraud)\n",
    "degree_fraud_map_sorted = dict(sorted(degree_fraud_odds_raito_map.items()))\n",
    "df_degree_fraud_odds = pd.DataFrame(degree_fraud_map_sorted.items(),columns=[\"node degree\",\"fraud odds\"])\n",
    "sns.barplot(data=df_degree_fraud_odds,x=\"node degree\",y=\"fraud odds\")"
   ],
   "metadata": {
    "collapsed": false,
    "pycharm": {
     "name": "#%%\n"
    }
   }
  },
  {
   "cell_type": "markdown",
   "source": [
    "We treat every transaction's ip, bank account number and online purchase email as a node on the graph, then connect them (if a transaction uses the IP: A, account B, then connect AB). When node degrees larger > 4, the fraud rate increases dramatically by 10 times.\n",
    "\n",
    "really hard to draw graph as too many nodes and edges"
   ],
   "metadata": {
    "collapsed": false,
    "pycharm": {
     "name": "#%% md\n"
    }
   }
  },
  {
   "cell_type": "code",
   "execution_count": 190,
   "outputs": [],
   "source": [
    "# generate node color map so that we allocate color to each node based on the node type\n",
    "nodes_color_map_list = []\n",
    "type_color_map = {\n",
    "    \"ip\": \"yellow\",\n",
    "    \"card\": \"green\",\n",
    "    \"email\": \"red\",\n",
    "}\n",
    "\n",
    "# node size will be defined by the total number of fraud of given information (ip/email/card)\n",
    "nodes_size_map_list = []\n",
    "\n",
    "for v in G.nodes():\n",
    "    if len(df_sample[df_sample['ip_address'] == v]) > 0:\n",
    "        nodes_color_map_list.append(type_color_map['ip'])\n",
    "        nodes_size_map_list.append(len(df_sample[(df_sample['ip_address'] == v) & (df_sample['has_fraudulent_dispute'] == 1)]))\n",
    "        continue\n",
    "    if len(df_sample[df_sample['card_number'] == v]) > 0:\n",
    "        nodes_color_map_list.append(type_color_map['card'])\n",
    "        nodes_size_map_list.append(len(df_sample[(df_sample['card_number'] == v) & (df_sample['has_fraudulent_dispute'] == 1)]))\n",
    "        continue\n",
    "    if len(df_sample[df_sample['email_address'] == v]) > 0:\n",
    "        nodes_color_map_list.append(type_color_map['email'])\n",
    "        nodes_size_map_list.append(len(df_sample[(df_sample['email_address'] == v) & (df_sample['has_fraudulent_dispute'] == 1)]))\n",
    "        continue\n",
    "    raise Exception(\"Sorry, not matched label\")"
   ],
   "metadata": {
    "collapsed": false,
    "pycharm": {
     "name": "#%%\n"
    }
   }
  },
  {
   "cell_type": "code",
   "execution_count": 315,
   "outputs": [],
   "source": [
    "nodes_size_map_list_transformed = np.array(nodes_size_map_list) * 10"
   ],
   "metadata": {
    "collapsed": false,
    "pycharm": {
     "name": "#%%\n"
    }
   }
  },
  {
   "cell_type": "code",
   "execution_count": 211,
   "outputs": [
    {
     "name": "stdout",
     "output_type": "stream",
     "text": [
      "number of communities found 1220\n"
     ]
    }
   ],
   "source": [
    "from networkx.algorithms.community import greedy_modularity_communities\n",
    "\n",
    "#the function will return a partition of nodes\n",
    "c = list(greedy_modularity_communities(G, resolution=0.0001)) # If resolution is less than 1, modularity favors larger communities. Greater than 1 favors smaller communities.\n",
    "print(f\"number of communities found {len(c)}\")"
   ],
   "metadata": {
    "collapsed": false,
    "pycharm": {
     "name": "#%%\n"
    }
   }
  },
  {
   "cell_type": "code",
   "execution_count": 194,
   "outputs": [
    {
     "ename": "KeyboardInterrupt",
     "evalue": "",
     "output_type": "error",
     "traceback": [
      "\u001B[0;31m---------------------------------------------------------------------------\u001B[0m",
      "\u001B[0;31mKeyboardInterrupt\u001B[0m                         Traceback (most recent call last)",
      "Input \u001B[0;32mIn [194]\u001B[0m, in \u001B[0;36m<cell line: 5>\u001B[0;34m()\u001B[0m\n\u001B[1;32m      2\u001B[0m plt\u001B[38;5;241m.\u001B[39mfigure(figsize\u001B[38;5;241m=\u001B[39m(\u001B[38;5;241m32\u001B[39m, \u001B[38;5;241m32\u001B[39m))\n\u001B[1;32m      4\u001B[0m \u001B[38;5;66;03m#place nodes according to the force-directed algorithm\u001B[39;00m\n\u001B[0;32m----> 5\u001B[0m pos \u001B[38;5;241m=\u001B[39m \u001B[43mnx\u001B[49m\u001B[38;5;241;43m.\u001B[39;49m\u001B[43mspring_layout\u001B[49m\u001B[43m(\u001B[49m\u001B[43mG\u001B[49m\u001B[43m,\u001B[49m\u001B[43m \u001B[49m\u001B[43mk\u001B[49m\u001B[38;5;241;43m=\u001B[39;49m\u001B[38;5;241;43m5\u001B[39;49m\u001B[43m,\u001B[49m\u001B[43m \u001B[49m\u001B[43miterations\u001B[49m\u001B[38;5;241;43m=\u001B[39;49m\u001B[38;5;241;43m2000\u001B[39;49m\u001B[43m,\u001B[49m\u001B[43m \u001B[49m\u001B[43mweight\u001B[49m\u001B[38;5;241;43m=\u001B[39;49m\u001B[38;5;124;43m'\u001B[39;49m\u001B[38;5;124;43mweight\u001B[39;49m\u001B[38;5;124;43m'\u001B[39;49m\u001B[43m,\u001B[49m\u001B[43m \u001B[49m\u001B[43mscale\u001B[49m\u001B[38;5;241;43m=\u001B[39;49m\u001B[38;5;241;43m5\u001B[39;49m\u001B[43m)\u001B[49m \u001B[38;5;66;03m# output a dict with the country code as key and pos as value\u001B[39;00m\n\u001B[1;32m      7\u001B[0m nx\u001B[38;5;241m.\u001B[39mdraw_networkx(G, pos\u001B[38;5;241m=\u001B[39mpos, with_labels\u001B[38;5;241m=\u001B[39m\u001B[38;5;28;01mFalse\u001B[39;00m, node_color\u001B[38;5;241m=\u001B[39mnodes_color_map_list, edge_color\u001B[38;5;241m=\u001B[39m\u001B[38;5;124m\"\u001B[39m\u001B[38;5;124mlightgray\u001B[39m\u001B[38;5;124m\"\u001B[39m, alpha\u001B[38;5;241m=\u001B[39m\u001B[38;5;241m0.6\u001B[39m, node_size\u001B[38;5;241m=\u001B[39mnodes_size_map_list)\n\u001B[1;32m      8\u001B[0m plt\u001B[38;5;241m.\u001B[39mshow()\n",
      "File \u001B[0;32m<class 'networkx.utils.decorators.argmap'> compilation 8:4\u001B[0m, in \u001B[0;36margmap_spring_layout_5\u001B[0;34m(G, k, pos, fixed, iterations, threshold, weight, scale, center, dim, seed)\u001B[0m\n\u001B[1;32m      2\u001B[0m \u001B[38;5;28;01mfrom\u001B[39;00m \u001B[38;5;21;01mos\u001B[39;00m\u001B[38;5;21;01m.\u001B[39;00m\u001B[38;5;21;01mpath\u001B[39;00m \u001B[38;5;28;01mimport\u001B[39;00m splitext\n\u001B[1;32m      3\u001B[0m \u001B[38;5;28;01mfrom\u001B[39;00m \u001B[38;5;21;01mcontextlib\u001B[39;00m \u001B[38;5;28;01mimport\u001B[39;00m contextmanager\n\u001B[0;32m----> 4\u001B[0m \u001B[38;5;28;01mfrom\u001B[39;00m \u001B[38;5;21;01mpathlib\u001B[39;00m \u001B[38;5;28;01mimport\u001B[39;00m Path\n\u001B[1;32m      6\u001B[0m \u001B[38;5;28;01mimport\u001B[39;00m \u001B[38;5;21;01mnetworkx\u001B[39;00m \u001B[38;5;28;01mas\u001B[39;00m \u001B[38;5;21;01mnx\u001B[39;00m\n\u001B[1;32m      7\u001B[0m \u001B[38;5;28;01mfrom\u001B[39;00m \u001B[38;5;21;01mnetworkx\u001B[39;00m\u001B[38;5;21;01m.\u001B[39;00m\u001B[38;5;21;01mutils\u001B[39;00m \u001B[38;5;28;01mimport\u001B[39;00m create_random_state, create_py_random_state\n",
      "File \u001B[0;32m~/opt/anaconda3/lib/python3.9/site-packages/networkx/drawing/layout.py:481\u001B[0m, in \u001B[0;36mspring_layout\u001B[0;34m(G, k, pos, fixed, iterations, threshold, weight, scale, center, dim, seed)\u001B[0m\n\u001B[1;32m    479\u001B[0m         nnodes, _ \u001B[38;5;241m=\u001B[39m A\u001B[38;5;241m.\u001B[39mshape\n\u001B[1;32m    480\u001B[0m         k \u001B[38;5;241m=\u001B[39m dom_size \u001B[38;5;241m/\u001B[39m np\u001B[38;5;241m.\u001B[39msqrt(nnodes)\n\u001B[0;32m--> 481\u001B[0m     pos \u001B[38;5;241m=\u001B[39m \u001B[43m_sparse_fruchterman_reingold\u001B[49m\u001B[43m(\u001B[49m\n\u001B[1;32m    482\u001B[0m \u001B[43m        \u001B[49m\u001B[43mA\u001B[49m\u001B[43m,\u001B[49m\u001B[43m \u001B[49m\u001B[43mk\u001B[49m\u001B[43m,\u001B[49m\u001B[43m \u001B[49m\u001B[43mpos_arr\u001B[49m\u001B[43m,\u001B[49m\u001B[43m \u001B[49m\u001B[43mfixed\u001B[49m\u001B[43m,\u001B[49m\u001B[43m \u001B[49m\u001B[43miterations\u001B[49m\u001B[43m,\u001B[49m\u001B[43m \u001B[49m\u001B[43mthreshold\u001B[49m\u001B[43m,\u001B[49m\u001B[43m \u001B[49m\u001B[43mdim\u001B[49m\u001B[43m,\u001B[49m\u001B[43m \u001B[49m\u001B[43mseed\u001B[49m\n\u001B[1;32m    483\u001B[0m \u001B[43m    \u001B[49m\u001B[43m)\u001B[49m\n\u001B[1;32m    484\u001B[0m \u001B[38;5;28;01mexcept\u001B[39;00m \u001B[38;5;167;01mValueError\u001B[39;00m:\n\u001B[1;32m    485\u001B[0m     A \u001B[38;5;241m=\u001B[39m nx\u001B[38;5;241m.\u001B[39mto_numpy_array(G, weight\u001B[38;5;241m=\u001B[39mweight)\n",
      "File \u001B[0;32m<class 'networkx.utils.decorators.argmap'> compilation 12:4\u001B[0m, in \u001B[0;36margmap__sparse_fruchterman_reingold_9\u001B[0;34m(A, k, pos, fixed, iterations, threshold, dim, seed)\u001B[0m\n\u001B[1;32m      2\u001B[0m \u001B[38;5;28;01mfrom\u001B[39;00m \u001B[38;5;21;01mos\u001B[39;00m\u001B[38;5;21;01m.\u001B[39;00m\u001B[38;5;21;01mpath\u001B[39;00m \u001B[38;5;28;01mimport\u001B[39;00m splitext\n\u001B[1;32m      3\u001B[0m \u001B[38;5;28;01mfrom\u001B[39;00m \u001B[38;5;21;01mcontextlib\u001B[39;00m \u001B[38;5;28;01mimport\u001B[39;00m contextmanager\n\u001B[0;32m----> 4\u001B[0m \u001B[38;5;28;01mfrom\u001B[39;00m \u001B[38;5;21;01mpathlib\u001B[39;00m \u001B[38;5;28;01mimport\u001B[39;00m Path\n\u001B[1;32m      6\u001B[0m \u001B[38;5;28;01mimport\u001B[39;00m \u001B[38;5;21;01mnetworkx\u001B[39;00m \u001B[38;5;28;01mas\u001B[39;00m \u001B[38;5;21;01mnx\u001B[39;00m\n\u001B[1;32m      7\u001B[0m \u001B[38;5;28;01mfrom\u001B[39;00m \u001B[38;5;21;01mnetworkx\u001B[39;00m\u001B[38;5;21;01m.\u001B[39;00m\u001B[38;5;21;01mutils\u001B[39;00m \u001B[38;5;28;01mimport\u001B[39;00m create_random_state, create_py_random_state\n",
      "File \u001B[0;32m~/opt/anaconda3/lib/python3.9/site-packages/networkx/drawing/layout.py:617\u001B[0m, in \u001B[0;36m_sparse_fruchterman_reingold\u001B[0;34m(A, k, pos, fixed, iterations, threshold, dim, seed)\u001B[0m\n\u001B[1;32m    615\u001B[0m delta \u001B[38;5;241m=\u001B[39m (pos[i] \u001B[38;5;241m-\u001B[39m pos)\u001B[38;5;241m.\u001B[39mT\n\u001B[1;32m    616\u001B[0m \u001B[38;5;66;03m# distance between points\u001B[39;00m\n\u001B[0;32m--> 617\u001B[0m distance \u001B[38;5;241m=\u001B[39m np\u001B[38;5;241m.\u001B[39msqrt(\u001B[43m(\u001B[49m\u001B[43mdelta\u001B[49m\u001B[43m \u001B[49m\u001B[38;5;241;43m*\u001B[39;49m\u001B[38;5;241;43m*\u001B[39;49m\u001B[43m \u001B[49m\u001B[38;5;241;43m2\u001B[39;49m\u001B[43m)\u001B[49m\u001B[38;5;241;43m.\u001B[39;49m\u001B[43msum\u001B[49m\u001B[43m(\u001B[49m\u001B[43maxis\u001B[49m\u001B[38;5;241;43m=\u001B[39;49m\u001B[38;5;241;43m0\u001B[39;49m\u001B[43m)\u001B[49m)\n\u001B[1;32m    618\u001B[0m \u001B[38;5;66;03m# enforce minimum distance of 0.01\u001B[39;00m\n\u001B[1;32m    619\u001B[0m distance \u001B[38;5;241m=\u001B[39m np\u001B[38;5;241m.\u001B[39mwhere(distance \u001B[38;5;241m<\u001B[39m \u001B[38;5;241m0.01\u001B[39m, \u001B[38;5;241m0.01\u001B[39m, distance)\n",
      "File \u001B[0;32m~/opt/anaconda3/lib/python3.9/site-packages/numpy/core/_methods.py:48\u001B[0m, in \u001B[0;36m_sum\u001B[0;34m(a, axis, dtype, out, keepdims, initial, where)\u001B[0m\n\u001B[1;32m     46\u001B[0m \u001B[38;5;28;01mdef\u001B[39;00m \u001B[38;5;21m_sum\u001B[39m(a, axis\u001B[38;5;241m=\u001B[39m\u001B[38;5;28;01mNone\u001B[39;00m, dtype\u001B[38;5;241m=\u001B[39m\u001B[38;5;28;01mNone\u001B[39;00m, out\u001B[38;5;241m=\u001B[39m\u001B[38;5;28;01mNone\u001B[39;00m, keepdims\u001B[38;5;241m=\u001B[39m\u001B[38;5;28;01mFalse\u001B[39;00m,\n\u001B[1;32m     47\u001B[0m          initial\u001B[38;5;241m=\u001B[39m_NoValue, where\u001B[38;5;241m=\u001B[39m\u001B[38;5;28;01mTrue\u001B[39;00m):\n\u001B[0;32m---> 48\u001B[0m     \u001B[38;5;28;01mreturn\u001B[39;00m \u001B[43mumr_sum\u001B[49m\u001B[43m(\u001B[49m\u001B[43ma\u001B[49m\u001B[43m,\u001B[49m\u001B[43m \u001B[49m\u001B[43maxis\u001B[49m\u001B[43m,\u001B[49m\u001B[43m \u001B[49m\u001B[43mdtype\u001B[49m\u001B[43m,\u001B[49m\u001B[43m \u001B[49m\u001B[43mout\u001B[49m\u001B[43m,\u001B[49m\u001B[43m \u001B[49m\u001B[43mkeepdims\u001B[49m\u001B[43m,\u001B[49m\u001B[43m \u001B[49m\u001B[43minitial\u001B[49m\u001B[43m,\u001B[49m\u001B[43m \u001B[49m\u001B[43mwhere\u001B[49m\u001B[43m)\u001B[49m\n",
      "\u001B[0;31mKeyboardInterrupt\u001B[0m: "
     ]
    },
    {
     "data": {
      "text/plain": "<Figure size 2304x2304 with 0 Axes>"
     },
     "metadata": {},
     "output_type": "display_data"
    }
   ],
   "source": [
    "#create a larger figure\n",
    "plt.figure(figsize=(32, 32))\n",
    "\n",
    "#place nodes according to the force-directed algorithm\n",
    "pos = nx.spring_layout(G, k=5, iterations=2000, weight='weight', scale=5) # output a dict with the country code as key and pos as value\n",
    "\n",
    "nx.draw_networkx(G, pos=pos, with_labels=False, node_color=nodes_color_map_list, edge_color=\"lightgray\", alpha=0.6, node_size=nodes_size_map_list)\n",
    "plt.show()"
   ],
   "metadata": {
    "collapsed": false,
    "pycharm": {
     "name": "#%%\n"
    }
   }
  },
  {
   "cell_type": "code",
   "execution_count": null,
   "outputs": [],
   "source": [],
   "metadata": {
    "collapsed": false,
    "pycharm": {
     "name": "#%%\n"
    }
   }
  }
 ],
 "metadata": {
  "kernelspec": {
   "display_name": "Python 3 (ipykernel)",
   "language": "python",
   "name": "python3"
  },
  "language_info": {
   "codemirror_mode": {
    "name": "ipython",
    "version": 3
   },
   "file_extension": ".py",
   "mimetype": "text/x-python",
   "name": "python",
   "nbconvert_exporter": "python",
   "pygments_lexer": "ipython3",
   "version": "3.9.12"
  }
 },
 "nbformat": 4,
 "nbformat_minor": 5
}