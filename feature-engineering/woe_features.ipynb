{
 "cells": [
  {
   "cell_type": "code",
   "execution_count": 35,
   "outputs": [
    {
     "name": "stdout",
     "output_type": "stream",
     "text": [
      "The autoreload extension is already loaded. To reload it, use:\n",
      "  %reload_ext autoreload\n"
     ]
    }
   ],
   "source": [
    "import pandas as pd\n",
    "from lib.mutation_util import date\n",
    "%load_ext autoreload\n",
    "%autoreload"
   ],
   "metadata": {
    "collapsed": false
   }
  },
  {
   "cell_type": "markdown",
   "source": [
    "## Preprocessing (time filtering)"
   ],
   "metadata": {
    "collapsed": false
   }
  },
  {
   "cell_type": "code",
   "execution_count": 36,
   "outputs": [],
   "source": [
    "start_date = \"2021-01-01\"\n",
    "end_date = \"2021-11-30\""
   ],
   "metadata": {
    "collapsed": false
   }
  },
  {
   "cell_type": "code",
   "execution_count": 37,
   "outputs": [
    {
     "data": {
      "text/plain": "   psp_reference  has_fraudulent_dispute              ip_address  \\\n0    31441792706                   False  qmHjXdZTQXznQZ2nK7S28A   \n1    56840734687                   False  MoYL1fAsneKV6qc9TDsPnA   \n2    50841350701                    True  yrHXrfW79VP4X1jyc7-eGw   \n3    81202637637                   False  HtOkB2mBa5MG-ovenajWZg   \n4    76149360397                   False  nxVC8BgbuNyqXjZ_A8J2MQ   \n\n            email_address             card_number  \n0  6AIShI-nACdw5NTU_521kA  TU4KPVuB29KX7PZmtbhhUQ  \n1  k93K-irSTKwd2pBkcXDK5w  71c2U4kmw9U_8vMaMd5YCQ  \n2  LgvYsxCc7nbhLRujP0tYZQ  GvlEILP6lyz_nFf6bbDENg  \n3  RMJDQUiNhwzAnzCzOkUR-w  8X8Fb4r47wtQeghlxOuN0w  \n4  EGLNvgON4EdvfVMaHpn78Q  DdiFpiagUE6zrCRX6AcX0Q  ",
      "text/html": "<div>\n<style scoped>\n    .dataframe tbody tr th:only-of-type {\n        vertical-align: middle;\n    }\n\n    .dataframe tbody tr th {\n        vertical-align: top;\n    }\n\n    .dataframe thead th {\n        text-align: right;\n    }\n</style>\n<table border=\"1\" class=\"dataframe\">\n  <thead>\n    <tr style=\"text-align: right;\">\n      <th></th>\n      <th>psp_reference</th>\n      <th>has_fraudulent_dispute</th>\n      <th>ip_address</th>\n      <th>email_address</th>\n      <th>card_number</th>\n    </tr>\n  </thead>\n  <tbody>\n    <tr>\n      <th>0</th>\n      <td>31441792706</td>\n      <td>False</td>\n      <td>qmHjXdZTQXznQZ2nK7S28A</td>\n      <td>6AIShI-nACdw5NTU_521kA</td>\n      <td>TU4KPVuB29KX7PZmtbhhUQ</td>\n    </tr>\n    <tr>\n      <th>1</th>\n      <td>56840734687</td>\n      <td>False</td>\n      <td>MoYL1fAsneKV6qc9TDsPnA</td>\n      <td>k93K-irSTKwd2pBkcXDK5w</td>\n      <td>71c2U4kmw9U_8vMaMd5YCQ</td>\n    </tr>\n    <tr>\n      <th>2</th>\n      <td>50841350701</td>\n      <td>True</td>\n      <td>yrHXrfW79VP4X1jyc7-eGw</td>\n      <td>LgvYsxCc7nbhLRujP0tYZQ</td>\n      <td>GvlEILP6lyz_nFf6bbDENg</td>\n    </tr>\n    <tr>\n      <th>3</th>\n      <td>81202637637</td>\n      <td>False</td>\n      <td>HtOkB2mBa5MG-ovenajWZg</td>\n      <td>RMJDQUiNhwzAnzCzOkUR-w</td>\n      <td>8X8Fb4r47wtQeghlxOuN0w</td>\n    </tr>\n    <tr>\n      <th>4</th>\n      <td>76149360397</td>\n      <td>False</td>\n      <td>nxVC8BgbuNyqXjZ_A8J2MQ</td>\n      <td>EGLNvgON4EdvfVMaHpn78Q</td>\n      <td>DdiFpiagUE6zrCRX6AcX0Q</td>\n    </tr>\n  </tbody>\n</table>\n</div>"
     },
     "execution_count": 37,
     "metadata": {},
     "output_type": "execute_result"
    }
   ],
   "source": [
    "df_ori = pd.read_csv('../adyen-dataset.csv')\n",
    "df_ori[\"date\"] = df_ori.apply(date, axis=1)\n",
    "df_ori[\"date\"] = pd.to_datetime(df_ori[\"date\"])\n",
    "df_ori.set_index('date', inplace=True)\n",
    "df_ts = df_ori.sort_index()\n",
    "df_ts = df_ts.loc[start_date:end_date]\n",
    "df_woe = df_ts.loc(axis=1)[\"psp_reference\", \"has_fraudulent_dispute\", \"ip_address\", \"email_address\", \"card_number\"]\n",
    "df_woe.reset_index(drop=True, inplace=True)\n",
    "df_woe.head()"
   ],
   "metadata": {
    "collapsed": false
   }
  },
  {
   "cell_type": "code",
   "execution_count": 41,
   "metadata": {
    "collapsed": true
   },
   "outputs": [
    {
     "data": {
      "text/plain": "        psp_reference              ip_address           email_address  \\\n0         31441792706  qmHjXdZTQXznQZ2nK7S28A  6AIShI-nACdw5NTU_521kA   \n1         56840734687  MoYL1fAsneKV6qc9TDsPnA  k93K-irSTKwd2pBkcXDK5w   \n2         50841350701  yrHXrfW79VP4X1jyc7-eGw  LgvYsxCc7nbhLRujP0tYZQ   \n3         81202637637  HtOkB2mBa5MG-ovenajWZg  RMJDQUiNhwzAnzCzOkUR-w   \n4         76149360397  nxVC8BgbuNyqXjZ_A8J2MQ  EGLNvgON4EdvfVMaHpn78Q   \n...               ...                     ...                     ...   \n127045    61422715805                     NaN  GlewPgEGPUohTbu7odbFPQ   \n127046    62714194430  ZC8fEYD5WgFNwn9yUrPSMA  ck1Qo_AYcLRtx6N41yl0mA   \n127047    77364072877  oukfYxaa8dqef3T-IfXrPA  XsQscJednbutwJ0koM3MoQ   \n127048    58757695028  lS18-mXp-7MN53HLG9k5rQ  RxTWOOXba45-iqcl6nZx2Q   \n127049    28193502325                     NaN  6laZrTpu6WwpCybabMhBOQ   \n\n                   card_number  ip_address_woe  email_address_woe  \\\n0       TU4KPVuB29KX7PZmtbhhUQ        0.000000           0.000000   \n1       71c2U4kmw9U_8vMaMd5YCQ        0.000000           1.392115   \n2       GvlEILP6lyz_nFf6bbDENg        2.308406           2.673049   \n3       8X8Fb4r47wtQeghlxOuN0w        0.000000           0.000000   \n4       DdiFpiagUE6zrCRX6AcX0Q        1.392115           1.104433   \n...                        ...             ...                ...   \n127045  0I_LNtaJId02RYsJYrdaMw        0.005309           0.000000   \n127046  qxnnDmXl0DI-l8OuDElDvA        0.293503           0.000000   \n127047  EdjF0T_c6Isruja_8Yg0Wg        0.000000           1.392115   \n127048  3105RMBu7120IknwEVDAcA        0.000000           0.000000   \n127049  83qaWEqWbz2Al3_wav8C-w        0.005309           0.881290   \n\n        card_number_woe  \n0              0.000000  \n1              1.392115  \n2              2.308406  \n3              0.000000  \n4              1.104433  \n...                 ...  \n127045         0.000000  \n127046        -0.148330  \n127047         1.392115  \n127048         0.000000  \n127049         0.881290  \n\n[127050 rows x 7 columns]",
      "text/html": "<div>\n<style scoped>\n    .dataframe tbody tr th:only-of-type {\n        vertical-align: middle;\n    }\n\n    .dataframe tbody tr th {\n        vertical-align: top;\n    }\n\n    .dataframe thead th {\n        text-align: right;\n    }\n</style>\n<table border=\"1\" class=\"dataframe\">\n  <thead>\n    <tr style=\"text-align: right;\">\n      <th></th>\n      <th>psp_reference</th>\n      <th>ip_address</th>\n      <th>email_address</th>\n      <th>card_number</th>\n      <th>ip_address_woe</th>\n      <th>email_address_woe</th>\n      <th>card_number_woe</th>\n    </tr>\n  </thead>\n  <tbody>\n    <tr>\n      <th>0</th>\n      <td>31441792706</td>\n      <td>qmHjXdZTQXznQZ2nK7S28A</td>\n      <td>6AIShI-nACdw5NTU_521kA</td>\n      <td>TU4KPVuB29KX7PZmtbhhUQ</td>\n      <td>0.000000</td>\n      <td>0.000000</td>\n      <td>0.000000</td>\n    </tr>\n    <tr>\n      <th>1</th>\n      <td>56840734687</td>\n      <td>MoYL1fAsneKV6qc9TDsPnA</td>\n      <td>k93K-irSTKwd2pBkcXDK5w</td>\n      <td>71c2U4kmw9U_8vMaMd5YCQ</td>\n      <td>0.000000</td>\n      <td>1.392115</td>\n      <td>1.392115</td>\n    </tr>\n    <tr>\n      <th>2</th>\n      <td>50841350701</td>\n      <td>yrHXrfW79VP4X1jyc7-eGw</td>\n      <td>LgvYsxCc7nbhLRujP0tYZQ</td>\n      <td>GvlEILP6lyz_nFf6bbDENg</td>\n      <td>2.308406</td>\n      <td>2.673049</td>\n      <td>2.308406</td>\n    </tr>\n    <tr>\n      <th>3</th>\n      <td>81202637637</td>\n      <td>HtOkB2mBa5MG-ovenajWZg</td>\n      <td>RMJDQUiNhwzAnzCzOkUR-w</td>\n      <td>8X8Fb4r47wtQeghlxOuN0w</td>\n      <td>0.000000</td>\n      <td>0.000000</td>\n      <td>0.000000</td>\n    </tr>\n    <tr>\n      <th>4</th>\n      <td>76149360397</td>\n      <td>nxVC8BgbuNyqXjZ_A8J2MQ</td>\n      <td>EGLNvgON4EdvfVMaHpn78Q</td>\n      <td>DdiFpiagUE6zrCRX6AcX0Q</td>\n      <td>1.392115</td>\n      <td>1.104433</td>\n      <td>1.104433</td>\n    </tr>\n    <tr>\n      <th>...</th>\n      <td>...</td>\n      <td>...</td>\n      <td>...</td>\n      <td>...</td>\n      <td>...</td>\n      <td>...</td>\n      <td>...</td>\n    </tr>\n    <tr>\n      <th>127045</th>\n      <td>61422715805</td>\n      <td>NaN</td>\n      <td>GlewPgEGPUohTbu7odbFPQ</td>\n      <td>0I_LNtaJId02RYsJYrdaMw</td>\n      <td>0.005309</td>\n      <td>0.000000</td>\n      <td>0.000000</td>\n    </tr>\n    <tr>\n      <th>127046</th>\n      <td>62714194430</td>\n      <td>ZC8fEYD5WgFNwn9yUrPSMA</td>\n      <td>ck1Qo_AYcLRtx6N41yl0mA</td>\n      <td>qxnnDmXl0DI-l8OuDElDvA</td>\n      <td>0.293503</td>\n      <td>0.000000</td>\n      <td>-0.148330</td>\n    </tr>\n    <tr>\n      <th>127047</th>\n      <td>77364072877</td>\n      <td>oukfYxaa8dqef3T-IfXrPA</td>\n      <td>XsQscJednbutwJ0koM3MoQ</td>\n      <td>EdjF0T_c6Isruja_8Yg0Wg</td>\n      <td>0.000000</td>\n      <td>1.392115</td>\n      <td>1.392115</td>\n    </tr>\n    <tr>\n      <th>127048</th>\n      <td>58757695028</td>\n      <td>lS18-mXp-7MN53HLG9k5rQ</td>\n      <td>RxTWOOXba45-iqcl6nZx2Q</td>\n      <td>3105RMBu7120IknwEVDAcA</td>\n      <td>0.000000</td>\n      <td>0.000000</td>\n      <td>0.000000</td>\n    </tr>\n    <tr>\n      <th>127049</th>\n      <td>28193502325</td>\n      <td>NaN</td>\n      <td>6laZrTpu6WwpCybabMhBOQ</td>\n      <td>83qaWEqWbz2Al3_wav8C-w</td>\n      <td>0.005309</td>\n      <td>0.881290</td>\n      <td>0.881290</td>\n    </tr>\n  </tbody>\n</table>\n<p>127050 rows × 7 columns</p>\n</div>"
     },
     "execution_count": 41,
     "metadata": {},
     "output_type": "execute_result"
    }
   ],
   "source": [
    "from category_encoders import WOEEncoder\n",
    "\n",
    "# woe encoding\n",
    "enc1 = WOEEncoder()\n",
    "ip_address_dummies = enc1.fit_transform(X=df_woe.ip_address, y=df_woe.has_fraudulent_dispute.values.tolist())\n",
    "enc2 = WOEEncoder()\n",
    "email_address_dummies = enc2.fit_transform(X=df_woe.email_address, y=df_woe.has_fraudulent_dispute.values.tolist())\n",
    "enc3 = WOEEncoder()\n",
    "card_number_dummies = enc3.fit_transform(X=df_woe.card_number, y=df_woe.has_fraudulent_dispute.values.tolist())\n",
    "\n",
    "df_woe_features = pd.concat([df_woe[\"psp_reference\"], df_woe[\"ip_address\"], df_woe[\"email_address\"], df_woe[\"card_number\"], ip_address_dummies, email_address_dummies, card_number_dummies],axis=1)\n",
    "symbols = ['psp_reference', 'ip_address','email_address','card_number','ip_address_woe', 'email_address_woe', 'card_number_woe']\n",
    "df_woe_features.columns = symbols\n",
    "df_woe_features"
   ]
  },
  {
   "cell_type": "code",
   "execution_count": 43,
   "outputs": [],
   "source": [
    "df_woe_features.to_csv(f\"woe_features_{end_date}.csv\", index=False)"
   ],
   "metadata": {
    "collapsed": false
   }
  },
  {
   "cell_type": "code",
   "execution_count": 39,
   "outputs": [],
   "source": [],
   "metadata": {
    "collapsed": false
   }
  }
 ],
 "metadata": {
  "kernelspec": {
   "display_name": "Python 3",
   "language": "python",
   "name": "python3"
  },
  "language_info": {
   "codemirror_mode": {
    "name": "ipython",
    "version": 2
   },
   "file_extension": ".py",
   "mimetype": "text/x-python",
   "name": "python",
   "nbconvert_exporter": "python",
   "pygments_lexer": "ipython2",
   "version": "2.7.6"
  }
 },
 "nbformat": 4,
 "nbformat_minor": 0
}
