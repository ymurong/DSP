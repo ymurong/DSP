{
 "cells": [
  {
   "cell_type": "code",
   "execution_count": 2,
   "outputs": [],
   "source": [
    "import pandas as pd\n",
    "import numpy as np\n",
    "import matplotlib.pyplot as plt\n",
    "import seaborn as sns\n",
    "import scipy.stats as ss\n"
   ],
   "metadata": {
    "collapsed": false
   }
  },
  {
   "cell_type": "code",
   "execution_count": 4,
   "outputs": [
    {
     "data": {
      "text/plain": "        psp_reference  has_fraudulent_dispute              ip_address  \\\n0         79622457320                   False  i1oY1kTOXMlsFfoyhFJxyA   \n1         41293916020                   False  HZkxQvtpScNLgi0fsoSkjA   \n2         31382555255                   False  HGW5EwBnHVgOrD5xYplBdw   \n3         13944051314                   False  8AuFEjK8m-0lxGAOJzOPmg   \n4         62343575411                   False                     NaN   \n...               ...                     ...                     ...   \n138696    58957356926                    True  947PJ1zh6yFwZxGOYG8Lnw   \n138697    44780141989                   False                     NaN   \n138698    34619316012                   False  -mT_MQEgvNfb5RkbW0oejw   \n138699    68700535373                    True  13Jg3lRGPEoM3c_vLM-SVQ   \n138700    21880024860                   False                     NaN   \n\n                 email_address             card_number  \n0       3XBRYto3QgX7g4pX-BvNyA  XldVNN9TQgIA2RE9FTC2TA  \n1       klwgzdfrnz_6eGsHSi2prQ  zgRoL8pxX5LJI-SEPUTMvg  \n2       XkMWeLLmXALPcV3ndwzKJw  T3BF1uOOqgcwaVRb_ujPQg  \n3       26Lw20NQtPKb5cyQZBuh1w  BMf1zFkJ1xvPMlOxC7RWTw  \n4       Y7tv2i85iUadkEIAPIufgg  jfxS2TIe0gR9vpOUdMKrBw  \n...                        ...                     ...  \n138696  ReVzz-e9w8mNO63YA1cjFA  DJHwui3GH60rBpx_tAOZZw  \n138697  Acshv7Bba4JnO0gwpHu5bw  VnFgfzDi69Hsw2mpWvJuIA  \n138698  RSYkLbETJb2V9f705zmCkQ  iDlX7WaccSDt1GpQNj5JBQ  \n138699  Hr4m7amS_osGvEy8O6qVQQ  kFgBFY0u8l72rwwHj7EBtg  \n138700  zMT-AjOZM6gbZpRttBcQvA  O6GjCyd9GuZEHVPvt-959Q  \n\n[138701 rows x 5 columns]",
      "text/html": "<div>\n<style scoped>\n    .dataframe tbody tr th:only-of-type {\n        vertical-align: middle;\n    }\n\n    .dataframe tbody tr th {\n        vertical-align: top;\n    }\n\n    .dataframe thead th {\n        text-align: right;\n    }\n</style>\n<table border=\"1\" class=\"dataframe\">\n  <thead>\n    <tr style=\"text-align: right;\">\n      <th></th>\n      <th>psp_reference</th>\n      <th>has_fraudulent_dispute</th>\n      <th>ip_address</th>\n      <th>email_address</th>\n      <th>card_number</th>\n    </tr>\n  </thead>\n  <tbody>\n    <tr>\n      <th>0</th>\n      <td>79622457320</td>\n      <td>False</td>\n      <td>i1oY1kTOXMlsFfoyhFJxyA</td>\n      <td>3XBRYto3QgX7g4pX-BvNyA</td>\n      <td>XldVNN9TQgIA2RE9FTC2TA</td>\n    </tr>\n    <tr>\n      <th>1</th>\n      <td>41293916020</td>\n      <td>False</td>\n      <td>HZkxQvtpScNLgi0fsoSkjA</td>\n      <td>klwgzdfrnz_6eGsHSi2prQ</td>\n      <td>zgRoL8pxX5LJI-SEPUTMvg</td>\n    </tr>\n    <tr>\n      <th>2</th>\n      <td>31382555255</td>\n      <td>False</td>\n      <td>HGW5EwBnHVgOrD5xYplBdw</td>\n      <td>XkMWeLLmXALPcV3ndwzKJw</td>\n      <td>T3BF1uOOqgcwaVRb_ujPQg</td>\n    </tr>\n    <tr>\n      <th>3</th>\n      <td>13944051314</td>\n      <td>False</td>\n      <td>8AuFEjK8m-0lxGAOJzOPmg</td>\n      <td>26Lw20NQtPKb5cyQZBuh1w</td>\n      <td>BMf1zFkJ1xvPMlOxC7RWTw</td>\n    </tr>\n    <tr>\n      <th>4</th>\n      <td>62343575411</td>\n      <td>False</td>\n      <td>NaN</td>\n      <td>Y7tv2i85iUadkEIAPIufgg</td>\n      <td>jfxS2TIe0gR9vpOUdMKrBw</td>\n    </tr>\n    <tr>\n      <th>...</th>\n      <td>...</td>\n      <td>...</td>\n      <td>...</td>\n      <td>...</td>\n      <td>...</td>\n    </tr>\n    <tr>\n      <th>138696</th>\n      <td>58957356926</td>\n      <td>True</td>\n      <td>947PJ1zh6yFwZxGOYG8Lnw</td>\n      <td>ReVzz-e9w8mNO63YA1cjFA</td>\n      <td>DJHwui3GH60rBpx_tAOZZw</td>\n    </tr>\n    <tr>\n      <th>138697</th>\n      <td>44780141989</td>\n      <td>False</td>\n      <td>NaN</td>\n      <td>Acshv7Bba4JnO0gwpHu5bw</td>\n      <td>VnFgfzDi69Hsw2mpWvJuIA</td>\n    </tr>\n    <tr>\n      <th>138698</th>\n      <td>34619316012</td>\n      <td>False</td>\n      <td>-mT_MQEgvNfb5RkbW0oejw</td>\n      <td>RSYkLbETJb2V9f705zmCkQ</td>\n      <td>iDlX7WaccSDt1GpQNj5JBQ</td>\n    </tr>\n    <tr>\n      <th>138699</th>\n      <td>68700535373</td>\n      <td>True</td>\n      <td>13Jg3lRGPEoM3c_vLM-SVQ</td>\n      <td>Hr4m7amS_osGvEy8O6qVQQ</td>\n      <td>kFgBFY0u8l72rwwHj7EBtg</td>\n    </tr>\n    <tr>\n      <th>138700</th>\n      <td>21880024860</td>\n      <td>False</td>\n      <td>NaN</td>\n      <td>zMT-AjOZM6gbZpRttBcQvA</td>\n      <td>O6GjCyd9GuZEHVPvt-959Q</td>\n    </tr>\n  </tbody>\n</table>\n<p>138701 rows × 5 columns</p>\n</div>"
     },
     "execution_count": 4,
     "metadata": {},
     "output_type": "execute_result"
    }
   ],
   "source": [
    "df_ori = pd.read_csv('../adyen-dataset.csv')\n",
    "df_woe = df_ori.loc(axis=1)[\"psp_reference\", \"has_fraudulent_dispute\", \"ip_address\", \"email_address\", \"card_number\"]\n",
    "df_woe"
   ],
   "metadata": {
    "collapsed": false
   }
  },
  {
   "cell_type": "code",
   "execution_count": 15,
   "metadata": {
    "collapsed": true
   },
   "outputs": [
    {
     "data": {
      "text/plain": "        psp_reference  ip_address_woe  email_address_woe  card_number_woe\n0         79622457320        0.000000           0.177419         0.177419\n1         41293916020        0.870566           0.688245         0.534094\n2         31382555255        0.000000           0.000000         1.093710\n3         13944051314        0.000000           1.093710         1.093710\n4         62343575411       -0.001861           1.381392         1.093710\n...               ...             ...                ...              ...\n138696    58957356926        3.173151           0.000000         2.959577\n138697    44780141989       -0.001861           0.688245         0.688245\n138698    34619316012        1.093710           0.000000         0.534094\n138699    68700535373        3.760938           3.632684         3.625136\n138700    21880024860       -0.001861           0.870566         0.870566\n\n[138701 rows x 4 columns]",
      "text/html": "<div>\n<style scoped>\n    .dataframe tbody tr th:only-of-type {\n        vertical-align: middle;\n    }\n\n    .dataframe tbody tr th {\n        vertical-align: top;\n    }\n\n    .dataframe thead th {\n        text-align: right;\n    }\n</style>\n<table border=\"1\" class=\"dataframe\">\n  <thead>\n    <tr style=\"text-align: right;\">\n      <th></th>\n      <th>psp_reference</th>\n      <th>ip_address_woe</th>\n      <th>email_address_woe</th>\n      <th>card_number_woe</th>\n    </tr>\n  </thead>\n  <tbody>\n    <tr>\n      <th>0</th>\n      <td>79622457320</td>\n      <td>0.000000</td>\n      <td>0.177419</td>\n      <td>0.177419</td>\n    </tr>\n    <tr>\n      <th>1</th>\n      <td>41293916020</td>\n      <td>0.870566</td>\n      <td>0.688245</td>\n      <td>0.534094</td>\n    </tr>\n    <tr>\n      <th>2</th>\n      <td>31382555255</td>\n      <td>0.000000</td>\n      <td>0.000000</td>\n      <td>1.093710</td>\n    </tr>\n    <tr>\n      <th>3</th>\n      <td>13944051314</td>\n      <td>0.000000</td>\n      <td>1.093710</td>\n      <td>1.093710</td>\n    </tr>\n    <tr>\n      <th>4</th>\n      <td>62343575411</td>\n      <td>-0.001861</td>\n      <td>1.381392</td>\n      <td>1.093710</td>\n    </tr>\n    <tr>\n      <th>...</th>\n      <td>...</td>\n      <td>...</td>\n      <td>...</td>\n      <td>...</td>\n    </tr>\n    <tr>\n      <th>138696</th>\n      <td>58957356926</td>\n      <td>3.173151</td>\n      <td>0.000000</td>\n      <td>2.959577</td>\n    </tr>\n    <tr>\n      <th>138697</th>\n      <td>44780141989</td>\n      <td>-0.001861</td>\n      <td>0.688245</td>\n      <td>0.688245</td>\n    </tr>\n    <tr>\n      <th>138698</th>\n      <td>34619316012</td>\n      <td>1.093710</td>\n      <td>0.000000</td>\n      <td>0.534094</td>\n    </tr>\n    <tr>\n      <th>138699</th>\n      <td>68700535373</td>\n      <td>3.760938</td>\n      <td>3.632684</td>\n      <td>3.625136</td>\n    </tr>\n    <tr>\n      <th>138700</th>\n      <td>21880024860</td>\n      <td>-0.001861</td>\n      <td>0.870566</td>\n      <td>0.870566</td>\n    </tr>\n  </tbody>\n</table>\n<p>138701 rows × 4 columns</p>\n</div>"
     },
     "execution_count": 15,
     "metadata": {},
     "output_type": "execute_result"
    }
   ],
   "source": [
    "from category_encoders import WOEEncoder\n",
    "\n",
    "# woe encoding\n",
    "enc1 = WOEEncoder()\n",
    "ip_address_dummies = enc1.fit_transform(X=df_woe.ip_address, y=df_woe.has_fraudulent_dispute.values.tolist())\n",
    "enc2 = WOEEncoder()\n",
    "email_address_dummies = enc2.fit_transform(X=df_woe.email_address, y=df_woe.has_fraudulent_dispute.values.tolist())\n",
    "enc3 = WOEEncoder()\n",
    "card_number_dummies = enc3.fit_transform(X=df_woe.card_number, y=df_woe.has_fraudulent_dispute.values.tolist())\n",
    "\n",
    "df_woe_features = pd.concat([df_woe[\"psp_reference\"], ip_address_dummies, email_address_dummies, card_number_dummies],\n",
    "                            axis=1)\n",
    "symbols = ['psp_reference', 'ip_address_woe', 'email_address_woe', 'card_number_woe']\n",
    "df_woe_features.columns = symbols\n",
    "df_woe_features"
   ]
  },
  {
   "cell_type": "code",
   "execution_count": 16,
   "outputs": [],
   "source": [
    "df_woe_features.to_csv(\"woe_features.csv\", index=False)"
   ],
   "metadata": {
    "collapsed": false
   }
  },
  {
   "cell_type": "code",
   "execution_count": null,
   "outputs": [],
   "source": [],
   "metadata": {
    "collapsed": false
   }
  }
 ],
 "metadata": {
  "kernelspec": {
   "display_name": "Python 3",
   "language": "python",
   "name": "python3"
  },
  "language_info": {
   "codemirror_mode": {
    "name": "ipython",
    "version": 2
   },
   "file_extension": ".py",
   "mimetype": "text/x-python",
   "name": "python",
   "nbconvert_exporter": "python",
   "pygments_lexer": "ipython2",
   "version": "2.7.6"
  }
 },
 "nbformat": 4,
 "nbformat_minor": 0
}
