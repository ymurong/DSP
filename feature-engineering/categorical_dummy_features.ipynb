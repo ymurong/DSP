{
 "cells": [
  {
   "cell_type": "code",
   "execution_count": 1,
   "metadata": {
    "collapsed": true
   },
   "outputs": [],
   "source": [
    "import pandas as pd\n",
    "import numpy as np\n",
    "import matplotlib.pyplot as plt\n",
    "import seaborn as sns\n",
    "import scipy.stats as ss\n",
    "%load_ext autoreload\n",
    "%autoreload"
   ]
  },
  {
   "cell_type": "code",
   "execution_count": 2,
   "outputs": [],
   "source": [
    "df_ori = pd.read_csv('../adyen-dataset.csv')"
   ],
   "metadata": {
    "collapsed": false
   }
  },
  {
   "cell_type": "code",
   "execution_count": 3,
   "outputs": [],
   "source": [
    "df_ori['no_ip'] = df_ori['ip_address'].isnull()\n",
    "df_ori['no_email'] = df_ori['email_address'].isnull()\n",
    "df_ori['same_country'] = df_ori['ip_country'] == df_ori['issuing_country']\n",
    "df_categorical = df_ori[\n",
    "    ['psp_reference','has_fraudulent_dispute', 'merchant', 'card_scheme', 'is_credit', 'ip_country', 'issuing_country', 'device_type',\n",
    "     'shopper_interaction', 'zip_code', 'card_bin', 'no_ip', 'no_email', 'same_country']]"
   ],
   "metadata": {
    "collapsed": false
   }
  },
  {
   "cell_type": "code",
   "execution_count": 4,
   "outputs": [],
   "source": [
    "# one hot encoding\n",
    "df_categorical_dummies = df_categorical.copy()[['psp_reference', 'is_credit', 'no_ip', 'no_email', 'same_country', 'issuing_country','zip_code']]\n",
    "merchant_dummies = pd.get_dummies(df_categorical.merchant, prefix='merchant', drop_first=True)\n",
    "card_scheme_dummies = pd.get_dummies(df_categorical.card_scheme, prefix='card_scheme', drop_first=True)\n",
    "ip_country_dummies = pd.get_dummies(df_categorical.ip_country, prefix='ip_country', drop_first=True)\n",
    "issuing_country_dummies = pd.get_dummies(df_categorical.issuing_country, prefix='issuing_country',  drop_first=True)\n",
    "device_type_dummies = pd.get_dummies(df_categorical.device_type, prefix='device_type',  drop_first=True)\n",
    "shopper_interaction_dummies = pd.get_dummies(df_categorical.shopper_interaction, prefix='shopper_interaction',  drop_first=True)\n",
    "zip_code_dummies = pd.get_dummies(df_categorical.zip_code, prefix='zip_code', drop_first=True)\n",
    "df_categorical_dummies = pd.concat(\n",
    "    [df_categorical_dummies,merchant_dummies, card_scheme_dummies, ip_country_dummies, issuing_country_dummies, device_type_dummies,\n",
    "     shopper_interaction_dummies, zip_code_dummies], axis=1)"
   ],
   "metadata": {
    "collapsed": false
   }
  },
  {
   "cell_type": "code",
   "execution_count": 5,
   "outputs": [],
   "source": [
    "df_categorical_dummies.to_csv(\"categorical_dummies_features.csv\", index=False)"
   ],
   "metadata": {
    "collapsed": false
   }
  },
  {
   "cell_type": "code",
   "execution_count": 6,
   "outputs": [
    {
     "data": {
      "text/plain": "        psp_reference  is_credit  no_ip  no_email  same_country  \\\n0         79622457320       True  False     False          True   \n1         41293916020      False  False     False          True   \n2         31382555255       True  False     False          True   \n3         13944051314      False  False     False          True   \n4         62343575411       True   True     False          True   \n...               ...        ...    ...       ...           ...   \n138696    58957356926       True  False     False          True   \n138697    44780141989      False   True     False          True   \n138698    34619316012       True  False     False          True   \n138699    68700535373       True  False     False          True   \n138700    21880024860       True   True     False          True   \n\n       issuing_country zip_code  merchant_Merchant B  merchant_Merchant C  \\\n0                   GR     XDED                    0                    0   \n1                   BR      AAD                    0                    1   \n2                   NL     1104                    0                    0   \n3                   NL     2039                    0                    0   \n4                   BR      XOL                    0                    0   \n...                ...      ...                  ...                  ...   \n138696              BR      BZD                    0                    0   \n138697              NL     2039                    0                    0   \n138698              BR      AAD                    0                    0   \n138699              NL     1104                    0                    0   \n138700              NL     2039                    0                    0   \n\n        merchant_Merchant D  ...  zip_code_BZD  zip_code_DB  zip_code_DFFF  \\\n0                         0  ...             0            0              0   \n1                         0  ...             0            0              0   \n2                         0  ...             0            0              0   \n3                         1  ...             0            0              0   \n4                         0  ...             0            0              0   \n...                     ...  ...           ...          ...            ...   \n138696                    1  ...             1            0              0   \n138697                    1  ...             0            0              0   \n138698                    0  ...             0            0              0   \n138699                    0  ...             0            0              0   \n138700                    0  ...             0            0              0   \n\n        zip_code_EB  zip_code_EGHA  zip_code_FFR  zip_code_FGDD  \\\n0                 0              0             0              0   \n1                 0              0             0              0   \n2                 0              0             0              0   \n3                 0              0             0              0   \n4                 0              0             0              0   \n...             ...            ...           ...            ...   \n138696            0              0             0              0   \n138697            0              0             0              0   \n138698            0              0             0              0   \n138699            0              0             0              0   \n138700            0              0             0              0   \n\n        zip_code_XDED  zip_code_XOL  zip_code_ZB  \n0                   1             0            0  \n1                   0             0            0  \n2                   0             0            0  \n3                   0             0            0  \n4                   0             1            0  \n...               ...           ...          ...  \n138696              0             0            0  \n138697              0             0            0  \n138698              0             0            0  \n138699              0             0            0  \n138700              0             0            0  \n\n[138701 rows x 43 columns]",
      "text/html": "<div>\n<style scoped>\n    .dataframe tbody tr th:only-of-type {\n        vertical-align: middle;\n    }\n\n    .dataframe tbody tr th {\n        vertical-align: top;\n    }\n\n    .dataframe thead th {\n        text-align: right;\n    }\n</style>\n<table border=\"1\" class=\"dataframe\">\n  <thead>\n    <tr style=\"text-align: right;\">\n      <th></th>\n      <th>psp_reference</th>\n      <th>is_credit</th>\n      <th>no_ip</th>\n      <th>no_email</th>\n      <th>same_country</th>\n      <th>issuing_country</th>\n      <th>zip_code</th>\n      <th>merchant_Merchant B</th>\n      <th>merchant_Merchant C</th>\n      <th>merchant_Merchant D</th>\n      <th>...</th>\n      <th>zip_code_BZD</th>\n      <th>zip_code_DB</th>\n      <th>zip_code_DFFF</th>\n      <th>zip_code_EB</th>\n      <th>zip_code_EGHA</th>\n      <th>zip_code_FFR</th>\n      <th>zip_code_FGDD</th>\n      <th>zip_code_XDED</th>\n      <th>zip_code_XOL</th>\n      <th>zip_code_ZB</th>\n    </tr>\n  </thead>\n  <tbody>\n    <tr>\n      <th>0</th>\n      <td>79622457320</td>\n      <td>True</td>\n      <td>False</td>\n      <td>False</td>\n      <td>True</td>\n      <td>GR</td>\n      <td>XDED</td>\n      <td>0</td>\n      <td>0</td>\n      <td>0</td>\n      <td>...</td>\n      <td>0</td>\n      <td>0</td>\n      <td>0</td>\n      <td>0</td>\n      <td>0</td>\n      <td>0</td>\n      <td>0</td>\n      <td>1</td>\n      <td>0</td>\n      <td>0</td>\n    </tr>\n    <tr>\n      <th>1</th>\n      <td>41293916020</td>\n      <td>False</td>\n      <td>False</td>\n      <td>False</td>\n      <td>True</td>\n      <td>BR</td>\n      <td>AAD</td>\n      <td>0</td>\n      <td>1</td>\n      <td>0</td>\n      <td>...</td>\n      <td>0</td>\n      <td>0</td>\n      <td>0</td>\n      <td>0</td>\n      <td>0</td>\n      <td>0</td>\n      <td>0</td>\n      <td>0</td>\n      <td>0</td>\n      <td>0</td>\n    </tr>\n    <tr>\n      <th>2</th>\n      <td>31382555255</td>\n      <td>True</td>\n      <td>False</td>\n      <td>False</td>\n      <td>True</td>\n      <td>NL</td>\n      <td>1104</td>\n      <td>0</td>\n      <td>0</td>\n      <td>0</td>\n      <td>...</td>\n      <td>0</td>\n      <td>0</td>\n      <td>0</td>\n      <td>0</td>\n      <td>0</td>\n      <td>0</td>\n      <td>0</td>\n      <td>0</td>\n      <td>0</td>\n      <td>0</td>\n    </tr>\n    <tr>\n      <th>3</th>\n      <td>13944051314</td>\n      <td>False</td>\n      <td>False</td>\n      <td>False</td>\n      <td>True</td>\n      <td>NL</td>\n      <td>2039</td>\n      <td>0</td>\n      <td>0</td>\n      <td>1</td>\n      <td>...</td>\n      <td>0</td>\n      <td>0</td>\n      <td>0</td>\n      <td>0</td>\n      <td>0</td>\n      <td>0</td>\n      <td>0</td>\n      <td>0</td>\n      <td>0</td>\n      <td>0</td>\n    </tr>\n    <tr>\n      <th>4</th>\n      <td>62343575411</td>\n      <td>True</td>\n      <td>True</td>\n      <td>False</td>\n      <td>True</td>\n      <td>BR</td>\n      <td>XOL</td>\n      <td>0</td>\n      <td>0</td>\n      <td>0</td>\n      <td>...</td>\n      <td>0</td>\n      <td>0</td>\n      <td>0</td>\n      <td>0</td>\n      <td>0</td>\n      <td>0</td>\n      <td>0</td>\n      <td>0</td>\n      <td>1</td>\n      <td>0</td>\n    </tr>\n    <tr>\n      <th>...</th>\n      <td>...</td>\n      <td>...</td>\n      <td>...</td>\n      <td>...</td>\n      <td>...</td>\n      <td>...</td>\n      <td>...</td>\n      <td>...</td>\n      <td>...</td>\n      <td>...</td>\n      <td>...</td>\n      <td>...</td>\n      <td>...</td>\n      <td>...</td>\n      <td>...</td>\n      <td>...</td>\n      <td>...</td>\n      <td>...</td>\n      <td>...</td>\n      <td>...</td>\n      <td>...</td>\n    </tr>\n    <tr>\n      <th>138696</th>\n      <td>58957356926</td>\n      <td>True</td>\n      <td>False</td>\n      <td>False</td>\n      <td>True</td>\n      <td>BR</td>\n      <td>BZD</td>\n      <td>0</td>\n      <td>0</td>\n      <td>1</td>\n      <td>...</td>\n      <td>1</td>\n      <td>0</td>\n      <td>0</td>\n      <td>0</td>\n      <td>0</td>\n      <td>0</td>\n      <td>0</td>\n      <td>0</td>\n      <td>0</td>\n      <td>0</td>\n    </tr>\n    <tr>\n      <th>138697</th>\n      <td>44780141989</td>\n      <td>False</td>\n      <td>True</td>\n      <td>False</td>\n      <td>True</td>\n      <td>NL</td>\n      <td>2039</td>\n      <td>0</td>\n      <td>0</td>\n      <td>1</td>\n      <td>...</td>\n      <td>0</td>\n      <td>0</td>\n      <td>0</td>\n      <td>0</td>\n      <td>0</td>\n      <td>0</td>\n      <td>0</td>\n      <td>0</td>\n      <td>0</td>\n      <td>0</td>\n    </tr>\n    <tr>\n      <th>138698</th>\n      <td>34619316012</td>\n      <td>True</td>\n      <td>False</td>\n      <td>False</td>\n      <td>True</td>\n      <td>BR</td>\n      <td>AAD</td>\n      <td>0</td>\n      <td>0</td>\n      <td>0</td>\n      <td>...</td>\n      <td>0</td>\n      <td>0</td>\n      <td>0</td>\n      <td>0</td>\n      <td>0</td>\n      <td>0</td>\n      <td>0</td>\n      <td>0</td>\n      <td>0</td>\n      <td>0</td>\n    </tr>\n    <tr>\n      <th>138699</th>\n      <td>68700535373</td>\n      <td>True</td>\n      <td>False</td>\n      <td>False</td>\n      <td>True</td>\n      <td>NL</td>\n      <td>1104</td>\n      <td>0</td>\n      <td>0</td>\n      <td>0</td>\n      <td>...</td>\n      <td>0</td>\n      <td>0</td>\n      <td>0</td>\n      <td>0</td>\n      <td>0</td>\n      <td>0</td>\n      <td>0</td>\n      <td>0</td>\n      <td>0</td>\n      <td>0</td>\n    </tr>\n    <tr>\n      <th>138700</th>\n      <td>21880024860</td>\n      <td>True</td>\n      <td>True</td>\n      <td>False</td>\n      <td>True</td>\n      <td>NL</td>\n      <td>2039</td>\n      <td>0</td>\n      <td>0</td>\n      <td>0</td>\n      <td>...</td>\n      <td>0</td>\n      <td>0</td>\n      <td>0</td>\n      <td>0</td>\n      <td>0</td>\n      <td>0</td>\n      <td>0</td>\n      <td>0</td>\n      <td>0</td>\n      <td>0</td>\n    </tr>\n  </tbody>\n</table>\n<p>138701 rows × 43 columns</p>\n</div>"
     },
     "execution_count": 6,
     "metadata": {},
     "output_type": "execute_result"
    }
   ],
   "source": [
    "df_categorical_dummies"
   ],
   "metadata": {
    "collapsed": false
   }
  },
  {
   "cell_type": "code",
   "execution_count": null,
   "outputs": [],
   "source": [],
   "metadata": {
    "collapsed": false
   }
  }
 ],
 "metadata": {
  "kernelspec": {
   "display_name": "Python 3",
   "language": "python",
   "name": "python3"
  },
  "language_info": {
   "codemirror_mode": {
    "name": "ipython",
    "version": 2
   },
   "file_extension": ".py",
   "mimetype": "text/x-python",
   "name": "python",
   "nbconvert_exporter": "python",
   "pygments_lexer": "ipython2",
   "version": "2.7.6"
  }
 },
 "nbformat": 4,
 "nbformat_minor": 0
}
