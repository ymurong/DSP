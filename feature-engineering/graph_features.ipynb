{
 "cells": [
  {
   "cell_type": "code",
   "execution_count": 112,
   "metadata": {
    "collapsed": true
   },
   "outputs": [
    {
     "name": "stdout",
     "output_type": "stream",
     "text": [
      "INFO: Pandarallel will run on 6 workers.\n",
      "INFO: Pandarallel will use standard multiprocessing data transfer (pipe) to transfer data between the main process and workers.\n",
      "The autoreload extension is already loaded. To reload it, use:\n",
      "  %reload_ext autoreload\n"
     ]
    }
   ],
   "source": [
    "import pandas as pd\n",
    "from pandarallel import pandarallel\n",
    "pandarallel.initialize(progress_bar=True)\n",
    "from lib.mutation_util import get_tx_datetime\n",
    "from apate.apate_5 import ApateGraphFeatures\n",
    "\n",
    "%load_ext autoreload\n",
    "%autoreload"
   ]
  },
  {
   "cell_type": "code",
   "execution_count": 113,
   "outputs": [
    {
     "data": {
      "text/plain": "VBox(children=(HBox(children=(IntProgress(value=0, description='0.00%', max=23117), Label(value='0 / 23117')))…",
      "application/vnd.jupyter.widget-view+json": {
       "version_major": 2,
       "version_minor": 0,
       "model_id": "92ae6d09b65849f8aedce6b766af648c"
      }
     },
     "metadata": {},
     "output_type": "display_data"
    },
    {
     "data": {
      "text/plain": "   psp_reference    merchant             card_number           email_address  \\\n0    79622457320  Merchant A  XldVNN9TQgIA2RE9FTC2TA  3XBRYto3QgX7g4pX-BvNyA   \n1    41293916020  Merchant C  zgRoL8pxX5LJI-SEPUTMvg  klwgzdfrnz_6eGsHSi2prQ   \n2    31382555255  Merchant E  T3BF1uOOqgcwaVRb_ujPQg  XkMWeLLmXALPcV3ndwzKJw   \n3    13944051314  Merchant D  BMf1zFkJ1xvPMlOxC7RWTw  26Lw20NQtPKb5cyQZBuh1w   \n4    62343575411  Merchant E  jfxS2TIe0gR9vpOUdMKrBw  Y7tv2i85iUadkEIAPIufgg   \n\n               ip_address  has_fraudulent_dispute         tx_datetime  \n0  i1oY1kTOXMlsFfoyhFJxyA                   False 2021-07-25 13:51:00  \n1  HZkxQvtpScNLgi0fsoSkjA                   False 2021-12-11 15:20:00  \n2  HGW5EwBnHVgOrD5xYplBdw                   False 2021-10-20 01:56:00  \n3  8AuFEjK8m-0lxGAOJzOPmg                   False 2021-08-30 12:50:00  \n4                     NaN                   False 2021-11-14 19:26:00  ",
      "text/html": "<div>\n<style scoped>\n    .dataframe tbody tr th:only-of-type {\n        vertical-align: middle;\n    }\n\n    .dataframe tbody tr th {\n        vertical-align: top;\n    }\n\n    .dataframe thead th {\n        text-align: right;\n    }\n</style>\n<table border=\"1\" class=\"dataframe\">\n  <thead>\n    <tr style=\"text-align: right;\">\n      <th></th>\n      <th>psp_reference</th>\n      <th>merchant</th>\n      <th>card_number</th>\n      <th>email_address</th>\n      <th>ip_address</th>\n      <th>has_fraudulent_dispute</th>\n      <th>tx_datetime</th>\n    </tr>\n  </thead>\n  <tbody>\n    <tr>\n      <th>0</th>\n      <td>79622457320</td>\n      <td>Merchant A</td>\n      <td>XldVNN9TQgIA2RE9FTC2TA</td>\n      <td>3XBRYto3QgX7g4pX-BvNyA</td>\n      <td>i1oY1kTOXMlsFfoyhFJxyA</td>\n      <td>False</td>\n      <td>2021-07-25 13:51:00</td>\n    </tr>\n    <tr>\n      <th>1</th>\n      <td>41293916020</td>\n      <td>Merchant C</td>\n      <td>zgRoL8pxX5LJI-SEPUTMvg</td>\n      <td>klwgzdfrnz_6eGsHSi2prQ</td>\n      <td>HZkxQvtpScNLgi0fsoSkjA</td>\n      <td>False</td>\n      <td>2021-12-11 15:20:00</td>\n    </tr>\n    <tr>\n      <th>2</th>\n      <td>31382555255</td>\n      <td>Merchant E</td>\n      <td>T3BF1uOOqgcwaVRb_ujPQg</td>\n      <td>XkMWeLLmXALPcV3ndwzKJw</td>\n      <td>HGW5EwBnHVgOrD5xYplBdw</td>\n      <td>False</td>\n      <td>2021-10-20 01:56:00</td>\n    </tr>\n    <tr>\n      <th>3</th>\n      <td>13944051314</td>\n      <td>Merchant D</td>\n      <td>BMf1zFkJ1xvPMlOxC7RWTw</td>\n      <td>26Lw20NQtPKb5cyQZBuh1w</td>\n      <td>8AuFEjK8m-0lxGAOJzOPmg</td>\n      <td>False</td>\n      <td>2021-08-30 12:50:00</td>\n    </tr>\n    <tr>\n      <th>4</th>\n      <td>62343575411</td>\n      <td>Merchant E</td>\n      <td>jfxS2TIe0gR9vpOUdMKrBw</td>\n      <td>Y7tv2i85iUadkEIAPIufgg</td>\n      <td>NaN</td>\n      <td>False</td>\n      <td>2021-11-14 19:26:00</td>\n    </tr>\n  </tbody>\n</table>\n</div>"
     },
     "execution_count": 113,
     "metadata": {},
     "output_type": "execute_result"
    }
   ],
   "source": [
    "df_ori = pd.read_csv('../adyen-dataset.csv')\n",
    "df_graph_features = df_ori.copy()[\n",
    "    [\"psp_reference\", \"merchant\", \"card_number\", \"email_address\", \"ip_address\", \"has_fraudulent_dispute\"]]\n",
    "df_graph_features[\"tx_datetime\"] = df_ori.parallel_apply(get_tx_datetime, axis=1)  # for each row of df\n",
    "df_graph_features[\"tx_datetime\"] = pd.to_datetime(df_graph_features[\"tx_datetime\"])\n",
    "# df_graph_features = df_graph_features[(df_graph_features[\"ip_address\"].notna()) & (df_graph_features[\"email_address\"].notna())]\n",
    "df_graph_features.head()"
   ],
   "metadata": {
    "collapsed": false
   }
  },
  {
   "cell_type": "code",
   "execution_count": 114,
   "outputs": [
    {
     "data": {
      "text/plain": "(138701, 7)"
     },
     "execution_count": 114,
     "metadata": {},
     "output_type": "execute_result"
    }
   ],
   "source": [
    "df_graph_features.shape"
   ],
   "metadata": {
    "collapsed": false
   }
  },
  {
   "cell_type": "markdown",
   "source": [
    "## Adapt features to apate features"
   ],
   "metadata": {
    "collapsed": false
   }
  },
  {
   "cell_type": "code",
   "execution_count": 115,
   "outputs": [],
   "source": [
    "# ['Global_Date', 'Local_Date', 'CardID', 'MerchantID', 'Target']"
   ],
   "metadata": {
    "collapsed": false
   }
  },
  {
   "cell_type": "code",
   "execution_count": 116,
   "outputs": [
    {
     "data": {
      "text/plain": "   psp_reference         Global_Date          Local_Date  \\\n0    79622457320 2021-07-25 13:51:00 2021-07-25 13:51:00   \n1    41293916020 2021-12-11 15:20:00 2021-12-11 15:20:00   \n2    31382555255 2021-10-20 01:56:00 2021-10-20 01:56:00   \n3    13944051314 2021-08-30 12:50:00 2021-08-30 12:50:00   \n4    62343575411 2021-11-14 19:26:00 2021-11-14 19:26:00   \n\n              card_number    merchant              ip_address  \\\n0  XldVNN9TQgIA2RE9FTC2TA  Merchant A  i1oY1kTOXMlsFfoyhFJxyA   \n1  zgRoL8pxX5LJI-SEPUTMvg  Merchant C  HZkxQvtpScNLgi0fsoSkjA   \n2  T3BF1uOOqgcwaVRb_ujPQg  Merchant E  HGW5EwBnHVgOrD5xYplBdw   \n3  BMf1zFkJ1xvPMlOxC7RWTw  Merchant D  8AuFEjK8m-0lxGAOJzOPmg   \n4  jfxS2TIe0gR9vpOUdMKrBw  Merchant E                     NaN   \n\n            email_address  Target  \n0  3XBRYto3QgX7g4pX-BvNyA   False  \n1  klwgzdfrnz_6eGsHSi2prQ   False  \n2  XkMWeLLmXALPcV3ndwzKJw   False  \n3  26Lw20NQtPKb5cyQZBuh1w   False  \n4  Y7tv2i85iUadkEIAPIufgg   False  ",
      "text/html": "<div>\n<style scoped>\n    .dataframe tbody tr th:only-of-type {\n        vertical-align: middle;\n    }\n\n    .dataframe tbody tr th {\n        vertical-align: top;\n    }\n\n    .dataframe thead th {\n        text-align: right;\n    }\n</style>\n<table border=\"1\" class=\"dataframe\">\n  <thead>\n    <tr style=\"text-align: right;\">\n      <th></th>\n      <th>psp_reference</th>\n      <th>Global_Date</th>\n      <th>Local_Date</th>\n      <th>card_number</th>\n      <th>merchant</th>\n      <th>ip_address</th>\n      <th>email_address</th>\n      <th>Target</th>\n    </tr>\n  </thead>\n  <tbody>\n    <tr>\n      <th>0</th>\n      <td>79622457320</td>\n      <td>2021-07-25 13:51:00</td>\n      <td>2021-07-25 13:51:00</td>\n      <td>XldVNN9TQgIA2RE9FTC2TA</td>\n      <td>Merchant A</td>\n      <td>i1oY1kTOXMlsFfoyhFJxyA</td>\n      <td>3XBRYto3QgX7g4pX-BvNyA</td>\n      <td>False</td>\n    </tr>\n    <tr>\n      <th>1</th>\n      <td>41293916020</td>\n      <td>2021-12-11 15:20:00</td>\n      <td>2021-12-11 15:20:00</td>\n      <td>zgRoL8pxX5LJI-SEPUTMvg</td>\n      <td>Merchant C</td>\n      <td>HZkxQvtpScNLgi0fsoSkjA</td>\n      <td>klwgzdfrnz_6eGsHSi2prQ</td>\n      <td>False</td>\n    </tr>\n    <tr>\n      <th>2</th>\n      <td>31382555255</td>\n      <td>2021-10-20 01:56:00</td>\n      <td>2021-10-20 01:56:00</td>\n      <td>T3BF1uOOqgcwaVRb_ujPQg</td>\n      <td>Merchant E</td>\n      <td>HGW5EwBnHVgOrD5xYplBdw</td>\n      <td>XkMWeLLmXALPcV3ndwzKJw</td>\n      <td>False</td>\n    </tr>\n    <tr>\n      <th>3</th>\n      <td>13944051314</td>\n      <td>2021-08-30 12:50:00</td>\n      <td>2021-08-30 12:50:00</td>\n      <td>BMf1zFkJ1xvPMlOxC7RWTw</td>\n      <td>Merchant D</td>\n      <td>8AuFEjK8m-0lxGAOJzOPmg</td>\n      <td>26Lw20NQtPKb5cyQZBuh1w</td>\n      <td>False</td>\n    </tr>\n    <tr>\n      <th>4</th>\n      <td>62343575411</td>\n      <td>2021-11-14 19:26:00</td>\n      <td>2021-11-14 19:26:00</td>\n      <td>jfxS2TIe0gR9vpOUdMKrBw</td>\n      <td>Merchant E</td>\n      <td>NaN</td>\n      <td>Y7tv2i85iUadkEIAPIufgg</td>\n      <td>False</td>\n    </tr>\n  </tbody>\n</table>\n</div>"
     },
     "execution_count": 116,
     "metadata": {},
     "output_type": "execute_result"
    }
   ],
   "source": [
    "df_graph_features[\"Global_Date\"] = df_graph_features[\"tx_datetime\"]\n",
    "df_graph_features[\"Local_Date\"] = df_graph_features[\"tx_datetime\"]\n",
    "df_graph_features[\"Target\"] = df_graph_features[\"has_fraudulent_dispute\"]\n",
    "df_graph_features = df_graph_features[['psp_reference','Global_Date', 'Local_Date', 'card_number', 'merchant', 'ip_address', 'email_address', 'Target']]\n",
    "df_graph_features.head()"
   ],
   "metadata": {
    "collapsed": false
   }
  },
  {
   "cell_type": "code",
   "execution_count": 117,
   "outputs": [
    {
     "data": {
      "text/plain": "(138701, 8)"
     },
     "execution_count": 117,
     "metadata": {},
     "output_type": "execute_result"
    }
   ],
   "source": [
    "df_graph_features.shape"
   ],
   "metadata": {
    "collapsed": false
   }
  },
  {
   "cell_type": "code",
   "execution_count": 118,
   "outputs": [
    {
     "data": {
      "text/plain": "   psp_reference         Global_Date          Local_Date  \\\n0    79622457320 2021-07-25 13:51:00 2021-07-25 13:51:00   \n3    13944051314 2021-08-30 12:50:00 2021-08-30 12:50:00   \n5    25784401111 2021-06-11 13:21:00 2021-06-11 13:21:00   \n6    27085470319 2021-09-13 07:51:00 2021-09-13 07:51:00   \n9    56451872040 2021-07-06 11:28:00 2021-07-06 11:28:00   \n\n              card_number    merchant              ip_address  \\\n0  XldVNN9TQgIA2RE9FTC2TA  Merchant A  i1oY1kTOXMlsFfoyhFJxyA   \n3  BMf1zFkJ1xvPMlOxC7RWTw  Merchant D  8AuFEjK8m-0lxGAOJzOPmg   \n5  cjyrXCInVMph0CUUu9JSRg  Merchant B  mtM86EuiwmunVrELKjGT1g   \n6  1yYF_mSnG0ZfjnghlBqEKw  Merchant D  Wqw2dKIsVMc-EMb5WKKruQ   \n9  a0X0Gzw7u7pGwbM2U_7IsA  Merchant A  sh5tqIUcYLC9dZ6hMq-JJg   \n\n            email_address  Target  \n0  3XBRYto3QgX7g4pX-BvNyA   False  \n3  26Lw20NQtPKb5cyQZBuh1w   False  \n5  TqcwEBJG9hTBvF_Jxud8qg   False  \n6  Y1tdy_yS55lYK9zJu-RPMA   False  \n9  kJ7AJ9K3mbYwFWaft7JsRA   False  ",
      "text/html": "<div>\n<style scoped>\n    .dataframe tbody tr th:only-of-type {\n        vertical-align: middle;\n    }\n\n    .dataframe tbody tr th {\n        vertical-align: top;\n    }\n\n    .dataframe thead th {\n        text-align: right;\n    }\n</style>\n<table border=\"1\" class=\"dataframe\">\n  <thead>\n    <tr style=\"text-align: right;\">\n      <th></th>\n      <th>psp_reference</th>\n      <th>Global_Date</th>\n      <th>Local_Date</th>\n      <th>card_number</th>\n      <th>merchant</th>\n      <th>ip_address</th>\n      <th>email_address</th>\n      <th>Target</th>\n    </tr>\n  </thead>\n  <tbody>\n    <tr>\n      <th>0</th>\n      <td>79622457320</td>\n      <td>2021-07-25 13:51:00</td>\n      <td>2021-07-25 13:51:00</td>\n      <td>XldVNN9TQgIA2RE9FTC2TA</td>\n      <td>Merchant A</td>\n      <td>i1oY1kTOXMlsFfoyhFJxyA</td>\n      <td>3XBRYto3QgX7g4pX-BvNyA</td>\n      <td>False</td>\n    </tr>\n    <tr>\n      <th>3</th>\n      <td>13944051314</td>\n      <td>2021-08-30 12:50:00</td>\n      <td>2021-08-30 12:50:00</td>\n      <td>BMf1zFkJ1xvPMlOxC7RWTw</td>\n      <td>Merchant D</td>\n      <td>8AuFEjK8m-0lxGAOJzOPmg</td>\n      <td>26Lw20NQtPKb5cyQZBuh1w</td>\n      <td>False</td>\n    </tr>\n    <tr>\n      <th>5</th>\n      <td>25784401111</td>\n      <td>2021-06-11 13:21:00</td>\n      <td>2021-06-11 13:21:00</td>\n      <td>cjyrXCInVMph0CUUu9JSRg</td>\n      <td>Merchant B</td>\n      <td>mtM86EuiwmunVrELKjGT1g</td>\n      <td>TqcwEBJG9hTBvF_Jxud8qg</td>\n      <td>False</td>\n    </tr>\n    <tr>\n      <th>6</th>\n      <td>27085470319</td>\n      <td>2021-09-13 07:51:00</td>\n      <td>2021-09-13 07:51:00</td>\n      <td>1yYF_mSnG0ZfjnghlBqEKw</td>\n      <td>Merchant D</td>\n      <td>Wqw2dKIsVMc-EMb5WKKruQ</td>\n      <td>Y1tdy_yS55lYK9zJu-RPMA</td>\n      <td>False</td>\n    </tr>\n    <tr>\n      <th>9</th>\n      <td>56451872040</td>\n      <td>2021-07-06 11:28:00</td>\n      <td>2021-07-06 11:28:00</td>\n      <td>a0X0Gzw7u7pGwbM2U_7IsA</td>\n      <td>Merchant A</td>\n      <td>sh5tqIUcYLC9dZ6hMq-JJg</td>\n      <td>kJ7AJ9K3mbYwFWaft7JsRA</td>\n      <td>False</td>\n    </tr>\n  </tbody>\n</table>\n</div>"
     },
     "execution_count": 118,
     "metadata": {},
     "output_type": "execute_result"
    }
   ],
   "source": [
    "df_graph_features_learning = df_graph_features.loc[(df_graph_features[\"Global_Date\"].dt.month >= 1) & (df_graph_features[\"Global_Date\"].dt.month <= 9)].copy()\n",
    "df_graph_features_learning = df_graph_features_learning[(df_graph_features_learning[\"ip_address\"].notna()) & (df_graph_features_learning[\"email_address\"].notna())]\n",
    "# df_graph_features_learning['email_address'] = df_graph_features_learning['email_address'].fillna('unknown_email')\n",
    "# df_graph_features_learning['ip_address'] = df_graph_features_learning['ip_address'].fillna('unknown_ip')\n",
    "df_graph_features_learning.head()"
   ],
   "metadata": {
    "collapsed": false
   }
  },
  {
   "cell_type": "code",
   "execution_count": 119,
   "outputs": [],
   "source": [
    "df_graph_features_training_test = df_graph_features.loc[df_graph_features[\"Global_Date\"].dt.month >= 10].copy()"
   ],
   "metadata": {
    "collapsed": false
   }
  },
  {
   "cell_type": "markdown",
   "source": [
    "## Generate Graph Features"
   ],
   "metadata": {
    "collapsed": false
   }
  },
  {
   "cell_type": "code",
   "execution_count": 120,
   "outputs": [],
   "source": [
    "graph_features = ApateGraphFeatures(df_graph_features_learning)"
   ],
   "metadata": {
    "collapsed": false
   }
  },
  {
   "cell_type": "code",
   "execution_count": 121,
   "outputs": [
    {
     "data": {
      "text/plain": "VBox(children=(HBox(children=(IntProgress(value=0, description='0.00%', max=5775), Label(value='0 / 5775'))), …",
      "application/vnd.jupyter.widget-view+json": {
       "version_major": 2,
       "version_minor": 0,
       "model_id": "b5d1e537110441679d7b662907e0cc6d"
      }
     },
     "metadata": {},
     "output_type": "display_data"
    },
    {
     "data": {
      "text/plain": "VBox(children=(HBox(children=(IntProgress(value=0, description='0.00%', max=5775), Label(value='0 / 5775'))), …",
      "application/vnd.jupyter.widget-view+json": {
       "version_major": 2,
       "version_minor": 0,
       "model_id": "6bef24fcbcaa4c40b721796b480be46b"
      }
     },
     "metadata": {},
     "output_type": "display_data"
    },
    {
     "data": {
      "text/plain": "VBox(children=(HBox(children=(IntProgress(value=0, description='0.00%', max=5775), Label(value='0 / 5775'))), …",
      "application/vnd.jupyter.widget-view+json": {
       "version_major": 2,
       "version_minor": 0,
       "model_id": "e22951844b044e4385b6ba06afa32b1a"
      }
     },
     "metadata": {},
     "output_type": "display_data"
    },
    {
     "data": {
      "text/plain": "VBox(children=(HBox(children=(IntProgress(value=0, description='0.00%', max=5775), Label(value='0 / 5775'))), …",
      "application/vnd.jupyter.widget-view+json": {
       "version_major": 2,
       "version_minor": 0,
       "model_id": "25e30728178f45c4a2c5d35a0575c437"
      }
     },
     "metadata": {},
     "output_type": "display_data"
    },
    {
     "name": "stdout",
     "output_type": "stream",
     "text": [
      "2023-01-31 14:39:10.919380 : Finished computing IP features...\n"
     ]
    },
    {
     "data": {
      "text/plain": "VBox(children=(HBox(children=(IntProgress(value=0, description='0.00%', max=5775), Label(value='0 / 5775'))), …",
      "application/vnd.jupyter.widget-view+json": {
       "version_major": 2,
       "version_minor": 0,
       "model_id": "ca58be7926944ff3b4b0b8ef6ecf9970"
      }
     },
     "metadata": {},
     "output_type": "display_data"
    },
    {
     "data": {
      "text/plain": "VBox(children=(HBox(children=(IntProgress(value=0, description='0.00%', max=5775), Label(value='0 / 5775'))), …",
      "application/vnd.jupyter.widget-view+json": {
       "version_major": 2,
       "version_minor": 0,
       "model_id": "7079053952ab4acea2390aee5f27bb30"
      }
     },
     "metadata": {},
     "output_type": "display_data"
    },
    {
     "data": {
      "text/plain": "VBox(children=(HBox(children=(IntProgress(value=0, description='0.00%', max=5775), Label(value='0 / 5775'))), …",
      "application/vnd.jupyter.widget-view+json": {
       "version_major": 2,
       "version_minor": 0,
       "model_id": "342a4e1c73a34879b4f9e91402dba183"
      }
     },
     "metadata": {},
     "output_type": "display_data"
    },
    {
     "data": {
      "text/plain": "VBox(children=(HBox(children=(IntProgress(value=0, description='0.00%', max=5775), Label(value='0 / 5775'))), …",
      "application/vnd.jupyter.widget-view+json": {
       "version_major": 2,
       "version_minor": 0,
       "model_id": "687fd63f140e4c1f9733509235467e4c"
      }
     },
     "metadata": {},
     "output_type": "display_data"
    },
    {
     "name": "stdout",
     "output_type": "stream",
     "text": [
      "2023-01-31 14:40:06.225280 : Finished computing Email features...\n"
     ]
    },
    {
     "data": {
      "text/plain": "VBox(children=(HBox(children=(IntProgress(value=0, description='0.00%', max=5775), Label(value='0 / 5775'))), …",
      "application/vnd.jupyter.widget-view+json": {
       "version_major": 2,
       "version_minor": 0,
       "model_id": "d12503c7d721491eb8a3b061ae89f033"
      }
     },
     "metadata": {},
     "output_type": "display_data"
    },
    {
     "data": {
      "text/plain": "VBox(children=(HBox(children=(IntProgress(value=0, description='0.00%', max=5775), Label(value='0 / 5775'))), …",
      "application/vnd.jupyter.widget-view+json": {
       "version_major": 2,
       "version_minor": 0,
       "model_id": "ae52affeb1cc4179921496093febd3f1"
      }
     },
     "metadata": {},
     "output_type": "display_data"
    },
    {
     "data": {
      "text/plain": "VBox(children=(HBox(children=(IntProgress(value=0, description='0.00%', max=5775), Label(value='0 / 5775'))), …",
      "application/vnd.jupyter.widget-view+json": {
       "version_major": 2,
       "version_minor": 0,
       "model_id": "9efdbe66dd1b46afbce10f9578573904"
      }
     },
     "metadata": {},
     "output_type": "display_data"
    },
    {
     "data": {
      "text/plain": "VBox(children=(HBox(children=(IntProgress(value=0, description='0.00%', max=5775), Label(value='0 / 5775'))), …",
      "application/vnd.jupyter.widget-view+json": {
       "version_major": 2,
       "version_minor": 0,
       "model_id": "3da034e5bc6845deb7a6f5101c996d54"
      }
     },
     "metadata": {},
     "output_type": "display_data"
    },
    {
     "name": "stdout",
     "output_type": "stream",
     "text": [
      "2023-01-31 14:41:06.622693 : Finished computing Card Holder features...\n"
     ]
    },
    {
     "data": {
      "text/plain": "VBox(children=(HBox(children=(IntProgress(value=0, description='0.00%', max=5775), Label(value='0 / 5775'))), …",
      "application/vnd.jupyter.widget-view+json": {
       "version_major": 2,
       "version_minor": 0,
       "model_id": "23b29d4c549943eba85f7c06bb38249f"
      }
     },
     "metadata": {},
     "output_type": "display_data"
    },
    {
     "data": {
      "text/plain": "VBox(children=(HBox(children=(IntProgress(value=0, description='0.00%', max=5775), Label(value='0 / 5775'))), …",
      "application/vnd.jupyter.widget-view+json": {
       "version_major": 2,
       "version_minor": 0,
       "model_id": "67672c0fc2bc48d6b6ee88fa523d4b87"
      }
     },
     "metadata": {},
     "output_type": "display_data"
    },
    {
     "data": {
      "text/plain": "VBox(children=(HBox(children=(IntProgress(value=0, description='0.00%', max=5775), Label(value='0 / 5775'))), …",
      "application/vnd.jupyter.widget-view+json": {
       "version_major": 2,
       "version_minor": 0,
       "model_id": "8fd13501bd0445799642f3dbd3efc5c8"
      }
     },
     "metadata": {},
     "output_type": "display_data"
    },
    {
     "data": {
      "text/plain": "VBox(children=(HBox(children=(IntProgress(value=0, description='0.00%', max=5775), Label(value='0 / 5775'))), …",
      "application/vnd.jupyter.widget-view+json": {
       "version_major": 2,
       "version_minor": 0,
       "model_id": "2244d25388294fe188fd6e422d053eed"
      }
     },
     "metadata": {},
     "output_type": "display_data"
    },
    {
     "name": "stdout",
     "output_type": "stream",
     "text": [
      "2023-01-31 14:41:26.712657 : Finished computing Merchant features...\n"
     ]
    },
    {
     "data": {
      "text/plain": "VBox(children=(HBox(children=(IntProgress(value=0, description='0.00%', max=5775), Label(value='0 / 5775'))), …",
      "application/vnd.jupyter.widget-view+json": {
       "version_major": 2,
       "version_minor": 0,
       "model_id": "d080413d259449b192651e0a14b4fe65"
      }
     },
     "metadata": {},
     "output_type": "display_data"
    },
    {
     "data": {
      "text/plain": "VBox(children=(HBox(children=(IntProgress(value=0, description='0.00%', max=5775), Label(value='0 / 5775'))), …",
      "application/vnd.jupyter.widget-view+json": {
       "version_major": 2,
       "version_minor": 0,
       "model_id": "e21945150fb04d2691c3a3c2c1613890"
      }
     },
     "metadata": {},
     "output_type": "display_data"
    },
    {
     "data": {
      "text/plain": "VBox(children=(HBox(children=(IntProgress(value=0, description='0.00%', max=5775), Label(value='0 / 5775'))), …",
      "application/vnd.jupyter.widget-view+json": {
       "version_major": 2,
       "version_minor": 0,
       "model_id": "2d672fd0649b4a559848843c6b94e0bb"
      }
     },
     "metadata": {},
     "output_type": "display_data"
    },
    {
     "data": {
      "text/plain": "VBox(children=(HBox(children=(IntProgress(value=0, description='0.00%', max=5775), Label(value='0 / 5775'))), …",
      "application/vnd.jupyter.widget-view+json": {
       "version_major": 2,
       "version_minor": 0,
       "model_id": "eca66933ab7f405683d1a40c1c2063d5"
      }
     },
     "metadata": {},
     "output_type": "display_data"
    },
    {
     "name": "stdout",
     "output_type": "stream",
     "text": [
      "2023-01-31 15:10:49.486504 : Finished computing Transaction features...\n"
     ]
    }
   ],
   "source": [
    "graph_features.add_graph_features(df_graph_features_training_test)"
   ],
   "metadata": {
    "collapsed": false
   }
  },
  {
   "cell_type": "code",
   "execution_count": 122,
   "outputs": [
    {
     "data": {
      "text/plain": "    psp_reference         Global_Date          Local_Date  \\\n1     41293916020 2021-12-11 15:20:00 2021-12-11 15:20:00   \n2     31382555255 2021-10-20 01:56:00 2021-10-20 01:56:00   \n4     62343575411 2021-11-14 19:26:00 2021-11-14 19:26:00   \n7     42353694618 2021-11-19 17:42:00 2021-11-19 17:42:00   \n10    89414101774 2021-12-22 15:28:00 2021-12-22 15:28:00   \n\n               card_number    merchant              ip_address  \\\n1   zgRoL8pxX5LJI-SEPUTMvg  Merchant C  HZkxQvtpScNLgi0fsoSkjA   \n2   T3BF1uOOqgcwaVRb_ujPQg  Merchant E  HGW5EwBnHVgOrD5xYplBdw   \n4   jfxS2TIe0gR9vpOUdMKrBw  Merchant E                     NaN   \n7   beNTt0aybtIdzY5vp1D99A  Merchant A                     NaN   \n10  v5l_VKkQ6uUEp-wexCjLeg  Merchant B  p53LAAaNhLocbYm781iZfA   \n\n             email_address  Target   IPScore  IPScore_ST  ...  CHScore_MT  \\\n1   klwgzdfrnz_6eGsHSi2prQ   False  0.000003    0.000003  ...    0.000003   \n2   XkMWeLLmXALPcV3ndwzKJw   False  0.000003    0.000003  ...    0.000003   \n4   Y7tv2i85iUadkEIAPIufgg   False  0.000003    0.000003  ...    0.000003   \n7   MpwCXjoBbuJoLA3pRc2Zsw    True  0.000003    0.000003  ...    0.000029   \n10  2_-sJZ7KqnpeTgqadRekTA   False  0.000003    0.000003  ...    0.000003   \n\n    CHScore_LT  MerScore  MerScore_ST  MerScore_MT  MerScore_LT  TrxScore  \\\n1     0.000003  0.011340     0.007196     0.011341     0.011340  0.000010   \n2     0.000003  0.011409     0.010339     0.011376     0.011409  0.000010   \n4     0.000003  0.011409     0.010339     0.011376     0.011409  0.000010   \n7     0.000025  0.045386     0.049368     0.045339     0.045386  0.000045   \n10    0.000003  0.023279     0.024296     0.023281     0.023279  0.000011   \n\n    TrxScore_ST  TrxScore_MT  TrxScore_LT  \n1      0.000008     0.000010     0.000010  \n2      0.000010     0.000010     0.000010  \n4      0.000010     0.000010     0.000010  \n7      0.001321     0.000050     0.000045  \n10     0.000011     0.000011     0.000011  \n\n[5 rows x 28 columns]",
      "text/html": "<div>\n<style scoped>\n    .dataframe tbody tr th:only-of-type {\n        vertical-align: middle;\n    }\n\n    .dataframe tbody tr th {\n        vertical-align: top;\n    }\n\n    .dataframe thead th {\n        text-align: right;\n    }\n</style>\n<table border=\"1\" class=\"dataframe\">\n  <thead>\n    <tr style=\"text-align: right;\">\n      <th></th>\n      <th>psp_reference</th>\n      <th>Global_Date</th>\n      <th>Local_Date</th>\n      <th>card_number</th>\n      <th>merchant</th>\n      <th>ip_address</th>\n      <th>email_address</th>\n      <th>Target</th>\n      <th>IPScore</th>\n      <th>IPScore_ST</th>\n      <th>...</th>\n      <th>CHScore_MT</th>\n      <th>CHScore_LT</th>\n      <th>MerScore</th>\n      <th>MerScore_ST</th>\n      <th>MerScore_MT</th>\n      <th>MerScore_LT</th>\n      <th>TrxScore</th>\n      <th>TrxScore_ST</th>\n      <th>TrxScore_MT</th>\n      <th>TrxScore_LT</th>\n    </tr>\n  </thead>\n  <tbody>\n    <tr>\n      <th>1</th>\n      <td>41293916020</td>\n      <td>2021-12-11 15:20:00</td>\n      <td>2021-12-11 15:20:00</td>\n      <td>zgRoL8pxX5LJI-SEPUTMvg</td>\n      <td>Merchant C</td>\n      <td>HZkxQvtpScNLgi0fsoSkjA</td>\n      <td>klwgzdfrnz_6eGsHSi2prQ</td>\n      <td>False</td>\n      <td>0.000003</td>\n      <td>0.000003</td>\n      <td>...</td>\n      <td>0.000003</td>\n      <td>0.000003</td>\n      <td>0.011340</td>\n      <td>0.007196</td>\n      <td>0.011341</td>\n      <td>0.011340</td>\n      <td>0.000010</td>\n      <td>0.000008</td>\n      <td>0.000010</td>\n      <td>0.000010</td>\n    </tr>\n    <tr>\n      <th>2</th>\n      <td>31382555255</td>\n      <td>2021-10-20 01:56:00</td>\n      <td>2021-10-20 01:56:00</td>\n      <td>T3BF1uOOqgcwaVRb_ujPQg</td>\n      <td>Merchant E</td>\n      <td>HGW5EwBnHVgOrD5xYplBdw</td>\n      <td>XkMWeLLmXALPcV3ndwzKJw</td>\n      <td>False</td>\n      <td>0.000003</td>\n      <td>0.000003</td>\n      <td>...</td>\n      <td>0.000003</td>\n      <td>0.000003</td>\n      <td>0.011409</td>\n      <td>0.010339</td>\n      <td>0.011376</td>\n      <td>0.011409</td>\n      <td>0.000010</td>\n      <td>0.000010</td>\n      <td>0.000010</td>\n      <td>0.000010</td>\n    </tr>\n    <tr>\n      <th>4</th>\n      <td>62343575411</td>\n      <td>2021-11-14 19:26:00</td>\n      <td>2021-11-14 19:26:00</td>\n      <td>jfxS2TIe0gR9vpOUdMKrBw</td>\n      <td>Merchant E</td>\n      <td>NaN</td>\n      <td>Y7tv2i85iUadkEIAPIufgg</td>\n      <td>False</td>\n      <td>0.000003</td>\n      <td>0.000003</td>\n      <td>...</td>\n      <td>0.000003</td>\n      <td>0.000003</td>\n      <td>0.011409</td>\n      <td>0.010339</td>\n      <td>0.011376</td>\n      <td>0.011409</td>\n      <td>0.000010</td>\n      <td>0.000010</td>\n      <td>0.000010</td>\n      <td>0.000010</td>\n    </tr>\n    <tr>\n      <th>7</th>\n      <td>42353694618</td>\n      <td>2021-11-19 17:42:00</td>\n      <td>2021-11-19 17:42:00</td>\n      <td>beNTt0aybtIdzY5vp1D99A</td>\n      <td>Merchant A</td>\n      <td>NaN</td>\n      <td>MpwCXjoBbuJoLA3pRc2Zsw</td>\n      <td>True</td>\n      <td>0.000003</td>\n      <td>0.000003</td>\n      <td>...</td>\n      <td>0.000029</td>\n      <td>0.000025</td>\n      <td>0.045386</td>\n      <td>0.049368</td>\n      <td>0.045339</td>\n      <td>0.045386</td>\n      <td>0.000045</td>\n      <td>0.001321</td>\n      <td>0.000050</td>\n      <td>0.000045</td>\n    </tr>\n    <tr>\n      <th>10</th>\n      <td>89414101774</td>\n      <td>2021-12-22 15:28:00</td>\n      <td>2021-12-22 15:28:00</td>\n      <td>v5l_VKkQ6uUEp-wexCjLeg</td>\n      <td>Merchant B</td>\n      <td>p53LAAaNhLocbYm781iZfA</td>\n      <td>2_-sJZ7KqnpeTgqadRekTA</td>\n      <td>False</td>\n      <td>0.000003</td>\n      <td>0.000003</td>\n      <td>...</td>\n      <td>0.000003</td>\n      <td>0.000003</td>\n      <td>0.023279</td>\n      <td>0.024296</td>\n      <td>0.023281</td>\n      <td>0.023279</td>\n      <td>0.000011</td>\n      <td>0.000011</td>\n      <td>0.000011</td>\n      <td>0.000011</td>\n    </tr>\n  </tbody>\n</table>\n<p>5 rows × 28 columns</p>\n</div>"
     },
     "execution_count": 122,
     "metadata": {},
     "output_type": "execute_result"
    }
   ],
   "source": [
    "df_graph_features_training_test.head()"
   ],
   "metadata": {
    "collapsed": false
   }
  },
  {
   "cell_type": "code",
   "execution_count": 123,
   "outputs": [],
   "source": [
    "df_graph_features_training_test.to_csv(\"graph_features_july_december.csv\", index=False)"
   ],
   "metadata": {
    "collapsed": false
   }
  },
  {
   "cell_type": "code",
   "execution_count": 124,
   "outputs": [
    {
     "data": {
      "text/plain": "Index(['psp_reference', 'Global_Date', 'Local_Date', 'card_number', 'merchant',\n       'ip_address', 'email_address', 'Target', 'IPScore', 'IPScore_ST',\n       'IPScore_MT', 'IPScore_LT', 'EmailScore', 'EmailScore_ST',\n       'EmailScore_MT', 'EmailScore_LT', 'CHScore', 'CHScore_ST', 'CHScore_MT',\n       'CHScore_LT', 'MerScore', 'MerScore_ST', 'MerScore_MT', 'MerScore_LT',\n       'TrxScore', 'TrxScore_ST', 'TrxScore_MT', 'TrxScore_LT'],\n      dtype='object')"
     },
     "execution_count": 124,
     "metadata": {},
     "output_type": "execute_result"
    }
   ],
   "source": [
    "df_graph_features_training_test.columns"
   ],
   "metadata": {
    "collapsed": false
   }
  },
  {
   "cell_type": "code",
   "execution_count": null,
   "outputs": [],
   "source": [],
   "metadata": {
    "collapsed": false,
    "pycharm": {
     "is_executing": true
    }
   }
  },
  {
   "cell_type": "code",
   "execution_count": 76,
   "outputs": [],
   "source": [],
   "metadata": {
    "collapsed": false
   }
  }
 ],
 "metadata": {
  "kernelspec": {
   "display_name": "Python 3",
   "language": "python",
   "name": "python3"
  },
  "language_info": {
   "codemirror_mode": {
    "name": "ipython",
    "version": 2
   },
   "file_extension": ".py",
   "mimetype": "text/x-python",
   "name": "python",
   "nbconvert_exporter": "python",
   "pygments_lexer": "ipython2",
   "version": "2.7.6"
  }
 },
 "nbformat": 4,
 "nbformat_minor": 0
}
