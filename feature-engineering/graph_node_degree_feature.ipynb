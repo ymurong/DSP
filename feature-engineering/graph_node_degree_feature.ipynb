{
 "cells": [
  {
   "cell_type": "code",
   "execution_count": 72,
   "metadata": {
    "collapsed": true
   },
   "outputs": [],
   "source": [
    "import pandas as pd\n",
    "import matplotlib.pyplot as plt\n",
    "import datetime"
   ]
  },
  {
   "cell_type": "markdown",
   "source": [
    "## Preprocessing (time filtering)"
   ],
   "metadata": {
    "collapsed": false
   }
  },
  {
   "cell_type": "code",
   "execution_count": 148,
   "outputs": [],
   "source": [
    "start_date = \"2021-01-01\"\n",
    "end_date = \"2021-06-30\""
   ],
   "metadata": {
    "collapsed": false
   }
  },
  {
   "cell_type": "code",
   "execution_count": 149,
   "outputs": [],
   "source": [
    "df_ori = pd.read_csv('../adyen-dataset.csv')\n",
    "df_ori = df_ori.fillna(\"anonymous\")"
   ],
   "metadata": {
    "collapsed": false
   }
  },
  {
   "cell_type": "code",
   "execution_count": 150,
   "outputs": [],
   "source": [
    "def date(row):\n",
    "    year = row[3]\n",
    "    day_of_year = int(row[6])\n",
    "    hour_of_day = row[4]\n",
    "    minute_of_hour = row[5]\n",
    "    date = datetime.datetime(year, 1, 1) + datetime.timedelta(day_of_year - 1)\n",
    "    return date"
   ],
   "metadata": {
    "collapsed": false
   }
  },
  {
   "cell_type": "code",
   "execution_count": 151,
   "outputs": [],
   "source": [
    "df_ori[\"date\"] = df_ori.apply(date, axis=1)\n",
    "df_ori[\"date\"] = pd.to_datetime(df_ori[\"date\"])"
   ],
   "metadata": {
    "collapsed": false
   }
  },
  {
   "cell_type": "code",
   "execution_count": 152,
   "outputs": [],
   "source": [
    "df_ori.set_index('date', inplace=True)\n",
    "df_ts = df_ori.sort_index()"
   ],
   "metadata": {
    "collapsed": false
   }
  },
  {
   "cell_type": "code",
   "execution_count": 153,
   "outputs": [],
   "source": [
    "df_ts = df_ts.loc[start_date:end_date]"
   ],
   "metadata": {
    "collapsed": false
   }
  },
  {
   "cell_type": "markdown",
   "source": [
    "## Prepare panda edges (to feed to networkx)"
   ],
   "metadata": {
    "collapsed": false
   }
  },
  {
   "cell_type": "code",
   "execution_count": 154,
   "outputs": [],
   "source": [
    "# point_in is ip address, point_out is card number\n",
    "edges1 = df_ts.groupby([\"ip_address\", \"card_number\"]).agg(total_transactions=('has_fraudulent_dispute', 'size'),\n",
    "                                                          total_fraud=('has_fraudulent_dispute', 'sum')).reset_index()\n",
    "edges1['type_in'] = 'ip'\n",
    "edges1['type_out'] = 'card'\n",
    "edges1.columns = [\"point_in\", \"point_out\", \"total_transactions\", \"total_fraud\", \"type_in\", \"type_out\"]"
   ],
   "metadata": {
    "collapsed": false
   }
  },
  {
   "cell_type": "code",
   "execution_count": 155,
   "outputs": [],
   "source": [
    "# point_in is ip address, point_out is email address\n",
    "edges2 = df_ts.groupby([\"ip_address\", \"email_address\"]).agg(total_transactions=('has_fraudulent_dispute', 'size'),\n",
    "                                                            total_fraud=(\n",
    "                                                                'has_fraudulent_dispute', 'sum')).reset_index()\n",
    "edges2['type_in'] = 'ip'\n",
    "edges2['type_out'] = 'email'\n",
    "edges2.columns = [\"point_in\", \"point_out\", \"total_transactions\", \"total_fraud\", \"type_in\", \"type_out\"]"
   ],
   "metadata": {
    "collapsed": false
   }
  },
  {
   "cell_type": "code",
   "execution_count": 156,
   "outputs": [],
   "source": [
    "edges3 = df_ts.groupby([\"email_address\", \"card_number\"]).agg(total_transactions=('has_fraudulent_dispute', 'size'),\n",
    "                                                             total_fraud=(\n",
    "                                                                 'has_fraudulent_dispute', 'sum')).reset_index()\n",
    "edges3['type_in'] = 'email'\n",
    "edges3['type_out'] = 'card'\n",
    "edges3.columns = [\"point_in\", \"point_out\", \"total_transactions\", \"total_fraud\", \"type_in\", \"type_out\"]"
   ],
   "metadata": {
    "collapsed": false
   }
  },
  {
   "cell_type": "code",
   "execution_count": 157,
   "outputs": [
    {
     "data": {
      "text/plain": "                     point_in               point_out  total_transactions  \\\n0      --OIdZguyqMXZdR9uwsVaA  ueS8t6SJZdHCumx81V1lTA                   2   \n1      --Q1vMw3s-7ckmVzxYbtRA  -u5HCYQ71snACmFJ99FUKw                   2   \n2      --Q3pd2K1Id5e-7j16yGvA  wS9mv7oCTalNN5rZZ9BEww                   2   \n3      --cvU5adDKnmYHm7_gJspw  BE0HzH6gLx4ZS4K8aKkJhQ                   1   \n4      --lNkj8BIypbOtqV-mYJMw  _wGv-adF8TKJNjMdW4jlQg                   1   \n...                       ...                     ...                 ...   \n33753  zzZYmwCcsfozI2SMetheaQ  0ur4NOG5TJ2zAv8EADcKCg                   2   \n33754  zzeiC2BlroqjXW1CHDzUFQ  ctqMeUuA4S4jIk4zWolQTw                   2   \n33755  zzeiC2BlroqjXW1CHDzUFQ  iO3-A8s3Y3OyLed-c2RzCQ                   1   \n33756  zznixqMdaC80Mfrz9SgxRA  0Y5dHu16ZVyLhbBRarCbSA                   2   \n33757  zznixqMdaC80Mfrz9SgxRA  PQhIPrnsTy12h6AxnwH9fg                   1   \n\n       total_fraud type_in type_out  \n0                0      ip     card  \n1                0      ip     card  \n2                0      ip     card  \n3                0      ip     card  \n4                0      ip     card  \n...            ...     ...      ...  \n33753            0   email     card  \n33754            0   email     card  \n33755            0   email     card  \n33756            0   email     card  \n33757            0   email     card  \n\n[117338 rows x 6 columns]",
      "text/html": "<div>\n<style scoped>\n    .dataframe tbody tr th:only-of-type {\n        vertical-align: middle;\n    }\n\n    .dataframe tbody tr th {\n        vertical-align: top;\n    }\n\n    .dataframe thead th {\n        text-align: right;\n    }\n</style>\n<table border=\"1\" class=\"dataframe\">\n  <thead>\n    <tr style=\"text-align: right;\">\n      <th></th>\n      <th>point_in</th>\n      <th>point_out</th>\n      <th>total_transactions</th>\n      <th>total_fraud</th>\n      <th>type_in</th>\n      <th>type_out</th>\n    </tr>\n  </thead>\n  <tbody>\n    <tr>\n      <th>0</th>\n      <td>--OIdZguyqMXZdR9uwsVaA</td>\n      <td>ueS8t6SJZdHCumx81V1lTA</td>\n      <td>2</td>\n      <td>0</td>\n      <td>ip</td>\n      <td>card</td>\n    </tr>\n    <tr>\n      <th>1</th>\n      <td>--Q1vMw3s-7ckmVzxYbtRA</td>\n      <td>-u5HCYQ71snACmFJ99FUKw</td>\n      <td>2</td>\n      <td>0</td>\n      <td>ip</td>\n      <td>card</td>\n    </tr>\n    <tr>\n      <th>2</th>\n      <td>--Q3pd2K1Id5e-7j16yGvA</td>\n      <td>wS9mv7oCTalNN5rZZ9BEww</td>\n      <td>2</td>\n      <td>0</td>\n      <td>ip</td>\n      <td>card</td>\n    </tr>\n    <tr>\n      <th>3</th>\n      <td>--cvU5adDKnmYHm7_gJspw</td>\n      <td>BE0HzH6gLx4ZS4K8aKkJhQ</td>\n      <td>1</td>\n      <td>0</td>\n      <td>ip</td>\n      <td>card</td>\n    </tr>\n    <tr>\n      <th>4</th>\n      <td>--lNkj8BIypbOtqV-mYJMw</td>\n      <td>_wGv-adF8TKJNjMdW4jlQg</td>\n      <td>1</td>\n      <td>0</td>\n      <td>ip</td>\n      <td>card</td>\n    </tr>\n    <tr>\n      <th>...</th>\n      <td>...</td>\n      <td>...</td>\n      <td>...</td>\n      <td>...</td>\n      <td>...</td>\n      <td>...</td>\n    </tr>\n    <tr>\n      <th>33753</th>\n      <td>zzZYmwCcsfozI2SMetheaQ</td>\n      <td>0ur4NOG5TJ2zAv8EADcKCg</td>\n      <td>2</td>\n      <td>0</td>\n      <td>email</td>\n      <td>card</td>\n    </tr>\n    <tr>\n      <th>33754</th>\n      <td>zzeiC2BlroqjXW1CHDzUFQ</td>\n      <td>ctqMeUuA4S4jIk4zWolQTw</td>\n      <td>2</td>\n      <td>0</td>\n      <td>email</td>\n      <td>card</td>\n    </tr>\n    <tr>\n      <th>33755</th>\n      <td>zzeiC2BlroqjXW1CHDzUFQ</td>\n      <td>iO3-A8s3Y3OyLed-c2RzCQ</td>\n      <td>1</td>\n      <td>0</td>\n      <td>email</td>\n      <td>card</td>\n    </tr>\n    <tr>\n      <th>33756</th>\n      <td>zznixqMdaC80Mfrz9SgxRA</td>\n      <td>0Y5dHu16ZVyLhbBRarCbSA</td>\n      <td>2</td>\n      <td>0</td>\n      <td>email</td>\n      <td>card</td>\n    </tr>\n    <tr>\n      <th>33757</th>\n      <td>zznixqMdaC80Mfrz9SgxRA</td>\n      <td>PQhIPrnsTy12h6AxnwH9fg</td>\n      <td>1</td>\n      <td>0</td>\n      <td>email</td>\n      <td>card</td>\n    </tr>\n  </tbody>\n</table>\n<p>117338 rows × 6 columns</p>\n</div>"
     },
     "execution_count": 157,
     "metadata": {},
     "output_type": "execute_result"
    }
   ],
   "source": [
    "df_edges = pd.concat([edges1, edges2, edges3], axis=0)\n",
    "df_edges = df_edges[df_edges['total_transactions'] > 0]\n",
    "df_edges"
   ],
   "metadata": {
    "collapsed": false
   }
  },
  {
   "cell_type": "markdown",
   "source": [
    "## Build graph"
   ],
   "metadata": {
    "collapsed": false
   }
  },
  {
   "cell_type": "code",
   "execution_count": 158,
   "outputs": [
    {
     "name": "stdout",
     "output_type": "stream",
     "text": [
      "number of nodes 79854\n",
      "number of edges 114412\n"
     ]
    }
   ],
   "source": [
    "import networkx as nx\n",
    "\n",
    "source = 'point_in'\n",
    "target = 'point_out'\n",
    "\n",
    "G = nx.from_pandas_edgelist(df_edges, source=source, target=target, edge_attr='total_transactions')\n",
    "print(f\"number of nodes {len(G.nodes)}\")\n",
    "print(f\"number of edges {len(G.edges)}\")"
   ],
   "metadata": {
    "collapsed": false
   }
  },
  {
   "cell_type": "code",
   "execution_count": 159,
   "outputs": [
    {
     "data": {
      "text/plain": "Text(0, 0.5, 'Frequency')"
     },
     "execution_count": 159,
     "metadata": {},
     "output_type": "execute_result"
    },
    {
     "data": {
      "text/plain": "<Figure size 500x500 with 1 Axes>",
      "image/png": "[encoded data removed]"
     },
     "metadata": {},
     "output_type": "display_data"
    }
   ],
   "source": [
    "m = 1\n",
    "degree_freq = nx.degree_histogram(G)\n",
    "degrees = range(len(degree_freq))\n",
    "plt.figure(figsize=(5, 5))\n",
    "plt.plot(degrees[m:10], degree_freq[m:10], 'go-')\n",
    "plt.xlabel('Degree')\n",
    "plt.ylabel('Frequency')"
   ],
   "metadata": {
    "collapsed": false
   }
  },
  {
   "cell_type": "markdown",
   "source": [
    "## Generate node degree feature\n",
    "##### anonymous node degree replaced by 0"
   ],
   "metadata": {
    "collapsed": false
   }
  },
  {
   "cell_type": "code",
   "execution_count": 235,
   "outputs": [],
   "source": [
    "graph_features_lookup_table = pd.DataFrame(dict(\n",
    "    DEGREE=dict(G.degree),\n",
    "    EIGENVECTOR_CENTRALITY=nx.eigenvector_centrality_numpy(G),\n",
    "    PAGE_RANK=nx.pagerank(G, alpha=0.9),\n",
    "    # CLOSENESS_CENTRALITY = nx.closeness_centrality(G),\n",
    "    # KATZ = nx.katz_centrality_numpy(G),\n",
    "    # BETWEENNESS_CENTRALITY = nx.betweenness_centrality(G),\n",
    "    # CLUSTCOEF = nx.clustering(G),\n",
    "))\n",
    "graph_features_lookup_table.index.name = \"Node\"\n",
    "graph_features_lookup_table.to_csv(\"graph_features_lookup_table.csv\", index=True)"
   ],
   "metadata": {
    "collapsed": false
   }
  },
  {
   "cell_type": "code",
   "execution_count": 225,
   "outputs": [
    {
     "data": {
      "text/plain": "       psp_reference              ip_address           email_address  \\\n0        31441792706  qmHjXdZTQXznQZ2nK7S28A  6AIShI-nACdw5NTU_521kA   \n1        56840734687  MoYL1fAsneKV6qc9TDsPnA  k93K-irSTKwd2pBkcXDK5w   \n2        50841350701  yrHXrfW79VP4X1jyc7-eGw  LgvYsxCc7nbhLRujP0tYZQ   \n3        81202637637  HtOkB2mBa5MG-ovenajWZg  RMJDQUiNhwzAnzCzOkUR-w   \n4        76149360397  nxVC8BgbuNyqXjZ_A8J2MQ  EGLNvgON4EdvfVMaHpn78Q   \n...              ...                     ...                     ...   \n68764    68214760093  XvudagPX0V_Z8m33ncPJBA  NTt2AEF8FObN7Rvit1Nxig   \n68765    89916630019               anonymous  YE0SCSRBBhgLJ0Yia7cthQ   \n68766    53973861858  uynCdaWHfNcVGlNFelJFjA  nqKlCPXvQBwpfqoRCsEOlA   \n68767    37252749815  mtTkY9xM79AJuthqzf6bKw  4nmbEPu1IZQOxryYB00HzA   \n68768    15474068128  anQ1rFcTpxqE8Qtv4TvcUA  0MsLsonVGu3X6FvrOaJ0VA   \n\n                  card_number  \n0      TU4KPVuB29KX7PZmtbhhUQ  \n1      71c2U4kmw9U_8vMaMd5YCQ  \n2      GvlEILP6lyz_nFf6bbDENg  \n3      8X8Fb4r47wtQeghlxOuN0w  \n4      DdiFpiagUE6zrCRX6AcX0Q  \n...                       ...  \n68764  oaHHOAx8QoIw8B3pwNx7nA  \n68765  fMYqNmmIJbh6SJuadr8ikw  \n68766  fN-O9cUY70fd04xi7gdlkg  \n68767  2ygAG65z5_mE51l_sDi-sA  \n68768  BwI9M-U3f9ymDWMvDqAMRA  \n\n[68769 rows x 4 columns]",
      "text/html": "<div>\n<style scoped>\n    .dataframe tbody tr th:only-of-type {\n        vertical-align: middle;\n    }\n\n    .dataframe tbody tr th {\n        vertical-align: top;\n    }\n\n    .dataframe thead th {\n        text-align: right;\n    }\n</style>\n<table border=\"1\" class=\"dataframe\">\n  <thead>\n    <tr style=\"text-align: right;\">\n      <th></th>\n      <th>psp_reference</th>\n      <th>ip_address</th>\n      <th>email_address</th>\n      <th>card_number</th>\n    </tr>\n  </thead>\n  <tbody>\n    <tr>\n      <th>0</th>\n      <td>31441792706</td>\n      <td>qmHjXdZTQXznQZ2nK7S28A</td>\n      <td>6AIShI-nACdw5NTU_521kA</td>\n      <td>TU4KPVuB29KX7PZmtbhhUQ</td>\n    </tr>\n    <tr>\n      <th>1</th>\n      <td>56840734687</td>\n      <td>MoYL1fAsneKV6qc9TDsPnA</td>\n      <td>k93K-irSTKwd2pBkcXDK5w</td>\n      <td>71c2U4kmw9U_8vMaMd5YCQ</td>\n    </tr>\n    <tr>\n      <th>2</th>\n      <td>50841350701</td>\n      <td>yrHXrfW79VP4X1jyc7-eGw</td>\n      <td>LgvYsxCc7nbhLRujP0tYZQ</td>\n      <td>GvlEILP6lyz_nFf6bbDENg</td>\n    </tr>\n    <tr>\n      <th>3</th>\n      <td>81202637637</td>\n      <td>HtOkB2mBa5MG-ovenajWZg</td>\n      <td>RMJDQUiNhwzAnzCzOkUR-w</td>\n      <td>8X8Fb4r47wtQeghlxOuN0w</td>\n    </tr>\n    <tr>\n      <th>4</th>\n      <td>76149360397</td>\n      <td>nxVC8BgbuNyqXjZ_A8J2MQ</td>\n      <td>EGLNvgON4EdvfVMaHpn78Q</td>\n      <td>DdiFpiagUE6zrCRX6AcX0Q</td>\n    </tr>\n    <tr>\n      <th>...</th>\n      <td>...</td>\n      <td>...</td>\n      <td>...</td>\n      <td>...</td>\n    </tr>\n    <tr>\n      <th>68764</th>\n      <td>68214760093</td>\n      <td>XvudagPX0V_Z8m33ncPJBA</td>\n      <td>NTt2AEF8FObN7Rvit1Nxig</td>\n      <td>oaHHOAx8QoIw8B3pwNx7nA</td>\n    </tr>\n    <tr>\n      <th>68765</th>\n      <td>89916630019</td>\n      <td>anonymous</td>\n      <td>YE0SCSRBBhgLJ0Yia7cthQ</td>\n      <td>fMYqNmmIJbh6SJuadr8ikw</td>\n    </tr>\n    <tr>\n      <th>68766</th>\n      <td>53973861858</td>\n      <td>uynCdaWHfNcVGlNFelJFjA</td>\n      <td>nqKlCPXvQBwpfqoRCsEOlA</td>\n      <td>fN-O9cUY70fd04xi7gdlkg</td>\n    </tr>\n    <tr>\n      <th>68767</th>\n      <td>37252749815</td>\n      <td>mtTkY9xM79AJuthqzf6bKw</td>\n      <td>4nmbEPu1IZQOxryYB00HzA</td>\n      <td>2ygAG65z5_mE51l_sDi-sA</td>\n    </tr>\n    <tr>\n      <th>68768</th>\n      <td>15474068128</td>\n      <td>anQ1rFcTpxqE8Qtv4TvcUA</td>\n      <td>0MsLsonVGu3X6FvrOaJ0VA</td>\n      <td>BwI9M-U3f9ymDWMvDqAMRA</td>\n    </tr>\n  </tbody>\n</table>\n<p>68769 rows × 4 columns</p>\n</div>"
     },
     "execution_count": 225,
     "metadata": {},
     "output_type": "execute_result"
    }
   ],
   "source": [
    "df_graph_features = df_ts.loc(axis=1)[\"psp_reference\", \"ip_address\", \"email_address\", \"card_number\"]\n",
    "df_graph_features.reset_index(drop=True, inplace=True)"
   ],
   "metadata": {
    "collapsed": false
   }
  },
  {
   "cell_type": "code",
   "execution_count": 226,
   "outputs": [],
   "source": [
    "def lookup_graph_features_by_node(lookup_table, node):\n",
    "    graph_features = lookup_table.loc(axis=0)[node]\n",
    "    degree = graph_features[\"DEGREE\"]\n",
    "    eigen_centrality = graph_features[\"EIGENVECTOR_CENTRALITY\"]\n",
    "    page_rank = graph_features[\"PAGE_RANK\"]\n",
    "    if degree > 1000:\n",
    "        degree = 0\n",
    "    return degree, eigen_centrality, page_rank\n",
    "\n",
    "\n",
    "def get_graph_features(row):\n",
    "    ip_address = row[1]\n",
    "    email_address = row[2]\n",
    "    card_number = row[3]\n",
    "    ip_address_features = lookup_graph_features_by_node(graph_features_lookup_table, ip_address)\n",
    "    email_address_features = lookup_graph_features_by_node(graph_features_lookup_table, email_address)\n",
    "    card_number_features = lookup_graph_features_by_node(graph_features_lookup_table, card_number)\n",
    "    return ip_address_features, email_address_features, card_number_features"
   ],
   "metadata": {
    "collapsed": false
   }
  },
  {
   "cell_type": "code",
   "execution_count": 227,
   "outputs": [],
   "source": [
    "df_graph_features[\"graph_features_tuple\"] = df_graph_features.apply(get_graph_features, axis=1)"
   ],
   "metadata": {
    "collapsed": false
   }
  },
  {
   "cell_type": "code",
   "execution_count": 228,
   "outputs": [],
   "source": [
    "df_graph_features[['ip_graph_features', 'email_graph_features', 'card_graph_features']] = pd.DataFrame(\n",
    "    df_graph_features['graph_features_tuple'].tolist(), index=df_graph_features.index)"
   ],
   "metadata": {
    "collapsed": false
   }
  },
  {
   "cell_type": "code",
   "execution_count": 229,
   "outputs": [],
   "source": [
    "df_graph_features[['ip_node_degree', 'ip_eigen_centrality', 'ip_page_rank']] = pd.DataFrame(\n",
    "    df_graph_features['ip_graph_features'].tolist(), index=df_graph_features.index)\n",
    "df_graph_features[['email_node_degree', 'email_eigen_centrality', 'email_page_rank']] = pd.DataFrame(\n",
    "    df_graph_features['email_graph_features'].tolist(), index=df_graph_features.index)\n",
    "df_graph_features[['card_node_degree', 'card_eigen_centrality', 'card_page_rank']] = pd.DataFrame(\n",
    "    df_graph_features['card_graph_features'].tolist(), index=df_graph_features.index)"
   ],
   "metadata": {
    "collapsed": false
   }
  },
  {
   "cell_type": "code",
   "execution_count": 230,
   "outputs": [],
   "source": [
    "df_graph_features.drop(\n",
    "    [\"ip_address\", \"email_address\", \"card_number\", \"graph_features_tuple\", \"ip_graph_features\", \"email_graph_features\",\n",
    "     \"card_graph_features\"], axis=1, inplace=True)"
   ],
   "metadata": {
    "collapsed": false
   }
  },
  {
   "cell_type": "code",
   "execution_count": 231,
   "outputs": [],
   "source": [
    "df_graph_features.to_csv(\"graph_features.csv\", index=False)"
   ],
   "metadata": {
    "collapsed": false
   }
  },
  {
   "cell_type": "code",
   "execution_count": 232,
   "outputs": [
    {
     "data": {
      "text/plain": "       psp_reference  ip_node_degree  ip_eigen_centrality  ip_page_rank  \\\n0        31441792706             2.0        -1.040161e-18      0.000013   \n1        56840734687             2.0         1.349192e-18      0.000010   \n2        50841350701             4.0         4.281073e-03      0.000014   \n3        81202637637             2.0         8.628488e-19      0.000013   \n4        76149360397             2.0         5.153604e-05      0.000008   \n...              ...             ...                  ...           ...   \n68764    68214760093             3.0        -1.826705e-20      0.000013   \n68765    89916630019             0.0         7.068677e-01      0.088535   \n68766    53973861858             2.0        -9.707854e-21      0.000013   \n68767    37252749815             2.0         1.637436e-19      0.000013   \n68768    15474068128             2.0        -2.855636e-19      0.000010   \n\n       email_node_degree  email_eigen_centrality  email_page_rank  \\\n0                    2.0           -3.411500e-20         0.000013   \n1                    3.0            1.959777e-19         0.000015   \n2                    6.0            5.185573e-05         0.000022   \n3                    2.0            1.061320e-18         0.000013   \n4                    3.0            4.280913e-03         0.000011   \n...                  ...                     ...              ...   \n68764                5.0            1.688328e-20         0.000020   \n68765                3.0            4.280913e-03         0.000011   \n68766                2.0           -1.491765e-19         0.000013   \n68767                2.0            6.033042e-19         0.000013   \n68768                4.0            2.822245e-19         0.000017   \n\n       card_node_degree  card_eigen_centrality  card_page_rank  \n0                   2.0          -2.138272e-19        0.000013  \n1                   3.0          -3.473916e-19        0.000015  \n2                   4.0           4.281073e-03        0.000014  \n3                   2.0           7.523728e-19        0.000013  \n4                   3.0           4.280913e-03        0.000011  \n...                 ...                    ...             ...  \n68764               2.0           3.082082e-19        0.000009  \n68765               3.0           4.280913e-03        0.000011  \n68766               2.0          -2.614130e-19        0.000013  \n68767               2.0           3.747365e-19        0.000013  \n68768               4.0           3.884220e-20        0.000017  \n\n[68769 rows x 10 columns]",
      "text/html": "<div>\n<style scoped>\n    .dataframe tbody tr th:only-of-type {\n        vertical-align: middle;\n    }\n\n    .dataframe tbody tr th {\n        vertical-align: top;\n    }\n\n    .dataframe thead th {\n        text-align: right;\n    }\n</style>\n<table border=\"1\" class=\"dataframe\">\n  <thead>\n    <tr style=\"text-align: right;\">\n      <th></th>\n      <th>psp_reference</th>\n      <th>ip_node_degree</th>\n      <th>ip_eigen_centrality</th>\n      <th>ip_page_rank</th>\n      <th>email_node_degree</th>\n      <th>email_eigen_centrality</th>\n      <th>email_page_rank</th>\n      <th>card_node_degree</th>\n      <th>card_eigen_centrality</th>\n      <th>card_page_rank</th>\n    </tr>\n  </thead>\n  <tbody>\n    <tr>\n      <th>0</th>\n      <td>31441792706</td>\n      <td>2.0</td>\n      <td>-1.040161e-18</td>\n      <td>0.000013</td>\n      <td>2.0</td>\n      <td>-3.411500e-20</td>\n      <td>0.000013</td>\n      <td>2.0</td>\n      <td>-2.138272e-19</td>\n      <td>0.000013</td>\n    </tr>\n    <tr>\n      <th>1</th>\n      <td>56840734687</td>\n      <td>2.0</td>\n      <td>1.349192e-18</td>\n      <td>0.000010</td>\n      <td>3.0</td>\n      <td>1.959777e-19</td>\n      <td>0.000015</td>\n      <td>3.0</td>\n      <td>-3.473916e-19</td>\n      <td>0.000015</td>\n    </tr>\n    <tr>\n      <th>2</th>\n      <td>50841350701</td>\n      <td>4.0</td>\n      <td>4.281073e-03</td>\n      <td>0.000014</td>\n      <td>6.0</td>\n      <td>5.185573e-05</td>\n      <td>0.000022</td>\n      <td>4.0</td>\n      <td>4.281073e-03</td>\n      <td>0.000014</td>\n    </tr>\n    <tr>\n      <th>3</th>\n      <td>81202637637</td>\n      <td>2.0</td>\n      <td>8.628488e-19</td>\n      <td>0.000013</td>\n      <td>2.0</td>\n      <td>1.061320e-18</td>\n      <td>0.000013</td>\n      <td>2.0</td>\n      <td>7.523728e-19</td>\n      <td>0.000013</td>\n    </tr>\n    <tr>\n      <th>4</th>\n      <td>76149360397</td>\n      <td>2.0</td>\n      <td>5.153604e-05</td>\n      <td>0.000008</td>\n      <td>3.0</td>\n      <td>4.280913e-03</td>\n      <td>0.000011</td>\n      <td>3.0</td>\n      <td>4.280913e-03</td>\n      <td>0.000011</td>\n    </tr>\n    <tr>\n      <th>...</th>\n      <td>...</td>\n      <td>...</td>\n      <td>...</td>\n      <td>...</td>\n      <td>...</td>\n      <td>...</td>\n      <td>...</td>\n      <td>...</td>\n      <td>...</td>\n      <td>...</td>\n    </tr>\n    <tr>\n      <th>68764</th>\n      <td>68214760093</td>\n      <td>3.0</td>\n      <td>-1.826705e-20</td>\n      <td>0.000013</td>\n      <td>5.0</td>\n      <td>1.688328e-20</td>\n      <td>0.000020</td>\n      <td>2.0</td>\n      <td>3.082082e-19</td>\n      <td>0.000009</td>\n    </tr>\n    <tr>\n      <th>68765</th>\n      <td>89916630019</td>\n      <td>0.0</td>\n      <td>7.068677e-01</td>\n      <td>0.088535</td>\n      <td>3.0</td>\n      <td>4.280913e-03</td>\n      <td>0.000011</td>\n      <td>3.0</td>\n      <td>4.280913e-03</td>\n      <td>0.000011</td>\n    </tr>\n    <tr>\n      <th>68766</th>\n      <td>53973861858</td>\n      <td>2.0</td>\n      <td>-9.707854e-21</td>\n      <td>0.000013</td>\n      <td>2.0</td>\n      <td>-1.491765e-19</td>\n      <td>0.000013</td>\n      <td>2.0</td>\n      <td>-2.614130e-19</td>\n      <td>0.000013</td>\n    </tr>\n    <tr>\n      <th>68767</th>\n      <td>37252749815</td>\n      <td>2.0</td>\n      <td>1.637436e-19</td>\n      <td>0.000013</td>\n      <td>2.0</td>\n      <td>6.033042e-19</td>\n      <td>0.000013</td>\n      <td>2.0</td>\n      <td>3.747365e-19</td>\n      <td>0.000013</td>\n    </tr>\n    <tr>\n      <th>68768</th>\n      <td>15474068128</td>\n      <td>2.0</td>\n      <td>-2.855636e-19</td>\n      <td>0.000010</td>\n      <td>4.0</td>\n      <td>2.822245e-19</td>\n      <td>0.000017</td>\n      <td>4.0</td>\n      <td>3.884220e-20</td>\n      <td>0.000017</td>\n    </tr>\n  </tbody>\n</table>\n<p>68769 rows × 10 columns</p>\n</div>"
     },
     "execution_count": 232,
     "metadata": {},
     "output_type": "execute_result"
    }
   ],
   "source": [
    "df_graph_features"
   ],
   "metadata": {
    "collapsed": false
   }
  },
  {
   "cell_type": "code",
   "execution_count": null,
   "outputs": [],
   "source": [],
   "metadata": {
    "collapsed": false
   }
  }
 ],
 "metadata": {
  "kernelspec": {
   "display_name": "Python 3",
   "language": "python",
   "name": "python3"
  },
  "language_info": {
   "codemirror_mode": {
    "name": "ipython",
    "version": 2
   },
   "file_extension": ".py",
   "mimetype": "text/x-python",
   "name": "python",
   "nbconvert_exporter": "python",
   "pygments_lexer": "ipython2",
   "version": "2.7.6"
  }
 },
 "nbformat": 4,
 "nbformat_minor": 0
}
