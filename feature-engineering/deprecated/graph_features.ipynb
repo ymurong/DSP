{
 "cells": [
  {
   "cell_type": "code",
   "execution_count": 86,
   "metadata": {
    "collapsed": true
   },
   "outputs": [
    {
     "name": "stdout",
     "output_type": "stream",
     "text": [
      "The autoreload extension is already loaded. To reload it, use:\n",
      "  %reload_ext autoreload\n"
     ]
    }
   ],
   "source": [
    "import pandas as pd\n",
    "import matplotlib.pyplot as plt\n",
    "from lib.mutation_util import date\n",
    "%load_ext autoreload\n",
    "%autoreload"
   ]
  },
  {
   "cell_type": "markdown",
   "source": [
    "## Preprocessing (time filtering)"
   ],
   "metadata": {
    "collapsed": false
   }
  },
  {
   "cell_type": "code",
   "execution_count": 87,
   "outputs": [],
   "source": [
    "start_date = \"2021-01-01\"\n",
    "end_date = \"2021-11-30\""
   ],
   "metadata": {
    "collapsed": false
   }
  },
  {
   "cell_type": "code",
   "execution_count": 88,
   "outputs": [],
   "source": [
    "df_ori = pd.read_csv('../adyen-dataset.csv')\n",
    "df_ori = df_ori.fillna(\"anonymous\")"
   ],
   "metadata": {
    "collapsed": false
   }
  },
  {
   "cell_type": "code",
   "execution_count": 89,
   "outputs": [],
   "source": [
    "df_ori[\"date\"] = df_ori.apply(date, axis=1)\n",
    "df_ori[\"date\"] = pd.to_datetime(df_ori[\"date\"])\n",
    "df_ori.set_index('date', inplace=True)\n",
    "df_ts = df_ori.sort_index()"
   ],
   "metadata": {
    "collapsed": false
   }
  },
  {
   "cell_type": "code",
   "execution_count": 91,
   "outputs": [],
   "source": [
    "df_ts = df_ts.loc[start_date:end_date]"
   ],
   "metadata": {
    "collapsed": false
   }
  },
  {
   "cell_type": "markdown",
   "source": [
    "## Prepare panda edges (to feed to networkx)"
   ],
   "metadata": {
    "collapsed": false
   }
  },
  {
   "cell_type": "code",
   "execution_count": 92,
   "outputs": [],
   "source": [
    "# point_in is ip address, point_out is card number\n",
    "edges1 = df_ts.groupby([\"ip_address\", \"card_number\"]).agg(total_transactions=('has_fraudulent_dispute', 'size'),\n",
    "                                                          total_fraud=('has_fraudulent_dispute', 'sum')).reset_index()\n",
    "edges1['type_in'] = 'ip'\n",
    "edges1['type_out'] = 'card'\n",
    "edges1.columns = [\"point_in\", \"point_out\", \"total_transactions\", \"total_fraud\", \"type_in\", \"type_out\"]"
   ],
   "metadata": {
    "collapsed": false
   }
  },
  {
   "cell_type": "code",
   "execution_count": 93,
   "outputs": [],
   "source": [
    "# point_in is ip address, point_out is email address\n",
    "edges2 = df_ts.groupby([\"ip_address\", \"email_address\"]).agg(total_transactions=('has_fraudulent_dispute', 'size'),\n",
    "                                                            total_fraud=(\n",
    "                                                                'has_fraudulent_dispute', 'sum')).reset_index()\n",
    "edges2['type_in'] = 'ip'\n",
    "edges2['type_out'] = 'email'\n",
    "edges2.columns = [\"point_in\", \"point_out\", \"total_transactions\", \"total_fraud\", \"type_in\", \"type_out\"]"
   ],
   "metadata": {
    "collapsed": false
   }
  },
  {
   "cell_type": "code",
   "execution_count": 94,
   "outputs": [],
   "source": [
    "edges3 = df_ts.groupby([\"email_address\", \"card_number\"]).agg(total_transactions=('has_fraudulent_dispute', 'size'),\n",
    "                                                             total_fraud=(\n",
    "                                                                 'has_fraudulent_dispute', 'sum')).reset_index()\n",
    "edges3['type_in'] = 'email'\n",
    "edges3['type_out'] = 'card'\n",
    "edges3.columns = [\"point_in\", \"point_out\", \"total_transactions\", \"total_fraud\", \"type_in\", \"type_out\"]"
   ],
   "metadata": {
    "collapsed": false
   }
  },
  {
   "cell_type": "code",
   "execution_count": 95,
   "outputs": [
    {
     "data": {
      "text/plain": "                     point_in               point_out  total_transactions  \\\n0      --2E0toluie1TqMY-oXrQg  GOgdL2ymYoPD99nIT1zbkA                   1   \n1      --2E0toluie1TqMY-oXrQg  vtGsRvD7aYpa-LJdW8sbyg                   8   \n2      --9d913qAzBiBpd-6ti42g  X5g4bKG_F-dcnOGT865zCQ                   1   \n3      --OIdZguyqMXZdR9uwsVaA  ueS8t6SJZdHCumx81V1lTA                   3   \n4      --Q1vMw3s-7ckmVzxYbtRA  -u5HCYQ71snACmFJ99FUKw                   2   \n...                       ...                     ...                 ...   \n60608  zzl9fCinW9CkKIZtaRIkAA  dvtzLaNWVVDgMVSrUUilBQ                   2   \n60609  zznixqMdaC80Mfrz9SgxRA  0Y5dHu16ZVyLhbBRarCbSA                   2   \n60610  zznixqMdaC80Mfrz9SgxRA  PQhIPrnsTy12h6AxnwH9fg                   1   \n60611  zzuPJQ385bLW-LfOxmkHDA  k19XpWxAkPdjX07LtKcWDw                   1   \n60612  zzuvV9D36Wci6LzXzKH9EQ  kpXqtMEPYf7yLHEyw2fYyA                   2   \n\n       total_fraud type_in type_out  \n0                1      ip     card  \n1                5      ip     card  \n2                0      ip     card  \n3                0      ip     card  \n4                0      ip     card  \n...            ...     ...      ...  \n60608            0   email     card  \n60609            0   email     card  \n60610            0   email     card  \n60611            0   email     card  \n60612            0   email     card  \n\n[211485 rows x 6 columns]",
      "text/html": "<div>\n<style scoped>\n    .dataframe tbody tr th:only-of-type {\n        vertical-align: middle;\n    }\n\n    .dataframe tbody tr th {\n        vertical-align: top;\n    }\n\n    .dataframe thead th {\n        text-align: right;\n    }\n</style>\n<table border=\"1\" class=\"dataframe\">\n  <thead>\n    <tr style=\"text-align: right;\">\n      <th></th>\n      <th>point_in</th>\n      <th>point_out</th>\n      <th>total_transactions</th>\n      <th>total_fraud</th>\n      <th>type_in</th>\n      <th>type_out</th>\n    </tr>\n  </thead>\n  <tbody>\n    <tr>\n      <th>0</th>\n      <td>--2E0toluie1TqMY-oXrQg</td>\n      <td>GOgdL2ymYoPD99nIT1zbkA</td>\n      <td>1</td>\n      <td>1</td>\n      <td>ip</td>\n      <td>card</td>\n    </tr>\n    <tr>\n      <th>1</th>\n      <td>--2E0toluie1TqMY-oXrQg</td>\n      <td>vtGsRvD7aYpa-LJdW8sbyg</td>\n      <td>8</td>\n      <td>5</td>\n      <td>ip</td>\n      <td>card</td>\n    </tr>\n    <tr>\n      <th>2</th>\n      <td>--9d913qAzBiBpd-6ti42g</td>\n      <td>X5g4bKG_F-dcnOGT865zCQ</td>\n      <td>1</td>\n      <td>0</td>\n      <td>ip</td>\n      <td>card</td>\n    </tr>\n    <tr>\n      <th>3</th>\n      <td>--OIdZguyqMXZdR9uwsVaA</td>\n      <td>ueS8t6SJZdHCumx81V1lTA</td>\n      <td>3</td>\n      <td>0</td>\n      <td>ip</td>\n      <td>card</td>\n    </tr>\n    <tr>\n      <th>4</th>\n      <td>--Q1vMw3s-7ckmVzxYbtRA</td>\n      <td>-u5HCYQ71snACmFJ99FUKw</td>\n      <td>2</td>\n      <td>0</td>\n      <td>ip</td>\n      <td>card</td>\n    </tr>\n    <tr>\n      <th>...</th>\n      <td>...</td>\n      <td>...</td>\n      <td>...</td>\n      <td>...</td>\n      <td>...</td>\n      <td>...</td>\n    </tr>\n    <tr>\n      <th>60608</th>\n      <td>zzl9fCinW9CkKIZtaRIkAA</td>\n      <td>dvtzLaNWVVDgMVSrUUilBQ</td>\n      <td>2</td>\n      <td>0</td>\n      <td>email</td>\n      <td>card</td>\n    </tr>\n    <tr>\n      <th>60609</th>\n      <td>zznixqMdaC80Mfrz9SgxRA</td>\n      <td>0Y5dHu16ZVyLhbBRarCbSA</td>\n      <td>2</td>\n      <td>0</td>\n      <td>email</td>\n      <td>card</td>\n    </tr>\n    <tr>\n      <th>60610</th>\n      <td>zznixqMdaC80Mfrz9SgxRA</td>\n      <td>PQhIPrnsTy12h6AxnwH9fg</td>\n      <td>1</td>\n      <td>0</td>\n      <td>email</td>\n      <td>card</td>\n    </tr>\n    <tr>\n      <th>60611</th>\n      <td>zzuPJQ385bLW-LfOxmkHDA</td>\n      <td>k19XpWxAkPdjX07LtKcWDw</td>\n      <td>1</td>\n      <td>0</td>\n      <td>email</td>\n      <td>card</td>\n    </tr>\n    <tr>\n      <th>60612</th>\n      <td>zzuvV9D36Wci6LzXzKH9EQ</td>\n      <td>kpXqtMEPYf7yLHEyw2fYyA</td>\n      <td>2</td>\n      <td>0</td>\n      <td>email</td>\n      <td>card</td>\n    </tr>\n  </tbody>\n</table>\n<p>211485 rows × 6 columns</p>\n</div>"
     },
     "execution_count": 95,
     "metadata": {},
     "output_type": "execute_result"
    }
   ],
   "source": [
    "df_edges = pd.concat([edges1, edges2, edges3], axis=0)\n",
    "df_edges = df_edges[df_edges['total_transactions'] > 0]\n",
    "df_edges"
   ],
   "metadata": {
    "collapsed": false
   }
  },
  {
   "cell_type": "markdown",
   "source": [
    "## Build graph"
   ],
   "metadata": {
    "collapsed": false
   }
  },
  {
   "cell_type": "code",
   "execution_count": 96,
   "outputs": [
    {
     "name": "stdout",
     "output_type": "stream",
     "text": [
      "number of nodes 142469\n",
      "number of edges 206074\n"
     ]
    }
   ],
   "source": [
    "import networkx as nx\n",
    "\n",
    "source = 'point_in'\n",
    "target = 'point_out'\n",
    "\n",
    "G = nx.from_pandas_edgelist(df_edges, source=source, target=target, edge_attr=['total_transactions'])\n",
    "print(f\"number of nodes {len(G.nodes)}\")\n",
    "print(f\"number of edges {len(G.edges)}\")"
   ],
   "metadata": {
    "collapsed": false
   }
  },
  {
   "cell_type": "code",
   "execution_count": 97,
   "outputs": [
    {
     "data": {
      "text/plain": "Text(0, 0.5, 'Frequency')"
     },
     "execution_count": 97,
     "metadata": {},
     "output_type": "execute_result"
    },
    {
     "data": {
      "text/plain": "<Figure size 500x500 with 1 Axes>",
      "image/png": "[encoded data removed]"
     },
     "metadata": {},
     "output_type": "display_data"
    }
   ],
   "source": [
    "m = 1\n",
    "degree_freq = nx.degree_histogram(G)\n",
    "degrees = range(len(degree_freq))\n",
    "plt.figure(figsize=(5, 5))\n",
    "plt.plot(degrees[m:10], degree_freq[m:10], 'go-')\n",
    "plt.xlabel('Degree')\n",
    "plt.ylabel('Frequency')"
   ],
   "metadata": {
    "collapsed": false
   }
  },
  {
   "cell_type": "markdown",
   "source": [
    "## Generate node degree feature\n",
    "##### anonymous node degree replaced by 0"
   ],
   "metadata": {
    "collapsed": false
   }
  },
  {
   "cell_type": "code",
   "execution_count": 98,
   "outputs": [],
   "source": [
    "graph_features_lookup_table = pd.DataFrame(dict(\n",
    "    DEGREE=dict(G.degree),\n",
    "    EIGENVECTOR_CENTRALITY=nx.eigenvector_centrality_numpy(G),\n",
    "    PAGE_RANK=nx.pagerank(G, alpha=0.9),\n",
    "    # CLOSENESS_CENTRALITY = nx.closeness_centrality(G),\n",
    "    # KATZ = nx.katz_centrality_numpy(G),\n",
    "    # BETWEENNESS_CENTRALITY = nx.betweenness_centrality(G),\n",
    "    # CLUSTCOEF = nx.clustering(G),\n",
    "))\n",
    "graph_features_lookup_table.index.name = \"Node\"\n",
    "graph_features_lookup_table.to_csv(f\"graph_features_lookup_table_{end_date}.csv\", index=True)"
   ],
   "metadata": {
    "collapsed": false
   }
  },
  {
   "cell_type": "code",
   "execution_count": 99,
   "outputs": [],
   "source": [
    "df_graph_features = df_ts.loc(axis=1)[\"psp_reference\", \"ip_address\", \"email_address\", \"card_number\"]\n",
    "df_graph_features.reset_index(drop=True, inplace=True)"
   ],
   "metadata": {
    "collapsed": false
   }
  },
  {
   "cell_type": "code",
   "execution_count": 100,
   "outputs": [],
   "source": [
    "def lookup_graph_features_by_node(lookup_table, node):\n",
    "    graph_features = lookup_table.loc(axis=0)[node]\n",
    "    degree = graph_features[\"DEGREE\"]\n",
    "    eigen_centrality = graph_features[\"EIGENVECTOR_CENTRALITY\"]\n",
    "    page_rank = graph_features[\"PAGE_RANK\"]\n",
    "    if degree > 1000:\n",
    "        degree = 0\n",
    "    return degree, eigen_centrality, page_rank\n",
    "\n",
    "\n",
    "def get_graph_features(row):\n",
    "    ip_address = row[1]\n",
    "    email_address = row[2]\n",
    "    card_number = row[3]\n",
    "    ip_address_features = lookup_graph_features_by_node(graph_features_lookup_table, ip_address)\n",
    "    email_address_features = lookup_graph_features_by_node(graph_features_lookup_table, email_address)\n",
    "    card_number_features = lookup_graph_features_by_node(graph_features_lookup_table, card_number)\n",
    "    return ip_address_features, email_address_features, card_number_features"
   ],
   "metadata": {
    "collapsed": false
   }
  },
  {
   "cell_type": "code",
   "execution_count": 101,
   "outputs": [],
   "source": [
    "df_graph_features[\"graph_features_tuple\"] = df_graph_features.apply(get_graph_features, axis=1)"
   ],
   "metadata": {
    "collapsed": false
   }
  },
  {
   "cell_type": "code",
   "execution_count": 102,
   "outputs": [],
   "source": [
    "df_graph_features[['ip_graph_features', 'email_graph_features', 'card_graph_features']] = pd.DataFrame(\n",
    "    df_graph_features['graph_features_tuple'].tolist(), index=df_graph_features.index)"
   ],
   "metadata": {
    "collapsed": false
   }
  },
  {
   "cell_type": "code",
   "execution_count": 103,
   "outputs": [],
   "source": [
    "df_graph_features[['ip_node_degree', 'ip_eigen_centrality', 'ip_page_rank']] = pd.DataFrame(\n",
    "    df_graph_features['ip_graph_features'].tolist(), index=df_graph_features.index)\n",
    "df_graph_features[['email_node_degree', 'email_eigen_centrality', 'email_page_rank']] = pd.DataFrame(\n",
    "    df_graph_features['email_graph_features'].tolist(), index=df_graph_features.index)\n",
    "df_graph_features[['card_node_degree', 'card_eigen_centrality', 'card_page_rank']] = pd.DataFrame(\n",
    "    df_graph_features['card_graph_features'].tolist(), index=df_graph_features.index)"
   ],
   "metadata": {
    "collapsed": false
   }
  },
  {
   "cell_type": "code",
   "execution_count": 104,
   "outputs": [],
   "source": [
    "df_graph_features.drop(\n",
    "    [\"ip_address\", \"email_address\", \"card_number\", \"graph_features_tuple\", \"ip_graph_features\", \"email_graph_features\",\n",
    "     \"card_graph_features\"], axis=1, inplace=True)"
   ],
   "metadata": {
    "collapsed": false
   }
  },
  {
   "cell_type": "code",
   "execution_count": 105,
   "outputs": [
    {
     "data": {
      "text/plain": "        psp_reference  ip_node_degree  ip_eigen_centrality  ip_page_rank  \\\n0         31441792706             2.0         1.073674e-19      0.000007   \n1         56840734687             2.0        -5.874083e-19      0.000005   \n2         50841350701             4.0         3.184363e-03      0.000008   \n3         81202637637             2.0        -5.664253e-19      0.000007   \n4         76149360397             2.0         2.855703e-05      0.000005   \n...               ...             ...                  ...           ...   \n127045    61422715805             0.0         7.069276e-01      0.094519   \n127046    62714194430             3.0         2.862540e-05      0.000006   \n127047    77364072877             2.0        -1.898964e-19      0.000005   \n127048    58757695028             2.0         2.170573e-19      0.000007   \n127049    28193502325             0.0         7.069276e-01      0.094519   \n\n        email_node_degree  email_eigen_centrality  email_page_rank  \\\n0                     2.0           -5.868666e-19         0.000007   \n1                     3.0            9.492551e-19         0.000009   \n2                     6.0            2.868798e-05         0.000013   \n3                     2.0            1.385103e-20         0.000007   \n4                     3.0            3.184298e-03         0.000006   \n...                   ...                     ...              ...   \n127045                2.0            3.184169e-03         0.000004   \n127046                2.0            1.440889e-05         0.000004   \n127047                3.0           -4.003480e-19         0.000009   \n127048                2.0           -5.845331e-19         0.000007   \n127049                3.0            3.184298e-03         0.000006   \n\n        card_node_degree  card_eigen_centrality  card_page_rank  \n0                    2.0           7.124332e-20        0.000007  \n1                    3.0           2.177341e-20        0.000009  \n2                    4.0           3.184363e-03        0.000008  \n3                    2.0          -3.899287e-19        0.000007  \n4                    3.0           3.184298e-03        0.000006  \n...                  ...                    ...             ...  \n127045               2.0           3.184169e-03        0.000004  \n127046               7.0           3.184748e-03        0.000014  \n127047               3.0           7.563610e-20        0.000009  \n127048               2.0          -5.047551e-20        0.000007  \n127049               3.0           3.184298e-03        0.000006  \n\n[127050 rows x 10 columns]",
      "text/html": "<div>\n<style scoped>\n    .dataframe tbody tr th:only-of-type {\n        vertical-align: middle;\n    }\n\n    .dataframe tbody tr th {\n        vertical-align: top;\n    }\n\n    .dataframe thead th {\n        text-align: right;\n    }\n</style>\n<table border=\"1\" class=\"dataframe\">\n  <thead>\n    <tr style=\"text-align: right;\">\n      <th></th>\n      <th>psp_reference</th>\n      <th>ip_node_degree</th>\n      <th>ip_eigen_centrality</th>\n      <th>ip_page_rank</th>\n      <th>email_node_degree</th>\n      <th>email_eigen_centrality</th>\n      <th>email_page_rank</th>\n      <th>card_node_degree</th>\n      <th>card_eigen_centrality</th>\n      <th>card_page_rank</th>\n    </tr>\n  </thead>\n  <tbody>\n    <tr>\n      <th>0</th>\n      <td>31441792706</td>\n      <td>2.0</td>\n      <td>1.073674e-19</td>\n      <td>0.000007</td>\n      <td>2.0</td>\n      <td>-5.868666e-19</td>\n      <td>0.000007</td>\n      <td>2.0</td>\n      <td>7.124332e-20</td>\n      <td>0.000007</td>\n    </tr>\n    <tr>\n      <th>1</th>\n      <td>56840734687</td>\n      <td>2.0</td>\n      <td>-5.874083e-19</td>\n      <td>0.000005</td>\n      <td>3.0</td>\n      <td>9.492551e-19</td>\n      <td>0.000009</td>\n      <td>3.0</td>\n      <td>2.177341e-20</td>\n      <td>0.000009</td>\n    </tr>\n    <tr>\n      <th>2</th>\n      <td>50841350701</td>\n      <td>4.0</td>\n      <td>3.184363e-03</td>\n      <td>0.000008</td>\n      <td>6.0</td>\n      <td>2.868798e-05</td>\n      <td>0.000013</td>\n      <td>4.0</td>\n      <td>3.184363e-03</td>\n      <td>0.000008</td>\n    </tr>\n    <tr>\n      <th>3</th>\n      <td>81202637637</td>\n      <td>2.0</td>\n      <td>-5.664253e-19</td>\n      <td>0.000007</td>\n      <td>2.0</td>\n      <td>1.385103e-20</td>\n      <td>0.000007</td>\n      <td>2.0</td>\n      <td>-3.899287e-19</td>\n      <td>0.000007</td>\n    </tr>\n    <tr>\n      <th>4</th>\n      <td>76149360397</td>\n      <td>2.0</td>\n      <td>2.855703e-05</td>\n      <td>0.000005</td>\n      <td>3.0</td>\n      <td>3.184298e-03</td>\n      <td>0.000006</td>\n      <td>3.0</td>\n      <td>3.184298e-03</td>\n      <td>0.000006</td>\n    </tr>\n    <tr>\n      <th>...</th>\n      <td>...</td>\n      <td>...</td>\n      <td>...</td>\n      <td>...</td>\n      <td>...</td>\n      <td>...</td>\n      <td>...</td>\n      <td>...</td>\n      <td>...</td>\n      <td>...</td>\n    </tr>\n    <tr>\n      <th>127045</th>\n      <td>61422715805</td>\n      <td>0.0</td>\n      <td>7.069276e-01</td>\n      <td>0.094519</td>\n      <td>2.0</td>\n      <td>3.184169e-03</td>\n      <td>0.000004</td>\n      <td>2.0</td>\n      <td>3.184169e-03</td>\n      <td>0.000004</td>\n    </tr>\n    <tr>\n      <th>127046</th>\n      <td>62714194430</td>\n      <td>3.0</td>\n      <td>2.862540e-05</td>\n      <td>0.000006</td>\n      <td>2.0</td>\n      <td>1.440889e-05</td>\n      <td>0.000004</td>\n      <td>7.0</td>\n      <td>3.184748e-03</td>\n      <td>0.000014</td>\n    </tr>\n    <tr>\n      <th>127047</th>\n      <td>77364072877</td>\n      <td>2.0</td>\n      <td>-1.898964e-19</td>\n      <td>0.000005</td>\n      <td>3.0</td>\n      <td>-4.003480e-19</td>\n      <td>0.000009</td>\n      <td>3.0</td>\n      <td>7.563610e-20</td>\n      <td>0.000009</td>\n    </tr>\n    <tr>\n      <th>127048</th>\n      <td>58757695028</td>\n      <td>2.0</td>\n      <td>2.170573e-19</td>\n      <td>0.000007</td>\n      <td>2.0</td>\n      <td>-5.845331e-19</td>\n      <td>0.000007</td>\n      <td>2.0</td>\n      <td>-5.047551e-20</td>\n      <td>0.000007</td>\n    </tr>\n    <tr>\n      <th>127049</th>\n      <td>28193502325</td>\n      <td>0.0</td>\n      <td>7.069276e-01</td>\n      <td>0.094519</td>\n      <td>3.0</td>\n      <td>3.184298e-03</td>\n      <td>0.000006</td>\n      <td>3.0</td>\n      <td>3.184298e-03</td>\n      <td>0.000006</td>\n    </tr>\n  </tbody>\n</table>\n<p>127050 rows × 10 columns</p>\n</div>"
     },
     "execution_count": 105,
     "metadata": {},
     "output_type": "execute_result"
    }
   ],
   "source": [
    "df_graph_features"
   ],
   "metadata": {
    "collapsed": false
   }
  },
  {
   "cell_type": "code",
   "execution_count": 106,
   "outputs": [],
   "source": [
    "df_graph_features.to_csv(f\"graph_features_{end_date}.csv\", index=False)"
   ],
   "metadata": {
    "collapsed": false
   }
  },
  {
   "cell_type": "code",
   "execution_count": 129,
   "outputs": [],
   "source": [
    "import networkx as nx\n",
    "G = nx.Graph()\n",
    "G.add_node(1)\n",
    "G.add_node(2)\n",
    "G.add_node(3)\n",
    "G.add_edge(1,2,weight=1)\n",
    "G.add_edge(2,3,weight=1)\n",
    "G.add_edge(1,3,weight=1)"
   ],
   "metadata": {
    "collapsed": false
   }
  },
  {
   "cell_type": "code",
   "execution_count": 130,
   "outputs": [
    {
     "data": {
      "text/plain": "{1: 2, 2: 2, 3: 2}"
     },
     "execution_count": 130,
     "metadata": {},
     "output_type": "execute_result"
    }
   ],
   "source": [
    "dict(G.degree)"
   ],
   "metadata": {
    "collapsed": false
   }
  },
  {
   "cell_type": "code",
   "execution_count": 131,
   "outputs": [
    {
     "data": {
      "text/plain": "{1: 0.3333333333333333, 2: 0.3333333333333333, 3: 0.3333333333333333}"
     },
     "execution_count": 131,
     "metadata": {},
     "output_type": "execute_result"
    }
   ],
   "source": [
    "nx.pagerank(G)"
   ],
   "metadata": {
    "collapsed": false
   }
  },
  {
   "cell_type": "code",
   "execution_count": 132,
   "outputs": [
    {
     "data": {
      "text/plain": "{1: 0.5773502691896258, 2: 0.5773502691896258, 3: 0.5773502691896258}"
     },
     "execution_count": 132,
     "metadata": {},
     "output_type": "execute_result"
    }
   ],
   "source": [
    "nx.eigenvector_centrality(G)\n"
   ],
   "metadata": {
    "collapsed": false
   }
  },
  {
   "cell_type": "code",
   "execution_count": 132,
   "outputs": [],
   "source": [],
   "metadata": {
    "collapsed": false
   }
  }
 ],
 "metadata": {
  "kernelspec": {
   "display_name": "Python 3",
   "language": "python",
   "name": "python3"
  },
  "language_info": {
   "codemirror_mode": {
    "name": "ipython",
    "version": 2
   },
   "file_extension": ".py",
   "mimetype": "text/x-python",
   "name": "python",
   "nbconvert_exporter": "python",
   "pygments_lexer": "ipython2",
   "version": "2.7.6"
  }
 },
 "nbformat": 4,
 "nbformat_minor": 0
}
