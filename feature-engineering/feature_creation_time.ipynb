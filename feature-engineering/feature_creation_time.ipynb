{
 "cells": [
  {
   "cell_type": "code",
   "execution_count": 1,
   "metadata": {},
   "outputs": [
    {
     "name": "stdout",
     "output_type": "stream",
     "text": [
      "INFO: Pandarallel will run on 8 workers.\n",
      "INFO: Pandarallel will use standard multiprocessing data transfer (pipe) to transfer data between the main process and workers.\n",
      "\n",
      "WARNING: You are on Windows. If you detect any issue with pandarallel, be sure you checked out the Troubleshooting page:\n",
      "https://nalepae.github.io/pandarallel/troubleshooting/\n"
     ]
    },
    {
     "data": {
      "application/vnd.jupyter.widget-view+json": {
       "model_id": "838ef049a2d7417f82fa3b4e2611330a",
       "version_major": 2,
       "version_minor": 0
      },
      "text/plain": [
       "VBox(children=(HBox(children=(IntProgress(value=0, description='0.00%', max=17338), Label(value='0 / 17338')))…"
      ]
     },
     "metadata": {},
     "output_type": "display_data"
    },
    {
     "data": {
      "application/vnd.jupyter.widget-view+json": {
       "model_id": "349f9cb96d7f40eebcdcda8fc09062f5",
       "version_major": 2,
       "version_minor": 0
      },
      "text/plain": [
       "VBox(children=(HBox(children=(IntProgress(value=0, description='0.00%', max=17338), Label(value='0 / 17338')))…"
      ]
     },
     "metadata": {},
     "output_type": "display_data"
    },
    {
     "ename": "ZeroDivisionError",
     "evalue": "float division by zero",
     "output_type": "error",
     "traceback": [
      "\u001b[1;31m---------------------------------------------------------------------------\u001b[0m",
      "\u001b[1;31mRemoteTraceback\u001b[0m                           Traceback (most recent call last)",
      "\u001b[1;31mRemoteTraceback\u001b[0m: \n\"\"\"\nTraceback (most recent call last):\n  File \"c:\\Users\\aguil\\AppData\\Local\\Programs\\Python\\Python310\\lib\\multiprocessing\\pool.py\", line 125, in worker\n    result = (True, func(*args, **kwds))\n  File \"c:\\Users\\aguil\\AppData\\Local\\Programs\\Python\\Python310\\lib\\multiprocessing\\pool.py\", line 51, in starmapstar\n    return list(itertools.starmap(args[0], args[1]))\n  File \"c:\\Users\\aguil\\AppData\\Local\\Programs\\Python\\Python310\\lib\\site-packages\\pandarallel\\core.py\", line 158, in __call__\n    results = self.work_function(\n  File \"c:\\Users\\aguil\\AppData\\Local\\Programs\\Python\\Python310\\lib\\site-packages\\pandarallel\\data_types\\series.py\", line 26, in work\n    return data.apply(\n  File \"c:\\Users\\aguil\\AppData\\Local\\Programs\\Python\\Python310\\lib\\site-packages\\pandas\\core\\series.py\", line 4357, in apply\n    return SeriesApply(self, func, convert_dtype, args, kwargs).apply()\n  File \"c:\\Users\\aguil\\AppData\\Local\\Programs\\Python\\Python310\\lib\\site-packages\\pandas\\core\\apply.py\", line 1043, in apply\n    return self.apply_standard()\n  File \"c:\\Users\\aguil\\AppData\\Local\\Programs\\Python\\Python310\\lib\\site-packages\\pandas\\core\\apply.py\", line 1098, in apply_standard\n    mapped = lib.map_infer(\n  File \"pandas\\_libs\\lib.pyx\", line 2859, in pandas._libs.lib.map_infer\n  File \"c:\\Users\\aguil\\AppData\\Local\\Programs\\Python\\Python310\\lib\\site-packages\\pandarallel\\progress_bars.py\", line 206, in closure\n    state.next_put_iteration += max(int((delta_i / delta_t) * 0.25), 1)\nZeroDivisionError: float division by zero\n\"\"\"",
      "\nThe above exception was the direct cause of the following exception:\n",
      "\u001b[1;31mZeroDivisionError\u001b[0m                         Traceback (most recent call last)",
      "Cell \u001b[1;32mIn [1], line 14\u001b[0m\n\u001b[0;32m     12\u001b[0m df_baseline_features[\u001b[39m\"\u001b[39m\u001b[39mtx_datetime\u001b[39m\u001b[39m\"\u001b[39m] \u001b[39m=\u001b[39m df_ori\u001b[39m.\u001b[39mparallel_apply(get_tx_datetime, axis\u001b[39m=\u001b[39m\u001b[39m1\u001b[39m)  \u001b[39m# for each row of df\u001b[39;00m\n\u001b[0;32m     13\u001b[0m df_baseline_features[\u001b[39m\"\u001b[39m\u001b[39mtx_datetime\u001b[39m\u001b[39m\"\u001b[39m] \u001b[39m=\u001b[39m pd\u001b[39m.\u001b[39mto_datetime(df_baseline_features[\u001b[39m\"\u001b[39m\u001b[39mtx_datetime\u001b[39m\u001b[39m\"\u001b[39m])\n\u001b[1;32m---> 14\u001b[0m df_baseline_features[\u001b[39m\"\u001b[39m\u001b[39mis_night\u001b[39m\u001b[39m\"\u001b[39m] \u001b[39m=\u001b[39m df_baseline_features\u001b[39m.\u001b[39;49mtx_datetime\u001b[39m.\u001b[39;49mparallel_apply(\n\u001b[0;32m     15\u001b[0m     is_night)  \u001b[39m# series.apply for each cell\u001b[39;00m\n\u001b[0;32m     16\u001b[0m df_baseline_features[\u001b[39m\"\u001b[39m\u001b[39mis_weekend\u001b[39m\u001b[39m\"\u001b[39m] \u001b[39m=\u001b[39m df_baseline_features\u001b[39m.\u001b[39mtx_datetime\u001b[39m.\u001b[39mparallel_apply(is_weekend)\n\u001b[0;32m     17\u001b[0m df_baseline_features \u001b[39m=\u001b[39m df_baseline_features\u001b[39m.\u001b[39mgroupby(\u001b[39m'\u001b[39m\u001b[39mcard_number\u001b[39m\u001b[39m'\u001b[39m)\u001b[39m.\u001b[39mparallel_apply(\n\u001b[0;32m     18\u001b[0m     \u001b[39mlambda\u001b[39;00m x: get_card_spending_behaviour_features(x, windows_size_in_days\u001b[39m=\u001b[39m[\u001b[39m1\u001b[39m, \u001b[39m7\u001b[39m, \u001b[39m30\u001b[39m]))\n",
      "File \u001b[1;32mc:\\Users\\aguil\\AppData\\Local\\Programs\\Python\\Python310\\lib\\site-packages\\pandarallel\\core.py:433\u001b[0m, in \u001b[0;36mparallelize_with_pipe.<locals>.closure\u001b[1;34m(data, user_defined_function, *user_defined_function_args, **user_defined_function_kwargs)\u001b[0m\n\u001b[0;32m    430\u001b[0m     \u001b[39melif\u001b[39;00m worker_status \u001b[39m==\u001b[39m WorkerStatus\u001b[39m.\u001b[39mError:\n\u001b[0;32m    431\u001b[0m         progress_bars\u001b[39m.\u001b[39mset_error(worker_index)\n\u001b[1;32m--> 433\u001b[0m results \u001b[39m=\u001b[39m results_promise\u001b[39m.\u001b[39;49mget()\n\u001b[0;32m    435\u001b[0m \u001b[39mreturn\u001b[39;00m data_type\u001b[39m.\u001b[39mreduce(results, reduce_extra)\n",
      "File \u001b[1;32mc:\\Users\\aguil\\AppData\\Local\\Programs\\Python\\Python310\\lib\\multiprocessing\\pool.py:771\u001b[0m, in \u001b[0;36mApplyResult.get\u001b[1;34m(self, timeout)\u001b[0m\n\u001b[0;32m    769\u001b[0m     \u001b[39mreturn\u001b[39;00m \u001b[39mself\u001b[39m\u001b[39m.\u001b[39m_value\n\u001b[0;32m    770\u001b[0m \u001b[39melse\u001b[39;00m:\n\u001b[1;32m--> 771\u001b[0m     \u001b[39mraise\u001b[39;00m \u001b[39mself\u001b[39m\u001b[39m.\u001b[39m_value\n",
      "\u001b[1;31mZeroDivisionError\u001b[0m: float division by zero"
     ]
    }
   ],
   "source": [
    "import pandas as pd\n",
    "from pandarallel import pandarallel\n",
    "pandarallel.initialize(progress_bar=True)\n",
    "from lib.mutation_util import get_tx_datetime, is_night, is_weekend, get_card_spending_behaviour_features, \\\n",
    "    get_count_risk_rolling_window, get_diff_tx_time, is_diff_previous\n",
    "\n",
    "df_ori = pd.read_csv('../adyen-dataset.csv')\n",
    "\n",
    "\n",
    "df_baseline_features = df_ori.copy()[\n",
    "    [\"psp_reference\", \"eur_amount\", \"card_number\", \"email_address\", \"ip_address\", \"ip_country\",\"zip_code\",\"has_fraudulent_dispute\"]]\n",
    "df_baseline_features[\"tx_datetime\"] = df_ori.parallel_apply(get_tx_datetime, axis=1)  # for each row of df\n",
    "df_baseline_features[\"tx_datetime\"] = pd.to_datetime(df_baseline_features[\"tx_datetime\"])\n",
    "df_baseline_features[\"is_night\"] = df_baseline_features.tx_datetime.parallel_apply(\n",
    "    is_night)  # series.apply for each cell\n",
    "df_baseline_features[\"is_weekend\"] = df_baseline_features.tx_datetime.parallel_apply(is_weekend)\n",
    "df_baseline_features = df_baseline_features.groupby('card_number').parallel_apply(\n",
    "    lambda x: get_card_spending_behaviour_features(x, windows_size_in_days=[1, 7, 30]))\n",
    "df_baseline_features = df_baseline_features.sort_values('tx_datetime').reset_index(drop=True)\n",
    "df_baseline_features = df_baseline_features.groupby('email_address', dropna=False).parallel_apply(\n",
    "    lambda x: get_count_risk_rolling_window(x, feature=\"email_address\", delay_period=7,\n",
    "                                            windows_size_in_days=[1, 7, 30]))\n",
    "df_baseline_features = df_baseline_features.sort_values('tx_datetime').reset_index(drop=True)\n",
    "df_baseline_features = df_baseline_features.groupby('ip_address', dropna=False).parallel_apply(\n",
    "    lambda x: get_count_risk_rolling_window(x, feature=\"ip_address\", delay_period=7, windows_size_in_days=[1, 7, 30]))\n",
    "df_baseline_features = df_baseline_features.sort_values('tx_datetime').reset_index(drop=True)\n",
    "df_baseline_features = df_baseline_features.groupby('card_number').parallel_apply(lambda x: get_diff_tx_time(x))\n",
    "df_baseline_features = df_baseline_features.sort_values('tx_datetime').reset_index(drop=True)\n",
    "df_baseline_features = df_baseline_features.groupby('card_number').parallel_apply(lambda x: is_diff_previous(x, feature=\"ip_country\"))\n",
    "df_baseline_features = df_baseline_features.sort_values('tx_datetime').reset_index(drop=True)\n",
    "df_baseline_features = df_baseline_features.groupby('card_number').parallel_apply(lambda x: is_diff_previous(x, feature=\"zip_code\"))\n",
    "df_baseline_features = df_baseline_features.sort_values('tx_datetime').reset_index(drop=True)"
   ]
  }
 ],
 "metadata": {
  "kernelspec": {
   "display_name": "Python 3",
   "language": "python",
   "name": "python3"
  },
  "language_info": {
   "codemirror_mode": {
    "name": "ipython",
    "version": 3
   },
   "file_extension": ".py",
   "mimetype": "text/x-python",
   "name": "python",
   "nbconvert_exporter": "python",
   "pygments_lexer": "ipython3",
   "version": "3.10.1"
  },
  "orig_nbformat": 4,
  "vscode": {
   "interpreter": {
    "hash": "51c3db15a58bb6b96242ddaff4ad63f4f5eb2d0c84d8d9f819c5fc1b78c7e915"
   }
  }
 },
 "nbformat": 4,
 "nbformat_minor": 2
}
