{
 "cells": [
  {
   "cell_type": "code",
   "execution_count": 16,
   "metadata": {
    "collapsed": true
   },
   "outputs": [],
   "source": [
    "import pandas as pd"
   ]
  },
  {
   "cell_type": "code",
   "execution_count": 26,
   "outputs": [],
   "source": [
    "df_ori = pd.read_csv('../adyen-dataset.csv')\n",
    "df_category = df_ori.loc(axis=1)[[\"psp_reference\",\"is_credit\",\"has_fraudulent_dispute\",\"is_refused_by_adyen\"]]\n",
    "df_graph_features = pd.read_csv('./graph_features.csv')\n",
    "df_woe_features = pd.read_csv('./woe_features.csv')"
   ],
   "metadata": {
    "collapsed": false
   }
  },
  {
   "cell_type": "code",
   "execution_count": 27,
   "outputs": [],
   "source": [
    "df_features = df_category.merge(df_graph_features,on=\"psp_reference\")\n",
    "df_features = df_features.merge(df_woe_features,on=\"psp_reference\")"
   ],
   "metadata": {
    "collapsed": false
   }
  },
  {
   "cell_type": "code",
   "execution_count": 28,
   "outputs": [
    {
     "data": {
      "text/plain": "   psp_reference  is_credit  has_fraudulent_dispute  is_refused_by_adyen  \\\n0    25784401111      False                   False                 True   \n1    58425890431      False                   False                 True   \n2    48607651692       True                   False                False   \n3    87548570452       True                   False                False   \n4    86767652804      False                   False                False   \n\n   ip_node_degree  ip_eigen_centrality  ip_page_rank  email_node_degree  \\\n0             2.0         4.544850e-19      0.000010                3.0   \n1             3.0         4.306681e-03      0.000010                0.0   \n2             2.0         1.320996e-19      0.000013                2.0   \n3             2.0         3.939765e-19      0.000011                4.0   \n4             3.0         4.306685e-03      0.000010                4.0   \n\n   email_eigen_centrality  email_page_rank  card_node_degree  \\\n0            4.846546e-21         0.000015               3.0   \n1            7.068677e-01         0.088535               3.0   \n2            2.176628e-20         0.000013               2.0   \n3            2.909027e-19         0.000020               2.0   \n4            4.306995e-03         0.000014               4.0   \n\n   card_eigen_centrality  card_page_rank  ip_address_woe  email_address_woe  \\\n0           3.667212e-19        0.000015        0.534094           0.400563   \n1           4.306681e-03        0.000010        0.688245          -0.054751   \n2           3.193582e-19        0.000013        1.093710           1.093710   \n3           7.728673e-19        0.000011        0.870566           0.688245   \n4           4.306995e-03        0.000014        0.177419          -0.084945   \n\n   card_number_woe  \n0         0.400563  \n1         0.534094  \n2         1.093710  \n3         0.870566  \n4        -0.159053  ",
      "text/html": "<div>\n<style scoped>\n    .dataframe tbody tr th:only-of-type {\n        vertical-align: middle;\n    }\n\n    .dataframe tbody tr th {\n        vertical-align: top;\n    }\n\n    .dataframe thead th {\n        text-align: right;\n    }\n</style>\n<table border=\"1\" class=\"dataframe\">\n  <thead>\n    <tr style=\"text-align: right;\">\n      <th></th>\n      <th>psp_reference</th>\n      <th>is_credit</th>\n      <th>has_fraudulent_dispute</th>\n      <th>is_refused_by_adyen</th>\n      <th>ip_node_degree</th>\n      <th>ip_eigen_centrality</th>\n      <th>ip_page_rank</th>\n      <th>email_node_degree</th>\n      <th>email_eigen_centrality</th>\n      <th>email_page_rank</th>\n      <th>card_node_degree</th>\n      <th>card_eigen_centrality</th>\n      <th>card_page_rank</th>\n      <th>ip_address_woe</th>\n      <th>email_address_woe</th>\n      <th>card_number_woe</th>\n    </tr>\n  </thead>\n  <tbody>\n    <tr>\n      <th>0</th>\n      <td>25784401111</td>\n      <td>False</td>\n      <td>False</td>\n      <td>True</td>\n      <td>2.0</td>\n      <td>4.544850e-19</td>\n      <td>0.000010</td>\n      <td>3.0</td>\n      <td>4.846546e-21</td>\n      <td>0.000015</td>\n      <td>3.0</td>\n      <td>3.667212e-19</td>\n      <td>0.000015</td>\n      <td>0.534094</td>\n      <td>0.400563</td>\n      <td>0.400563</td>\n    </tr>\n    <tr>\n      <th>1</th>\n      <td>58425890431</td>\n      <td>False</td>\n      <td>False</td>\n      <td>True</td>\n      <td>3.0</td>\n      <td>4.306681e-03</td>\n      <td>0.000010</td>\n      <td>0.0</td>\n      <td>7.068677e-01</td>\n      <td>0.088535</td>\n      <td>3.0</td>\n      <td>4.306681e-03</td>\n      <td>0.000010</td>\n      <td>0.688245</td>\n      <td>-0.054751</td>\n      <td>0.534094</td>\n    </tr>\n    <tr>\n      <th>2</th>\n      <td>48607651692</td>\n      <td>True</td>\n      <td>False</td>\n      <td>False</td>\n      <td>2.0</td>\n      <td>1.320996e-19</td>\n      <td>0.000013</td>\n      <td>2.0</td>\n      <td>2.176628e-20</td>\n      <td>0.000013</td>\n      <td>2.0</td>\n      <td>3.193582e-19</td>\n      <td>0.000013</td>\n      <td>1.093710</td>\n      <td>1.093710</td>\n      <td>1.093710</td>\n    </tr>\n    <tr>\n      <th>3</th>\n      <td>87548570452</td>\n      <td>True</td>\n      <td>False</td>\n      <td>False</td>\n      <td>2.0</td>\n      <td>3.939765e-19</td>\n      <td>0.000011</td>\n      <td>4.0</td>\n      <td>2.909027e-19</td>\n      <td>0.000020</td>\n      <td>2.0</td>\n      <td>7.728673e-19</td>\n      <td>0.000011</td>\n      <td>0.870566</td>\n      <td>0.688245</td>\n      <td>0.870566</td>\n    </tr>\n    <tr>\n      <th>4</th>\n      <td>86767652804</td>\n      <td>False</td>\n      <td>False</td>\n      <td>False</td>\n      <td>3.0</td>\n      <td>4.306685e-03</td>\n      <td>0.000010</td>\n      <td>4.0</td>\n      <td>4.306995e-03</td>\n      <td>0.000014</td>\n      <td>4.0</td>\n      <td>4.306995e-03</td>\n      <td>0.000014</td>\n      <td>0.177419</td>\n      <td>-0.084945</td>\n      <td>-0.159053</td>\n    </tr>\n  </tbody>\n</table>\n</div>"
     },
     "execution_count": 28,
     "metadata": {},
     "output_type": "execute_result"
    }
   ],
   "source": [
    "df_features.head()"
   ],
   "metadata": {
    "collapsed": false
   }
  },
  {
   "cell_type": "code",
   "execution_count": 19,
   "outputs": [],
   "source": [],
   "metadata": {
    "collapsed": false
   }
  }
 ],
 "metadata": {
  "kernelspec": {
   "display_name": "Python 3",
   "language": "python",
   "name": "python3"
  },
  "language_info": {
   "codemirror_mode": {
    "name": "ipython",
    "version": 2
   },
   "file_extension": ".py",
   "mimetype": "text/x-python",
   "name": "python",
   "nbconvert_exporter": "python",
   "pygments_lexer": "ipython2",
   "version": "2.7.6"
  }
 },
 "nbformat": 4,
 "nbformat_minor": 0
}
