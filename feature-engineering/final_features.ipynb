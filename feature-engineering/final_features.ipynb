{
 "cells": [
  {
   "cell_type": "code",
   "execution_count": 35,
   "metadata": {
    "collapsed": true
   },
   "outputs": [],
   "source": [
    "import pandas as pd\n",
    "from lib.mutation_util import date\n",
    "%load_ext autoreload\n",
    "%autoreload"
   ]
  },
  {
   "cell_type": "code",
   "execution_count": 58,
   "outputs": [],
   "source": [
    "start_date = \"2021-01-01\"\n",
    "end_date = \"2021-11-30\""
   ],
   "metadata": {
    "collapsed": false
   }
  },
  {
   "cell_type": "code",
   "execution_count": 65,
   "outputs": [],
   "source": [
    "df_ori = pd.read_csv('../adyen-dataset.csv')\n",
    "df_ori[\"date\"] = df_ori.apply(date, axis=1)\n",
    "df_ori[\"date\"] = pd.to_datetime(df_ori[\"date\"])\n",
    "df_ori.set_index('date', inplace=True)\n",
    "df_ts = df_ori.sort_index()\n",
    "df_ts = df_ts.loc[start_date:end_date]\n",
    "df_ts.reset_index(inplace=True)\n",
    "df_init = df_ts.loc(axis=1)[[\"psp_reference\",\"date\",\"has_fraudulent_dispute\",\"is_refused_by_adyen\"]]\n",
    "df_graph_features = pd.read_csv(f\"./graph_features_{end_date}.csv\")\n",
    "df_woe_features = pd.read_csv(f\"./woe_features_{end_date}.csv\")[[\"psp_reference\",\"ip_address_woe\",\"email_address_woe\",\"card_number_woe\"]]\n",
    "df_categorical_dummy_features = pd.read_csv(f\"./categorical_dummies_features.csv\")"
   ],
   "metadata": {
    "collapsed": false
   }
  },
  {
   "cell_type": "code",
   "execution_count": 66,
   "outputs": [],
   "source": [
    "df_features = df_init.merge(df_categorical_dummy_features,on=\"psp_reference\")\n",
    "df_features = df_features.merge(df_graph_features,on=\"psp_reference\")\n",
    "df_features = df_features.merge(df_woe_features,on=\"psp_reference\")"
   ],
   "metadata": {
    "collapsed": false
   }
  },
  {
   "cell_type": "code",
   "execution_count": 67,
   "outputs": [
    {
     "data": {
      "text/plain": "        psp_reference       date  has_fraudulent_dispute  is_refused_by_adyen  \\\n0         31441792706 2021-01-01                   False                False   \n1         56840734687 2021-01-01                   False                False   \n2         50841350701 2021-01-01                    True                False   \n3         81202637637 2021-01-01                   False                False   \n4         76149360397 2021-01-01                   False                False   \n...               ...        ...                     ...                  ...   \n127045    61422715805 2021-11-30                   False                False   \n127046    62714194430 2021-11-30                   False                False   \n127047    77364072877 2021-11-30                   False                False   \n127048    58757695028 2021-11-30                   False                False   \n127049    28193502325 2021-11-30                   False                False   \n\n        is_credit  no_ip  no_email  same_country  merchant_Merchant B  \\\n0            True  False     False          True                    0   \n1            True  False     False          True                    0   \n2            True  False     False         False                    0   \n3            True  False     False          True                    1   \n4           False  False     False          True                    0   \n...           ...    ...       ...           ...                  ...   \n127045      False   True     False          True                    0   \n127046       True  False     False          True                    1   \n127047       True  False     False          True                    1   \n127048       True  False     False          True                    0   \n127049      False   True     False          True                    0   \n\n        merchant_Merchant C  ...  ip_page_rank  email_node_degree  \\\n0                         0  ...      0.000007                2.0   \n1                         0  ...      0.000005                3.0   \n2                         0  ...      0.000008                6.0   \n3                         0  ...      0.000007                2.0   \n4                         0  ...      0.000005                3.0   \n...                     ...  ...           ...                ...   \n127045                    0  ...      0.094519                2.0   \n127046                    0  ...      0.000006                2.0   \n127047                    0  ...      0.000005                3.0   \n127048                    0  ...      0.000007                2.0   \n127049                    0  ...      0.094519                3.0   \n\n        email_eigen_centrality  email_page_rank  card_node_degree  \\\n0                -5.868666e-19         0.000007               2.0   \n1                 9.492551e-19         0.000009               3.0   \n2                 2.868798e-05         0.000013               4.0   \n3                 1.385103e-20         0.000007               2.0   \n4                 3.184298e-03         0.000006               3.0   \n...                        ...              ...               ...   \n127045            3.184169e-03         0.000004               2.0   \n127046            1.440889e-05         0.000004               7.0   \n127047           -4.003480e-19         0.000009               3.0   \n127048           -5.845331e-19         0.000007               2.0   \n127049            3.184298e-03         0.000006               3.0   \n\n        card_eigen_centrality  card_page_rank  ip_address_woe  \\\n0                7.124332e-20        0.000007        0.000000   \n1                2.177341e-20        0.000009        0.000000   \n2                3.184363e-03        0.000008        2.308406   \n3               -3.899287e-19        0.000007        0.000000   \n4                3.184298e-03        0.000006        1.392115   \n...                       ...             ...             ...   \n127045           3.184169e-03        0.000004        0.005309   \n127046           3.184748e-03        0.000014        0.293503   \n127047           7.563610e-20        0.000009        0.000000   \n127048          -5.047551e-20        0.000007        0.000000   \n127049           3.184298e-03        0.000006        0.005309   \n\n        email_address_woe  card_number_woe  \n0                0.000000         0.000000  \n1                1.392115         1.392115  \n2                2.673049         2.308406  \n3                0.000000         0.000000  \n4                1.104433         1.104433  \n...                   ...              ...  \n127045           0.000000         0.000000  \n127046           0.000000        -0.148330  \n127047           1.392115         1.392115  \n127048           0.000000         0.000000  \n127049           0.881290         0.881290  \n\n[127050 rows x 56 columns]",
      "text/html": "<div>\n<style scoped>\n    .dataframe tbody tr th:only-of-type {\n        vertical-align: middle;\n    }\n\n    .dataframe tbody tr th {\n        vertical-align: top;\n    }\n\n    .dataframe thead th {\n        text-align: right;\n    }\n</style>\n<table border=\"1\" class=\"dataframe\">\n  <thead>\n    <tr style=\"text-align: right;\">\n      <th></th>\n      <th>psp_reference</th>\n      <th>date</th>\n      <th>has_fraudulent_dispute</th>\n      <th>is_refused_by_adyen</th>\n      <th>is_credit</th>\n      <th>no_ip</th>\n      <th>no_email</th>\n      <th>same_country</th>\n      <th>merchant_Merchant B</th>\n      <th>merchant_Merchant C</th>\n      <th>...</th>\n      <th>ip_page_rank</th>\n      <th>email_node_degree</th>\n      <th>email_eigen_centrality</th>\n      <th>email_page_rank</th>\n      <th>card_node_degree</th>\n      <th>card_eigen_centrality</th>\n      <th>card_page_rank</th>\n      <th>ip_address_woe</th>\n      <th>email_address_woe</th>\n      <th>card_number_woe</th>\n    </tr>\n  </thead>\n  <tbody>\n    <tr>\n      <th>0</th>\n      <td>31441792706</td>\n      <td>2021-01-01</td>\n      <td>False</td>\n      <td>False</td>\n      <td>True</td>\n      <td>False</td>\n      <td>False</td>\n      <td>True</td>\n      <td>0</td>\n      <td>0</td>\n      <td>...</td>\n      <td>0.000007</td>\n      <td>2.0</td>\n      <td>-5.868666e-19</td>\n      <td>0.000007</td>\n      <td>2.0</td>\n      <td>7.124332e-20</td>\n      <td>0.000007</td>\n      <td>0.000000</td>\n      <td>0.000000</td>\n      <td>0.000000</td>\n    </tr>\n    <tr>\n      <th>1</th>\n      <td>56840734687</td>\n      <td>2021-01-01</td>\n      <td>False</td>\n      <td>False</td>\n      <td>True</td>\n      <td>False</td>\n      <td>False</td>\n      <td>True</td>\n      <td>0</td>\n      <td>0</td>\n      <td>...</td>\n      <td>0.000005</td>\n      <td>3.0</td>\n      <td>9.492551e-19</td>\n      <td>0.000009</td>\n      <td>3.0</td>\n      <td>2.177341e-20</td>\n      <td>0.000009</td>\n      <td>0.000000</td>\n      <td>1.392115</td>\n      <td>1.392115</td>\n    </tr>\n    <tr>\n      <th>2</th>\n      <td>50841350701</td>\n      <td>2021-01-01</td>\n      <td>True</td>\n      <td>False</td>\n      <td>True</td>\n      <td>False</td>\n      <td>False</td>\n      <td>False</td>\n      <td>0</td>\n      <td>0</td>\n      <td>...</td>\n      <td>0.000008</td>\n      <td>6.0</td>\n      <td>2.868798e-05</td>\n      <td>0.000013</td>\n      <td>4.0</td>\n      <td>3.184363e-03</td>\n      <td>0.000008</td>\n      <td>2.308406</td>\n      <td>2.673049</td>\n      <td>2.308406</td>\n    </tr>\n    <tr>\n      <th>3</th>\n      <td>81202637637</td>\n      <td>2021-01-01</td>\n      <td>False</td>\n      <td>False</td>\n      <td>True</td>\n      <td>False</td>\n      <td>False</td>\n      <td>True</td>\n      <td>1</td>\n      <td>0</td>\n      <td>...</td>\n      <td>0.000007</td>\n      <td>2.0</td>\n      <td>1.385103e-20</td>\n      <td>0.000007</td>\n      <td>2.0</td>\n      <td>-3.899287e-19</td>\n      <td>0.000007</td>\n      <td>0.000000</td>\n      <td>0.000000</td>\n      <td>0.000000</td>\n    </tr>\n    <tr>\n      <th>4</th>\n      <td>76149360397</td>\n      <td>2021-01-01</td>\n      <td>False</td>\n      <td>False</td>\n      <td>False</td>\n      <td>False</td>\n      <td>False</td>\n      <td>True</td>\n      <td>0</td>\n      <td>0</td>\n      <td>...</td>\n      <td>0.000005</td>\n      <td>3.0</td>\n      <td>3.184298e-03</td>\n      <td>0.000006</td>\n      <td>3.0</td>\n      <td>3.184298e-03</td>\n      <td>0.000006</td>\n      <td>1.392115</td>\n      <td>1.104433</td>\n      <td>1.104433</td>\n    </tr>\n    <tr>\n      <th>...</th>\n      <td>...</td>\n      <td>...</td>\n      <td>...</td>\n      <td>...</td>\n      <td>...</td>\n      <td>...</td>\n      <td>...</td>\n      <td>...</td>\n      <td>...</td>\n      <td>...</td>\n      <td>...</td>\n      <td>...</td>\n      <td>...</td>\n      <td>...</td>\n      <td>...</td>\n      <td>...</td>\n      <td>...</td>\n      <td>...</td>\n      <td>...</td>\n      <td>...</td>\n      <td>...</td>\n    </tr>\n    <tr>\n      <th>127045</th>\n      <td>61422715805</td>\n      <td>2021-11-30</td>\n      <td>False</td>\n      <td>False</td>\n      <td>False</td>\n      <td>True</td>\n      <td>False</td>\n      <td>True</td>\n      <td>0</td>\n      <td>0</td>\n      <td>...</td>\n      <td>0.094519</td>\n      <td>2.0</td>\n      <td>3.184169e-03</td>\n      <td>0.000004</td>\n      <td>2.0</td>\n      <td>3.184169e-03</td>\n      <td>0.000004</td>\n      <td>0.005309</td>\n      <td>0.000000</td>\n      <td>0.000000</td>\n    </tr>\n    <tr>\n      <th>127046</th>\n      <td>62714194430</td>\n      <td>2021-11-30</td>\n      <td>False</td>\n      <td>False</td>\n      <td>True</td>\n      <td>False</td>\n      <td>False</td>\n      <td>True</td>\n      <td>1</td>\n      <td>0</td>\n      <td>...</td>\n      <td>0.000006</td>\n      <td>2.0</td>\n      <td>1.440889e-05</td>\n      <td>0.000004</td>\n      <td>7.0</td>\n      <td>3.184748e-03</td>\n      <td>0.000014</td>\n      <td>0.293503</td>\n      <td>0.000000</td>\n      <td>-0.148330</td>\n    </tr>\n    <tr>\n      <th>127047</th>\n      <td>77364072877</td>\n      <td>2021-11-30</td>\n      <td>False</td>\n      <td>False</td>\n      <td>True</td>\n      <td>False</td>\n      <td>False</td>\n      <td>True</td>\n      <td>1</td>\n      <td>0</td>\n      <td>...</td>\n      <td>0.000005</td>\n      <td>3.0</td>\n      <td>-4.003480e-19</td>\n      <td>0.000009</td>\n      <td>3.0</td>\n      <td>7.563610e-20</td>\n      <td>0.000009</td>\n      <td>0.000000</td>\n      <td>1.392115</td>\n      <td>1.392115</td>\n    </tr>\n    <tr>\n      <th>127048</th>\n      <td>58757695028</td>\n      <td>2021-11-30</td>\n      <td>False</td>\n      <td>False</td>\n      <td>True</td>\n      <td>False</td>\n      <td>False</td>\n      <td>True</td>\n      <td>0</td>\n      <td>0</td>\n      <td>...</td>\n      <td>0.000007</td>\n      <td>2.0</td>\n      <td>-5.845331e-19</td>\n      <td>0.000007</td>\n      <td>2.0</td>\n      <td>-5.047551e-20</td>\n      <td>0.000007</td>\n      <td>0.000000</td>\n      <td>0.000000</td>\n      <td>0.000000</td>\n    </tr>\n    <tr>\n      <th>127049</th>\n      <td>28193502325</td>\n      <td>2021-11-30</td>\n      <td>False</td>\n      <td>False</td>\n      <td>False</td>\n      <td>True</td>\n      <td>False</td>\n      <td>True</td>\n      <td>0</td>\n      <td>0</td>\n      <td>...</td>\n      <td>0.094519</td>\n      <td>3.0</td>\n      <td>3.184298e-03</td>\n      <td>0.000006</td>\n      <td>3.0</td>\n      <td>3.184298e-03</td>\n      <td>0.000006</td>\n      <td>0.005309</td>\n      <td>0.881290</td>\n      <td>0.881290</td>\n    </tr>\n  </tbody>\n</table>\n<p>127050 rows × 56 columns</p>\n</div>"
     },
     "execution_count": 67,
     "metadata": {},
     "output_type": "execute_result"
    }
   ],
   "source": [
    "df_features"
   ],
   "metadata": {
    "collapsed": false
   }
  },
  {
   "cell_type": "code",
   "execution_count": 68,
   "outputs": [],
   "source": [
    "df_features.to_csv(f\"final_features_{end_date}.csv\", index=False)"
   ],
   "metadata": {
    "collapsed": false
   }
  },
  {
   "cell_type": "code",
   "execution_count": 30,
   "outputs": [],
   "source": [],
   "metadata": {
    "collapsed": false
   }
  }
 ],
 "metadata": {
  "kernelspec": {
   "display_name": "Python 3",
   "language": "python",
   "name": "python3"
  },
  "language_info": {
   "codemirror_mode": {
    "name": "ipython",
    "version": 2
   },
   "file_extension": ".py",
   "mimetype": "text/x-python",
   "name": "python",
   "nbconvert_exporter": "python",
   "pygments_lexer": "ipython2",
   "version": "2.7.6"
  }
 },
 "nbformat": 4,
 "nbformat_minor": 0
}
