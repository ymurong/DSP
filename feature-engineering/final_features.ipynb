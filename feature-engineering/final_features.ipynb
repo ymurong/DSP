{
 "cells": [
  {
   "cell_type": "code",
   "execution_count": 33,
   "metadata": {
    "collapsed": true
   },
   "outputs": [
    {
     "name": "stdout",
     "output_type": "stream",
     "text": [
      "The autoreload extension is already loaded. To reload it, use:\n",
      "  %reload_ext autoreload\n"
     ]
    }
   ],
   "source": [
    "import pandas as pd\n",
    "from lib.mutation_util import get_tx_datetime\n",
    "%load_ext autoreload\n",
    "%autoreload"
   ]
  },
  {
   "cell_type": "code",
   "execution_count": 34,
   "outputs": [],
   "source": [
    "df_ori = pd.read_csv('../adyen-dataset.csv')\n",
    "df_ori[\"tx_datetime\"] = df_ori.apply(get_tx_datetime, axis=1)\n",
    "df_ori[\"tx_datetime\"] = pd.to_datetime(df_ori[\"tx_datetime\"])\n",
    "df_init = df_ori.loc(axis=1)[[\"psp_reference\",\"tx_datetime\",\"has_fraudulent_dispute\",\"is_refused_by_adyen\"]]\n",
    "df_categorical_dummy_features = pd.read_csv(f\"./categorical_dummies_features.csv\")\n",
    "df_baseline_features = pd.read_csv(f\"./baseline_features.csv\")\n",
    "df_baseline_features = pd.concat([df_baseline_features.loc(axis=1)[\"is_night\":\"ip_address_risk_30day_window\"],df_baseline_features.loc(axis=1)[[\"psp_reference\",\"eur_amount\"]]], axis=1)\n",
    "# df_outlier_features = pd.read_csv(f\"./outlier_score_July_December.csv\")\n",
    "# df_outlier_features[\"is_outlier\"] = df_outlier_features[\"outlier_score\"]> 0.05\n",
    "# df_graph_features = pd.read_csv(\"./graph_features_july_december.csv\")"
   ],
   "metadata": {
    "collapsed": false
   }
  },
  {
   "cell_type": "code",
   "execution_count": 35,
   "outputs": [],
   "source": [
    "df_features = df_init.merge(df_categorical_dummy_features,on=\"psp_reference\")\n",
    "df_features = df_features.merge(df_baseline_features,on=\"psp_reference\")\n",
    "# df_features = df_features.merge(df_outlier_features,on=\"psp_reference\", how=\"left\")\n",
    "# df_features = df_features.merge(df_graph_features, on=\"psp_reference\")"
   ],
   "metadata": {
    "collapsed": false
   }
  },
  {
   "cell_type": "code",
   "execution_count": 36,
   "outputs": [
    {
     "data": {
      "text/plain": "Index(['psp_reference', 'tx_datetime', 'has_fraudulent_dispute',\n       'is_refused_by_adyen', 'is_credit', 'no_ip', 'no_email', 'same_country',\n       'issuing_country', 'zip_code', 'merchant_Merchant B',\n       'merchant_Merchant C', 'merchant_Merchant D', 'merchant_Merchant E',\n       'card_scheme_MasterCard', 'card_scheme_Other', 'card_scheme_Visa',\n       'ip_country_GR', 'ip_country_IT', 'ip_country_NL', 'ip_country_ZW',\n       'issuing_country_GR', 'issuing_country_IT', 'issuing_country_NL',\n       'issuing_country_ZW', 'device_type_Linux', 'device_type_MacOS',\n       'device_type_Other', 'device_type_Windows', 'device_type_iOS',\n       'shopper_interaction_POS', 'zip_code_1104', 'zip_code_2039',\n       'zip_code_3941', 'zip_code_AAD', 'zip_code_BB', 'zip_code_BZD',\n       'zip_code_DB', 'zip_code_DFFF', 'zip_code_EB', 'zip_code_EGHA',\n       'zip_code_FFR', 'zip_code_FGDD', 'zip_code_XDED', 'zip_code_XOL',\n       'zip_code_ZB', 'is_night', 'is_weekend', 'diff_tx_time_in_hours',\n       'is_diff_previous_ip_country', 'card_nb_tx_1day_window',\n       'card_avg_amount_1day_window', 'card_nb_tx_7day_window',\n       'card_avg_amount_7day_window', 'card_nb_tx_30day_window',\n       'card_avg_amount_30day_window', 'email_address_nb_tx_1day_window',\n       'email_address_risk_1day_window', 'email_address_nb_tx_7day_window',\n       'email_address_risk_7day_window', 'email_address_nb_tx_30day_window',\n       'email_address_risk_30day_window', 'ip_address_nb_tx_1day_window',\n       'ip_address_risk_1day_window', 'ip_address_nb_tx_7day_window',\n       'ip_address_risk_7day_window', 'ip_address_nb_tx_30day_window',\n       'ip_address_risk_30day_window', 'eur_amount'],\n      dtype='object')"
     },
     "execution_count": 36,
     "metadata": {},
     "output_type": "execute_result"
    }
   ],
   "source": [
    "df_features.columns"
   ],
   "metadata": {
    "collapsed": false
   }
  },
  {
   "cell_type": "code",
   "execution_count": 37,
   "outputs": [],
   "source": [
    "df_features.loc(axis=1)[\"has_fraudulent_dispute\":'same_country'] = df_features.loc(axis=1)[\"has_fraudulent_dispute\":'same_country'].astype(int)\n",
    "df_features[\"is_diff_previous_ip_country\"] = df_features[\"is_diff_previous_ip_country\"].astype(int)"
   ],
   "metadata": {
    "collapsed": false
   }
  },
  {
   "cell_type": "code",
   "execution_count": 38,
   "outputs": [],
   "source": [
    "df_features = df_features.sort_values(\"tx_datetime\")\n",
    "df_features.to_csv(f\"final_features.csv\", index=False)"
   ],
   "metadata": {
    "collapsed": false
   }
  },
  {
   "cell_type": "code",
   "execution_count": 39,
   "outputs": [
    {
     "data": {
      "text/plain": "Index(['psp_reference', 'tx_datetime', 'has_fraudulent_dispute',\n       'is_refused_by_adyen', 'is_credit', 'no_ip', 'no_email', 'same_country',\n       'issuing_country', 'zip_code', 'merchant_Merchant B',\n       'merchant_Merchant C', 'merchant_Merchant D', 'merchant_Merchant E',\n       'card_scheme_MasterCard', 'card_scheme_Other', 'card_scheme_Visa',\n       'ip_country_GR', 'ip_country_IT', 'ip_country_NL', 'ip_country_ZW',\n       'issuing_country_GR', 'issuing_country_IT', 'issuing_country_NL',\n       'issuing_country_ZW', 'device_type_Linux', 'device_type_MacOS',\n       'device_type_Other', 'device_type_Windows', 'device_type_iOS',\n       'shopper_interaction_POS', 'zip_code_1104', 'zip_code_2039',\n       'zip_code_3941', 'zip_code_AAD', 'zip_code_BB', 'zip_code_BZD',\n       'zip_code_DB', 'zip_code_DFFF', 'zip_code_EB', 'zip_code_EGHA',\n       'zip_code_FFR', 'zip_code_FGDD', 'zip_code_XDED', 'zip_code_XOL',\n       'zip_code_ZB', 'is_night', 'is_weekend', 'diff_tx_time_in_hours',\n       'is_diff_previous_ip_country', 'card_nb_tx_1day_window',\n       'card_avg_amount_1day_window', 'card_nb_tx_7day_window',\n       'card_avg_amount_7day_window', 'card_nb_tx_30day_window',\n       'card_avg_amount_30day_window', 'email_address_nb_tx_1day_window',\n       'email_address_risk_1day_window', 'email_address_nb_tx_7day_window',\n       'email_address_risk_7day_window', 'email_address_nb_tx_30day_window',\n       'email_address_risk_30day_window', 'ip_address_nb_tx_1day_window',\n       'ip_address_risk_1day_window', 'ip_address_nb_tx_7day_window',\n       'ip_address_risk_7day_window', 'ip_address_nb_tx_30day_window',\n       'ip_address_risk_30day_window', 'eur_amount'],\n      dtype='object')"
     },
     "execution_count": 39,
     "metadata": {},
     "output_type": "execute_result"
    }
   ],
   "source": [
    "df_features.columns"
   ],
   "metadata": {
    "collapsed": false
   }
  },
  {
   "cell_type": "code",
   "execution_count": 40,
   "outputs": [
    {
     "data": {
      "text/plain": "        psp_reference         tx_datetime  has_fraudulent_dispute  \\\n47095     74588836273 2021-01-01 00:17:00                       1   \n109111    84312413437 2021-01-01 00:19:00                       0   \n82841     15700686694 2021-01-01 00:31:00                       0   \n114570    76831611562 2021-01-01 00:42:00                       0   \n131610    78860525616 2021-01-01 00:42:00                       0   \n\n        is_refused_by_adyen  is_credit  no_ip  no_email  same_country  \\\n47095                     0          1      1         0             0   \n109111                    0          0      1         1             1   \n82841                     0          0      0         0             1   \n114570                    0          1      0         0             1   \n131610                    0          1      1         0             1   \n\n       issuing_country zip_code  ...  email_address_risk_7day_window  \\\n47095               BR     DFFF  ...                             0.0   \n109111              ZW       DB  ...                             0.0   \n82841               BR      AAD  ...                             0.0   \n114570              NL     3941  ...                             0.0   \n131610              NL     1104  ...                             0.0   \n\n        email_address_nb_tx_30day_window  email_address_risk_30day_window  \\\n47095                                0.0                              0.0   \n109111                               0.0                              0.0   \n82841                                0.0                              0.0   \n114570                               0.0                              0.0   \n131610                               0.0                              0.0   \n\n        ip_address_nb_tx_1day_window  ip_address_risk_1day_window  \\\n47095                            0.0                          0.0   \n109111                           0.0                          0.0   \n82841                            0.0                          0.0   \n114570                           0.0                          0.0   \n131610                           0.0                          0.0   \n\n        ip_address_nb_tx_7day_window  ip_address_risk_7day_window  \\\n47095                            0.0                          0.0   \n109111                           0.0                          0.0   \n82841                            0.0                          0.0   \n114570                           0.0                          0.0   \n131610                           0.0                          0.0   \n\n        ip_address_nb_tx_30day_window  ip_address_risk_30day_window  \\\n47095                             0.0                           0.0   \n109111                            0.0                           0.0   \n82841                             0.0                           0.0   \n114570                            0.0                           0.0   \n131610                            0.0                           0.0   \n\n        eur_amount  \n47095        61.84  \n109111       20.80  \n82841        95.55  \n114570       17.83  \n131610       16.38  \n\n[5 rows x 69 columns]",
      "text/html": "<div>\n<style scoped>\n    .dataframe tbody tr th:only-of-type {\n        vertical-align: middle;\n    }\n\n    .dataframe tbody tr th {\n        vertical-align: top;\n    }\n\n    .dataframe thead th {\n        text-align: right;\n    }\n</style>\n<table border=\"1\" class=\"dataframe\">\n  <thead>\n    <tr style=\"text-align: right;\">\n      <th></th>\n      <th>psp_reference</th>\n      <th>tx_datetime</th>\n      <th>has_fraudulent_dispute</th>\n      <th>is_refused_by_adyen</th>\n      <th>is_credit</th>\n      <th>no_ip</th>\n      <th>no_email</th>\n      <th>same_country</th>\n      <th>issuing_country</th>\n      <th>zip_code</th>\n      <th>...</th>\n      <th>email_address_risk_7day_window</th>\n      <th>email_address_nb_tx_30day_window</th>\n      <th>email_address_risk_30day_window</th>\n      <th>ip_address_nb_tx_1day_window</th>\n      <th>ip_address_risk_1day_window</th>\n      <th>ip_address_nb_tx_7day_window</th>\n      <th>ip_address_risk_7day_window</th>\n      <th>ip_address_nb_tx_30day_window</th>\n      <th>ip_address_risk_30day_window</th>\n      <th>eur_amount</th>\n    </tr>\n  </thead>\n  <tbody>\n    <tr>\n      <th>47095</th>\n      <td>74588836273</td>\n      <td>2021-01-01 00:17:00</td>\n      <td>1</td>\n      <td>0</td>\n      <td>1</td>\n      <td>1</td>\n      <td>0</td>\n      <td>0</td>\n      <td>BR</td>\n      <td>DFFF</td>\n      <td>...</td>\n      <td>0.0</td>\n      <td>0.0</td>\n      <td>0.0</td>\n      <td>0.0</td>\n      <td>0.0</td>\n      <td>0.0</td>\n      <td>0.0</td>\n      <td>0.0</td>\n      <td>0.0</td>\n      <td>61.84</td>\n    </tr>\n    <tr>\n      <th>109111</th>\n      <td>84312413437</td>\n      <td>2021-01-01 00:19:00</td>\n      <td>0</td>\n      <td>0</td>\n      <td>0</td>\n      <td>1</td>\n      <td>1</td>\n      <td>1</td>\n      <td>ZW</td>\n      <td>DB</td>\n      <td>...</td>\n      <td>0.0</td>\n      <td>0.0</td>\n      <td>0.0</td>\n      <td>0.0</td>\n      <td>0.0</td>\n      <td>0.0</td>\n      <td>0.0</td>\n      <td>0.0</td>\n      <td>0.0</td>\n      <td>20.80</td>\n    </tr>\n    <tr>\n      <th>82841</th>\n      <td>15700686694</td>\n      <td>2021-01-01 00:31:00</td>\n      <td>0</td>\n      <td>0</td>\n      <td>0</td>\n      <td>0</td>\n      <td>0</td>\n      <td>1</td>\n      <td>BR</td>\n      <td>AAD</td>\n      <td>...</td>\n      <td>0.0</td>\n      <td>0.0</td>\n      <td>0.0</td>\n      <td>0.0</td>\n      <td>0.0</td>\n      <td>0.0</td>\n      <td>0.0</td>\n      <td>0.0</td>\n      <td>0.0</td>\n      <td>95.55</td>\n    </tr>\n    <tr>\n      <th>114570</th>\n      <td>76831611562</td>\n      <td>2021-01-01 00:42:00</td>\n      <td>0</td>\n      <td>0</td>\n      <td>1</td>\n      <td>0</td>\n      <td>0</td>\n      <td>1</td>\n      <td>NL</td>\n      <td>3941</td>\n      <td>...</td>\n      <td>0.0</td>\n      <td>0.0</td>\n      <td>0.0</td>\n      <td>0.0</td>\n      <td>0.0</td>\n      <td>0.0</td>\n      <td>0.0</td>\n      <td>0.0</td>\n      <td>0.0</td>\n      <td>17.83</td>\n    </tr>\n    <tr>\n      <th>131610</th>\n      <td>78860525616</td>\n      <td>2021-01-01 00:42:00</td>\n      <td>0</td>\n      <td>0</td>\n      <td>1</td>\n      <td>1</td>\n      <td>0</td>\n      <td>1</td>\n      <td>NL</td>\n      <td>1104</td>\n      <td>...</td>\n      <td>0.0</td>\n      <td>0.0</td>\n      <td>0.0</td>\n      <td>0.0</td>\n      <td>0.0</td>\n      <td>0.0</td>\n      <td>0.0</td>\n      <td>0.0</td>\n      <td>0.0</td>\n      <td>16.38</td>\n    </tr>\n  </tbody>\n</table>\n<p>5 rows × 69 columns</p>\n</div>"
     },
     "execution_count": 40,
     "metadata": {},
     "output_type": "execute_result"
    }
   ],
   "source": [
    "df_features.head()"
   ],
   "metadata": {
    "collapsed": false
   }
  },
  {
   "cell_type": "code",
   "execution_count": 16,
   "outputs": [],
   "source": [],
   "metadata": {
    "collapsed": false
   }
  },
  {
   "cell_type": "code",
   "execution_count": 27,
   "outputs": [],
   "source": [],
   "metadata": {
    "collapsed": false
   }
  }
 ],
 "metadata": {
  "kernelspec": {
   "display_name": "Python 3",
   "language": "python",
   "name": "python3"
  },
  "language_info": {
   "codemirror_mode": {
    "name": "ipython",
    "version": 2
   },
   "file_extension": ".py",
   "mimetype": "text/x-python",
   "name": "python",
   "nbconvert_exporter": "python",
   "pygments_lexer": "ipython2",
   "version": "2.7.6"
  }
 },
 "nbformat": 4,
 "nbformat_minor": 0
}
