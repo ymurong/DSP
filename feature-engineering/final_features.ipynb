{
 "cells": [
  {
   "cell_type": "code",
   "execution_count": 12,
   "metadata": {
    "collapsed": true
   },
   "outputs": [
    {
     "name": "stdout",
     "output_type": "stream",
     "text": [
      "The autoreload extension is already loaded. To reload it, use:\n",
      "  %reload_ext autoreload\n"
     ]
    }
   ],
   "source": [
    "import pandas as pd\n",
    "from lib.mutation_util import get_tx_datetime\n",
    "%load_ext autoreload\n",
    "%autoreload"
   ]
  },
  {
   "cell_type": "code",
   "execution_count": 15,
   "outputs": [],
   "source": [
    "df_ori = pd.read_csv('../adyen-dataset.csv')\n",
    "df_ori[\"tx_datetime\"] = df_ori.apply(get_tx_datetime, axis=1)\n",
    "df_ori[\"tx_datetime\"] = pd.to_datetime(df_ori[\"tx_datetime\"])\n",
    "df_init = df_ori.loc(axis=1)[[\"psp_reference\",\"tx_datetime\",\"has_fraudulent_dispute\",\"is_refused_by_adyen\"]]\n",
    "df_categorical_dummy_features = pd.read_csv(f\"./categorical_dummies_features.csv\")\n",
    "df_baseline_features = pd.read_csv(f\"./baseline_features.csv\")\n",
    "df_baseline_features = pd.concat([df_baseline_features.loc(axis=1)[\"is_night\":\"ip_address_risk_30day_window\"],df_baseline_features.loc(axis=1)[[\"psp_reference\",\"eur_amount\"]]], axis=1)"
   ],
   "metadata": {
    "collapsed": false
   }
  },
  {
   "cell_type": "code",
   "execution_count": 16,
   "outputs": [],
   "source": [
    "df_features = df_init.merge(df_categorical_dummy_features,on=\"psp_reference\")\n",
    "df_features = df_features.merge(df_baseline_features,on=\"psp_reference\")"
   ],
   "metadata": {
    "collapsed": false
   }
  },
  {
   "cell_type": "code",
   "execution_count": 17,
   "outputs": [
    {
     "data": {
      "text/plain": "Index(['psp_reference', 'tx_datetime', 'has_fraudulent_dispute',\n       'is_refused_by_adyen', 'is_credit', 'no_ip', 'no_email', 'same_country',\n       'merchant_Merchant B', 'merchant_Merchant C', 'merchant_Merchant D',\n       'merchant_Merchant E', 'card_scheme_MasterCard', 'card_scheme_Other',\n       'card_scheme_Visa', 'ip_country_GR', 'ip_country_IT', 'ip_country_NL',\n       'ip_country_ZW', 'issuing_country_GR', 'issuing_country_IT',\n       'issuing_country_NL', 'issuing_country_ZW', 'device_type_Linux',\n       'device_type_MacOS', 'device_type_Other', 'device_type_Windows',\n       'device_type_iOS', 'shopper_interaction_POS', 'zip_code_1104',\n       'zip_code_2039', 'zip_code_3941', 'zip_code_AAD', 'zip_code_BB',\n       'zip_code_BZD', 'zip_code_DB', 'zip_code_DFFF', 'zip_code_EB',\n       'zip_code_EGHA', 'zip_code_FFR', 'zip_code_FGDD', 'zip_code_XDED',\n       'zip_code_XOL', 'zip_code_ZB', 'is_night', 'is_weekend',\n       'diff_tx_time_in_hours', 'is_diff_previous_ip_country',\n       'card_nb_tx_1day_window', 'card_avg_amount_1day_window',\n       'card_nb_tx_7day_window', 'card_avg_amount_7day_window',\n       'card_nb_tx_30day_window', 'card_avg_amount_30day_window',\n       'email_address_nb_tx_1day_window', 'email_address_risk_1day_window',\n       'email_address_nb_tx_7day_window', 'email_address_risk_7day_window',\n       'email_address_nb_tx_30day_window', 'email_address_risk_30day_window',\n       'ip_address_nb_tx_1day_window', 'ip_address_risk_1day_window',\n       'ip_address_nb_tx_7day_window', 'ip_address_risk_7day_window',\n       'ip_address_nb_tx_30day_window', 'ip_address_risk_30day_window',\n       'eur_amount'],\n      dtype='object')"
     },
     "execution_count": 17,
     "metadata": {},
     "output_type": "execute_result"
    }
   ],
   "source": [
    "df_features.columns"
   ],
   "metadata": {
    "collapsed": false
   }
  },
  {
   "cell_type": "code",
   "execution_count": 23,
   "outputs": [],
   "source": [
    "df_features = df_features.sort_values(\"tx_datetime\")\n",
    "df_features.to_csv(f\"final_features.csv\", index=False)"
   ],
   "metadata": {
    "collapsed": false
   }
  },
  {
   "cell_type": "code",
   "execution_count": 24,
   "outputs": [
    {
     "data": {
      "text/plain": "        psp_reference         tx_datetime  has_fraudulent_dispute  \\\n47095     74588836273 2021-01-01 00:17:00                    True   \n109111    84312413437 2021-01-01 00:19:00                   False   \n82841     15700686694 2021-01-01 00:31:00                   False   \n114570    76831611562 2021-01-01 00:42:00                   False   \n131610    78860525616 2021-01-01 00:42:00                   False   \n...               ...                 ...                     ...   \n37966     19327282133 2021-12-31 23:35:00                   False   \n51583     79652690861 2021-12-31 23:43:00                   False   \n16343     68928267563 2021-12-31 23:46:00                   False   \n50389     21678354521 2021-12-31 23:48:00                    True   \n114890    23221916367 2021-12-31 23:57:00                   False   \n\n        is_refused_by_adyen  is_credit  no_ip  no_email  same_country  \\\n47095                 False       True   True     False         False   \n109111                False      False   True      True          True   \n82841                 False      False  False     False          True   \n114570                False       True  False     False          True   \n131610                False       True   True     False          True   \n...                     ...        ...    ...       ...           ...   \n37966                 False       True  False     False          True   \n51583                 False       True  False     False          True   \n16343                 False       True  False      True         False   \n50389                 False       True  False     False          True   \n114890                False       True  False     False          True   \n\n        merchant_Merchant B  merchant_Merchant C  ...  \\\n47095                     1                    0  ...   \n109111                    1                    0  ...   \n82841                     0                    0  ...   \n114570                    1                    0  ...   \n131610                    0                    0  ...   \n...                     ...                  ...  ...   \n37966                     0                    0  ...   \n51583                     1                    0  ...   \n16343                     1                    0  ...   \n50389                     0                    0  ...   \n114890                    0                    0  ...   \n\n        email_address_risk_7day_window  email_address_nb_tx_30day_window  \\\n47095                         0.000000                               0.0   \n109111                        0.000000                               0.0   \n82841                         0.000000                               0.0   \n114570                        0.000000                               0.0   \n131610                        0.000000                               0.0   \n...                                ...                               ...   \n37966                         0.000000                               1.0   \n51583                         0.000000                               0.0   \n16343                         0.000000                               0.0   \n50389                         0.333333                              13.0   \n114890                        0.000000                               5.0   \n\n        email_address_risk_30day_window  ip_address_nb_tx_1day_window  \\\n47095                          0.000000                           0.0   \n109111                         0.000000                           0.0   \n82841                          0.000000                           0.0   \n114570                         0.000000                           0.0   \n131610                         0.000000                           0.0   \n...                                 ...                           ...   \n37966                          0.000000                           0.0   \n51583                          0.000000                           0.0   \n16343                          0.000000                           0.0   \n50389                          0.461538                           0.0   \n114890                         0.000000                           0.0   \n\n        ip_address_risk_1day_window  ip_address_nb_tx_7day_window  \\\n47095                           0.0                           0.0   \n109111                          0.0                           0.0   \n82841                           0.0                           0.0   \n114570                          0.0                           0.0   \n131610                          0.0                           0.0   \n...                             ...                           ...   \n37966                           0.0                           0.0   \n51583                           0.0                           0.0   \n16343                           0.0                           0.0   \n50389                           0.0                           2.0   \n114890                          0.0                           0.0   \n\n        ip_address_risk_7day_window  ip_address_nb_tx_30day_window  \\\n47095                           0.0                            0.0   \n109111                          0.0                            0.0   \n82841                           0.0                            0.0   \n114570                          0.0                            0.0   \n131610                          0.0                            0.0   \n...                             ...                            ...   \n37966                           0.0                            0.0   \n51583                           0.0                            0.0   \n16343                           0.0                            2.0   \n50389                           0.0                           11.0   \n114890                          0.0                            1.0   \n\n        ip_address_risk_30day_window  eur_amount  \n47095                       0.000000       61.84  \n109111                      0.000000       20.80  \n82841                       0.000000       95.55  \n114570                      0.000000       17.83  \n131610                      0.000000       16.38  \n...                              ...         ...  \n37966                       0.000000       70.49  \n51583                       0.000000        9.20  \n16343                       0.000000       60.09  \n50389                       0.454545      184.19  \n114890                      0.000000       11.94  \n\n[138701 rows x 67 columns]",
      "text/html": "<div>\n<style scoped>\n    .dataframe tbody tr th:only-of-type {\n        vertical-align: middle;\n    }\n\n    .dataframe tbody tr th {\n        vertical-align: top;\n    }\n\n    .dataframe thead th {\n        text-align: right;\n    }\n</style>\n<table border=\"1\" class=\"dataframe\">\n  <thead>\n    <tr style=\"text-align: right;\">\n      <th></th>\n      <th>psp_reference</th>\n      <th>tx_datetime</th>\n      <th>has_fraudulent_dispute</th>\n      <th>is_refused_by_adyen</th>\n      <th>is_credit</th>\n      <th>no_ip</th>\n      <th>no_email</th>\n      <th>same_country</th>\n      <th>merchant_Merchant B</th>\n      <th>merchant_Merchant C</th>\n      <th>...</th>\n      <th>email_address_risk_7day_window</th>\n      <th>email_address_nb_tx_30day_window</th>\n      <th>email_address_risk_30day_window</th>\n      <th>ip_address_nb_tx_1day_window</th>\n      <th>ip_address_risk_1day_window</th>\n      <th>ip_address_nb_tx_7day_window</th>\n      <th>ip_address_risk_7day_window</th>\n      <th>ip_address_nb_tx_30day_window</th>\n      <th>ip_address_risk_30day_window</th>\n      <th>eur_amount</th>\n    </tr>\n  </thead>\n  <tbody>\n    <tr>\n      <th>47095</th>\n      <td>74588836273</td>\n      <td>2021-01-01 00:17:00</td>\n      <td>True</td>\n      <td>False</td>\n      <td>True</td>\n      <td>True</td>\n      <td>False</td>\n      <td>False</td>\n      <td>1</td>\n      <td>0</td>\n      <td>...</td>\n      <td>0.000000</td>\n      <td>0.0</td>\n      <td>0.000000</td>\n      <td>0.0</td>\n      <td>0.0</td>\n      <td>0.0</td>\n      <td>0.0</td>\n      <td>0.0</td>\n      <td>0.000000</td>\n      <td>61.84</td>\n    </tr>\n    <tr>\n      <th>109111</th>\n      <td>84312413437</td>\n      <td>2021-01-01 00:19:00</td>\n      <td>False</td>\n      <td>False</td>\n      <td>False</td>\n      <td>True</td>\n      <td>True</td>\n      <td>True</td>\n      <td>1</td>\n      <td>0</td>\n      <td>...</td>\n      <td>0.000000</td>\n      <td>0.0</td>\n      <td>0.000000</td>\n      <td>0.0</td>\n      <td>0.0</td>\n      <td>0.0</td>\n      <td>0.0</td>\n      <td>0.0</td>\n      <td>0.000000</td>\n      <td>20.80</td>\n    </tr>\n    <tr>\n      <th>82841</th>\n      <td>15700686694</td>\n      <td>2021-01-01 00:31:00</td>\n      <td>False</td>\n      <td>False</td>\n      <td>False</td>\n      <td>False</td>\n      <td>False</td>\n      <td>True</td>\n      <td>0</td>\n      <td>0</td>\n      <td>...</td>\n      <td>0.000000</td>\n      <td>0.0</td>\n      <td>0.000000</td>\n      <td>0.0</td>\n      <td>0.0</td>\n      <td>0.0</td>\n      <td>0.0</td>\n      <td>0.0</td>\n      <td>0.000000</td>\n      <td>95.55</td>\n    </tr>\n    <tr>\n      <th>114570</th>\n      <td>76831611562</td>\n      <td>2021-01-01 00:42:00</td>\n      <td>False</td>\n      <td>False</td>\n      <td>True</td>\n      <td>False</td>\n      <td>False</td>\n      <td>True</td>\n      <td>1</td>\n      <td>0</td>\n      <td>...</td>\n      <td>0.000000</td>\n      <td>0.0</td>\n      <td>0.000000</td>\n      <td>0.0</td>\n      <td>0.0</td>\n      <td>0.0</td>\n      <td>0.0</td>\n      <td>0.0</td>\n      <td>0.000000</td>\n      <td>17.83</td>\n    </tr>\n    <tr>\n      <th>131610</th>\n      <td>78860525616</td>\n      <td>2021-01-01 00:42:00</td>\n      <td>False</td>\n      <td>False</td>\n      <td>True</td>\n      <td>True</td>\n      <td>False</td>\n      <td>True</td>\n      <td>0</td>\n      <td>0</td>\n      <td>...</td>\n      <td>0.000000</td>\n      <td>0.0</td>\n      <td>0.000000</td>\n      <td>0.0</td>\n      <td>0.0</td>\n      <td>0.0</td>\n      <td>0.0</td>\n      <td>0.0</td>\n      <td>0.000000</td>\n      <td>16.38</td>\n    </tr>\n    <tr>\n      <th>...</th>\n      <td>...</td>\n      <td>...</td>\n      <td>...</td>\n      <td>...</td>\n      <td>...</td>\n      <td>...</td>\n      <td>...</td>\n      <td>...</td>\n      <td>...</td>\n      <td>...</td>\n      <td>...</td>\n      <td>...</td>\n      <td>...</td>\n      <td>...</td>\n      <td>...</td>\n      <td>...</td>\n      <td>...</td>\n      <td>...</td>\n      <td>...</td>\n      <td>...</td>\n      <td>...</td>\n    </tr>\n    <tr>\n      <th>37966</th>\n      <td>19327282133</td>\n      <td>2021-12-31 23:35:00</td>\n      <td>False</td>\n      <td>False</td>\n      <td>True</td>\n      <td>False</td>\n      <td>False</td>\n      <td>True</td>\n      <td>0</td>\n      <td>0</td>\n      <td>...</td>\n      <td>0.000000</td>\n      <td>1.0</td>\n      <td>0.000000</td>\n      <td>0.0</td>\n      <td>0.0</td>\n      <td>0.0</td>\n      <td>0.0</td>\n      <td>0.0</td>\n      <td>0.000000</td>\n      <td>70.49</td>\n    </tr>\n    <tr>\n      <th>51583</th>\n      <td>79652690861</td>\n      <td>2021-12-31 23:43:00</td>\n      <td>False</td>\n      <td>False</td>\n      <td>True</td>\n      <td>False</td>\n      <td>False</td>\n      <td>True</td>\n      <td>1</td>\n      <td>0</td>\n      <td>...</td>\n      <td>0.000000</td>\n      <td>0.0</td>\n      <td>0.000000</td>\n      <td>0.0</td>\n      <td>0.0</td>\n      <td>0.0</td>\n      <td>0.0</td>\n      <td>0.0</td>\n      <td>0.000000</td>\n      <td>9.20</td>\n    </tr>\n    <tr>\n      <th>16343</th>\n      <td>68928267563</td>\n      <td>2021-12-31 23:46:00</td>\n      <td>False</td>\n      <td>False</td>\n      <td>True</td>\n      <td>False</td>\n      <td>True</td>\n      <td>False</td>\n      <td>1</td>\n      <td>0</td>\n      <td>...</td>\n      <td>0.000000</td>\n      <td>0.0</td>\n      <td>0.000000</td>\n      <td>0.0</td>\n      <td>0.0</td>\n      <td>0.0</td>\n      <td>0.0</td>\n      <td>2.0</td>\n      <td>0.000000</td>\n      <td>60.09</td>\n    </tr>\n    <tr>\n      <th>50389</th>\n      <td>21678354521</td>\n      <td>2021-12-31 23:48:00</td>\n      <td>True</td>\n      <td>False</td>\n      <td>True</td>\n      <td>False</td>\n      <td>False</td>\n      <td>True</td>\n      <td>0</td>\n      <td>0</td>\n      <td>...</td>\n      <td>0.333333</td>\n      <td>13.0</td>\n      <td>0.461538</td>\n      <td>0.0</td>\n      <td>0.0</td>\n      <td>2.0</td>\n      <td>0.0</td>\n      <td>11.0</td>\n      <td>0.454545</td>\n      <td>184.19</td>\n    </tr>\n    <tr>\n      <th>114890</th>\n      <td>23221916367</td>\n      <td>2021-12-31 23:57:00</td>\n      <td>False</td>\n      <td>False</td>\n      <td>True</td>\n      <td>False</td>\n      <td>False</td>\n      <td>True</td>\n      <td>0</td>\n      <td>0</td>\n      <td>...</td>\n      <td>0.000000</td>\n      <td>5.0</td>\n      <td>0.000000</td>\n      <td>0.0</td>\n      <td>0.0</td>\n      <td>0.0</td>\n      <td>0.0</td>\n      <td>1.0</td>\n      <td>0.000000</td>\n      <td>11.94</td>\n    </tr>\n  </tbody>\n</table>\n<p>138701 rows × 67 columns</p>\n</div>"
     },
     "execution_count": 24,
     "metadata": {},
     "output_type": "execute_result"
    }
   ],
   "source": [
    "df_features"
   ],
   "metadata": {
    "collapsed": false
   }
  },
  {
   "cell_type": "code",
   "execution_count": null,
   "outputs": [],
   "source": [],
   "metadata": {
    "collapsed": false
   }
  }
 ],
 "metadata": {
  "kernelspec": {
   "display_name": "Python 3",
   "language": "python",
   "name": "python3"
  },
  "language_info": {
   "codemirror_mode": {
    "name": "ipython",
    "version": 2
   },
   "file_extension": ".py",
   "mimetype": "text/x-python",
   "name": "python",
   "nbconvert_exporter": "python",
   "pygments_lexer": "ipython2",
   "version": "2.7.6"
  }
 },
 "nbformat": 4,
 "nbformat_minor": 0
}
