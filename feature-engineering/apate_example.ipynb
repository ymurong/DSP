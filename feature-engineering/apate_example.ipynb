{
 "cells": [
  {
   "cell_type": "code",
   "execution_count": 15,
   "metadata": {
    "collapsed": true
   },
   "outputs": [
    {
     "name": "stdout",
     "output_type": "stream",
     "text": [
      "INFO: Pandarallel will run on 6 workers.\n",
      "INFO: Pandarallel will use standard multiprocessing data transfer (pipe) to transfer data between the main process and workers.\n",
      "The autoreload extension is already loaded. To reload it, use:\n",
      "  %reload_ext autoreload\n"
     ]
    }
   ],
   "source": [
    "import pandas as pd\n",
    "from pandarallel import pandarallel\n",
    "pandarallel.initialize(progress_bar=True)\n",
    "from lib.mutation_util import get_tx_datetime\n",
    "from apate.apate import ApateGraphFeatures\n",
    "\n",
    "%load_ext autoreload\n",
    "%autoreload"
   ]
  },
  {
   "cell_type": "code",
   "execution_count": 16,
   "outputs": [
    {
     "data": {
      "text/plain": "VBox(children=(HBox(children=(IntProgress(value=0, description='0.00%', max=23117), Label(value='0 / 23117')))…",
      "application/vnd.jupyter.widget-view+json": {
       "version_major": 2,
       "version_minor": 0,
       "model_id": "a399b26fa9814674b15503e29ef1ec44"
      }
     },
     "metadata": {},
     "output_type": "display_data"
    },
    {
     "data": {
      "text/plain": "   psp_reference    merchant             card_number  has_fraudulent_dispute  \\\n0    79622457320  Merchant A  XldVNN9TQgIA2RE9FTC2TA                   False   \n1    41293916020  Merchant C  zgRoL8pxX5LJI-SEPUTMvg                   False   \n2    31382555255  Merchant E  T3BF1uOOqgcwaVRb_ujPQg                   False   \n3    13944051314  Merchant D  BMf1zFkJ1xvPMlOxC7RWTw                   False   \n4    62343575411  Merchant E  jfxS2TIe0gR9vpOUdMKrBw                   False   \n\n          tx_datetime  \n0 2021-07-25 13:51:00  \n1 2021-12-11 15:20:00  \n2 2021-10-20 01:56:00  \n3 2021-08-30 12:50:00  \n4 2021-11-14 19:26:00  ",
      "text/html": "<div>\n<style scoped>\n    .dataframe tbody tr th:only-of-type {\n        vertical-align: middle;\n    }\n\n    .dataframe tbody tr th {\n        vertical-align: top;\n    }\n\n    .dataframe thead th {\n        text-align: right;\n    }\n</style>\n<table border=\"1\" class=\"dataframe\">\n  <thead>\n    <tr style=\"text-align: right;\">\n      <th></th>\n      <th>psp_reference</th>\n      <th>merchant</th>\n      <th>card_number</th>\n      <th>has_fraudulent_dispute</th>\n      <th>tx_datetime</th>\n    </tr>\n  </thead>\n  <tbody>\n    <tr>\n      <th>0</th>\n      <td>79622457320</td>\n      <td>Merchant A</td>\n      <td>XldVNN9TQgIA2RE9FTC2TA</td>\n      <td>False</td>\n      <td>2021-07-25 13:51:00</td>\n    </tr>\n    <tr>\n      <th>1</th>\n      <td>41293916020</td>\n      <td>Merchant C</td>\n      <td>zgRoL8pxX5LJI-SEPUTMvg</td>\n      <td>False</td>\n      <td>2021-12-11 15:20:00</td>\n    </tr>\n    <tr>\n      <th>2</th>\n      <td>31382555255</td>\n      <td>Merchant E</td>\n      <td>T3BF1uOOqgcwaVRb_ujPQg</td>\n      <td>False</td>\n      <td>2021-10-20 01:56:00</td>\n    </tr>\n    <tr>\n      <th>3</th>\n      <td>13944051314</td>\n      <td>Merchant D</td>\n      <td>BMf1zFkJ1xvPMlOxC7RWTw</td>\n      <td>False</td>\n      <td>2021-08-30 12:50:00</td>\n    </tr>\n    <tr>\n      <th>4</th>\n      <td>62343575411</td>\n      <td>Merchant E</td>\n      <td>jfxS2TIe0gR9vpOUdMKrBw</td>\n      <td>False</td>\n      <td>2021-11-14 19:26:00</td>\n    </tr>\n  </tbody>\n</table>\n</div>"
     },
     "execution_count": 16,
     "metadata": {},
     "output_type": "execute_result"
    }
   ],
   "source": [
    "df_ori = pd.read_csv('../adyen-dataset.csv')\n",
    "df_graph_features = df_ori.copy()[\n",
    "    [\"psp_reference\", \"merchant\", \"card_number\",\"has_fraudulent_dispute\"]]\n",
    "df_graph_features[\"tx_datetime\"] = df_ori.parallel_apply(get_tx_datetime, axis=1)  # for each row of df\n",
    "df_graph_features[\"tx_datetime\"] = pd.to_datetime(df_graph_features[\"tx_datetime\"])\n",
    "df_graph_features.head()"
   ],
   "metadata": {
    "collapsed": false
   }
  },
  {
   "cell_type": "markdown",
   "source": [
    "## Adapt features to apate features"
   ],
   "metadata": {
    "collapsed": false
   }
  },
  {
   "cell_type": "code",
   "execution_count": 17,
   "outputs": [],
   "source": [
    "# ['Global_Date', 'Local_Date', 'CardID', 'MerchantID', 'Target']"
   ],
   "metadata": {
    "collapsed": false
   }
  },
  {
   "cell_type": "code",
   "execution_count": 18,
   "outputs": [],
   "source": [
    "df_graph_features[\"Global_Date\"] = df_graph_features[\"tx_datetime\"]\n",
    "df_graph_features[\"Local_Date\"] = df_graph_features[\"tx_datetime\"]\n",
    "df_graph_features[\"CardID\"] = df_graph_features[\"card_number\"]\n",
    "df_graph_features[\"MerchantID\"] = df_graph_features[\"merchant\"]\n",
    "df_graph_features[\"Target\"] = df_graph_features[\"has_fraudulent_dispute\"]\n",
    "df_graph_features = df_graph_features[['psp_reference','Global_Date', 'Local_Date', 'CardID', 'MerchantID', 'Target']]"
   ],
   "metadata": {
    "collapsed": false
   }
  },
  {
   "cell_type": "code",
   "execution_count": 19,
   "outputs": [
    {
     "data": {
      "text/plain": "    psp_reference         Global_Date          Local_Date  \\\n5     25784401111 2021-06-11 13:21:00 2021-06-11 13:21:00   \n8     58425890431 2021-01-31 07:04:00 2021-01-31 07:04:00   \n15    48607651692 2021-05-13 18:13:00 2021-05-13 18:13:00   \n16    87548570452 2021-02-15 19:34:00 2021-02-15 19:34:00   \n17    86767652804 2021-04-12 11:24:00 2021-04-12 11:24:00   \n\n                    CardID  MerchantID  Target  \n5   cjyrXCInVMph0CUUu9JSRg  Merchant B   False  \n8   ozjVWKojjOrnCTXwe9_aRA  Merchant E   False  \n15  -YSipQyucEelyic94vuHWQ  Merchant D   False  \n16  EV8LQlDv30u4jmJzflO9tQ  Merchant A   False  \n17  s91LpLlt4HKPS4yuD77sJw  Merchant B   False  ",
      "text/html": "<div>\n<style scoped>\n    .dataframe tbody tr th:only-of-type {\n        vertical-align: middle;\n    }\n\n    .dataframe tbody tr th {\n        vertical-align: top;\n    }\n\n    .dataframe thead th {\n        text-align: right;\n    }\n</style>\n<table border=\"1\" class=\"dataframe\">\n  <thead>\n    <tr style=\"text-align: right;\">\n      <th></th>\n      <th>psp_reference</th>\n      <th>Global_Date</th>\n      <th>Local_Date</th>\n      <th>CardID</th>\n      <th>MerchantID</th>\n      <th>Target</th>\n    </tr>\n  </thead>\n  <tbody>\n    <tr>\n      <th>5</th>\n      <td>25784401111</td>\n      <td>2021-06-11 13:21:00</td>\n      <td>2021-06-11 13:21:00</td>\n      <td>cjyrXCInVMph0CUUu9JSRg</td>\n      <td>Merchant B</td>\n      <td>False</td>\n    </tr>\n    <tr>\n      <th>8</th>\n      <td>58425890431</td>\n      <td>2021-01-31 07:04:00</td>\n      <td>2021-01-31 07:04:00</td>\n      <td>ozjVWKojjOrnCTXwe9_aRA</td>\n      <td>Merchant E</td>\n      <td>False</td>\n    </tr>\n    <tr>\n      <th>15</th>\n      <td>48607651692</td>\n      <td>2021-05-13 18:13:00</td>\n      <td>2021-05-13 18:13:00</td>\n      <td>-YSipQyucEelyic94vuHWQ</td>\n      <td>Merchant D</td>\n      <td>False</td>\n    </tr>\n    <tr>\n      <th>16</th>\n      <td>87548570452</td>\n      <td>2021-02-15 19:34:00</td>\n      <td>2021-02-15 19:34:00</td>\n      <td>EV8LQlDv30u4jmJzflO9tQ</td>\n      <td>Merchant A</td>\n      <td>False</td>\n    </tr>\n    <tr>\n      <th>17</th>\n      <td>86767652804</td>\n      <td>2021-04-12 11:24:00</td>\n      <td>2021-04-12 11:24:00</td>\n      <td>s91LpLlt4HKPS4yuD77sJw</td>\n      <td>Merchant B</td>\n      <td>False</td>\n    </tr>\n  </tbody>\n</table>\n</div>"
     },
     "execution_count": 19,
     "metadata": {},
     "output_type": "execute_result"
    }
   ],
   "source": [
    "df_graph_features_learning = df_graph_features.loc[df_graph_features[\"Global_Date\"].dt.month <= 6].copy()\n",
    "df_graph_features_training_test = df_graph_features.loc[df_graph_features[\"Global_Date\"].dt.month > 6].copy()\n",
    "df_graph_features_learning.head()"
   ],
   "metadata": {
    "collapsed": false
   }
  },
  {
   "cell_type": "markdown",
   "source": [
    "## Generate Graph Features"
   ],
   "metadata": {
    "collapsed": false
   }
  },
  {
   "cell_type": "code",
   "execution_count": 20,
   "outputs": [],
   "source": [
    "graph_features = ApateGraphFeatures(df_graph_features_learning)"
   ],
   "metadata": {
    "collapsed": false
   }
  },
  {
   "cell_type": "code",
   "execution_count": 21,
   "outputs": [
    {
     "data": {
      "text/plain": "VBox(children=(HBox(children=(IntProgress(value=0, description='0.00%', max=11656), Label(value='0 / 11656')))…",
      "application/vnd.jupyter.widget-view+json": {
       "version_major": 2,
       "version_minor": 0,
       "model_id": "06346aeffd394e7eadea3b32b99de21a"
      }
     },
     "metadata": {},
     "output_type": "display_data"
    },
    {
     "data": {
      "text/plain": "VBox(children=(HBox(children=(IntProgress(value=0, description='0.00%', max=11656), Label(value='0 / 11656')))…",
      "application/vnd.jupyter.widget-view+json": {
       "version_major": 2,
       "version_minor": 0,
       "model_id": "8c9495db24d0437b9ee7bd9edad2c289"
      }
     },
     "metadata": {},
     "output_type": "display_data"
    },
    {
     "data": {
      "text/plain": "VBox(children=(HBox(children=(IntProgress(value=0, description='0.00%', max=11656), Label(value='0 / 11656')))…",
      "application/vnd.jupyter.widget-view+json": {
       "version_major": 2,
       "version_minor": 0,
       "model_id": "9c4592aed44641a1ad737a59a955ba92"
      }
     },
     "metadata": {},
     "output_type": "display_data"
    },
    {
     "data": {
      "text/plain": "VBox(children=(HBox(children=(IntProgress(value=0, description='0.00%', max=11656), Label(value='0 / 11656')))…",
      "application/vnd.jupyter.widget-view+json": {
       "version_major": 2,
       "version_minor": 0,
       "model_id": "18fa485b9b9243d5b2bf4f10a017174b"
      }
     },
     "metadata": {},
     "output_type": "display_data"
    },
    {
     "data": {
      "text/plain": "VBox(children=(HBox(children=(IntProgress(value=0, description='0.00%', max=11656), Label(value='0 / 11656')))…",
      "application/vnd.jupyter.widget-view+json": {
       "version_major": 2,
       "version_minor": 0,
       "model_id": "0e6e39c390f040da8f84531567aa4fd0"
      }
     },
     "metadata": {},
     "output_type": "display_data"
    },
    {
     "data": {
      "text/plain": "VBox(children=(HBox(children=(IntProgress(value=0, description='0.00%', max=11656), Label(value='0 / 11656')))…",
      "application/vnd.jupyter.widget-view+json": {
       "version_major": 2,
       "version_minor": 0,
       "model_id": "bbaf63ee22d147be939ac13408b4f2dd"
      }
     },
     "metadata": {},
     "output_type": "display_data"
    },
    {
     "data": {
      "text/plain": "VBox(children=(HBox(children=(IntProgress(value=0, description='0.00%', max=11656), Label(value='0 / 11656')))…",
      "application/vnd.jupyter.widget-view+json": {
       "version_major": 2,
       "version_minor": 0,
       "model_id": "2c65244b5a6b457fb5da7c6be041435e"
      }
     },
     "metadata": {},
     "output_type": "display_data"
    },
    {
     "data": {
      "text/plain": "VBox(children=(HBox(children=(IntProgress(value=0, description='0.00%', max=11656), Label(value='0 / 11656')))…",
      "application/vnd.jupyter.widget-view+json": {
       "version_major": 2,
       "version_minor": 0,
       "model_id": "da7b172f500e4baf9162117a54845b2f"
      }
     },
     "metadata": {},
     "output_type": "display_data"
    },
    {
     "data": {
      "text/plain": "VBox(children=(HBox(children=(IntProgress(value=0, description='0.00%', max=11656), Label(value='0 / 11656')))…",
      "application/vnd.jupyter.widget-view+json": {
       "version_major": 2,
       "version_minor": 0,
       "model_id": "1bead345d5df4e2dbb100f59bc1b6c4a"
      }
     },
     "metadata": {},
     "output_type": "display_data"
    },
    {
     "data": {
      "text/plain": "VBox(children=(HBox(children=(IntProgress(value=0, description='0.00%', max=11656), Label(value='0 / 11656')))…",
      "application/vnd.jupyter.widget-view+json": {
       "version_major": 2,
       "version_minor": 0,
       "model_id": "2125e6ff4f2c4e86898310bcc8e15e9d"
      }
     },
     "metadata": {},
     "output_type": "display_data"
    },
    {
     "data": {
      "text/plain": "VBox(children=(HBox(children=(IntProgress(value=0, description='0.00%', max=11656), Label(value='0 / 11656')))…",
      "application/vnd.jupyter.widget-view+json": {
       "version_major": 2,
       "version_minor": 0,
       "model_id": "9b36d16183ab4863af28f8a1bd12dc16"
      }
     },
     "metadata": {},
     "output_type": "display_data"
    },
    {
     "data": {
      "text/plain": "VBox(children=(HBox(children=(IntProgress(value=0, description='0.00%', max=11656), Label(value='0 / 11656')))…",
      "application/vnd.jupyter.widget-view+json": {
       "version_major": 2,
       "version_minor": 0,
       "model_id": "7a07f0639492488c89e65b3a92c0d9ee"
      }
     },
     "metadata": {},
     "output_type": "display_data"
    }
   ],
   "source": [
    "graph_features.add_graph_features(df_graph_features_training_test)"
   ],
   "metadata": {
    "collapsed": false
   }
  },
  {
   "cell_type": "code",
   "execution_count": 22,
   "outputs": [
    {
     "data": {
      "text/plain": "   psp_reference         Global_Date          Local_Date  \\\n0    79622457320 2021-07-25 13:51:00 2021-07-25 13:51:00   \n1    41293916020 2021-12-11 15:20:00 2021-12-11 15:20:00   \n2    31382555255 2021-10-20 01:56:00 2021-10-20 01:56:00   \n3    13944051314 2021-08-30 12:50:00 2021-08-30 12:50:00   \n4    62343575411 2021-11-14 19:26:00 2021-11-14 19:26:00   \n\n                   CardID  MerchantID  Target   CHScore  CHScore_ST  \\\n0  XldVNN9TQgIA2RE9FTC2TA  Merchant A   False  0.000004    0.000026   \n1  zgRoL8pxX5LJI-SEPUTMvg  Merchant C   False  0.000008    0.000008   \n2  T3BF1uOOqgcwaVRb_ujPQg  Merchant E   False  0.000008    0.000008   \n3  BMf1zFkJ1xvPMlOxC7RWTw  Merchant D   False  0.000008    0.000008   \n4  jfxS2TIe0gR9vpOUdMKrBw  Merchant E   False  0.000008    0.000008   \n\n   CHScore_MT  CHScore_LT  MerScore  MerScore_ST  MerScore_MT  MerScore_LT  \\\n0    0.000004    0.000004  0.092327     0.086719     0.092361     0.092327   \n1    0.000008    0.000008  0.022136     0.029185     0.022120     0.022136   \n2    0.000008    0.000008  0.023406     0.016354     0.023352     0.023406   \n3    0.000008    0.000008  0.045498     0.045892     0.045526     0.045498   \n4    0.000008    0.000008  0.023406     0.016354     0.023352     0.023406   \n\n   TrxScore  TrxScore_ST  TrxScore_MT  TrxScore_LT  \n0  0.000009     0.000019     0.000009     0.000009  \n1  0.000010     0.000012     0.000010     0.000010  \n2  0.000011     0.000008     0.000011     0.000011  \n3  0.000010     0.000010     0.000010     0.000010  \n4  0.000011     0.000008     0.000011     0.000011  ",
      "text/html": "<div>\n<style scoped>\n    .dataframe tbody tr th:only-of-type {\n        vertical-align: middle;\n    }\n\n    .dataframe tbody tr th {\n        vertical-align: top;\n    }\n\n    .dataframe thead th {\n        text-align: right;\n    }\n</style>\n<table border=\"1\" class=\"dataframe\">\n  <thead>\n    <tr style=\"text-align: right;\">\n      <th></th>\n      <th>psp_reference</th>\n      <th>Global_Date</th>\n      <th>Local_Date</th>\n      <th>CardID</th>\n      <th>MerchantID</th>\n      <th>Target</th>\n      <th>CHScore</th>\n      <th>CHScore_ST</th>\n      <th>CHScore_MT</th>\n      <th>CHScore_LT</th>\n      <th>MerScore</th>\n      <th>MerScore_ST</th>\n      <th>MerScore_MT</th>\n      <th>MerScore_LT</th>\n      <th>TrxScore</th>\n      <th>TrxScore_ST</th>\n      <th>TrxScore_MT</th>\n      <th>TrxScore_LT</th>\n    </tr>\n  </thead>\n  <tbody>\n    <tr>\n      <th>0</th>\n      <td>79622457320</td>\n      <td>2021-07-25 13:51:00</td>\n      <td>2021-07-25 13:51:00</td>\n      <td>XldVNN9TQgIA2RE9FTC2TA</td>\n      <td>Merchant A</td>\n      <td>False</td>\n      <td>0.000004</td>\n      <td>0.000026</td>\n      <td>0.000004</td>\n      <td>0.000004</td>\n      <td>0.092327</td>\n      <td>0.086719</td>\n      <td>0.092361</td>\n      <td>0.092327</td>\n      <td>0.000009</td>\n      <td>0.000019</td>\n      <td>0.000009</td>\n      <td>0.000009</td>\n    </tr>\n    <tr>\n      <th>1</th>\n      <td>41293916020</td>\n      <td>2021-12-11 15:20:00</td>\n      <td>2021-12-11 15:20:00</td>\n      <td>zgRoL8pxX5LJI-SEPUTMvg</td>\n      <td>Merchant C</td>\n      <td>False</td>\n      <td>0.000008</td>\n      <td>0.000008</td>\n      <td>0.000008</td>\n      <td>0.000008</td>\n      <td>0.022136</td>\n      <td>0.029185</td>\n      <td>0.022120</td>\n      <td>0.022136</td>\n      <td>0.000010</td>\n      <td>0.000012</td>\n      <td>0.000010</td>\n      <td>0.000010</td>\n    </tr>\n    <tr>\n      <th>2</th>\n      <td>31382555255</td>\n      <td>2021-10-20 01:56:00</td>\n      <td>2021-10-20 01:56:00</td>\n      <td>T3BF1uOOqgcwaVRb_ujPQg</td>\n      <td>Merchant E</td>\n      <td>False</td>\n      <td>0.000008</td>\n      <td>0.000008</td>\n      <td>0.000008</td>\n      <td>0.000008</td>\n      <td>0.023406</td>\n      <td>0.016354</td>\n      <td>0.023352</td>\n      <td>0.023406</td>\n      <td>0.000011</td>\n      <td>0.000008</td>\n      <td>0.000011</td>\n      <td>0.000011</td>\n    </tr>\n    <tr>\n      <th>3</th>\n      <td>13944051314</td>\n      <td>2021-08-30 12:50:00</td>\n      <td>2021-08-30 12:50:00</td>\n      <td>BMf1zFkJ1xvPMlOxC7RWTw</td>\n      <td>Merchant D</td>\n      <td>False</td>\n      <td>0.000008</td>\n      <td>0.000008</td>\n      <td>0.000008</td>\n      <td>0.000008</td>\n      <td>0.045498</td>\n      <td>0.045892</td>\n      <td>0.045526</td>\n      <td>0.045498</td>\n      <td>0.000010</td>\n      <td>0.000010</td>\n      <td>0.000010</td>\n      <td>0.000010</td>\n    </tr>\n    <tr>\n      <th>4</th>\n      <td>62343575411</td>\n      <td>2021-11-14 19:26:00</td>\n      <td>2021-11-14 19:26:00</td>\n      <td>jfxS2TIe0gR9vpOUdMKrBw</td>\n      <td>Merchant E</td>\n      <td>False</td>\n      <td>0.000008</td>\n      <td>0.000008</td>\n      <td>0.000008</td>\n      <td>0.000008</td>\n      <td>0.023406</td>\n      <td>0.016354</td>\n      <td>0.023352</td>\n      <td>0.023406</td>\n      <td>0.000011</td>\n      <td>0.000008</td>\n      <td>0.000011</td>\n      <td>0.000011</td>\n    </tr>\n  </tbody>\n</table>\n</div>"
     },
     "execution_count": 22,
     "metadata": {},
     "output_type": "execute_result"
    }
   ],
   "source": [
    "df_graph_features_training_test.head()"
   ],
   "metadata": {
    "collapsed": false
   }
  },
  {
   "cell_type": "code",
   "execution_count": 23,
   "outputs": [],
   "source": [
    "df_graph_features_training_test.to_csv(\"graph_features_july_december.csv\", index=False)"
   ],
   "metadata": {
    "collapsed": false
   }
  },
  {
   "cell_type": "code",
   "execution_count": null,
   "outputs": [],
   "source": [],
   "metadata": {
    "collapsed": false
   }
  }
 ],
 "metadata": {
  "kernelspec": {
   "display_name": "Python 3",
   "language": "python",
   "name": "python3"
  },
  "language_info": {
   "codemirror_mode": {
    "name": "ipython",
    "version": 2
   },
   "file_extension": ".py",
   "mimetype": "text/x-python",
   "name": "python",
   "nbconvert_exporter": "python",
   "pygments_lexer": "ipython2",
   "version": "2.7.6"
  }
 },
 "nbformat": 4,
 "nbformat_minor": 0
}
