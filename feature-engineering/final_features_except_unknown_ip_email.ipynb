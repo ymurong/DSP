{
 "cells": [
  {
   "cell_type": "code",
   "execution_count": 1,
   "metadata": {
    "collapsed": true
   },
   "outputs": [],
   "source": [
    "import pandas as pd\n",
    "from lib.mutation_util import get_tx_datetime\n",
    "%load_ext autoreload\n",
    "%autoreload"
   ]
  },
  {
   "cell_type": "code",
   "execution_count": 2,
   "outputs": [],
   "source": [
    "df_ori = pd.read_csv('../adyen-dataset.csv')\n",
    "df_ori[\"tx_datetime\"] = df_ori.apply(get_tx_datetime, axis=1)\n",
    "df_ori[\"tx_datetime\"] = pd.to_datetime(df_ori[\"tx_datetime\"])\n",
    "df_init = df_ori.loc(axis=1)[[\"psp_reference\",\"tx_datetime\",\"has_fraudulent_dispute\",\"is_refused_by_adyen\"]]\n",
    "df_categorical_dummy_features = pd.read_csv(f\"./categorical_dummies_features.csv\")\n",
    "df_baseline_features = pd.read_csv(f\"./baseline_features.csv\")\n",
    "df_baseline_features = pd.concat([df_baseline_features.loc(axis=1)[\"is_night\":\"ip_address_risk_30day_window\"],df_baseline_features.loc(axis=1)[[\"psp_reference\",\"eur_amount\"]]], axis=1)\n",
    "# df_outlier_features = pd.read_csv(f\"./outlier_score_July_December.csv\")\n",
    "# df_outlier_features[\"is_outlier\"] = df_outlier_features[\"outlier_score\"]> 0.05\n",
    "df_graph_features = pd.read_csv(\"./graph_features_july_december.csv\")"
   ],
   "metadata": {
    "collapsed": false
   }
  },
  {
   "cell_type": "code",
   "execution_count": 3,
   "outputs": [],
   "source": [
    "df_features = df_init.merge(df_categorical_dummy_features,on=\"psp_reference\")\n",
    "df_features = df_features.merge(df_baseline_features,on=\"psp_reference\")\n",
    "# df_features = df_features.merge(df_outlier_features,on=\"psp_reference\", how=\"left\")\n",
    "df_features = df_features.merge(df_graph_features, on=\"psp_reference\")"
   ],
   "metadata": {
    "collapsed": false
   }
  },
  {
   "cell_type": "code",
   "execution_count": 4,
   "outputs": [
    {
     "data": {
      "text/plain": "Index(['psp_reference', 'tx_datetime', 'has_fraudulent_dispute',\n       'is_refused_by_adyen', 'is_credit', 'no_ip', 'no_email', 'same_country',\n       'issuing_country', 'merchant_Merchant B', 'merchant_Merchant C',\n       'merchant_Merchant D', 'merchant_Merchant E', 'card_scheme_MasterCard',\n       'card_scheme_Other', 'card_scheme_Visa', 'ip_country_GR',\n       'ip_country_IT', 'ip_country_NL', 'ip_country_ZW', 'issuing_country_GR',\n       'issuing_country_IT', 'issuing_country_NL', 'issuing_country_ZW',\n       'device_type_Linux', 'device_type_MacOS', 'device_type_Other',\n       'device_type_Windows', 'device_type_iOS', 'shopper_interaction_POS',\n       'zip_code_1104', 'zip_code_2039', 'zip_code_3941', 'zip_code_AAD',\n       'zip_code_BB', 'zip_code_BZD', 'zip_code_DB', 'zip_code_DFFF',\n       'zip_code_EB', 'zip_code_EGHA', 'zip_code_FFR', 'zip_code_FGDD',\n       'zip_code_XDED', 'zip_code_XOL', 'zip_code_ZB', 'is_night',\n       'is_weekend', 'diff_tx_time_in_hours', 'is_diff_previous_ip_country',\n       'card_nb_tx_1day_window', 'card_avg_amount_1day_window',\n       'card_nb_tx_7day_window', 'card_avg_amount_7day_window',\n       'card_nb_tx_30day_window', 'card_avg_amount_30day_window',\n       'email_address_nb_tx_1day_window', 'email_address_risk_1day_window',\n       'email_address_nb_tx_7day_window', 'email_address_risk_7day_window',\n       'email_address_nb_tx_30day_window', 'email_address_risk_30day_window',\n       'ip_address_nb_tx_1day_window', 'ip_address_risk_1day_window',\n       'ip_address_nb_tx_7day_window', 'ip_address_risk_7day_window',\n       'ip_address_nb_tx_30day_window', 'ip_address_risk_30day_window',\n       'eur_amount', 'Global_Date', 'Local_Date', 'card_number', 'merchant',\n       'ip_address', 'email_address', 'Target', 'IPScore', 'IPScore_ST',\n       'IPScore_MT', 'IPScore_LT', 'EmailScore', 'EmailScore_ST',\n       'EmailScore_MT', 'EmailScore_LT', 'CHScore', 'CHScore_ST', 'CHScore_MT',\n       'CHScore_LT', 'MerScore', 'MerScore_ST', 'MerScore_MT', 'MerScore_LT',\n       'TrxScore', 'TrxScore_ST', 'TrxScore_MT', 'TrxScore_LT'],\n      dtype='object')"
     },
     "execution_count": 4,
     "metadata": {},
     "output_type": "execute_result"
    }
   ],
   "source": [
    "df_features.columns"
   ],
   "metadata": {
    "collapsed": false
   }
  },
  {
   "cell_type": "code",
   "execution_count": 5,
   "outputs": [],
   "source": [
    "df_features.loc(axis=1)[\"has_fraudulent_dispute\":'same_country'] = df_features.loc(axis=1)[\"has_fraudulent_dispute\":'same_country'].astype(int)\n",
    "df_features[\"is_diff_previous_ip_country\"] = df_features[\"is_diff_previous_ip_country\"].astype(int)"
   ],
   "metadata": {
    "collapsed": false
   }
  },
  {
   "cell_type": "code",
   "execution_count": 6,
   "outputs": [],
   "source": [
    "df_features = df_features.sort_values(\"tx_datetime\")\n",
    "df_features.to_csv(f\"final_features.csv\", index=False)"
   ],
   "metadata": {
    "collapsed": false
   }
  },
  {
   "cell_type": "code",
   "execution_count": 7,
   "outputs": [
    {
     "data": {
      "text/plain": "Index(['psp_reference', 'tx_datetime', 'has_fraudulent_dispute',\n       'is_refused_by_adyen', 'is_credit', 'no_ip', 'no_email', 'same_country',\n       'issuing_country', 'merchant_Merchant B', 'merchant_Merchant C',\n       'merchant_Merchant D', 'merchant_Merchant E', 'card_scheme_MasterCard',\n       'card_scheme_Other', 'card_scheme_Visa', 'ip_country_GR',\n       'ip_country_IT', 'ip_country_NL', 'ip_country_ZW', 'issuing_country_GR',\n       'issuing_country_IT', 'issuing_country_NL', 'issuing_country_ZW',\n       'device_type_Linux', 'device_type_MacOS', 'device_type_Other',\n       'device_type_Windows', 'device_type_iOS', 'shopper_interaction_POS',\n       'zip_code_1104', 'zip_code_2039', 'zip_code_3941', 'zip_code_AAD',\n       'zip_code_BB', 'zip_code_BZD', 'zip_code_DB', 'zip_code_DFFF',\n       'zip_code_EB', 'zip_code_EGHA', 'zip_code_FFR', 'zip_code_FGDD',\n       'zip_code_XDED', 'zip_code_XOL', 'zip_code_ZB', 'is_night',\n       'is_weekend', 'diff_tx_time_in_hours', 'is_diff_previous_ip_country',\n       'card_nb_tx_1day_window', 'card_avg_amount_1day_window',\n       'card_nb_tx_7day_window', 'card_avg_amount_7day_window',\n       'card_nb_tx_30day_window', 'card_avg_amount_30day_window',\n       'email_address_nb_tx_1day_window', 'email_address_risk_1day_window',\n       'email_address_nb_tx_7day_window', 'email_address_risk_7day_window',\n       'email_address_nb_tx_30day_window', 'email_address_risk_30day_window',\n       'ip_address_nb_tx_1day_window', 'ip_address_risk_1day_window',\n       'ip_address_nb_tx_7day_window', 'ip_address_risk_7day_window',\n       'ip_address_nb_tx_30day_window', 'ip_address_risk_30day_window',\n       'eur_amount', 'Global_Date', 'Local_Date', 'card_number', 'merchant',\n       'ip_address', 'email_address', 'Target', 'IPScore', 'IPScore_ST',\n       'IPScore_MT', 'IPScore_LT', 'EmailScore', 'EmailScore_ST',\n       'EmailScore_MT', 'EmailScore_LT', 'CHScore', 'CHScore_ST', 'CHScore_MT',\n       'CHScore_LT', 'MerScore', 'MerScore_ST', 'MerScore_MT', 'MerScore_LT',\n       'TrxScore', 'TrxScore_ST', 'TrxScore_MT', 'TrxScore_LT'],\n      dtype='object')"
     },
     "execution_count": 7,
     "metadata": {},
     "output_type": "execute_result"
    }
   ],
   "source": [
    "df_features.columns"
   ],
   "metadata": {
    "collapsed": false
   }
  },
  {
   "cell_type": "code",
   "execution_count": 8,
   "outputs": [
    {
     "data": {
      "text/plain": "       psp_reference         tx_datetime  has_fraudulent_dispute  \\\n52850    23382223708 2021-07-01 00:05:00                       0   \n65152    27214733308 2021-07-01 00:25:00                       1   \n14120    45524281895 2021-07-01 00:35:00                       0   \n54618    62692030329 2021-07-01 00:58:00                       0   \n50265    45361964662 2021-07-01 01:03:00                       0   \n\n       is_refused_by_adyen  is_credit  no_ip  no_email  same_country  \\\n52850                    1          1      0         0             1   \n65152                    0          1      0         0             1   \n14120                    0          1      1         0             1   \n54618                    1          1      1         0             1   \n50265                    0          0      1         0             1   \n\n      issuing_country  merchant_Merchant B  ...    CHScore_MT    CHScore_LT  \\\n52850              NL                    0  ...  1.032769e-06  9.551954e-07   \n65152              IT                    0  ...  2.200364e-04  2.091399e-04   \n14120              ZW                    0  ...  7.069965e-07  6.602685e-07   \n54618              BR                    1  ...  2.560043e-04  2.410520e-04   \n50265              NL                    0  ...  2.487407e-06  2.302359e-06   \n\n       MerScore  MerScore_ST  MerScore_MT  MerScore_LT  TrxScore  TrxScore_ST  \\\n52850  0.046098     0.044312     0.046117     0.046098  0.000010     0.000011   \n65152  0.011669     0.008127     0.011642     0.011668  0.000063     0.000363   \n14120  0.046098     0.044312     0.046117     0.046098  0.000008     0.000006   \n54618  0.023153     0.024819     0.023155     0.023153  0.000068     0.000178   \n50265  0.022769     0.023104     0.022779     0.022769  0.000009     0.000028   \n\n       TrxScore_MT  TrxScore_LT  \n52850     0.000010     0.000010  \n65152     0.000065     0.000063  \n14120     0.000008     0.000008  \n54618     0.000072     0.000068  \n50265     0.000009     0.000009  \n\n[5 rows x 95 columns]",
      "text/html": "<div>\n<style scoped>\n    .dataframe tbody tr th:only-of-type {\n        vertical-align: middle;\n    }\n\n    .dataframe tbody tr th {\n        vertical-align: top;\n    }\n\n    .dataframe thead th {\n        text-align: right;\n    }\n</style>\n<table border=\"1\" class=\"dataframe\">\n  <thead>\n    <tr style=\"text-align: right;\">\n      <th></th>\n      <th>psp_reference</th>\n      <th>tx_datetime</th>\n      <th>has_fraudulent_dispute</th>\n      <th>is_refused_by_adyen</th>\n      <th>is_credit</th>\n      <th>no_ip</th>\n      <th>no_email</th>\n      <th>same_country</th>\n      <th>issuing_country</th>\n      <th>merchant_Merchant B</th>\n      <th>...</th>\n      <th>CHScore_MT</th>\n      <th>CHScore_LT</th>\n      <th>MerScore</th>\n      <th>MerScore_ST</th>\n      <th>MerScore_MT</th>\n      <th>MerScore_LT</th>\n      <th>TrxScore</th>\n      <th>TrxScore_ST</th>\n      <th>TrxScore_MT</th>\n      <th>TrxScore_LT</th>\n    </tr>\n  </thead>\n  <tbody>\n    <tr>\n      <th>52850</th>\n      <td>23382223708</td>\n      <td>2021-07-01 00:05:00</td>\n      <td>0</td>\n      <td>1</td>\n      <td>1</td>\n      <td>0</td>\n      <td>0</td>\n      <td>1</td>\n      <td>NL</td>\n      <td>0</td>\n      <td>...</td>\n      <td>1.032769e-06</td>\n      <td>9.551954e-07</td>\n      <td>0.046098</td>\n      <td>0.044312</td>\n      <td>0.046117</td>\n      <td>0.046098</td>\n      <td>0.000010</td>\n      <td>0.000011</td>\n      <td>0.000010</td>\n      <td>0.000010</td>\n    </tr>\n    <tr>\n      <th>65152</th>\n      <td>27214733308</td>\n      <td>2021-07-01 00:25:00</td>\n      <td>1</td>\n      <td>0</td>\n      <td>1</td>\n      <td>0</td>\n      <td>0</td>\n      <td>1</td>\n      <td>IT</td>\n      <td>0</td>\n      <td>...</td>\n      <td>2.200364e-04</td>\n      <td>2.091399e-04</td>\n      <td>0.011669</td>\n      <td>0.008127</td>\n      <td>0.011642</td>\n      <td>0.011668</td>\n      <td>0.000063</td>\n      <td>0.000363</td>\n      <td>0.000065</td>\n      <td>0.000063</td>\n    </tr>\n    <tr>\n      <th>14120</th>\n      <td>45524281895</td>\n      <td>2021-07-01 00:35:00</td>\n      <td>0</td>\n      <td>0</td>\n      <td>1</td>\n      <td>1</td>\n      <td>0</td>\n      <td>1</td>\n      <td>ZW</td>\n      <td>0</td>\n      <td>...</td>\n      <td>7.069965e-07</td>\n      <td>6.602685e-07</td>\n      <td>0.046098</td>\n      <td>0.044312</td>\n      <td>0.046117</td>\n      <td>0.046098</td>\n      <td>0.000008</td>\n      <td>0.000006</td>\n      <td>0.000008</td>\n      <td>0.000008</td>\n    </tr>\n    <tr>\n      <th>54618</th>\n      <td>62692030329</td>\n      <td>2021-07-01 00:58:00</td>\n      <td>0</td>\n      <td>1</td>\n      <td>1</td>\n      <td>1</td>\n      <td>0</td>\n      <td>1</td>\n      <td>BR</td>\n      <td>1</td>\n      <td>...</td>\n      <td>2.560043e-04</td>\n      <td>2.410520e-04</td>\n      <td>0.023153</td>\n      <td>0.024819</td>\n      <td>0.023155</td>\n      <td>0.023153</td>\n      <td>0.000068</td>\n      <td>0.000178</td>\n      <td>0.000072</td>\n      <td>0.000068</td>\n    </tr>\n    <tr>\n      <th>50265</th>\n      <td>45361964662</td>\n      <td>2021-07-01 01:03:00</td>\n      <td>0</td>\n      <td>0</td>\n      <td>0</td>\n      <td>1</td>\n      <td>0</td>\n      <td>1</td>\n      <td>NL</td>\n      <td>0</td>\n      <td>...</td>\n      <td>2.487407e-06</td>\n      <td>2.302359e-06</td>\n      <td>0.022769</td>\n      <td>0.023104</td>\n      <td>0.022779</td>\n      <td>0.022769</td>\n      <td>0.000009</td>\n      <td>0.000028</td>\n      <td>0.000009</td>\n      <td>0.000009</td>\n    </tr>\n  </tbody>\n</table>\n<p>5 rows × 95 columns</p>\n</div>"
     },
     "execution_count": 8,
     "metadata": {},
     "output_type": "execute_result"
    }
   ],
   "source": [
    "df_features.head()"
   ],
   "metadata": {
    "collapsed": false
   }
  },
  {
   "cell_type": "code",
   "execution_count": null,
   "outputs": [],
   "source": [],
   "metadata": {
    "collapsed": false,
    "pycharm": {
     "is_executing": true
    }
   }
  },
  {
   "cell_type": "code",
   "execution_count": 27,
   "outputs": [],
   "source": [],
   "metadata": {
    "collapsed": false
   }
  }
 ],
 "metadata": {
  "kernelspec": {
   "display_name": "Python 3",
   "language": "python",
   "name": "python3"
  },
  "language_info": {
   "codemirror_mode": {
    "name": "ipython",
    "version": 2
   },
   "file_extension": ".py",
   "mimetype": "text/x-python",
   "name": "python",
   "nbconvert_exporter": "python",
   "pygments_lexer": "ipython2",
   "version": "2.7.6"
  }
 },
 "nbformat": 4,
 "nbformat_minor": 0
}
