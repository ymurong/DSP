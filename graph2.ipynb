{
 "cells": [
  {
   "cell_type": "code",
   "execution_count": 35,
   "id": "772db457-53e1-4892-b8b6-874b068cfa6c",
   "metadata": {
    "pycharm": {
     "name": "#%%\n"
    }
   },
   "outputs": [
    {
     "name": "stdout",
     "output_type": "stream",
     "text": [
      "The autoreload extension is already loaded. To reload it, use:\n",
      "  %reload_ext autoreload\n"
     ]
    },
    {
     "data": {
      "text/plain": "(21432, 20)"
     },
     "execution_count": 35,
     "metadata": {},
     "output_type": "execute_result"
    }
   ],
   "source": [
    "import pandas as pd\n",
    "import numpy as np\n",
    "import matplotlib.pyplot as plt\n",
    "import seaborn as sns\n",
    "import scipy.stats as ss\n",
    "import sklearn as sci\n",
    "%matplotlib inline\n",
    "%load_ext autoreload\n",
    "%autoreload\n",
    "\n",
    "df_ori = pd.read_csv('adyen-dataset.csv')\n",
    "from lib.sampling import subsampling\n",
    "\n",
    "# Subsample non_fraudulent transactions records so we have balanced dataset\n",
    "df_fraudulent = df_ori[df_ori['has_fraudulent_dispute'] == True]\n",
    "df_non_fraudulent = df_ori[df_ori['has_fraudulent_dispute'] == False]\n",
    "subsample_index= subsampling(df_non_fraudulent.index, len(df_fraudulent))\n",
    "df_non_fraudulent_subsample  = df_non_fraudulent.loc[subsample_index,:]\n",
    "df_sample = pd.concat([df_non_fraudulent_subsample,df_fraudulent], axis=0)\n",
    "df_sample.shape"
   ]
  },
  {
   "cell_type": "code",
   "execution_count": 36,
   "outputs": [
    {
     "data": {
      "text/plain": "        psp_reference    merchant card_scheme  year  hour_of_day  \\\n100589    66904306057  Merchant A        Amex  2021           14   \n132541    62106400109  Merchant B        Visa  2021           17   \n128249    42993811077  Merchant D  MasterCard  2021            9   \n92433     74853496154  Merchant A       Other  2021           17   \n132819    68447486793  Merchant D       Other  2021            7   \n\n        minute_of_hour  day_of_year  is_credit  eur_amount ip_country  \\\n100589              33          221       True      119.63         BR   \n132541              38          246       True      106.18         ZW   \n128249              57           57       True       87.62         BR   \n92433               21          175       True       18.64         BR   \n132819              28           10       True      120.65         BR   \n\n       issuing_country device_type              ip_address  \\\n100589              BR         iOS  YWjJwmlGJPixXGE7ZiOc4Q   \n132541              ZW       Linux  Bhh4hDFEn9SUmPl7DewmQA   \n128249              GR       Linux  226YyIHbGmxQYR0GmCHGFw   \n92433               BR       MacOS                     NaN   \n132819              BR       Other                     NaN   \n\n                 email_address             card_number shopper_interaction  \\\n100589  vsN6dDbqNIUqyUeIbhBITg  RjBk2c9SfCBlEj6aLUmRhg           Ecommerce   \n132541  WUC-fSELqJQytILNQ_0t4w  pba__PLPD4rLYK47CM5FzQ           Ecommerce   \n128249  jXsu5-CEfb-MIUbeNmwSjg  cwzUvZ9jRQVfj6qqmvOsZw                 POS   \n92433   fDVfUMF3SCYrOilj9x_ZIw  FvjlLMaOnhk88dByaG3Geg           Ecommerce   \n132819  oPosT9sFfAE0yPXqJuKnng  O8Nz0WMnwQsdxSX68o7kKg           Ecommerce   \n\n       zip_code  card_bin  has_fraudulent_dispute  is_refused_by_adyen  \n100589      BZD      4571                   False                 True  \n132541       DB      4236                   False                False  \n128249      BZD      4916                   False                False  \n92433       BZD      4622                   False                False  \n132819      BZD      4891                   False                False  ",
      "text/html": "<div>\n<style scoped>\n    .dataframe tbody tr th:only-of-type {\n        vertical-align: middle;\n    }\n\n    .dataframe tbody tr th {\n        vertical-align: top;\n    }\n\n    .dataframe thead th {\n        text-align: right;\n    }\n</style>\n<table border=\"1\" class=\"dataframe\">\n  <thead>\n    <tr style=\"text-align: right;\">\n      <th></th>\n      <th>psp_reference</th>\n      <th>merchant</th>\n      <th>card_scheme</th>\n      <th>year</th>\n      <th>hour_of_day</th>\n      <th>minute_of_hour</th>\n      <th>day_of_year</th>\n      <th>is_credit</th>\n      <th>eur_amount</th>\n      <th>ip_country</th>\n      <th>issuing_country</th>\n      <th>device_type</th>\n      <th>ip_address</th>\n      <th>email_address</th>\n      <th>card_number</th>\n      <th>shopper_interaction</th>\n      <th>zip_code</th>\n      <th>card_bin</th>\n      <th>has_fraudulent_dispute</th>\n      <th>is_refused_by_adyen</th>\n    </tr>\n  </thead>\n  <tbody>\n    <tr>\n      <th>100589</th>\n      <td>66904306057</td>\n      <td>Merchant A</td>\n      <td>Amex</td>\n      <td>2021</td>\n      <td>14</td>\n      <td>33</td>\n      <td>221</td>\n      <td>True</td>\n      <td>119.63</td>\n      <td>BR</td>\n      <td>BR</td>\n      <td>iOS</td>\n      <td>YWjJwmlGJPixXGE7ZiOc4Q</td>\n      <td>vsN6dDbqNIUqyUeIbhBITg</td>\n      <td>RjBk2c9SfCBlEj6aLUmRhg</td>\n      <td>Ecommerce</td>\n      <td>BZD</td>\n      <td>4571</td>\n      <td>False</td>\n      <td>True</td>\n    </tr>\n    <tr>\n      <th>132541</th>\n      <td>62106400109</td>\n      <td>Merchant B</td>\n      <td>Visa</td>\n      <td>2021</td>\n      <td>17</td>\n      <td>38</td>\n      <td>246</td>\n      <td>True</td>\n      <td>106.18</td>\n      <td>ZW</td>\n      <td>ZW</td>\n      <td>Linux</td>\n      <td>Bhh4hDFEn9SUmPl7DewmQA</td>\n      <td>WUC-fSELqJQytILNQ_0t4w</td>\n      <td>pba__PLPD4rLYK47CM5FzQ</td>\n      <td>Ecommerce</td>\n      <td>DB</td>\n      <td>4236</td>\n      <td>False</td>\n      <td>False</td>\n    </tr>\n    <tr>\n      <th>128249</th>\n      <td>42993811077</td>\n      <td>Merchant D</td>\n      <td>MasterCard</td>\n      <td>2021</td>\n      <td>9</td>\n      <td>57</td>\n      <td>57</td>\n      <td>True</td>\n      <td>87.62</td>\n      <td>BR</td>\n      <td>GR</td>\n      <td>Linux</td>\n      <td>226YyIHbGmxQYR0GmCHGFw</td>\n      <td>jXsu5-CEfb-MIUbeNmwSjg</td>\n      <td>cwzUvZ9jRQVfj6qqmvOsZw</td>\n      <td>POS</td>\n      <td>BZD</td>\n      <td>4916</td>\n      <td>False</td>\n      <td>False</td>\n    </tr>\n    <tr>\n      <th>92433</th>\n      <td>74853496154</td>\n      <td>Merchant A</td>\n      <td>Other</td>\n      <td>2021</td>\n      <td>17</td>\n      <td>21</td>\n      <td>175</td>\n      <td>True</td>\n      <td>18.64</td>\n      <td>BR</td>\n      <td>BR</td>\n      <td>MacOS</td>\n      <td>NaN</td>\n      <td>fDVfUMF3SCYrOilj9x_ZIw</td>\n      <td>FvjlLMaOnhk88dByaG3Geg</td>\n      <td>Ecommerce</td>\n      <td>BZD</td>\n      <td>4622</td>\n      <td>False</td>\n      <td>False</td>\n    </tr>\n    <tr>\n      <th>132819</th>\n      <td>68447486793</td>\n      <td>Merchant D</td>\n      <td>Other</td>\n      <td>2021</td>\n      <td>7</td>\n      <td>28</td>\n      <td>10</td>\n      <td>True</td>\n      <td>120.65</td>\n      <td>BR</td>\n      <td>BR</td>\n      <td>Other</td>\n      <td>NaN</td>\n      <td>oPosT9sFfAE0yPXqJuKnng</td>\n      <td>O8Nz0WMnwQsdxSX68o7kKg</td>\n      <td>Ecommerce</td>\n      <td>BZD</td>\n      <td>4891</td>\n      <td>False</td>\n      <td>False</td>\n    </tr>\n  </tbody>\n</table>\n</div>"
     },
     "execution_count": 36,
     "metadata": {},
     "output_type": "execute_result"
    }
   ],
   "source": [
    "df_sample.head()"
   ],
   "metadata": {
    "collapsed": false,
    "pycharm": {
     "name": "#%%\n"
    }
   }
  },
  {
   "cell_type": "code",
   "execution_count": 37,
   "outputs": [
    {
     "data": {
      "text/plain": "0.0998040313549832"
     },
     "execution_count": 37,
     "metadata": {},
     "output_type": "execute_result"
    }
   ],
   "source": [
    "total_fraud = df_sample[df_sample['has_fraudulent_dispute']==1].shape[0]\n",
    "total_not_fraud = df_sample[df_sample['has_fraudulent_dispute']==0].shape[0]\n",
    "total_fraud_na_ip = df_sample[df_sample['ip_address'].isna() & df_sample['has_fraudulent_dispute']==1].shape[0]\n",
    "total_not_fraud_na_ip = df_sample[df_sample['ip_address'].isna() & df_sample['has_fraudulent_dispute']==0].shape[0]\n",
    "p_likelihood_fraud = total_fraud_na_ip/total_fraud\n",
    "p_likelihood_not_fraud = total_not_fraud_na_ip/total_not_fraud\n",
    "p_prior_no_fraud = 0.5\n",
    "p_prior_fraud = 0.5\n",
    "p_posterio = p_likelihood_fraud * p_prior_fraud/(p_likelihood_fraud * p_prior_fraud + p_likelihood_not_fraud * p_prior_no_fraud)\n",
    "p_posterio"
   ],
   "metadata": {
    "collapsed": false,
    "pycharm": {
     "name": "#%%\n"
    }
   }
  },
  {
   "cell_type": "markdown",
   "source": [],
   "metadata": {
    "collapsed": false,
    "pycharm": {
     "name": "#%% md\n"
    }
   }
  },
  {
   "cell_type": "code",
   "execution_count": 38,
   "outputs": [],
   "source": [
    "df_sample = df_sample.fillna(\"anonymous\")"
   ],
   "metadata": {
    "collapsed": false,
    "pycharm": {
     "name": "#%%\n"
    }
   }
  },
  {
   "cell_type": "code",
   "execution_count": 59,
   "outputs": [
    {
     "data": {
      "text/plain": "                    point_in               point_out  fraud type_in type_out\n0     --2E0toluie1TqMY-oXrQg  GOgdL2ymYoPD99nIT1zbkA      1      ip     card\n1     --2E0toluie1TqMY-oXrQg  vtGsRvD7aYpa-LJdW8sbyg      5      ip     card\n2     -0jK02r79jRQ2Nzmcbd51Q  GaTo2bLUxy-n939nv2g-ag      1      ip     card\n3     -0mAboSyixPty7xuAAnWTA  E3wWIIUb7J4HBwfTbCTB2w      1      ip     card\n4     -1I5QWw03mL1yTPQQfQd1w  gZXwSBiQkKyDo3fTH-tk0w      1      ip     card\n...                      ...                     ...    ...     ...      ...\n4305  zts5U45eQW0WfrybeY9Ugg  SswcaXt2_RSpky83El-p2Q      1      ip     card\n4306  zts5U45eQW0WfrybeY9Ugg  noc__i9FYFTvMeASho4qhw      1      ip     card\n4307  zts5U45eQW0WfrybeY9Ugg  vJRsX04omE6ga--oPTv6Ww      1      ip     card\n4308  zts5U45eQW0WfrybeY9Ugg  wlLqoBvhXhx-rIG_vmyZiQ      1      ip     card\n4309  zvnyRA47U6FI-UjH1vDGsw  yshrQNxuXRAT3cPEUVumKQ      1      ip     card\n\n[4310 rows x 5 columns]",
      "text/html": "<div>\n<style scoped>\n    .dataframe tbody tr th:only-of-type {\n        vertical-align: middle;\n    }\n\n    .dataframe tbody tr th {\n        vertical-align: top;\n    }\n\n    .dataframe thead th {\n        text-align: right;\n    }\n</style>\n<table border=\"1\" class=\"dataframe\">\n  <thead>\n    <tr style=\"text-align: right;\">\n      <th></th>\n      <th>point_in</th>\n      <th>point_out</th>\n      <th>fraud</th>\n      <th>type_in</th>\n      <th>type_out</th>\n    </tr>\n  </thead>\n  <tbody>\n    <tr>\n      <th>0</th>\n      <td>--2E0toluie1TqMY-oXrQg</td>\n      <td>GOgdL2ymYoPD99nIT1zbkA</td>\n      <td>1</td>\n      <td>ip</td>\n      <td>card</td>\n    </tr>\n    <tr>\n      <th>1</th>\n      <td>--2E0toluie1TqMY-oXrQg</td>\n      <td>vtGsRvD7aYpa-LJdW8sbyg</td>\n      <td>5</td>\n      <td>ip</td>\n      <td>card</td>\n    </tr>\n    <tr>\n      <th>2</th>\n      <td>-0jK02r79jRQ2Nzmcbd51Q</td>\n      <td>GaTo2bLUxy-n939nv2g-ag</td>\n      <td>1</td>\n      <td>ip</td>\n      <td>card</td>\n    </tr>\n    <tr>\n      <th>3</th>\n      <td>-0mAboSyixPty7xuAAnWTA</td>\n      <td>E3wWIIUb7J4HBwfTbCTB2w</td>\n      <td>1</td>\n      <td>ip</td>\n      <td>card</td>\n    </tr>\n    <tr>\n      <th>4</th>\n      <td>-1I5QWw03mL1yTPQQfQd1w</td>\n      <td>gZXwSBiQkKyDo3fTH-tk0w</td>\n      <td>1</td>\n      <td>ip</td>\n      <td>card</td>\n    </tr>\n    <tr>\n      <th>...</th>\n      <td>...</td>\n      <td>...</td>\n      <td>...</td>\n      <td>...</td>\n      <td>...</td>\n    </tr>\n    <tr>\n      <th>4305</th>\n      <td>zts5U45eQW0WfrybeY9Ugg</td>\n      <td>SswcaXt2_RSpky83El-p2Q</td>\n      <td>1</td>\n      <td>ip</td>\n      <td>card</td>\n    </tr>\n    <tr>\n      <th>4306</th>\n      <td>zts5U45eQW0WfrybeY9Ugg</td>\n      <td>noc__i9FYFTvMeASho4qhw</td>\n      <td>1</td>\n      <td>ip</td>\n      <td>card</td>\n    </tr>\n    <tr>\n      <th>4307</th>\n      <td>zts5U45eQW0WfrybeY9Ugg</td>\n      <td>vJRsX04omE6ga--oPTv6Ww</td>\n      <td>1</td>\n      <td>ip</td>\n      <td>card</td>\n    </tr>\n    <tr>\n      <th>4308</th>\n      <td>zts5U45eQW0WfrybeY9Ugg</td>\n      <td>wlLqoBvhXhx-rIG_vmyZiQ</td>\n      <td>1</td>\n      <td>ip</td>\n      <td>card</td>\n    </tr>\n    <tr>\n      <th>4309</th>\n      <td>zvnyRA47U6FI-UjH1vDGsw</td>\n      <td>yshrQNxuXRAT3cPEUVumKQ</td>\n      <td>1</td>\n      <td>ip</td>\n      <td>card</td>\n    </tr>\n  </tbody>\n</table>\n<p>4310 rows × 5 columns</p>\n</div>"
     },
     "execution_count": 59,
     "metadata": {},
     "output_type": "execute_result"
    }
   ],
   "source": [
    "edges1 = df_sample[df_sample[\"has_fraudulent_dispute\"]==1].groupby([\"ip_address\",\"card_number\"], as_index=False).size()\n",
    "edges1['type_in'] = 'ip'\n",
    "edges1['type_out'] = 'card'\n",
    "edges1.columns=[\"point_in\",\"point_out\",\"fraud\",\"type_in\",\"type_out\"]\n",
    "edges1"
   ],
   "metadata": {
    "collapsed": false,
    "pycharm": {
     "name": "#%%\n"
    }
   }
  },
  {
   "cell_type": "code",
   "execution_count": 58,
   "outputs": [
    {
     "data": {
      "text/plain": "                    point_in               point_out  fraud type_in type_out\n0     --2E0toluie1TqMY-oXrQg  eErppXRkq-p_C8ginsSiOQ      6      ip    email\n1     -0jK02r79jRQ2Nzmcbd51Q               anonymous      1      ip    email\n2     -0mAboSyixPty7xuAAnWTA  wlpo3xiAoV0KC0ndCnyiQg      1      ip    email\n3     -1I5QWw03mL1yTPQQfQd1w  lBEp5B7QqM5AqZcdXdBt-g      1      ip    email\n4     -1I5QWw03mL1yTPQQfQd1w  qdCicvQuh_YNyVXyzeiXCA      1      ip    email\n...                      ...                     ...    ...     ...      ...\n4310  zts5U45eQW0WfrybeY9Ugg  LVh-jiD2Dogmy4YeqBsiNw      1      ip    email\n4311  zts5U45eQW0WfrybeY9Ugg  SLJa4df8bZQtuJMF2Y4NgA      1      ip    email\n4312  zts5U45eQW0WfrybeY9Ugg               anonymous      4      ip    email\n4313  zts5U45eQW0WfrybeY9Ugg  oLqbhlpxM8EdllHizNnIlQ     17      ip    email\n4314  zvnyRA47U6FI-UjH1vDGsw               anonymous      1      ip    email\n\n[4315 rows x 5 columns]",
      "text/html": "<div>\n<style scoped>\n    .dataframe tbody tr th:only-of-type {\n        vertical-align: middle;\n    }\n\n    .dataframe tbody tr th {\n        vertical-align: top;\n    }\n\n    .dataframe thead th {\n        text-align: right;\n    }\n</style>\n<table border=\"1\" class=\"dataframe\">\n  <thead>\n    <tr style=\"text-align: right;\">\n      <th></th>\n      <th>point_in</th>\n      <th>point_out</th>\n      <th>fraud</th>\n      <th>type_in</th>\n      <th>type_out</th>\n    </tr>\n  </thead>\n  <tbody>\n    <tr>\n      <th>0</th>\n      <td>--2E0toluie1TqMY-oXrQg</td>\n      <td>eErppXRkq-p_C8ginsSiOQ</td>\n      <td>6</td>\n      <td>ip</td>\n      <td>email</td>\n    </tr>\n    <tr>\n      <th>1</th>\n      <td>-0jK02r79jRQ2Nzmcbd51Q</td>\n      <td>anonymous</td>\n      <td>1</td>\n      <td>ip</td>\n      <td>email</td>\n    </tr>\n    <tr>\n      <th>2</th>\n      <td>-0mAboSyixPty7xuAAnWTA</td>\n      <td>wlpo3xiAoV0KC0ndCnyiQg</td>\n      <td>1</td>\n      <td>ip</td>\n      <td>email</td>\n    </tr>\n    <tr>\n      <th>3</th>\n      <td>-1I5QWw03mL1yTPQQfQd1w</td>\n      <td>lBEp5B7QqM5AqZcdXdBt-g</td>\n      <td>1</td>\n      <td>ip</td>\n      <td>email</td>\n    </tr>\n    <tr>\n      <th>4</th>\n      <td>-1I5QWw03mL1yTPQQfQd1w</td>\n      <td>qdCicvQuh_YNyVXyzeiXCA</td>\n      <td>1</td>\n      <td>ip</td>\n      <td>email</td>\n    </tr>\n    <tr>\n      <th>...</th>\n      <td>...</td>\n      <td>...</td>\n      <td>...</td>\n      <td>...</td>\n      <td>...</td>\n    </tr>\n    <tr>\n      <th>4310</th>\n      <td>zts5U45eQW0WfrybeY9Ugg</td>\n      <td>LVh-jiD2Dogmy4YeqBsiNw</td>\n      <td>1</td>\n      <td>ip</td>\n      <td>email</td>\n    </tr>\n    <tr>\n      <th>4311</th>\n      <td>zts5U45eQW0WfrybeY9Ugg</td>\n      <td>SLJa4df8bZQtuJMF2Y4NgA</td>\n      <td>1</td>\n      <td>ip</td>\n      <td>email</td>\n    </tr>\n    <tr>\n      <th>4312</th>\n      <td>zts5U45eQW0WfrybeY9Ugg</td>\n      <td>anonymous</td>\n      <td>4</td>\n      <td>ip</td>\n      <td>email</td>\n    </tr>\n    <tr>\n      <th>4313</th>\n      <td>zts5U45eQW0WfrybeY9Ugg</td>\n      <td>oLqbhlpxM8EdllHizNnIlQ</td>\n      <td>17</td>\n      <td>ip</td>\n      <td>email</td>\n    </tr>\n    <tr>\n      <th>4314</th>\n      <td>zvnyRA47U6FI-UjH1vDGsw</td>\n      <td>anonymous</td>\n      <td>1</td>\n      <td>ip</td>\n      <td>email</td>\n    </tr>\n  </tbody>\n</table>\n<p>4315 rows × 5 columns</p>\n</div>"
     },
     "execution_count": 58,
     "metadata": {},
     "output_type": "execute_result"
    }
   ],
   "source": [
    "edges2 = df_sample[df_sample[\"has_fraudulent_dispute\"]==1].groupby([\"ip_address\",\"email_address\"],as_index=False).size()\n",
    "edges2['type_in'] = 'ip'\n",
    "edges2['type_out'] = 'email'\n",
    "edges2.columns=[\"point_in\",\"point_out\",\"fraud\",\"type_in\",\"type_out\"]\n",
    "edges2"
   ],
   "metadata": {
    "collapsed": false,
    "pycharm": {
     "name": "#%%\n"
    }
   }
  },
  {
   "cell_type": "code",
   "execution_count": 48,
   "outputs": [
    {
     "data": {
      "text/plain": "                    point_in               point_out  fraud type_in type_out\n0     -AJhnA6_gxPrBE3SY4Ko2w  HY-lZNO3-1jR0FjsCiTuag      1   email     card\n1     -AcOm9tITPMYbamNfLrFgA  mZgywJHD5WlimhuYMNMbIw     13   email     card\n2     -ApLJ_HpGntlSLAJsmr7xw  suWNfD7D8xzJQLfkvhC4HA      1   email     card\n3     -IZIkqr9zhxawUjAFqJPWg  Tnwcm9UwXtToEb1icFwU9g      1   email     card\n4     -Iu93ZNuaMTZixT0Hq7ZRQ  kJn9S5qrmBtAEahJLfiSIQ      1   email     card\n...                      ...                     ...    ...     ...      ...\n2999  zw75Ce9YMASAARak28wtSA  Ymg5-cJa5bs2cbncNNOYJg      1   email     card\n3000  zySCXubGnjkcnAoIgX162g  Ueta-Qw220ds-xXWk2Uddg      2   email     card\n3001  zyScyyZ73LcFzOz7FcJWow  HDS7DP0tNe5fUu1twTy17Q      1   email     card\n3002  zyyDrH9wronGeR0FKCU0kQ  a7J4OkbL30z_vZZG1ngTkQ     12   email     card\n3003  zyyDrH9wronGeR0FKCU0kQ  zCfWu9gLgYRIPsMkjQhUlQ      1   email     card\n\n[3004 rows x 5 columns]",
      "text/html": "<div>\n<style scoped>\n    .dataframe tbody tr th:only-of-type {\n        vertical-align: middle;\n    }\n\n    .dataframe tbody tr th {\n        vertical-align: top;\n    }\n\n    .dataframe thead th {\n        text-align: right;\n    }\n</style>\n<table border=\"1\" class=\"dataframe\">\n  <thead>\n    <tr style=\"text-align: right;\">\n      <th></th>\n      <th>point_in</th>\n      <th>point_out</th>\n      <th>fraud</th>\n      <th>type_in</th>\n      <th>type_out</th>\n    </tr>\n  </thead>\n  <tbody>\n    <tr>\n      <th>0</th>\n      <td>-AJhnA6_gxPrBE3SY4Ko2w</td>\n      <td>HY-lZNO3-1jR0FjsCiTuag</td>\n      <td>1</td>\n      <td>email</td>\n      <td>card</td>\n    </tr>\n    <tr>\n      <th>1</th>\n      <td>-AcOm9tITPMYbamNfLrFgA</td>\n      <td>mZgywJHD5WlimhuYMNMbIw</td>\n      <td>13</td>\n      <td>email</td>\n      <td>card</td>\n    </tr>\n    <tr>\n      <th>2</th>\n      <td>-ApLJ_HpGntlSLAJsmr7xw</td>\n      <td>suWNfD7D8xzJQLfkvhC4HA</td>\n      <td>1</td>\n      <td>email</td>\n      <td>card</td>\n    </tr>\n    <tr>\n      <th>3</th>\n      <td>-IZIkqr9zhxawUjAFqJPWg</td>\n      <td>Tnwcm9UwXtToEb1icFwU9g</td>\n      <td>1</td>\n      <td>email</td>\n      <td>card</td>\n    </tr>\n    <tr>\n      <th>4</th>\n      <td>-Iu93ZNuaMTZixT0Hq7ZRQ</td>\n      <td>kJn9S5qrmBtAEahJLfiSIQ</td>\n      <td>1</td>\n      <td>email</td>\n      <td>card</td>\n    </tr>\n    <tr>\n      <th>...</th>\n      <td>...</td>\n      <td>...</td>\n      <td>...</td>\n      <td>...</td>\n      <td>...</td>\n    </tr>\n    <tr>\n      <th>2999</th>\n      <td>zw75Ce9YMASAARak28wtSA</td>\n      <td>Ymg5-cJa5bs2cbncNNOYJg</td>\n      <td>1</td>\n      <td>email</td>\n      <td>card</td>\n    </tr>\n    <tr>\n      <th>3000</th>\n      <td>zySCXubGnjkcnAoIgX162g</td>\n      <td>Ueta-Qw220ds-xXWk2Uddg</td>\n      <td>2</td>\n      <td>email</td>\n      <td>card</td>\n    </tr>\n    <tr>\n      <th>3001</th>\n      <td>zyScyyZ73LcFzOz7FcJWow</td>\n      <td>HDS7DP0tNe5fUu1twTy17Q</td>\n      <td>1</td>\n      <td>email</td>\n      <td>card</td>\n    </tr>\n    <tr>\n      <th>3002</th>\n      <td>zyyDrH9wronGeR0FKCU0kQ</td>\n      <td>a7J4OkbL30z_vZZG1ngTkQ</td>\n      <td>12</td>\n      <td>email</td>\n      <td>card</td>\n    </tr>\n    <tr>\n      <th>3003</th>\n      <td>zyyDrH9wronGeR0FKCU0kQ</td>\n      <td>zCfWu9gLgYRIPsMkjQhUlQ</td>\n      <td>1</td>\n      <td>email</td>\n      <td>card</td>\n    </tr>\n  </tbody>\n</table>\n<p>3004 rows × 5 columns</p>\n</div>"
     },
     "execution_count": 48,
     "metadata": {},
     "output_type": "execute_result"
    }
   ],
   "source": [
    "edges3 =df_sample[df_sample[\"has_fraudulent_dispute\"]==1].groupby([\"email_address\",\"card_number\"],as_index=False).size()\n",
    "edges3['type_in'] = 'email'\n",
    "edges3['type_out'] = 'card'\n",
    "edges3.columns=[\"point_in\",\"point_out\",\"fraud\",\"type_in\",\"type_out\"]\n",
    "edges3"
   ],
   "metadata": {
    "collapsed": false,
    "pycharm": {
     "name": "#%%\n"
    }
   }
  },
  {
   "cell_type": "code",
   "execution_count": 49,
   "outputs": [
    {
     "data": {
      "text/plain": "                    point_in               point_out  fraud type_in type_out\n0     --2E0toluie1TqMY-oXrQg  GOgdL2ymYoPD99nIT1zbkA      1      ip     card\n1     --2E0toluie1TqMY-oXrQg  vtGsRvD7aYpa-LJdW8sbyg      5      ip     card\n2     -0jK02r79jRQ2Nzmcbd51Q  GaTo2bLUxy-n939nv2g-ag      1      ip     card\n3     -0mAboSyixPty7xuAAnWTA  E3wWIIUb7J4HBwfTbCTB2w      1      ip     card\n4     -1I5QWw03mL1yTPQQfQd1w  gZXwSBiQkKyDo3fTH-tk0w      1      ip     card\n...                      ...                     ...    ...     ...      ...\n2999  zw75Ce9YMASAARak28wtSA  Ymg5-cJa5bs2cbncNNOYJg      1   email     card\n3000  zySCXubGnjkcnAoIgX162g  Ueta-Qw220ds-xXWk2Uddg      2   email     card\n3001  zyScyyZ73LcFzOz7FcJWow  HDS7DP0tNe5fUu1twTy17Q      1   email     card\n3002  zyyDrH9wronGeR0FKCU0kQ  a7J4OkbL30z_vZZG1ngTkQ     12   email     card\n3003  zyyDrH9wronGeR0FKCU0kQ  zCfWu9gLgYRIPsMkjQhUlQ      1   email     card\n\n[11629 rows x 5 columns]",
      "text/html": "<div>\n<style scoped>\n    .dataframe tbody tr th:only-of-type {\n        vertical-align: middle;\n    }\n\n    .dataframe tbody tr th {\n        vertical-align: top;\n    }\n\n    .dataframe thead th {\n        text-align: right;\n    }\n</style>\n<table border=\"1\" class=\"dataframe\">\n  <thead>\n    <tr style=\"text-align: right;\">\n      <th></th>\n      <th>point_in</th>\n      <th>point_out</th>\n      <th>fraud</th>\n      <th>type_in</th>\n      <th>type_out</th>\n    </tr>\n  </thead>\n  <tbody>\n    <tr>\n      <th>0</th>\n      <td>--2E0toluie1TqMY-oXrQg</td>\n      <td>GOgdL2ymYoPD99nIT1zbkA</td>\n      <td>1</td>\n      <td>ip</td>\n      <td>card</td>\n    </tr>\n    <tr>\n      <th>1</th>\n      <td>--2E0toluie1TqMY-oXrQg</td>\n      <td>vtGsRvD7aYpa-LJdW8sbyg</td>\n      <td>5</td>\n      <td>ip</td>\n      <td>card</td>\n    </tr>\n    <tr>\n      <th>2</th>\n      <td>-0jK02r79jRQ2Nzmcbd51Q</td>\n      <td>GaTo2bLUxy-n939nv2g-ag</td>\n      <td>1</td>\n      <td>ip</td>\n      <td>card</td>\n    </tr>\n    <tr>\n      <th>3</th>\n      <td>-0mAboSyixPty7xuAAnWTA</td>\n      <td>E3wWIIUb7J4HBwfTbCTB2w</td>\n      <td>1</td>\n      <td>ip</td>\n      <td>card</td>\n    </tr>\n    <tr>\n      <th>4</th>\n      <td>-1I5QWw03mL1yTPQQfQd1w</td>\n      <td>gZXwSBiQkKyDo3fTH-tk0w</td>\n      <td>1</td>\n      <td>ip</td>\n      <td>card</td>\n    </tr>\n    <tr>\n      <th>...</th>\n      <td>...</td>\n      <td>...</td>\n      <td>...</td>\n      <td>...</td>\n      <td>...</td>\n    </tr>\n    <tr>\n      <th>2999</th>\n      <td>zw75Ce9YMASAARak28wtSA</td>\n      <td>Ymg5-cJa5bs2cbncNNOYJg</td>\n      <td>1</td>\n      <td>email</td>\n      <td>card</td>\n    </tr>\n    <tr>\n      <th>3000</th>\n      <td>zySCXubGnjkcnAoIgX162g</td>\n      <td>Ueta-Qw220ds-xXWk2Uddg</td>\n      <td>2</td>\n      <td>email</td>\n      <td>card</td>\n    </tr>\n    <tr>\n      <th>3001</th>\n      <td>zyScyyZ73LcFzOz7FcJWow</td>\n      <td>HDS7DP0tNe5fUu1twTy17Q</td>\n      <td>1</td>\n      <td>email</td>\n      <td>card</td>\n    </tr>\n    <tr>\n      <th>3002</th>\n      <td>zyyDrH9wronGeR0FKCU0kQ</td>\n      <td>a7J4OkbL30z_vZZG1ngTkQ</td>\n      <td>12</td>\n      <td>email</td>\n      <td>card</td>\n    </tr>\n    <tr>\n      <th>3003</th>\n      <td>zyyDrH9wronGeR0FKCU0kQ</td>\n      <td>zCfWu9gLgYRIPsMkjQhUlQ</td>\n      <td>1</td>\n      <td>email</td>\n      <td>card</td>\n    </tr>\n  </tbody>\n</table>\n<p>11629 rows × 5 columns</p>\n</div>"
     },
     "execution_count": 49,
     "metadata": {},
     "output_type": "execute_result"
    }
   ],
   "source": [
    "df_edges = pd.concat([edges1,edges2,edges3], axis=0)\n",
    "df_edges"
   ],
   "metadata": {
    "collapsed": false,
    "pycharm": {
     "name": "#%%\n"
    }
   }
  },
  {
   "cell_type": "code",
   "execution_count": null,
   "outputs": [],
   "source": [
    "import networkx as nx\n",
    "\n",
    "source = 'point_in'\n",
    "target = 'point_out'\n",
    "\n",
    "G = nx.from_pandas_edgelist(df_edges, source=source, target = target, edge_attr='fraud')"
   ],
   "metadata": {
    "collapsed": false,
    "pycharm": {
     "name": "#%%\n"
    }
   }
  },
  {
   "cell_type": "code",
   "execution_count": 61,
   "outputs": [
    {
     "data": {
      "text/plain": "['yellow',\n 'blue',\n 'blue',\n 'yellow',\n 'blue',\n 'yellow',\n 'blue',\n 'yellow',\n 'blue',\n 'blue',\n 'yellow',\n 'blue',\n 'yellow',\n 'blue',\n 'yellow',\n 'blue',\n 'yellow',\n 'blue',\n 'blue',\n 'yellow',\n 'blue',\n 'yellow',\n 'blue',\n 'blue',\n 'yellow',\n 'blue',\n 'yellow',\n 'blue',\n 'yellow',\n 'blue',\n 'yellow',\n 'blue',\n 'yellow',\n 'blue',\n 'yellow',\n 'blue',\n 'yellow',\n 'blue',\n 'yellow',\n 'blue',\n 'yellow',\n 'blue',\n 'blue',\n 'yellow',\n 'blue',\n 'blue',\n 'yellow',\n 'blue',\n 'yellow',\n 'blue',\n 'yellow',\n 'blue',\n 'yellow',\n 'blue',\n 'yellow',\n 'blue',\n 'yellow',\n 'blue',\n 'yellow',\n 'blue',\n 'blue',\n 'blue',\n 'blue',\n 'yellow',\n 'blue',\n 'blue',\n 'yellow',\n 'blue',\n 'yellow',\n 'blue',\n 'yellow',\n 'blue',\n 'yellow',\n 'blue',\n 'yellow',\n 'blue',\n 'blue',\n 'blue',\n 'yellow',\n 'blue',\n 'yellow',\n 'blue',\n 'yellow',\n 'blue',\n 'blue',\n 'blue',\n 'yellow',\n 'blue',\n 'yellow',\n 'blue',\n 'yellow',\n 'blue',\n 'yellow',\n 'blue',\n 'yellow',\n 'blue',\n 'blue',\n 'yellow',\n 'blue',\n 'yellow',\n 'blue',\n 'yellow',\n 'blue',\n 'yellow',\n 'blue',\n 'yellow',\n 'blue',\n 'yellow',\n 'blue',\n 'yellow',\n 'blue',\n 'blue',\n 'yellow',\n 'blue',\n 'blue',\n 'blue',\n 'yellow',\n 'blue',\n 'yellow',\n 'blue',\n 'yellow',\n 'blue',\n 'yellow',\n 'blue',\n 'blue',\n 'blue',\n 'yellow',\n 'blue',\n 'yellow',\n 'blue',\n 'yellow',\n 'blue',\n 'yellow',\n 'blue',\n 'yellow',\n 'blue',\n 'yellow',\n 'blue',\n 'yellow',\n 'blue',\n 'yellow',\n 'blue',\n 'blue',\n 'blue',\n 'blue',\n 'yellow',\n 'blue',\n 'yellow',\n 'blue',\n 'yellow',\n 'blue',\n 'blue',\n 'yellow',\n 'blue',\n 'yellow',\n 'blue',\n 'yellow',\n 'blue',\n 'blue',\n 'yellow',\n 'blue',\n 'yellow',\n 'blue',\n 'blue',\n 'yellow',\n 'blue',\n 'yellow',\n 'blue',\n 'yellow',\n 'blue',\n 'blue',\n 'yellow',\n 'blue',\n 'blue',\n 'yellow',\n 'blue',\n 'blue',\n 'yellow',\n 'blue',\n 'yellow',\n 'blue',\n 'yellow',\n 'blue',\n 'blue',\n 'blue',\n 'blue',\n 'yellow',\n 'yellow',\n 'yellow',\n 'blue',\n 'yellow',\n 'blue',\n 'yellow',\n 'blue',\n 'yellow',\n 'blue',\n 'yellow',\n 'blue',\n 'blue',\n 'yellow',\n 'blue',\n 'yellow',\n 'blue',\n 'yellow',\n 'blue',\n 'yellow',\n 'blue',\n 'yellow',\n 'blue',\n 'yellow',\n 'blue',\n 'yellow',\n 'blue',\n 'yellow',\n 'blue',\n 'blue',\n 'yellow',\n 'blue',\n 'yellow',\n 'blue',\n 'yellow',\n 'blue',\n 'yellow',\n 'blue',\n 'blue',\n 'yellow',\n 'blue',\n 'yellow',\n 'blue',\n 'yellow',\n 'blue',\n 'blue',\n 'blue',\n 'blue',\n 'blue',\n 'blue',\n 'blue',\n 'yellow',\n 'blue',\n 'yellow',\n 'blue',\n 'yellow',\n 'blue',\n 'yellow',\n 'yellow',\n 'blue',\n 'yellow',\n 'blue',\n 'blue',\n 'yellow',\n 'blue',\n 'yellow',\n 'blue',\n 'yellow',\n 'blue',\n 'yellow',\n 'blue',\n 'yellow',\n 'yellow',\n 'blue',\n 'yellow',\n 'blue',\n 'blue',\n 'blue',\n 'yellow',\n 'blue',\n 'blue',\n 'yellow',\n 'blue',\n 'yellow',\n 'yellow',\n 'blue',\n 'yellow',\n 'blue',\n 'yellow',\n 'blue',\n 'yellow',\n 'blue',\n 'yellow',\n 'blue',\n 'blue',\n 'yellow',\n 'blue',\n 'blue',\n 'yellow',\n 'blue',\n 'yellow',\n 'blue',\n 'yellow',\n 'blue',\n 'yellow',\n 'blue',\n 'yellow',\n 'blue',\n 'yellow',\n 'blue',\n 'yellow',\n 'blue',\n 'yellow',\n 'blue',\n 'yellow',\n 'yellow',\n 'blue',\n 'blue',\n 'yellow',\n 'blue',\n 'yellow',\n 'blue',\n 'yellow',\n 'blue',\n 'yellow',\n 'blue',\n 'yellow',\n 'blue',\n 'yellow',\n 'blue',\n 'yellow',\n 'blue',\n 'yellow',\n 'blue',\n 'yellow',\n 'blue',\n 'yellow',\n 'blue',\n 'yellow',\n 'blue',\n 'yellow',\n 'blue',\n 'yellow',\n 'blue',\n 'yellow',\n 'blue',\n 'yellow',\n 'blue',\n 'yellow',\n 'blue',\n 'yellow',\n 'blue',\n 'blue',\n 'yellow',\n 'blue',\n 'yellow',\n 'blue',\n 'blue',\n 'yellow',\n 'blue',\n 'yellow',\n 'blue',\n 'yellow',\n 'blue',\n 'yellow',\n 'blue',\n 'blue',\n 'yellow',\n 'yellow',\n 'blue',\n 'yellow',\n 'yellow',\n 'blue',\n 'yellow',\n 'blue',\n 'yellow',\n 'blue',\n 'yellow',\n 'blue',\n 'yellow',\n 'blue',\n 'yellow',\n 'blue',\n 'yellow',\n 'blue',\n 'blue',\n 'yellow',\n 'blue',\n 'yellow',\n 'blue',\n 'yellow',\n 'blue',\n 'yellow',\n 'blue',\n 'yellow',\n 'blue',\n 'yellow',\n 'blue',\n 'blue',\n 'blue',\n 'yellow',\n 'blue',\n 'yellow',\n 'blue',\n 'yellow',\n 'blue',\n 'blue',\n 'yellow',\n 'yellow',\n 'blue',\n 'yellow',\n 'blue',\n 'yellow',\n 'blue',\n 'yellow',\n 'yellow',\n 'yellow',\n 'yellow',\n 'blue',\n 'yellow',\n 'blue',\n 'yellow',\n 'blue',\n 'yellow',\n 'blue',\n 'blue',\n 'yellow',\n 'yellow',\n 'blue',\n 'yellow',\n 'blue',\n 'blue',\n 'yellow',\n 'blue',\n 'yellow',\n 'blue',\n 'blue',\n 'yellow',\n 'blue',\n 'yellow',\n 'blue',\n 'yellow',\n 'blue',\n 'yellow',\n 'blue',\n 'yellow',\n 'blue',\n 'yellow',\n 'yellow',\n 'blue',\n 'yellow',\n 'blue',\n 'yellow',\n 'blue',\n 'yellow',\n 'yellow',\n 'blue',\n 'yellow',\n 'blue',\n 'yellow',\n 'yellow',\n 'blue',\n 'yellow',\n 'yellow',\n 'blue',\n 'blue',\n 'yellow',\n 'blue',\n 'yellow',\n 'yellow',\n 'blue',\n 'yellow',\n 'blue',\n 'yellow',\n 'blue',\n 'yellow',\n 'blue',\n 'yellow',\n 'blue',\n 'yellow',\n 'blue',\n 'yellow',\n 'blue',\n 'yellow',\n 'blue',\n 'yellow',\n 'blue',\n 'yellow',\n 'blue',\n 'yellow',\n 'yellow',\n 'blue',\n 'blue',\n 'yellow',\n 'blue',\n 'blue',\n 'yellow',\n 'blue',\n 'yellow',\n 'blue',\n 'blue',\n 'yellow',\n 'yellow',\n 'yellow',\n 'blue',\n 'yellow',\n 'blue',\n 'blue',\n 'blue',\n 'yellow',\n 'blue',\n 'blue',\n 'yellow',\n 'blue',\n 'yellow',\n 'blue',\n 'yellow',\n 'blue',\n 'yellow',\n 'blue',\n 'yellow',\n 'blue',\n 'yellow',\n 'blue',\n 'yellow',\n 'blue',\n 'yellow',\n 'blue',\n 'blue',\n 'yellow',\n 'blue',\n 'yellow',\n 'yellow',\n 'blue',\n 'yellow',\n 'blue',\n 'blue',\n 'yellow',\n 'blue',\n 'blue',\n 'yellow',\n 'blue',\n 'yellow',\n 'blue',\n 'blue',\n 'blue',\n 'blue',\n 'blue',\n 'blue',\n 'yellow',\n 'blue',\n 'blue',\n 'blue',\n 'yellow',\n 'blue',\n 'yellow',\n 'blue',\n 'yellow',\n 'yellow',\n 'yellow',\n 'blue',\n 'yellow',\n 'blue',\n 'blue',\n 'yellow',\n 'blue',\n 'yellow',\n 'blue',\n 'yellow',\n 'yellow',\n 'blue',\n 'yellow',\n 'yellow',\n 'blue',\n 'blue',\n 'yellow',\n 'blue',\n 'yellow',\n 'blue',\n 'yellow',\n 'blue',\n 'yellow',\n 'blue',\n 'yellow',\n 'yellow',\n 'blue',\n 'yellow',\n 'yellow',\n 'blue',\n 'yellow',\n 'blue',\n 'yellow',\n 'blue',\n 'yellow',\n 'blue',\n 'yellow',\n 'yellow',\n 'blue',\n 'yellow',\n 'blue',\n 'yellow',\n 'yellow',\n 'blue',\n 'yellow',\n 'yellow',\n 'blue',\n 'yellow',\n 'blue',\n 'yellow',\n 'blue',\n 'blue',\n 'yellow',\n 'blue',\n 'blue',\n 'yellow',\n 'blue',\n 'yellow',\n 'blue',\n 'yellow',\n 'yellow',\n 'blue',\n 'yellow',\n 'blue',\n 'yellow',\n 'blue',\n 'yellow',\n 'yellow',\n 'blue',\n 'yellow',\n 'blue',\n 'yellow',\n 'blue',\n 'yellow',\n 'blue',\n 'blue',\n 'yellow',\n 'blue',\n 'yellow',\n 'blue',\n 'yellow',\n 'blue',\n 'yellow',\n 'yellow',\n 'blue',\n 'yellow',\n 'blue',\n 'yellow',\n 'blue',\n 'blue',\n 'yellow',\n 'blue',\n 'blue',\n 'yellow',\n 'blue',\n 'yellow',\n 'blue',\n 'yellow',\n 'blue',\n 'yellow',\n 'blue',\n 'yellow',\n 'blue',\n 'yellow',\n 'blue',\n 'yellow',\n 'blue',\n 'blue',\n 'blue',\n 'yellow',\n 'blue',\n 'yellow',\n 'blue',\n 'blue',\n 'blue',\n 'yellow',\n 'blue',\n 'yellow',\n 'blue',\n 'yellow',\n 'blue',\n 'blue',\n 'yellow',\n 'blue',\n 'yellow',\n 'blue',\n 'yellow',\n 'blue',\n 'yellow',\n 'blue',\n 'yellow',\n 'blue',\n 'yellow',\n 'yellow',\n 'blue',\n 'blue',\n 'yellow',\n 'blue',\n 'yellow',\n 'blue',\n 'yellow',\n 'blue',\n 'yellow',\n 'blue',\n 'blue',\n 'yellow',\n 'yellow',\n 'blue',\n 'yellow',\n 'blue',\n 'yellow',\n 'blue',\n 'blue',\n 'yellow',\n 'blue',\n 'yellow',\n 'blue',\n 'yellow',\n 'blue',\n 'yellow',\n 'blue',\n 'yellow',\n 'blue',\n 'yellow',\n 'yellow',\n 'blue',\n 'yellow',\n 'blue',\n 'blue',\n 'yellow',\n 'blue',\n 'yellow',\n 'blue',\n 'yellow',\n 'yellow',\n 'blue',\n 'yellow',\n 'blue',\n 'yellow',\n 'yellow',\n 'yellow',\n 'blue',\n 'yellow',\n 'blue',\n 'yellow',\n 'blue',\n 'blue',\n 'yellow',\n 'blue',\n 'yellow',\n 'yellow',\n 'yellow',\n 'blue',\n 'yellow',\n 'blue',\n 'yellow',\n 'blue',\n 'yellow',\n 'blue',\n 'yellow',\n 'blue',\n 'yellow',\n 'blue',\n 'yellow',\n 'blue',\n 'yellow',\n 'blue',\n 'blue',\n 'yellow',\n 'blue',\n 'yellow',\n 'yellow',\n 'yellow',\n 'yellow',\n 'blue',\n 'blue',\n 'yellow',\n 'yellow',\n 'blue',\n 'blue',\n 'yellow',\n 'blue',\n 'blue',\n 'blue',\n 'yellow',\n 'blue',\n 'yellow',\n 'blue',\n 'yellow',\n 'blue',\n 'yellow',\n 'blue',\n 'yellow',\n 'yellow',\n 'blue',\n 'yellow',\n 'blue',\n 'yellow',\n 'blue',\n 'yellow',\n 'blue',\n 'yellow',\n 'yellow',\n 'blue',\n 'blue',\n 'blue',\n 'yellow',\n 'blue',\n 'yellow',\n 'blue',\n 'yellow',\n 'blue',\n 'yellow',\n 'blue',\n 'yellow',\n 'blue',\n 'yellow',\n 'blue',\n 'yellow',\n 'blue',\n 'yellow',\n 'blue',\n 'yellow',\n 'blue',\n 'yellow',\n 'yellow',\n 'blue',\n 'yellow',\n 'blue',\n 'blue',\n 'yellow',\n 'blue',\n 'yellow',\n 'blue',\n 'yellow',\n 'blue',\n 'yellow',\n 'blue',\n 'yellow',\n 'blue',\n 'yellow',\n 'blue',\n 'yellow',\n 'blue',\n 'yellow',\n 'yellow',\n 'blue',\n 'yellow',\n 'blue',\n 'yellow',\n 'blue',\n 'yellow',\n 'blue',\n 'blue',\n 'yellow',\n 'yellow',\n 'blue',\n 'yellow',\n 'blue',\n 'yellow',\n 'blue',\n 'yellow',\n 'blue',\n 'yellow',\n 'blue',\n 'yellow',\n 'blue',\n 'yellow',\n 'blue',\n 'yellow',\n 'blue',\n 'yellow',\n 'blue',\n 'yellow',\n 'blue',\n 'yellow',\n 'blue',\n 'yellow',\n 'blue',\n 'yellow',\n 'blue',\n 'yellow',\n 'blue',\n 'yellow',\n 'blue',\n 'yellow',\n 'blue',\n 'yellow',\n 'blue',\n 'yellow',\n 'blue',\n 'yellow',\n 'blue',\n 'blue',\n 'blue',\n 'yellow',\n 'blue',\n 'yellow',\n 'blue',\n 'blue',\n 'yellow',\n 'blue',\n 'yellow',\n 'blue',\n 'yellow',\n 'blue',\n 'yellow',\n 'blue',\n 'yellow',\n 'blue',\n 'yellow',\n 'blue',\n 'yellow',\n 'blue',\n 'yellow',\n 'blue',\n 'yellow',\n 'blue',\n 'yellow',\n 'yellow',\n 'blue',\n 'blue',\n 'blue',\n 'yellow',\n 'yellow',\n 'blue',\n 'yellow',\n 'blue',\n 'yellow',\n 'blue',\n 'yellow',\n 'blue',\n 'yellow',\n 'yellow',\n 'blue',\n 'blue',\n 'yellow',\n 'blue',\n 'yellow',\n 'yellow',\n 'yellow',\n 'yellow',\n 'blue',\n 'blue',\n 'blue',\n 'blue',\n 'yellow',\n 'blue',\n 'blue',\n 'yellow',\n 'blue',\n 'yellow',\n 'blue',\n 'yellow',\n 'blue',\n 'yellow',\n 'blue',\n 'yellow',\n 'yellow',\n 'blue',\n 'yellow',\n 'yellow',\n 'yellow',\n 'blue',\n 'blue',\n 'yellow',\n 'blue',\n 'yellow',\n 'yellow',\n 'blue',\n 'yellow',\n 'yellow',\n 'blue',\n 'blue',\n 'yellow',\n 'blue',\n 'yellow',\n 'blue',\n 'blue',\n 'blue',\n 'yellow',\n 'yellow',\n 'blue',\n 'yellow',\n 'blue',\n 'yellow',\n 'yellow',\n 'blue',\n 'yellow',\n 'yellow',\n 'blue',\n 'yellow',\n 'blue',\n 'yellow',\n 'blue',\n 'yellow',\n 'yellow',\n 'blue',\n 'yellow',\n 'blue',\n 'yellow',\n 'blue',\n 'yellow',\n 'yellow',\n 'blue',\n 'yellow',\n 'blue',\n 'yellow',\n 'blue',\n 'blue',\n 'yellow',\n 'yellow',\n 'blue',\n 'blue',\n 'blue',\n ...]"
     },
     "execution_count": 61,
     "metadata": {},
     "output_type": "execute_result"
    }
   ],
   "source": [
    "# generate node color map\n",
    "nodes_color_map_list = []\n",
    "type_color_map = {\n",
    "    \"ip\": \"yellow\",\n",
    "    \"card\": \"blue\",\n",
    "    \"email\": \"red\",\n",
    "}\n",
    "for v in G.nodes():\n",
    "    if len(df_sample[df_sample['ip_address'] == v]) > 0:\n",
    "        nodes_color_map_list.append(type_color_map['ip'])\n",
    "        continue\n",
    "    if len(df_sample[df_sample['card_number'] == v]) > 0:\n",
    "        nodes_color_map_list.append(type_color_map['card'])\n",
    "        continue\n",
    "    if len(df_sample[df_sample['email_address'] == v]) > 0:\n",
    "        nodes_color_map_list.append(type_color_map['email'])\n",
    "        continue\n",
    "    raise Exception(\"Sorry, not matched label\")\n",
    "nodes_color_map_list"
   ],
   "metadata": {
    "collapsed": false,
    "pycharm": {
     "name": "#%%\n"
    }
   }
  },
  {
   "cell_type": "code",
   "execution_count": 62,
   "outputs": [
    {
     "name": "stderr",
     "output_type": "stream",
     "text": [
      "\n",
      "KeyboardInterrupt\n",
      "\n"
     ]
    },
    {
     "data": {
      "text/plain": "<Figure size 2304x2304 with 0 Axes>"
     },
     "metadata": {},
     "output_type": "display_data"
    }
   ],
   "source": [
    "#create a larger figure\n",
    "plt.figure(figsize=(32, 32))\n",
    "\n",
    "#place nodes according to the force-directed algorithm\n",
    "pos = nx.spring_layout(G, k=25, iterations=1000, weight=2, scale=5) # output a dict with the country code as key and pos as value\n",
    "nx.draw_networkx(G, pos=pos, with_labels=False, node_color=nodes_color_map_list, edge_color=\"lightgray\", alpha=0.6, node_size=10)\n",
    "plt.show()"
   ],
   "metadata": {
    "collapsed": false,
    "pycharm": {
     "name": "#%%\n"
    }
   }
  },
  {
   "cell_type": "code",
   "execution_count": null,
   "outputs": [],
   "source": [],
   "metadata": {
    "collapsed": false,
    "pycharm": {
     "name": "#%%\n"
    }
   }
  }
 ],
 "metadata": {
  "kernelspec": {
   "display_name": "Python 3 (ipykernel)",
   "language": "python",
   "name": "python3"
  },
  "language_info": {
   "codemirror_mode": {
    "name": "ipython",
    "version": 3
   },
   "file_extension": ".py",
   "mimetype": "text/x-python",
   "name": "python",
   "nbconvert_exporter": "python",
   "pygments_lexer": "ipython3",
   "version": "3.9.12"
  }
 },
 "nbformat": 4,
 "nbformat_minor": 5
}